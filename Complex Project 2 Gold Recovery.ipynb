{
 "cells": [
  {
   "cell_type": "markdown",
   "metadata": {},
   "source": [
    "# Khomkin Konstantin, cohort 53DS\n",
    "Complex Project-2, v.1.0 27.12.2022\n",
    "\n",
    "# Introduction\n",
    "The goal of the project is to train a model that will help to predict the efficiency of the processes at different stages of gold ore beneficiation by observational data. For this purpose, the project will accomplish the following tasks:\n",
    "1. initial data are investigated\n",
    "2. Using direct mathematical calculations, the accuracy of the efficiency calculations is verified\n",
    "3. The data is put into a form suitable for machine learning\n",
    "4. The best learning model is selected by cross-validation method, using the sMAPE metric.\n",
    "5. The selected model is validated on a test sample and checked for adequacy.\n"
   ]
  },
  {
   "cell_type": "markdown",
   "metadata": {},
   "source": [
    "## Step 1. Import the necessary libraries, open and study the structure of the available files. Prepare data\n"
   ]
  },
  {
   "cell_type": "markdown",
   "metadata": {},
   "source": [
    "**Technological Process**\n",
    "<br>Rougher feed — raw material\n",
    "<br>Rougher additions (or reagent additions) — flotation reagents: Xanthate, Sulphate, Depressant\n",
    "<br>Xanthate ** — xanthate (promoter or flotation activator);\n",
    "<br>Sulphate — sulfate (sodium sulfide at this plant);\n",
    "<br>Depressant — depressant (sodium silicate).\n",
    "<br>Rougher process — flotation\n",
    "<br>Rougher tails — tailings\n",
    "<br>Float banks — flotation unit\n",
    "<br>Cleaner process — cleaning\n",
    "<br>Rougher Au — rough gold concentrate\n",
    "<br>Final Au — final gold concentrate\n",
    "<br><br>**Stage Parameters**\n",
    "<br>air amount — air volume\n",
    "<br>fluid levels — liquid level\n",
    "<br>feed size — raw material particle size\n",
    "<br>feed rate — feeding rate\n",
    "<br><br>**Possible Values for [Stage] Block:**\n",
    "<br>rougher — flotation\n",
    "<br>primary_cleaner — primary cleaning\n",
    "<br>secondary_cleaner — secondary cleaning\n",
    "<br>final — final characteristics\n",
    "<br><br>**Possible Values for [Parameter_Type] Block:**\n",
    "<br>input — input parameters\n",
    "<br>output — output parameters\n",
    "<br>state — parameters describing the current stage state\n",
    "<br>calculation — calculated characteristics"
   ]
  },
  {
   "cell_type": "code",
   "execution_count": 2,
   "metadata": {},
   "outputs": [],
   "source": [
    "import pandas as pd # Pandas library is needed for working with the dataset\n",
    "\n",
    "from sklearn.metrics import mean_absolute_error # Method for calculating Mean Absolute Error (MAE)\n",
    "\n",
    "from matplotlib import pyplot as plt # Library for creating plots\n",
    "\n",
    "import numpy as np # Numpy library is needed for mathematical functions (sum, absolute value, etc.)\n",
    "\n",
    "from sklearn.tree import DecisionTreeRegressor # \"Decision Tree\" model\n",
    "\n",
    "from sklearn.linear_model import LinearRegression # \"Linear Regression\" model\n",
    "\n",
    "from sklearn.ensemble import RandomForestRegressor # \"Random Forest\" model\n",
    "\n",
    "from sklearn.model_selection import cross_val_score # Function for model evaluation using cross-validation\n",
    "\n",
    "from sklearn.metrics import make_scorer # Method for creating a scoring method for cross-validation\n",
    "\n",
    "from sklearn.preprocessing import StandardScaler # Method for data scaling\n",
    "\n",
    "from sklearn.dummy import DummyRegressor # Constant model for adequacy testing\n"
   ]
  },
  {
   "cell_type": "markdown",
   "metadata": {},
   "source": [
    "### 1.1. Откроем и изучим файлы"
   ]
  },
  {
   "cell_type": "code",
   "execution_count": 3,
   "metadata": {},
   "outputs": [],
   "source": [
    "# Import data into three separate datasets\n",
    "df_train = pd.read_csv('gold_recovery_train_new.csv')\n",
    "df_test = pd.read_csv('gold_recovery_test_new.csv')\n",
    "df_full = pd.read_csv('gold_recovery_full_new.csv')"
   ]
  },
  {
   "cell_type": "code",
   "execution_count": 4,
   "metadata": {},
   "outputs": [
    {
     "data": {
      "text/plain": [
       "((14149, 87), (5290, 53), (19439, 87))"
      ]
     },
     "execution_count": 4,
     "metadata": {},
     "output_type": "execute_result"
    }
   ],
   "source": [
    "# Let's look at the size of the datasets\n",
    "df_train.shape, df_test.shape, df_full.shape\n"
   ]
  },
  {
   "cell_type": "code",
   "execution_count": 5,
   "metadata": {
    "collapsed": true
   },
   "outputs": [
    {
     "name": "stdout",
     "output_type": "stream",
     "text": [
      "<class 'pandas.core.frame.DataFrame'>\n",
      "RangeIndex: 19439 entries, 0 to 19438\n",
      "Data columns (total 87 columns):\n",
      "date                                                  19439 non-null object\n",
      "final.output.concentrate_ag                           19438 non-null float64\n",
      "final.output.concentrate_pb                           19438 non-null float64\n",
      "final.output.concentrate_sol                          19228 non-null float64\n",
      "final.output.concentrate_au                           19439 non-null float64\n",
      "final.output.recovery                                 19439 non-null float64\n",
      "final.output.tail_ag                                  19438 non-null float64\n",
      "final.output.tail_pb                                  19338 non-null float64\n",
      "final.output.tail_sol                                 19433 non-null float64\n",
      "final.output.tail_au                                  19439 non-null float64\n",
      "primary_cleaner.input.sulfate                         19415 non-null float64\n",
      "primary_cleaner.input.depressant                      19402 non-null float64\n",
      "primary_cleaner.input.feed_size                       19439 non-null float64\n",
      "primary_cleaner.input.xanthate                        19335 non-null float64\n",
      "primary_cleaner.output.concentrate_ag                 19439 non-null float64\n",
      "primary_cleaner.output.concentrate_pb                 19323 non-null float64\n",
      "primary_cleaner.output.concentrate_sol                19069 non-null float64\n",
      "primary_cleaner.output.concentrate_au                 19439 non-null float64\n",
      "primary_cleaner.output.tail_ag                        19435 non-null float64\n",
      "primary_cleaner.output.tail_pb                        19418 non-null float64\n",
      "primary_cleaner.output.tail_sol                       19377 non-null float64\n",
      "primary_cleaner.output.tail_au                        19439 non-null float64\n",
      "primary_cleaner.state.floatbank8_a_air                19435 non-null float64\n",
      "primary_cleaner.state.floatbank8_a_level              19438 non-null float64\n",
      "primary_cleaner.state.floatbank8_b_air                19435 non-null float64\n",
      "primary_cleaner.state.floatbank8_b_level              19438 non-null float64\n",
      "primary_cleaner.state.floatbank8_c_air                19437 non-null float64\n",
      "primary_cleaner.state.floatbank8_c_level              19438 non-null float64\n",
      "primary_cleaner.state.floatbank8_d_air                19436 non-null float64\n",
      "primary_cleaner.state.floatbank8_d_level              19438 non-null float64\n",
      "rougher.calculation.sulfate_to_au_concentrate         19437 non-null float64\n",
      "rougher.calculation.floatbank10_sulfate_to_au_feed    19437 non-null float64\n",
      "rougher.calculation.floatbank11_sulfate_to_au_feed    19437 non-null float64\n",
      "rougher.calculation.au_pb_ratio                       19439 non-null float64\n",
      "rougher.input.feed_ag                                 19439 non-null float64\n",
      "rougher.input.feed_pb                                 19339 non-null float64\n",
      "rougher.input.feed_rate                               19428 non-null float64\n",
      "rougher.input.feed_size                               19294 non-null float64\n",
      "rougher.input.feed_sol                                19340 non-null float64\n",
      "rougher.input.feed_au                                 19439 non-null float64\n",
      "rougher.input.floatbank10_sulfate                     19405 non-null float64\n",
      "rougher.input.floatbank10_xanthate                    19431 non-null float64\n",
      "rougher.input.floatbank11_sulfate                     19395 non-null float64\n",
      "rougher.input.floatbank11_xanthate                    18986 non-null float64\n",
      "rougher.output.concentrate_ag                         19439 non-null float64\n",
      "rougher.output.concentrate_pb                         19439 non-null float64\n",
      "rougher.output.concentrate_sol                        19416 non-null float64\n",
      "rougher.output.concentrate_au                         19439 non-null float64\n",
      "rougher.output.recovery                               19439 non-null float64\n",
      "rougher.output.tail_ag                                19438 non-null float64\n",
      "rougher.output.tail_pb                                19439 non-null float64\n",
      "rougher.output.tail_sol                               19439 non-null float64\n",
      "rougher.output.tail_au                                19439 non-null float64\n",
      "rougher.state.floatbank10_a_air                       19438 non-null float64\n",
      "rougher.state.floatbank10_a_level                     19438 non-null float64\n",
      "rougher.state.floatbank10_b_air                       19438 non-null float64\n",
      "rougher.state.floatbank10_b_level                     19438 non-null float64\n",
      "rougher.state.floatbank10_c_air                       19438 non-null float64\n",
      "rougher.state.floatbank10_c_level                     19438 non-null float64\n",
      "rougher.state.floatbank10_d_air                       19439 non-null float64\n",
      "rougher.state.floatbank10_d_level                     19439 non-null float64\n",
      "rougher.state.floatbank10_e_air                       19003 non-null float64\n",
      "rougher.state.floatbank10_e_level                     19439 non-null float64\n",
      "rougher.state.floatbank10_f_air                       19439 non-null float64\n",
      "rougher.state.floatbank10_f_level                     19439 non-null float64\n",
      "secondary_cleaner.output.tail_ag                      19437 non-null float64\n",
      "secondary_cleaner.output.tail_pb                      19427 non-null float64\n",
      "secondary_cleaner.output.tail_sol                     17691 non-null float64\n",
      "secondary_cleaner.output.tail_au                      19439 non-null float64\n",
      "secondary_cleaner.state.floatbank2_a_air              19219 non-null float64\n",
      "secondary_cleaner.state.floatbank2_a_level            19438 non-null float64\n",
      "secondary_cleaner.state.floatbank2_b_air              19416 non-null float64\n",
      "secondary_cleaner.state.floatbank2_b_level            19438 non-null float64\n",
      "secondary_cleaner.state.floatbank3_a_air              19426 non-null float64\n",
      "secondary_cleaner.state.floatbank3_a_level            19438 non-null float64\n",
      "secondary_cleaner.state.floatbank3_b_air              19438 non-null float64\n",
      "secondary_cleaner.state.floatbank3_b_level            19438 non-null float64\n",
      "secondary_cleaner.state.floatbank4_a_air              19433 non-null float64\n",
      "secondary_cleaner.state.floatbank4_a_level            19438 non-null float64\n",
      "secondary_cleaner.state.floatbank4_b_air              19438 non-null float64\n",
      "secondary_cleaner.state.floatbank4_b_level            19438 non-null float64\n",
      "secondary_cleaner.state.floatbank5_a_air              19438 non-null float64\n",
      "secondary_cleaner.state.floatbank5_a_level            19438 non-null float64\n",
      "secondary_cleaner.state.floatbank5_b_air              19438 non-null float64\n",
      "secondary_cleaner.state.floatbank5_b_level            19438 non-null float64\n",
      "secondary_cleaner.state.floatbank6_a_air              19437 non-null float64\n",
      "secondary_cleaner.state.floatbank6_a_level            19438 non-null float64\n",
      "dtypes: float64(86), object(1)\n",
      "memory usage: 12.9+ MB\n"
     ]
    }
   ],
   "source": [
    "# See how the data is organized and formatted. Let's display information on the most complete file\n",
    "df_full.info()"
   ]
  },
  {
   "cell_type": "code",
   "execution_count": 6,
   "metadata": {
    "collapsed": true
   },
   "outputs": [
    {
     "name": "stdout",
     "output_type": "stream",
     "text": [
      "0    2016-01-15 00:00:00\n",
      "1    2016-01-15 01:00:00\n",
      "2    2016-01-15 02:00:00\n",
      "3    2016-01-15 03:00:00\n",
      "4    2016-01-15 04:00:00\n",
      "Name: date, dtype: object\n",
      "0    2016-09-01 00:59:59\n",
      "1    2016-09-01 01:59:59\n",
      "2    2016-09-01 02:59:59\n",
      "3    2016-09-01 03:59:59\n",
      "4    2016-09-01 04:59:59\n",
      "Name: date, dtype: object\n",
      "0    2016-01-15 00:00:00\n",
      "1    2016-01-15 01:00:00\n",
      "2    2016-01-15 02:00:00\n",
      "3    2016-01-15 03:00:00\n",
      "4    2016-01-15 04:00:00\n",
      "Name: date, dtype: object\n"
     ]
    }
   ],
   "source": [
    "# There is a column with date in the data, but the data type is object. It is better to store the date in a variable with the datetype type\n",
    "\n",
    "# To convert to a new format, we need to see what the data looks like in order to make a rule for converting to datatype format.\n",
    "\n",
    "print(df_train['date'].head(5))\n",
    "print(df_test['date'].head(5))\n",
    "print(df_full['date'].head(5))\n"
   ]
  },
  {
   "cell_type": "code",
   "execution_count": 7,
   "metadata": {},
   "outputs": [],
   "source": [
    "# Looking at the date format, let's make a translation rule\n",
    "\n",
    "df_train['date'] = pd.to_datetime(df_train['date'], format='%Y-%m-%d %H:%M:%S')\n",
    "df_test['date'] = pd.to_datetime(df_test['date'], format='%Y-%m-%d %H:%M:%S')\n",
    "df_full['date'] = pd.to_datetime(df_full['date'], format='%Y-%m-%d %H:%M:%S')"
   ]
  },
  {
   "cell_type": "code",
   "execution_count": 8,
   "metadata": {
    "collapsed": true
   },
   "outputs": [
    {
     "name": "stdout",
     "output_type": "stream",
     "text": [
      "0   2016-01-15 00:00:00\n",
      "1   2016-01-15 01:00:00\n",
      "2   2016-01-15 02:00:00\n",
      "3   2016-01-15 03:00:00\n",
      "4   2016-01-15 04:00:00\n",
      "Name: date, dtype: datetime64[ns]\n",
      "0   2016-09-01 00:59:59\n",
      "1   2016-09-01 01:59:59\n",
      "2   2016-09-01 02:59:59\n",
      "3   2016-09-01 03:59:59\n",
      "4   2016-09-01 04:59:59\n",
      "Name: date, dtype: datetime64[ns]\n",
      "0   2016-01-15 00:00:00\n",
      "1   2016-01-15 01:00:00\n",
      "2   2016-01-15 02:00:00\n",
      "3   2016-01-15 03:00:00\n",
      "4   2016-01-15 04:00:00\n",
      "Name: date, dtype: datetime64[ns]\n"
     ]
    }
   ],
   "source": [
    "# Check the result\n",
    "\n",
    "print(df_train['date'].head(5))\n",
    "print(df_test['date'].head(5))\n",
    "print(df_full['date'].head(5))"
   ]
  },
  {
   "cell_type": "markdown",
   "metadata": {},
   "source": [
    "Summary: Dataset sizes are different. There are gaps in the data. The good news is that there is nothing wrong with the data types.\n",
    "\n",
    "### 1.2. Let's check that the enrichment efficiency is calculated correctly\n",
    "Calculate the enrichment efficiency on the training sample for trait **ougher.output.recovery**\n",
    "Let's find the average MAE error between the calculation and the trait value. \n",
    "\n"
   ]
  },
  {
   "cell_type": "code",
   "execution_count": 9,
   "metadata": {},
   "outputs": [
    {
     "data": {
      "text/plain": [
       "((14149,), (14149,), (14149,))"
      ]
     },
     "execution_count": 9,
     "metadata": {},
     "output_type": "execute_result"
    }
   ],
   "source": [
    "# For convenience/laconicality, let's keep the initial data in variables and check completeness\n",
    "\n",
    "# C - gold fraction in concentrate after flotation/treatment;\n",
    "# F - gold fraction in feed/concentrate before flotation/treatment;\n",
    "# T - gold fraction in tailings after flotation/treatment.\n",
    "\n",
    "\n",
    "c = df_train['rougher.output.concentrate_au']\n",
    "f = df_train['rougher.input.feed_au']\n",
    "t = df_train['rougher.output.tail_au']\n",
    "\n",
    "c.shape, f.shape, t.shape"
   ]
  },
  {
   "cell_type": "code",
   "execution_count": 10,
   "metadata": {},
   "outputs": [],
   "source": [
    "# Enrichment efficiency at the \"Flotation\" stage according to known data\n",
    "recovery_true = df_train['rougher.output.recovery']\n",
    "\n",
    "# Enrichment efficiency, calculated by function:\n",
    "recovery_calc = ((c*(f-t))/(f*(c-t))) * 100\n",
    "\n"
   ]
  },
  {
   "cell_type": "code",
   "execution_count": 11,
   "metadata": {},
   "outputs": [
    {
     "data": {
      "text/plain": [
       "((14149,), (14149,))"
      ]
     },
     "execution_count": 11,
     "metadata": {},
     "output_type": "execute_result"
    }
   ],
   "source": [
    "# Similarly check if all rows have enough data\n",
    "recovery_true.shape, recovery_calc.shape"
   ]
  },
  {
   "cell_type": "code",
   "execution_count": 12,
   "metadata": {},
   "outputs": [
    {
     "name": "stdout",
     "output_type": "stream",
     "text": [
      "0\n",
      "0\n"
     ]
    }
   ],
   "source": [
    "# Check if there are no errors in the calculations (there is a division operator in the function, possibly division by zero)\n",
    "\n",
    "print(recovery_true.isna().sum()) \n",
    "print(recovery_calc.isna().sum()) \n"
   ]
  },
  {
   "cell_type": "code",
   "execution_count": 13,
   "metadata": {},
   "outputs": [
    {
     "data": {
      "text/plain": [
       "9.682896147825551e-15"
      ]
     },
     "execution_count": 13,
     "metadata": {},
     "output_type": "execute_result"
    }
   ],
   "source": [
    "# Calculate the MAE by applying a function from the sklearn library. mean_absolute_error(recovery_true, recovery_calc)"
   ]
  },
  {
   "cell_type": "markdown",
   "metadata": {},
   "source": [
    "**Intermediate conclusion** The mean error value is 9.7e-15, which is very small. We consider that the calculations are correct."
   ]
  },
  {
   "cell_type": "markdown",
   "metadata": {},
   "source": [
    "### 1.3. Let's analyze the features unavailable in the test sample."
   ]
  },
  {
   "cell_type": "code",
   "execution_count": 14,
   "metadata": {
    "collapsed": true
   },
   "outputs": [
    {
     "data": {
      "text/plain": [
       "{'final.output.concentrate_ag',\n",
       " 'final.output.concentrate_au',\n",
       " 'final.output.concentrate_pb',\n",
       " 'final.output.concentrate_sol',\n",
       " 'final.output.recovery',\n",
       " 'final.output.tail_ag',\n",
       " 'final.output.tail_au',\n",
       " 'final.output.tail_pb',\n",
       " 'final.output.tail_sol',\n",
       " 'primary_cleaner.output.concentrate_ag',\n",
       " 'primary_cleaner.output.concentrate_au',\n",
       " 'primary_cleaner.output.concentrate_pb',\n",
       " 'primary_cleaner.output.concentrate_sol',\n",
       " 'primary_cleaner.output.tail_ag',\n",
       " 'primary_cleaner.output.tail_au',\n",
       " 'primary_cleaner.output.tail_pb',\n",
       " 'primary_cleaner.output.tail_sol',\n",
       " 'rougher.calculation.au_pb_ratio',\n",
       " 'rougher.calculation.floatbank10_sulfate_to_au_feed',\n",
       " 'rougher.calculation.floatbank11_sulfate_to_au_feed',\n",
       " 'rougher.calculation.sulfate_to_au_concentrate',\n",
       " 'rougher.output.concentrate_ag',\n",
       " 'rougher.output.concentrate_au',\n",
       " 'rougher.output.concentrate_pb',\n",
       " 'rougher.output.concentrate_sol',\n",
       " 'rougher.output.recovery',\n",
       " 'rougher.output.tail_ag',\n",
       " 'rougher.output.tail_au',\n",
       " 'rougher.output.tail_pb',\n",
       " 'rougher.output.tail_sol',\n",
       " 'secondary_cleaner.output.tail_ag',\n",
       " 'secondary_cleaner.output.tail_au',\n",
       " 'secondary_cleaner.output.tail_pb',\n",
       " 'secondary_cleaner.output.tail_sol'}"
      ]
     },
     "execution_count": 14,
     "metadata": {},
     "output_type": "execute_result"
    }
   ],
   "source": [
    "# In order to identify features that are not available in the test sample, we need to compare the lists of \n",
    "# column names of our datasets, namely, look at the difference between the lists of columns of train and test samples\n",
    "\n",
    "\n",
    "# \"Head-on\" construction df_train.columns - df_test.columns leads to the error\n",
    "# \"operands could not be broadcast together with shapes (53,) (87,)\"\n",
    "# so let's use the set() function to form sets between which the compare/subtract operations etc. will be applied.\n",
    "\n",
    "set(df_train.columns) - set(df_test.columns)"
   ]
  },
  {
   "cell_type": "markdown",
   "metadata": {},
   "source": [
    "The attributes unavailable in the test sample are data on product parameters at the output of the processes (...output...), as well as 4 calculated parameters at the output of the Flotation process (rougher.calculation....).\n",
    "\n",
    "Importantly, there are no attributes in the test sample that are targeted for our problem. To check the model metrics, these columns should be added using the merge method, the index will be the date column (according to the conditions, the data are indexed by date and time)\n"
   ]
  },
  {
   "cell_type": "code",
   "execution_count": 15,
   "metadata": {},
   "outputs": [],
   "source": [
    "df_test = df_test.merge(df_full.loc[:, ['date','rougher.output.recovery','final.output.recovery']], on='date')"
   ]
  },
  {
   "cell_type": "markdown",
   "metadata": {},
   "source": [
    "\n",
    "### 1.4. Let's preprocess the data\n",
    "Earlier we saw by applying .info() that there are gaps in the data, let's examine them further"
   ]
  },
  {
   "cell_type": "code",
   "execution_count": 16,
   "metadata": {
    "collapsed": true
   },
   "outputs": [
    {
     "name": "stdout",
     "output_type": "stream",
     "text": [
      "(14149, 87)\n",
      "secondary_cleaner.output.tail_sol             1605\n",
      "rougher.state.floatbank10_e_air                436\n",
      "rougher.input.floatbank11_xanthate             428\n",
      "primary_cleaner.output.concentrate_sol         286\n",
      "secondary_cleaner.state.floatbank2_a_air       217\n",
      "final.output.concentrate_sol                   211\n",
      "rougher.input.feed_size                        144\n",
      "final.output.tail_pb                           100\n",
      "rougher.input.feed_pb                          100\n",
      "primary_cleaner.input.xanthate                 100\n",
      "primary_cleaner.output.concentrate_pb           86\n",
      "rougher.input.feed_sol                          78\n",
      "primary_cleaner.output.tail_sol                 46\n",
      "rougher.input.floatbank11_sulfate               36\n",
      "primary_cleaner.input.depressant                32\n",
      "rougher.input.floatbank10_sulfate               29\n",
      "rougher.output.concentrate_sol                  22\n",
      "secondary_cleaner.state.floatbank2_b_air        21\n",
      "primary_cleaner.input.sulfate                   20\n",
      "primary_cleaner.output.tail_pb                  15\n",
      "secondary_cleaner.output.tail_pb                10\n",
      "rougher.input.feed_rate                          8\n",
      "rougher.input.floatbank10_xanthate               8\n",
      "secondary_cleaner.state.floatbank4_a_air         6\n",
      "final.output.tail_sol                            5\n",
      "primary_cleaner.state.floatbank8_b_air           4\n",
      "primary_cleaner.state.floatbank8_a_air           4\n",
      "secondary_cleaner.state.floatbank3_a_air         4\n",
      "primary_cleaner.state.floatbank8_d_air           3\n",
      "primary_cleaner.state.floatbank8_c_air           2\n",
      "                                              ... \n",
      "secondary_cleaner.state.floatbank5_a_air         1\n",
      "rougher.output.tail_ag                           1\n",
      "secondary_cleaner.state.floatbank5_a_level       1\n",
      "secondary_cleaner.state.floatbank5_b_air         1\n",
      "secondary_cleaner.state.floatbank5_b_level       1\n",
      "final.output.tail_ag                             0\n",
      "final.output.recovery                            0\n",
      "final.output.tail_au                             0\n",
      "final.output.concentrate_au                      0\n",
      "primary_cleaner.input.feed_size                  0\n",
      "primary_cleaner.output.concentrate_ag            0\n",
      "rougher.output.concentrate_ag                    0\n",
      "primary_cleaner.output.tail_au                   0\n",
      "primary_cleaner.output.concentrate_au            0\n",
      "rougher.input.feed_ag                            0\n",
      "rougher.output.concentrate_au                    0\n",
      "rougher.output.recovery                          0\n",
      "rougher.input.feed_au                            0\n",
      "rougher.output.tail_pb                           0\n",
      "rougher.output.tail_sol                          0\n",
      "rougher.output.tail_au                           0\n",
      "rougher.calculation.au_pb_ratio                  0\n",
      "secondary_cleaner.output.tail_au                 0\n",
      "rougher.state.floatbank10_d_air                  0\n",
      "rougher.state.floatbank10_d_level                0\n",
      "rougher.state.floatbank10_e_level                0\n",
      "rougher.state.floatbank10_f_air                  0\n",
      "rougher.state.floatbank10_f_level                0\n",
      "rougher.output.concentrate_pb                    0\n",
      "date                                             0\n",
      "Length: 87, dtype: int64\n"
     ]
    }
   ],
   "source": [
    "print(df_train.shape)\n",
    "print(df_train.isna().sum().sort_values(ascending=False))"
   ]
  },
  {
   "cell_type": "code",
   "execution_count": 17,
   "metadata": {
    "collapsed": true
   },
   "outputs": [
    {
     "name": "stdout",
     "output_type": "stream",
     "text": [
      "(5290, 55)\n",
      "rougher.input.floatbank11_xanthate            25\n",
      "rougher.input.feed_sol                        21\n",
      "secondary_cleaner.state.floatbank3_a_air       9\n",
      "rougher.input.floatbank11_sulfate              8\n",
      "primary_cleaner.input.depressant               5\n",
      "rougher.input.floatbank10_sulfate              5\n",
      "primary_cleaner.input.sulfate                  4\n",
      "primary_cleaner.input.xanthate                 4\n",
      "secondary_cleaner.state.floatbank2_a_air       3\n",
      "rougher.input.feed_rate                        3\n",
      "secondary_cleaner.state.floatbank2_b_air       2\n",
      "rougher.input.feed_size                        1\n",
      "final.output.recovery                          0\n",
      "rougher.state.floatbank10_a_air                0\n",
      "rougher.input.floatbank10_xanthate             0\n",
      "rougher.input.feed_au                          0\n",
      "rougher.input.feed_ag                          0\n",
      "rougher.input.feed_pb                          0\n",
      "rougher.state.floatbank10_b_air                0\n",
      "primary_cleaner.state.floatbank8_d_level       0\n",
      "primary_cleaner.state.floatbank8_d_air         0\n",
      "primary_cleaner.state.floatbank8_c_level       0\n",
      "primary_cleaner.state.floatbank8_c_air         0\n",
      "primary_cleaner.state.floatbank8_b_level       0\n",
      "primary_cleaner.state.floatbank8_b_air         0\n",
      "primary_cleaner.state.floatbank8_a_level       0\n",
      "primary_cleaner.state.floatbank8_a_air         0\n",
      "primary_cleaner.input.feed_size                0\n",
      "rougher.state.floatbank10_a_level              0\n",
      "rougher.state.floatbank10_c_air                0\n",
      "rougher.state.floatbank10_b_level              0\n",
      "secondary_cleaner.state.floatbank3_b_level     0\n",
      "secondary_cleaner.state.floatbank6_a_level     0\n",
      "secondary_cleaner.state.floatbank6_a_air       0\n",
      "secondary_cleaner.state.floatbank5_b_level     0\n",
      "secondary_cleaner.state.floatbank5_b_air       0\n",
      "secondary_cleaner.state.floatbank5_a_level     0\n",
      "secondary_cleaner.state.floatbank5_a_air       0\n",
      "secondary_cleaner.state.floatbank4_b_level     0\n",
      "secondary_cleaner.state.floatbank4_b_air       0\n",
      "secondary_cleaner.state.floatbank4_a_level     0\n",
      "secondary_cleaner.state.floatbank4_a_air       0\n",
      "secondary_cleaner.state.floatbank3_b_air       0\n",
      "rougher.output.recovery                        0\n",
      "secondary_cleaner.state.floatbank3_a_level     0\n",
      "secondary_cleaner.state.floatbank2_b_level     0\n",
      "secondary_cleaner.state.floatbank2_a_level     0\n",
      "rougher.state.floatbank10_f_level              0\n",
      "rougher.state.floatbank10_f_air                0\n",
      "rougher.state.floatbank10_e_level              0\n",
      "rougher.state.floatbank10_e_air                0\n",
      "rougher.state.floatbank10_d_level              0\n",
      "rougher.state.floatbank10_d_air                0\n",
      "rougher.state.floatbank10_c_level              0\n",
      "date                                           0\n",
      "dtype: int64\n"
     ]
    }
   ],
   "source": [
    "print(df_test.shape)\n",
    "print(df_test.isna().sum().sort_values(ascending=False))   "
   ]
  },
  {
   "cell_type": "markdown",
   "metadata": {},
   "source": [
    "Gaps analysis showed that in the test sample the gaps are insignificant (less than 5% in the \"bad\" column), and in the training sample only in the values of one parameter there is a noticeable (more than 10%) number of gaps (secondary_cleaner.output.tail_sol)\n",
    "\n",
    "According to the data description \"Neighboring parameters are often similar in time\", so the data should not have outliers and are rather unbroken, accordingly it is acceptable to fill the gaps using linear interpolation (pandas.DataFrame.interpolate)."
   ]
  },
  {
   "cell_type": "code",
   "execution_count": 18,
   "metadata": {},
   "outputs": [],
   "source": [
    "# Apply linear interpolation to the training sample\n",
    "\n",
    "df_train = df_train.interpolate()\n",
    "# print(df_train.isna().sum().sort_values(ascending=False))"
   ]
  },
  {
   "cell_type": "code",
   "execution_count": 19,
   "metadata": {},
   "outputs": [
    {
     "data": {
      "text/plain": [
       "(0, 0, 0)"
      ]
     },
     "execution_count": 19,
     "metadata": {},
     "output_type": "execute_result"
    }
   ],
   "source": [
    "# Check for duplicates\n",
    "df_train.duplicated().sum(), df_test.duplicated().sum(), df_full.duplicated().sum()"
   ]
  },
  {
   "cell_type": "code",
   "execution_count": 20,
   "metadata": {},
   "outputs": [],
   "source": [
    "# For further analysis and training of the model it makes sense to remove the data column, for training it will be rather harmful\n",
    "\n",
    "df_train = df_train.drop('date', axis=1)\n",
    "df_test = df_test.drop('date', axis=1)\n",
    "df_full = df_full.drop('date', axis=1)"
   ]
  },
  {
   "cell_type": "markdown",
   "metadata": {},
   "source": [
    "### Step 2: Analyze the data\n",
    "### 2.1. Let's see how the concentration of metals (Au, Ag, Pb) changes during different purification steps\n"
   ]
  },
  {
   "cell_type": "code",
   "execution_count": 21,
   "metadata": {},
   "outputs": [
    {
     "name": "stdout",
     "output_type": "stream",
     "text": [
      "rougher.input.feed_au      8.266097326589135\n",
      "rougher.output.concentrate_au      19.772000139486334\n",
      "primary_cleaner.output.concentrate_au      32.1194004078766\n",
      "final.output.concentrate_au      44.076512941952664\n"
     ]
    },
    {
     "data": {
      "image/png": "[encoded data removed]",
      "text/plain": [
       "<Figure size 1440x720 with 1 Axes>"
      ]
     },
     "metadata": {
      "needs_background": "light"
     },
     "output_type": "display_data"
    },
    {
     "name": "stdout",
     "output_type": "stream",
     "text": [
      "rougher.input.feed_ag      8.7949274258147\n",
      "rougher.output.concentrate_ag      11.994759359873452\n",
      "primary_cleaner.output.concentrate_ag      8.442408077719056\n",
      "final.output.concentrate_ag      5.168470373676826\n"
     ]
    },
    {
     "data": {
      "image/png": "[encoded data removed]",
      "text/plain": [
       "<Figure size 1440x720 with 1 Axes>"
      ]
     },
     "metadata": {
      "needs_background": "light"
     },
     "output_type": "display_data"
    },
    {
     "name": "stdout",
     "output_type": "stream",
     "text": [
      "rougher.input.feed_pb      3.598084975395446\n",
      "rougher.output.concentrate_pb      7.606272313194984\n",
      "primary_cleaner.output.concentrate_pb      9.829529774200587\n",
      "final.output.concentrate_pb      9.978894911181714\n"
     ]
    },
    {
     "data": {
      "image/png": "[encoded data removed]",
      "text/plain": [
       "<Figure size 1440x720 with 1 Axes>"
      ]
     },
     "metadata": {
      "needs_background": "light"
     },
     "output_type": "display_data"
    }
   ],
   "source": [
    "# To avoid confusion in the columns, we will collect parts of the column name blocks in separate constants. p\n",
    "\n",
    "# We will analyze concentrations only in the so-called \"concentrate\", i.e. in the \"useful\" substance flow. \n",
    "# In the \"tails\" (i.e. in the waste from each step), the component composition is not so interesting\n",
    "\n",
    "\n",
    "# In the data we have \n",
    "\n",
    "# 1 Composition of the input \n",
    "# rougher.input.feed_ag\n",
    "# rougher.input.feed_pb\n",
    "# rougher.input.feed_au\n",
    "\n",
    "# 2 Composition of the concentrate at the output of the flotation process\n",
    "# rougher.output.concentrate_ag                         \n",
    "# rougher.output.concentrate_pb                         \n",
    "# rougher.output.concentrate_au                         \n",
    "\n",
    "# 3 Composition of concentrate at the output of the primary cleaning process\n",
    "# primary_cleaner.output.concentrate_ag                 \n",
    "# primary_cleaner.output.concentrate_pb                \n",
    "# primary_cleaner.output.concentrate_au                \n",
    "\n",
    "# 4 Composition of the concentrate at the output of the secondary enrichment process\n",
    "# final.output.concentrate_ag                           \n",
    "# final.output.concentrate_pb                           \n",
    "# final.output.concentrate_au                           \n",
    "\n",
    "# STAGE constant to which we add the names of the processing steps\n",
    "# rougher - flotation\n",
    "# primary_cleaner - primary cleaning\n",
    "# final - composition after secondary cleaning\n",
    "\n",
    "\n",
    "STAGE = ['rougher.input.feed', 'rougher.output.concentrate', 'primary_cleaner.output.concentrate', 'final.output.concentrate']\n",
    "\n",
    "\n",
    "# COMPONENT constant, in which we will store the names of the components\n",
    "# au - Aurum, gold\n",
    "# pb - Plumbum, lead\n",
    "# ag - Argentum, silver\n",
    "# sol - Solutio, which is the usual chemical term for a solvent without specifying its composition. \n",
    "# Solvent content will not be plotted on the graph\n",
    "\n",
    "COMPONENT = ['au', 'ag', 'pb']\n",
    "\n",
    "for metall in COMPONENT:\n",
    "    \n",
    "    plt.figure(figsize=(20,10))\n",
    "    \n",
    "    plt.title(f'Концентрация {str(metall)} по этапам')\n",
    "\n",
    "    for step in STAGE:\n",
    "        df_full[f'{step}_{metall}'].hist(bins=50, label=step, alpha=0.7)\n",
    "        plt.legend()\n",
    "        plt.xlabel('Концентрация, %')\n",
    "        plt.ylabel('Количество замеров')\n",
    "        print(f'{step}_{metall}     ', df_full[f'{step}_{metall}'].mean())\n",
    "\n",
    "    plt.show()\n",
    "\n",
    "\n"
   ]
  },
  {
   "cell_type": "markdown",
   "metadata": {},
   "source": [
    "**Conclusion:** The concentration of gold increases through the purification stages, silver also increases at first, then decreases finally, lead increases slightly and then does not change.\n",
    "Gold content increases from 8% to 44%"
   ]
  },
  {
   "cell_type": "markdown",
   "metadata": {},
   "source": [
    "### 2.2. Distribution of raw material granule sizes on training and test samples."
   ]
  },
  {
   "cell_type": "code",
   "execution_count": 32,
   "metadata": {},
   "outputs": [
    {
     "data": {
      "image/png": "[encoded data removed]",
      "text/plain": [
       "<Figure size 1440x720 with 1 Axes>"
      ]
     },
     "metadata": {
      "needs_background": "light"
     },
     "output_type": "display_data"
    },
    {
     "data": {
      "image/png": "[encoded data removed]",
      "text/plain": [
       "<Figure size 1440x720 with 1 Axes>"
      ]
     },
     "metadata": {
      "needs_background": "light"
     },
     "output_type": "display_data"
    }
   ],
   "source": [
    "# pellet size is stored in columns rougher.input.feed_size and primary_cleaner.input.feed_size\n",
    "# compare the size distributions of the training and test samples\n",
    "\n",
    "for step in ['rougher', 'primary_cleaner']:\n",
    "\n",
    "    plt.figure(figsize=(20,10))\n",
    "    \n",
    "    plt.title(f'Распределение размеров гранул сырья, стадия {step}')\n",
    "          \n",
    "    df_train[f'{step}.input.feed_size'].hist(bins=50, density=True, label='обучающая выборка', alpha=0.5)\n",
    "    df_test[f'{step}.input.feed_size'].hist(bins=50, density=True, label='тестовая выборка', alpha=0.5)\n",
    "\n",
    "    plt.legend()\n",
    "    plt.xlabel('размер гранул')\n",
    "#   plt.ylabel('Количество замеров')\n",
    "    plt.ylabel('относительная доля')\n",
    "\n",
    "    plt.show()\n"
   ]
  },
  {
   "cell_type": "code",
   "execution_count": 33,
   "metadata": {},
   "outputs": [
    {
     "name": "stdout",
     "output_type": "stream",
     "text": [
      "Обучающая выборка:\n",
      "count    13725.000000\n",
      "mean        60.170758\n",
      "std         23.137250\n",
      "min          9.659576\n",
      "25%         48.982458\n",
      "50%         55.392467\n",
      "75%         66.034792\n",
      "max        484.967466\n",
      "Name: rougher.input.feed_size, dtype: float64\n",
      "Тестовая выборка:\n",
      "count    5289.000000\n",
      "mean       55.951097\n",
      "std        19.081758\n",
      "min         0.046369\n",
      "25%        43.906347\n",
      "50%        50.841029\n",
      "75%        62.431047\n",
      "max       392.494040\n",
      "Name: rougher.input.feed_size, dtype: float64\n",
      "\n",
      "Обучающая выборка:\n",
      "count    13725.000000\n",
      "mean         7.324104\n",
      "std          0.616810\n",
      "min          1.080000\n",
      "25%          6.960000\n",
      "50%          7.300000\n",
      "75%          7.700000\n",
      "max         10.470000\n",
      "Name: primary_cleaner.input.feed_size, dtype: float64\n",
      "Тестовая выборка:\n",
      "count    5290.000000\n",
      "mean        7.266339\n",
      "std         0.610219\n",
      "min         5.650000\n",
      "25%         6.890000\n",
      "50%         7.250000\n",
      "75%         7.600000\n",
      "max        15.500000\n",
      "Name: primary_cleaner.input.feed_size, dtype: float64\n",
      "\n"
     ]
    }
   ],
   "source": [
    "# In general, the histograms look similar, the difference is in the number of observations, which should not affect the quality of the model.\n",
    "# Let's also look at the description of the distributions:\n",
    "\n",
    "# print(df_train['rougher.input.feed_size'].describe())\n",
    "# print(df_test['rougher.input.feed_size'].describe())\n",
    "\n",
    "\n",
    "for step in ['rougher', 'primary_cleaner']:\n",
    "         \n",
    "    print('Обучающая выборка:')\n",
    "    print(df_train[f'{step}.input.feed_size'].describe())\n",
    "    print('Тестовая выборка:')\n",
    "    print(df_test[f'{step}.input.feed_size'].describe())\n",
    "    print()"
   ]
  },
  {
   "cell_type": "markdown",
   "metadata": {},
   "source": [
    "**Conclusion:** The distributions of particle size data in the training and test samples are similar and do not interfere with model training and estimation"
   ]
  },
  {
   "cell_type": "markdown",
   "metadata": {},
   "source": [
    "\n",
    "### 2.3. Study the total concentrations of all substances at different stages: in the raw material, in the rough and final concentrates "
   ]
  },
  {
   "cell_type": "code",
   "execution_count": 34,
   "metadata": {},
   "outputs": [
    {
     "data": {
      "image/png": "[encoded data removed]",
      "text/plain": [
       "<Figure size 1440x360 with 1 Axes>"
      ]
     },
     "metadata": {
      "needs_background": "light"
     },
     "output_type": "display_data"
    }
   ],
   "source": [
    "#STAGE = ['rougher.input.feed', 'rougher.output.concentrate', 'primary_cleaner.output.concentrate', 'final.output.concentrate']\n",
    "\n",
    "\n",
    "# The COMPONENT_FULL constant, where we'll store the names of all the component substances.\n",
    "# au - Aurum, gold\n",
    "# pb - Plumbum, lead\n",
    "# ag - Argentum, silver\n",
    "# sol - Solutio, this is how solvent is usually denoted in chemistry without specifying its composition. \n",
    "\n",
    "\n",
    "COMPONENT_FULL = ['au', 'ag', 'pb', 'sol']\n",
    "\n",
    "# The total concentrations will be added to a new dataset, into which we will first copy the data from the full dataset.\n",
    "\n",
    "df_sum = df_full\n",
    "\n",
    "plt.figure(figsize=(20,5))\n",
    "plt.title(f'Суммарная концентрация на этапах очистки')\n",
    "\n",
    "for step in STAGE:\n",
    "    df_sum[f'{step}_sum'] = 0 \n",
    "\n",
    "    for substance in COMPONENT_FULL:\n",
    "        df_sum[f'{step}_sum'] += df_sum[f'{step}_{substance}']\n",
    "    \n",
    "    df_sum[f'{step}_sum'].hist(bins=150, label=step, width=0.4, alpha=0.5)\n",
    "\n",
    "plt.legend()\n",
    "plt.xlabel('суммарная концентрация, %')\n",
    "plt.ylabel('Количество замеров')\n",
    "plt.show()        \n",
    "    \n",
    "    \n"
   ]
  },
  {
   "cell_type": "markdown",
   "metadata": {},
   "source": [
    "**Final:** We see normal distributions of the total concentration, and at the final stage of purification the distribution is more \"sharp\" and pronounced, indicating that there is less scatter of values relative to the mean. \n",
    "\n",
    "The presence of outliers at zero values is highlighted. Total concentrations should not be zero. There may have been zeros in the individual component concentration data, but if zeros remain in the total concentrations as well, it is erroneous data. These outliers can negatively affect model training in further steps. Let's remove them."
   ]
  },
  {
   "cell_type": "code",
   "execution_count": 35,
   "metadata": {},
   "outputs": [],
   "source": [
    "for step in STAGE:\n",
    "\n",
    "    df_train = df_train[(df_train[f'{step}_au'] != 0) & \n",
    "                        (df_train[f'{step}_ag'] != 0) & \n",
    "                        (df_train[f'{step}_pb'] != 0) & \n",
    "                        (df_train[f'{step}_sol'] != 0)]"
   ]
  },
  {
   "cell_type": "code",
   "execution_count": 36,
   "metadata": {
    "scrolled": true
   },
   "outputs": [
    {
     "data": {
      "text/plain": [
       "(13725, 86)"
      ]
     },
     "execution_count": 36,
     "metadata": {},
     "output_type": "execute_result"
    }
   ],
   "source": [
    "df_train.shape"
   ]
  },
  {
   "cell_type": "markdown",
   "metadata": {},
   "source": [
    "Before building the model, it is necessary to understand the correlations within the dataset. \n",
    "There is a lot of data and it is very likely that some columns are highly correlated. It is difficult to study the 87x87 matrix manually and \"by eye\", let's try to algorithmize and find the maximum correlations between individual features. "
   ]
  },
  {
   "cell_type": "code",
   "execution_count": 37,
   "metadata": {},
   "outputs": [
    {
     "name": "stdout",
     "output_type": "stream",
     "text": [
      "Самые высокие показатели модуля корреляции в датасете:\n",
      "rougher.state.floatbank10_b_level                   rougher.state.floatbank10_c_level                     0.987836\n",
      "rougher.state.floatbank10_e_level                   rougher.state.floatbank10_f_level                     0.980917\n",
      "rougher.state.floatbank10_c_level                   rougher.state.floatbank10_d_level                     0.980911\n",
      "rougher.state.floatbank10_b_level                   rougher.state.floatbank10_d_level                     0.971205\n",
      "rougher.output.concentrate_sol                      rougher.output.concentrate_sum                        0.970909\n",
      "rougher.calculation.floatbank10_sulfate_to_au_feed  rougher.calculation.floatbank11_sulfate_to_au_feed    0.965838\n",
      "rougher.state.floatbank10_c_level                   rougher.state.floatbank10_e_level                     0.962115\n",
      "primary_cleaner.state.floatbank8_a_air              primary_cleaner.state.floatbank8_b_air                0.953129\n",
      "rougher.state.floatbank10_c_level                   rougher.state.floatbank10_f_level                     0.952530\n",
      "rougher.state.floatbank10_b_level                   rougher.state.floatbank10_e_level                     0.951971\n",
      "dtype: float64\n"
     ]
    }
   ],
   "source": [
    "# Declare an auxiliary function that returns an array of \"extra\" (repeated) combinations of pairs of all dataset columns \n",
    "def get_pairs(df):\n",
    "    pairs = set()\n",
    "    cols = df.columns\n",
    "    for i in range(0, df.shape[1]):\n",
    "        for j in range(0, i+1):\n",
    "            pairs.add((cols[i], cols[j]))\n",
    "    return pairs\n",
    "\n",
    "# Declare a function that will calculate all correlations and return the specified number of maximal module values without taking into account repetitions\n",
    "def get_top_abs_correlations(df, n=5):\n",
    "    corr = df.corr().abs().unstack()\n",
    "    col_to_drop = get_pairs(df)\n",
    "    corr = corr.drop(labels=col_to_drop).sort_values(ascending=False)\n",
    "    return corr[0:n]\n",
    "\n",
    "print('Самые высокие показатели модуля корреляции в датасете:')\n",
    "print(get_top_abs_correlations(df_full, 10))"
   ]
  },
  {
   "cell_type": "markdown",
   "metadata": {},
   "source": [
    "The hypothesis of high correlations turned out to be correct. To avoid multicollinearity, \"extra\" columns should be removed.  \n",
    "\n",
    "First, we remove from the training sample those columns that are absent in the test sample (except for the two target traits that were added in step 1.2)."
   ]
  },
  {
   "cell_type": "code",
   "execution_count": 38,
   "metadata": {},
   "outputs": [],
   "source": [
    "# array of \"extra\" column names\n",
    "col_to_drop = set(df_train.columns) - set(df_test.columns)"
   ]
  },
  {
   "cell_type": "code",
   "execution_count": 39,
   "metadata": {},
   "outputs": [],
   "source": [
    "# remove \"extra\" columns from the training sample\n",
    "df_train = df_train.drop(columns=col_to_drop, axis=1)"
   ]
  },
  {
   "cell_type": "code",
   "execution_count": 40,
   "metadata": {},
   "outputs": [
    {
     "data": {
      "text/plain": [
       "((13725, 54), (5290, 54))"
      ]
     },
     "execution_count": 40,
     "metadata": {},
     "output_type": "execute_result"
    }
   ],
   "source": [
    "# control the dimension\n",
    "df_train.shape, df_test.shape"
   ]
  },
  {
   "cell_type": "code",
   "execution_count": 41,
   "metadata": {},
   "outputs": [],
   "source": [
    "# now check the training sample for multicollinearity and extract the names of columns with correlation above 0.7\n",
    "\n",
    "\n",
    "list_corr = pd.DataFrame(get_top_abs_correlations(df_train, 100))\n",
    "\n",
    "# gets rid of the multi-index\n",
    "list_corr = list_corr.reset_index()"
   ]
  },
  {
   "cell_type": "code",
   "execution_count": 42,
   "metadata": {},
   "outputs": [],
   "source": [
    "# and rename the columns for convenience\n",
    "list_corr.columns = ['label_1', 'label_2', 'cor']"
   ]
  },
  {
   "cell_type": "code",
   "execution_count": 43,
   "metadata": {},
   "outputs": [],
   "source": [
    "# make a list of columns that have a correlation with any other column above 0.7\n",
    "high_corr_cols = list_corr['label_2'][list_corr['cor'] > 0.7]"
   ]
  },
  {
   "cell_type": "code",
   "execution_count": 44,
   "metadata": {
    "collapsed": true
   },
   "outputs": [
    {
     "data": {
      "text/plain": [
       "0              rougher.state.floatbank10_f_level\n",
       "1              rougher.state.floatbank10_c_level\n",
       "2              rougher.state.floatbank10_d_level\n",
       "3              rougher.state.floatbank10_e_level\n",
       "4       primary_cleaner.state.floatbank8_b_level\n",
       "5              rougher.state.floatbank10_d_level\n",
       "6              rougher.state.floatbank10_f_level\n",
       "7              rougher.state.floatbank10_e_level\n",
       "8              rougher.state.floatbank10_f_level\n",
       "9              rougher.state.floatbank10_e_level\n",
       "10      primary_cleaner.state.floatbank8_c_level\n",
       "11             rougher.state.floatbank10_f_level\n",
       "12      primary_cleaner.state.floatbank8_c_level\n",
       "13        primary_cleaner.state.floatbank8_b_air\n",
       "14        primary_cleaner.state.floatbank8_c_air\n",
       "15               rougher.state.floatbank10_c_air\n",
       "16        primary_cleaner.state.floatbank8_c_air\n",
       "17               rougher.state.floatbank10_d_air\n",
       "18               rougher.state.floatbank10_f_air\n",
       "19               rougher.state.floatbank10_d_air\n",
       "20    secondary_cleaner.state.floatbank2_b_level\n",
       "21    secondary_cleaner.state.floatbank5_b_level\n",
       "22      secondary_cleaner.state.floatbank5_b_air\n",
       "23      secondary_cleaner.state.floatbank5_b_air\n",
       "24      secondary_cleaner.state.floatbank2_b_air\n",
       "25               rougher.state.floatbank10_f_air\n",
       "26               rougher.state.floatbank10_e_air\n",
       "27                         rougher.input.feed_au\n",
       "28            rougher.input.floatbank11_xanthate\n",
       "29      secondary_cleaner.state.floatbank4_b_air\n",
       "30               rougher.state.floatbank10_f_air\n",
       "31      secondary_cleaner.state.floatbank5_a_air\n",
       "32               rougher.state.floatbank10_e_air\n",
       "33    secondary_cleaner.state.floatbank5_a_level\n",
       "34             rougher.input.floatbank11_sulfate\n",
       "35      secondary_cleaner.state.floatbank4_b_air\n",
       "36      secondary_cleaner.state.floatbank5_a_air\n",
       "37    secondary_cleaner.state.floatbank5_b_level\n",
       "38               rougher.state.floatbank10_f_air\n",
       "39      secondary_cleaner.state.floatbank5_b_air\n",
       "40               rougher.state.floatbank10_e_air\n",
       "41    secondary_cleaner.state.floatbank4_a_level\n",
       "42      primary_cleaner.state.floatbank8_d_level\n",
       "43      primary_cleaner.state.floatbank8_d_level\n",
       "44      secondary_cleaner.state.floatbank5_b_air\n",
       "45      primary_cleaner.state.floatbank8_d_level\n",
       "46      secondary_cleaner.state.floatbank5_a_air\n",
       "47    secondary_cleaner.state.floatbank4_b_level\n",
       "Name: label_2, dtype: object"
      ]
     },
     "execution_count": 44,
     "metadata": {},
     "output_type": "execute_result"
    }
   ],
   "source": [
    "high_corr_cols"
   ]
  },
  {
   "cell_type": "code",
   "execution_count": 45,
   "metadata": {},
   "outputs": [],
   "source": [
    "# get rid of repetitions, leaving only unique values for later deletion\n",
    "high_corr_cols_list = set(high_corr_cols.unique())\n"
   ]
  },
  {
   "cell_type": "code",
   "execution_count": 46,
   "metadata": {},
   "outputs": [],
   "source": [
    "# remove columns that lead to multicollinearity\n",
    "df_train = df_train.drop(columns=high_corr_cols_list, axis=1)"
   ]
  },
  {
   "cell_type": "code",
   "execution_count": 47,
   "metadata": {
    "collapsed": true
   },
   "outputs": [
    {
     "name": "stdout",
     "output_type": "stream",
     "text": [
      "Самые высокие показатели модуля корреляции в датасете:\n",
      "secondary_cleaner.state.floatbank3_a_air    secondary_cleaner.state.floatbank3_b_air      0.685915\n",
      "                                            secondary_cleaner.state.floatbank4_a_air      0.682191\n",
      "secondary_cleaner.state.floatbank3_a_level  secondary_cleaner.state.floatbank3_b_level    0.652549\n",
      "rougher.state.floatbank10_a_level           secondary_cleaner.state.floatbank4_a_air      0.618726\n",
      "final.output.recovery                       rougher.output.recovery                       0.614190\n",
      "rougher.input.feed_rate                     rougher.input.floatbank10_xanthate            0.587954\n",
      "rougher.state.floatbank10_a_air             rougher.state.floatbank10_a_level             0.575338\n",
      "primary_cleaner.input.sulfate               rougher.input.feed_pb                         0.572079\n",
      "rougher.state.floatbank10_a_air             secondary_cleaner.state.floatbank4_a_air      0.564975\n",
      "rougher.input.feed_rate                     rougher.input.feed_sol                        0.551191\n",
      "primary_cleaner.input.sulfate               rougher.input.feed_ag                         0.549372\n",
      "primary_cleaner.state.floatbank8_a_air      secondary_cleaner.state.floatbank4_a_air      0.544233\n",
      "rougher.state.floatbank10_a_air             secondary_cleaner.state.floatbank3_a_air      0.526992\n",
      "secondary_cleaner.state.floatbank2_a_air    secondary_cleaner.state.floatbank2_a_level    0.517877\n",
      "rougher.input.feed_ag                       rougher.input.feed_pb                         0.496870\n",
      "secondary_cleaner.state.floatbank3_a_level  secondary_cleaner.state.floatbank6_a_air      0.495822\n",
      "primary_cleaner.input.sulfate               primary_cleaner.input.depressant              0.490263\n",
      "primary_cleaner.input.depressant            rougher.input.feed_ag                         0.482643\n",
      "rougher.state.floatbank10_b_air             rougher.state.floatbank10_b_level             0.482451\n",
      "rougher.state.floatbank10_b_level           secondary_cleaner.state.floatbank3_a_level    0.472488\n",
      "primary_cleaner.state.floatbank8_a_air      secondary_cleaner.state.floatbank3_a_air      0.461755\n",
      "rougher.state.floatbank10_b_level           secondary_cleaner.state.floatbank6_a_air      0.451942\n",
      "secondary_cleaner.state.floatbank2_a_air    secondary_cleaner.state.floatbank4_a_air      0.441446\n",
      "primary_cleaner.input.sulfate               rougher.output.recovery                       0.437267\n",
      "rougher.state.floatbank10_a_level           secondary_cleaner.state.floatbank3_a_air      0.425716\n",
      "rougher.state.floatbank10_b_air             secondary_cleaner.state.floatbank3_a_level    0.421920\n",
      "primary_cleaner.state.floatbank8_a_level    primary_cleaner.state.floatbank8_d_air        0.417832\n",
      "rougher.output.recovery                     rougher.state.floatbank10_a_air               0.414026\n",
      "primary_cleaner.input.sulfate               rougher.input.floatbank10_sulfate             0.402568\n",
      "rougher.state.floatbank10_b_air             secondary_cleaner.state.floatbank6_a_air      0.400212\n",
      "                                                                                            ...   \n",
      "primary_cleaner.input.sulfate               rougher.input.feed_rate                       0.295295\n",
      "rougher.input.feed_pb                       rougher.state.floatbank10_a_level             0.295227\n",
      "secondary_cleaner.state.floatbank3_b_level  secondary_cleaner.state.floatbank6_a_level    0.294072\n",
      "rougher.output.recovery                     rougher.state.floatbank10_b_air               0.288371\n",
      "primary_cleaner.input.depressant            rougher.input.feed_pb                         0.288233\n",
      "primary_cleaner.input.xanthate              rougher.input.feed_rate                       0.284295\n",
      "rougher.input.feed_pb                       rougher.input.floatbank10_sulfate             0.283973\n",
      "rougher.input.feed_rate                     secondary_cleaner.state.floatbank3_a_level    0.283249\n",
      "secondary_cleaner.state.floatbank2_a_air    secondary_cleaner.state.floatbank3_b_air      0.280829\n",
      "rougher.input.feed_sol                      rougher.state.floatbank10_a_level             0.274335\n",
      "secondary_cleaner.state.floatbank2_a_level  secondary_cleaner.state.floatbank3_b_level    0.270488\n",
      "rougher.state.floatbank10_a_air             secondary_cleaner.state.floatbank2_a_air      0.269695\n",
      "primary_cleaner.input.depressant            rougher.state.floatbank10_a_level             0.269036\n",
      "                                            primary_cleaner.input.xanthate                0.268625\n",
      "final.output.recovery                       rougher.input.feed_sol                        0.268023\n",
      "rougher.state.floatbank10_b_air             secondary_cleaner.state.floatbank2_a_air      0.267572\n",
      "rougher.input.feed_pb                       rougher.state.floatbank10_a_air               0.265723\n",
      "primary_cleaner.state.floatbank8_a_air      secondary_cleaner.state.floatbank2_a_air      0.265711\n",
      "primary_cleaner.input.xanthate              rougher.state.floatbank10_b_air               0.263353\n",
      "primary_cleaner.state.floatbank8_d_air      rougher.state.floatbank10_a_air               0.261331\n",
      "rougher.state.floatbank10_b_level           secondary_cleaner.state.floatbank3_b_level    0.260869\n",
      "rougher.state.floatbank10_a_level           secondary_cleaner.state.floatbank3_b_level    0.256888\n",
      "primary_cleaner.input.sulfate               primary_cleaner.input.xanthate                0.255808\n",
      "primary_cleaner.input.xanthate              secondary_cleaner.state.floatbank3_a_level    0.253731\n",
      "rougher.input.feed_sol                      secondary_cleaner.state.floatbank4_a_air      0.250115\n",
      "final.output.recovery                       rougher.state.floatbank10_a_air               0.248499\n",
      "rougher.input.feed_pb                       rougher.state.floatbank10_b_air               0.246442\n",
      "primary_cleaner.input.xanthate              rougher.input.feed_ag                         0.246244\n",
      "rougher.input.feed_rate                     rougher.state.floatbank10_b_air               0.244683\n",
      "primary_cleaner.state.floatbank8_a_air      rougher.state.floatbank10_a_level             0.242239\n",
      "Length: 100, dtype: float64\n"
     ]
    }
   ],
   "source": [
    "# check again the training sample.\n",
    "print('Самые высокие показатели модуля корреляции в датасете:')\n",
    "print(get_top_abs_correlations(df_train, 100))"
   ]
  },
  {
   "cell_type": "code",
   "execution_count": 48,
   "metadata": {
    "collapsed": true
   },
   "outputs": [
    {
     "name": "stdout",
     "output_type": "stream",
     "text": [
      "<class 'pandas.core.frame.DataFrame'>\n",
      "Int64Index: 13725 entries, 0 to 14148\n",
      "Data columns (total 29 columns):\n",
      "final.output.recovery                         13725 non-null float64\n",
      "primary_cleaner.input.sulfate                 13725 non-null float64\n",
      "primary_cleaner.input.depressant              13725 non-null float64\n",
      "primary_cleaner.input.feed_size               13725 non-null float64\n",
      "primary_cleaner.input.xanthate                13725 non-null float64\n",
      "primary_cleaner.state.floatbank8_a_air        13725 non-null float64\n",
      "primary_cleaner.state.floatbank8_a_level      13725 non-null float64\n",
      "primary_cleaner.state.floatbank8_d_air        13725 non-null float64\n",
      "rougher.input.feed_ag                         13725 non-null float64\n",
      "rougher.input.feed_pb                         13725 non-null float64\n",
      "rougher.input.feed_rate                       13725 non-null float64\n",
      "rougher.input.feed_size                       13725 non-null float64\n",
      "rougher.input.feed_sol                        13725 non-null float64\n",
      "rougher.input.floatbank10_sulfate             13725 non-null float64\n",
      "rougher.input.floatbank10_xanthate            13725 non-null float64\n",
      "rougher.output.recovery                       13725 non-null float64\n",
      "rougher.state.floatbank10_a_air               13725 non-null float64\n",
      "rougher.state.floatbank10_a_level             13725 non-null float64\n",
      "rougher.state.floatbank10_b_air               13725 non-null float64\n",
      "rougher.state.floatbank10_b_level             13725 non-null float64\n",
      "secondary_cleaner.state.floatbank2_a_air      13725 non-null float64\n",
      "secondary_cleaner.state.floatbank2_a_level    13725 non-null float64\n",
      "secondary_cleaner.state.floatbank3_a_air      13725 non-null float64\n",
      "secondary_cleaner.state.floatbank3_a_level    13725 non-null float64\n",
      "secondary_cleaner.state.floatbank3_b_air      13725 non-null float64\n",
      "secondary_cleaner.state.floatbank3_b_level    13725 non-null float64\n",
      "secondary_cleaner.state.floatbank4_a_air      13725 non-null float64\n",
      "secondary_cleaner.state.floatbank6_a_air      13725 non-null float64\n",
      "secondary_cleaner.state.floatbank6_a_level    13725 non-null float64\n",
      "dtypes: float64(29)\n",
      "memory usage: 3.1 MB\n"
     ]
    }
   ],
   "source": [
    "df_train.info()"
   ]
  },
  {
   "cell_type": "markdown",
   "metadata": {},
   "source": [
    "### Intermediate conclusion: \n",
    "We have removed all columns potentially affecting the overtraining of the model. 29 columns remain, let's try to train the model on this data."
   ]
  },
  {
   "cell_type": "markdown",
   "metadata": {},
   "source": [
    "### Step 3. Model\n",
    "### 3.1. Let's write a function to calculate the total sMAPE"
   ]
  },
  {
   "cell_type": "code",
   "execution_count": 49,
   "metadata": {},
   "outputs": [],
   "source": [
    "# Declare a function sMAPE, which receives as input\n",
    "# target - target feature values\n",
    "# predict - prediction values\n",
    "# return the function value of the sMAPE metric\n",
    "\n",
    "def smape(trg, prd):\n",
    "    res =  abs(trg - prd)  /  ((abs(trg)+abs(prd))/2)    \n",
    "    res = np.mean(res) * 100\n",
    "    return res \n",
    "\n",
    "# Declare a function to calculate the Total sMAPE, which receives as input\n",
    "# rou - sMape values for the Flotazzi stage\n",
    "# fin - sMape values for the Final Cleanup stage\n",
    "# return the function value of the Total sMAPE metric\n",
    "\n",
    "def finish_smape(rou, fin):\n",
    "    return 0.25*rou + 0.75*fin"
   ]
  },
  {
   "cell_type": "markdown",
   "metadata": {},
   "source": [
    "## 3.2. Train different models and check their quality by cross-validation\n",
    "We choose **Linear Regression, Decision Tree and Random Forest** as models."
   ]
  },
  {
   "cell_type": "code",
   "execution_count": 50,
   "metadata": {},
   "outputs": [],
   "source": [
    "# Prepare samples for model training and validation\n",
    "\n",
    "\n",
    "target_rougher = df_train['rougher.output.recovery'] # extract the target attribute of the Flotation process\n",
    "target_final = df_train['final.output.recovery'] # extract the target attribute of the final cleaning process\n",
    "\n",
    "features = df_train.drop(['rougher.output.recovery', 'final.output.recovery'], axis=1) # retrieve features \n"
   ]
  },
  {
   "cell_type": "code",
   "execution_count": 51,
   "metadata": {},
   "outputs": [],
   "source": [
    "# Scale the features\n",
    "\n",
    "scaler = StandardScaler() # declare method\n",
    "\n",
    "scaler.fit(features) # apply method \n",
    "\n",
    "# Transform the data and save it in a DataFrame() structure\n",
    "features = pd.DataFrame(scaler.transform(features), columns=features.columns) \n"
   ]
  },
  {
   "cell_type": "code",
   "execution_count": 53,
   "metadata": {},
   "outputs": [],
   "source": [
    "# for the crossvalidation method, we need to define a method for assessing the quality of the model, a metric. In our case it is sMAPE.\n",
    "# Create a new metric using the make_scorer method\n",
    "\n",
    "smape_score = make_scorer(smape)\n",
    "\n"
   ]
  },
  {
   "cell_type": "markdown",
   "metadata": {},
   "source": [
    "#### \"Linear Regression\" model"
   ]
  },
  {
   "cell_type": "code",
   "execution_count": 43,
   "metadata": {},
   "outputs": [
    {
     "name": "stdout",
     "output_type": "stream",
     "text": [
      "Модель LinearRegression\n",
      "Средняя оценка sMape этапа rougher = 6.2657, финальной очистки = 9.9081, Итоговая sMape = 8.9975\n"
     ]
    }
   ],
   "source": [
    "model = LinearRegression()\n",
    "\n",
    "smape_rougher = cross_val_score(model, features, target_rougher, scoring=smape_score, cv=5).mean()\n",
    "\n",
    "smape_final = cross_val_score(model, features, target_final, scoring=smape_score, cv=5).mean()\n",
    "\n",
    "result_model_score = finish_smape(smape_rougher, smape_final)\n",
    "\n",
    "print('Модель LinearRegression')\n",
    "print(f'Средняя оценка sMape этапа rougher = {abs(smape_rougher):.5}, финальной очистки = {abs(smape_final):.5}, Итоговая sMape = {abs(result_model_score):.5}')"
   ]
  },
  {
   "cell_type": "markdown",
   "metadata": {},
   "source": [
    "#### \"Decision tree\" model"
   ]
  },
  {
   "cell_type": "code",
   "execution_count": 56,
   "metadata": {},
   "outputs": [
    {
     "name": "stdout",
     "output_type": "stream",
     "text": [
      "Max_depth=1,  sMape rougher=8.395, sMape final=9.9731, Итоговая sMape=9.5786\n",
      "Max_depth=2,  sMape rougher=7.7088, sMape final=9.4967, Итоговая sMape=9.0497\n",
      "Max_depth=3,  sMape rougher=7.1881, sMape final=9.6272, Итоговая sMape=9.0174\n",
      "Max_depth=4,  sMape rougher=7.1785, sMape final=9.4532, Итоговая sMape=8.8845\n",
      "Max_depth=5,  sMape rougher=7.0809, sMape final=9.6476, Итоговая sMape=9.0059\n",
      "Max_depth=6,  sMape rougher=7.3657, sMape final=10.05, Итоговая sMape=9.3787\n",
      "Max_depth=7,  sMape rougher=7.7899, sMape final=10.355, Итоговая sMape=9.7135\n",
      "Max_depth=8,  sMape rougher=7.8461, sMape final=11.786, Итоговая sMape=10.801\n",
      "Max_depth=9,  sMape rougher=8.076, sMape final=11.258, Итоговая sMape=10.463\n",
      "Max_depth=10,  sMape rougher=8.4098, sMape final=11.927, Итоговая sMape=11.047\n",
      "\n",
      "\n",
      "Модель DecisionTreeRegressor, лучший результат для target_rougher\n",
      "гиперпараметр max_depth = 5\n",
      "Средняя оценка sMape этапа rougher = 7.0809, финальной очистки = 9.6476, Итоговая sMape = 9.0059\n",
      "\n",
      "\n",
      "Модель DecisionTreeRegressor, лучший результат для target_final\n",
      "гиперпараметр max_depth = 4\n",
      "Средняя оценка sMape этапа rougher = 7.1785, финальной очистки = 9.4532, Итоговая sMape = 8.8845\n"
     ]
    }
   ],
   "source": [
    "# for the Decision Tree model in a loop, select the max_depth hyperparameter, consider a range from 1 to 10\n",
    "\n",
    "\n",
    "\n",
    "\n",
    "# set of best results for target_rougher\n",
    "best_depth_r = 0\n",
    "best_score_r_r = 100\n",
    "best_score_r_f = 100\n",
    "best_score_r = 100\n",
    "\n",
    "# set of best results for target_final\n",
    "best_depth_f = 0\n",
    "best_depth_f_f_r = 100\n",
    "best_score_f_f = 100\n",
    "best_score_f = 100\n",
    "\n",
    "\n",
    "for depth in range(1, 11):\n",
    "    model = DecisionTreeRegressor(random_state=12345, max_depth = depth)\n",
    "\n",
    "    smape_rougher = cross_val_score(model, features, target_rougher, scoring=smape_score, cv=5).mean()\n",
    "\n",
    "    smape_final = cross_val_score(model, features, target_final, scoring=smape_score, cv=5).mean()\n",
    "\n",
    "    result_model_score = finish_smape(smape_rougher, smape_final)\n",
    "    \n",
    "    print(f'Max_depth={depth},  sMape rougher={abs(smape_rougher):.5}, sMape final={abs(smape_final):.5}, Итоговая sMape={abs(result_model_score):.5}')\n",
    "    \n",
    "    if smape_rougher < best_score_r_r:\n",
    "        best_depth_r = depth\n",
    "        best_score_r_r = smape_rougher\n",
    "        best_score_r_f = smape_final\n",
    "        best_score_r = result_model_score\n",
    "    \n",
    "    if smape_final < best_score_f_f:\n",
    "        best_depth_f = depth\n",
    "        best_score_f_r = smape_rougher\n",
    "        best_score_f_f = smape_final\n",
    "        best_score_f = result_model_score\n",
    "        \n",
    "        \n",
    "#        print('New best result!')\n",
    "#        print()\n",
    "\n",
    "print()\n",
    "print()\n",
    "print('Модель DecisionTreeRegressor, лучший результат для target_rougher')\n",
    "print(f'гиперпараметр max_depth = {best_depth_r}')\n",
    "print(f'Средняя оценка sMape этапа rougher = {abs(best_score_r_r):.5}, финальной очистки = {abs(best_score_r_f):.5}, Итоговая sMape = {abs(best_score_r):.5}')\n",
    "print()\n",
    "print()\n",
    "print('Модель DecisionTreeRegressor, лучший результат для target_final')\n",
    "print(f'гиперпараметр max_depth = {best_depth_f}')\n",
    "print(f'Средняя оценка sMape этапа rougher = {abs(best_score_f_r):.5}, финальной очистки = {abs(best_score_f_f):.5}, Итоговая sMape = {abs(best_score_f):.5}')"
   ]
  },
  {
   "cell_type": "markdown",
   "metadata": {},
   "source": [
    "#### model \"Random Forest\" \n"
   ]
  },
  {
   "cell_type": "code",
   "execution_count": 58,
   "metadata": {
    "collapsed": true
   },
   "outputs": [
    {
     "name": "stdout",
     "output_type": "stream",
     "text": [
      "estimators=10, Max_depth=1, sMape rougher=8.3514, sMape final=9.7044, Итоговая sMape=9.3662\n",
      "estimators=35, Max_depth=1, sMape rougher=8.289, sMape final=9.7239, Итоговая sMape=9.3652\n",
      "estimators=60, Max_depth=1, sMape rougher=8.2871, sMape final=9.6637, Итоговая sMape=9.3195\n",
      "estimators=85, Max_depth=1, sMape rougher=8.2911, sMape final=9.6671, Итоговая sMape=9.3231\n",
      "estimators=110, Max_depth=1, sMape rougher=8.2992, sMape final=9.6753, Итоговая sMape=9.3313\n",
      "estimators=10, Max_depth=2, sMape rougher=7.1271, sMape final=9.2763, Итоговая sMape=8.739\n",
      "estimators=35, Max_depth=2, sMape rougher=7.1448, sMape final=9.2515, Итоговая sMape=8.7249\n",
      "estimators=60, Max_depth=2, sMape rougher=7.1307, sMape final=9.2261, Итоговая sMape=8.7022\n",
      "estimators=85, Max_depth=2, sMape rougher=7.1561, sMape final=9.2316, Итоговая sMape=8.7127\n",
      "estimators=110, Max_depth=2, sMape rougher=7.1801, sMape final=9.2312, Итоговая sMape=8.7184\n",
      "estimators=10, Max_depth=3, sMape rougher=6.8376, sMape final=9.224, Итоговая sMape=8.6274\n",
      "estimators=35, Max_depth=3, sMape rougher=6.8636, sMape final=9.1827, Итоговая sMape=8.6029\n",
      "estimators=60, Max_depth=3, sMape rougher=6.8224, sMape final=9.1543, Итоговая sMape=8.5714\n",
      "estimators=85, Max_depth=3, sMape rougher=6.8345, sMape final=9.1498, Итоговая sMape=8.5709\n",
      "estimators=110, Max_depth=3, sMape rougher=6.8327, sMape final=9.151, Итоговая sMape=8.5714\n",
      "estimators=10, Max_depth=4, sMape rougher=6.8522, sMape final=9.004, Итоговая sMape=8.466\n",
      "estimators=35, Max_depth=4, sMape rougher=6.7296, sMape final=8.9287, Итоговая sMape=8.3789\n",
      "estimators=60, Max_depth=4, sMape rougher=6.7018, sMape final=8.9498, Итоговая sMape=8.3878\n",
      "estimators=85, Max_depth=4, sMape rougher=6.6878, sMape final=8.9455, Итоговая sMape=8.3811\n",
      "estimators=110, Max_depth=4, sMape rougher=6.6885, sMape final=8.9546, Итоговая sMape=8.3881\n",
      "estimators=10, Max_depth=5, sMape rougher=6.744, sMape final=8.8797, Итоговая sMape=8.3458\n",
      "estimators=35, Max_depth=5, sMape rougher=6.7086, sMape final=8.8307, Итоговая sMape=8.3002\n",
      "estimators=60, Max_depth=5, sMape rougher=6.657, sMape final=8.8073, Итоговая sMape=8.2697\n",
      "estimators=85, Max_depth=5, sMape rougher=6.61, sMape final=8.8195, Итоговая sMape=8.2671\n",
      "estimators=110, Max_depth=5, sMape rougher=6.6081, sMape final=8.8231, Итоговая sMape=8.2694\n",
      "estimators=10, Max_depth=6, sMape rougher=6.8661, sMape final=8.9164, Итоговая sMape=8.4038\n",
      "estimators=35, Max_depth=6, sMape rougher=6.7156, sMape final=8.8301, Итоговая sMape=8.3015\n",
      "estimators=60, Max_depth=6, sMape rougher=6.662, sMape final=8.8203, Итоговая sMape=8.2807\n",
      "estimators=85, Max_depth=6, sMape rougher=6.6118, sMape final=8.8268, Итоговая sMape=8.2731\n",
      "estimators=110, Max_depth=6, sMape rougher=6.6154, sMape final=8.8367, Итоговая sMape=8.2813\n",
      "estimators=10, Max_depth=7, sMape rougher=6.913, sMape final=9.1819, Итоговая sMape=8.6147\n",
      "estimators=35, Max_depth=7, sMape rougher=6.7035, sMape final=8.8977, Итоговая sMape=8.3491\n",
      "estimators=60, Max_depth=7, sMape rougher=6.6058, sMape final=8.8951, Итоговая sMape=8.3228\n",
      "estimators=85, Max_depth=7, sMape rougher=6.5476, sMape final=8.8955, Итоговая sMape=8.3085\n",
      "estimators=110, Max_depth=7, sMape rougher=6.5579, sMape final=8.9061, Итоговая sMape=8.3191\n",
      "estimators=10, Max_depth=8, sMape rougher=6.8303, sMape final=9.3693, Итоговая sMape=8.7345\n",
      "estimators=35, Max_depth=8, sMape rougher=6.6902, sMape final=8.9443, Итоговая sMape=8.3808\n",
      "estimators=60, Max_depth=8, sMape rougher=6.6215, sMape final=8.9854, Итоговая sMape=8.3944\n",
      "estimators=85, Max_depth=8, sMape rougher=6.5801, sMape final=8.9829, Итоговая sMape=8.3822\n",
      "estimators=110, Max_depth=8, sMape rougher=6.5925, sMape final=8.9955, Итоговая sMape=8.3948\n",
      "estimators=10, Max_depth=9, sMape rougher=7.0423, sMape final=9.5697, Итоговая sMape=8.9378\n",
      "estimators=35, Max_depth=9, sMape rougher=6.7988, sMape final=9.0869, Итоговая sMape=8.5149\n",
      "estimators=60, Max_depth=9, sMape rougher=6.7144, sMape final=9.0822, Итоговая sMape=8.4903\n",
      "estimators=85, Max_depth=9, sMape rougher=6.6244, sMape final=9.0344, Итоговая sMape=8.4319\n",
      "estimators=110, Max_depth=9, sMape rougher=6.6391, sMape final=9.0221, Итоговая sMape=8.4263\n",
      "estimators=10, Max_depth=10, sMape rougher=7.1253, sMape final=9.4739, Итоговая sMape=8.8868\n",
      "estimators=35, Max_depth=10, sMape rougher=6.8304, sMape final=9.0656, Итоговая sMape=8.5068\n",
      "estimators=60, Max_depth=10, sMape rougher=6.7315, sMape final=9.0867, Итоговая sMape=8.4979\n",
      "estimators=85, Max_depth=10, sMape rougher=6.6318, sMape final=9.0368, Итоговая sMape=8.4355\n",
      "estimators=110, Max_depth=10, sMape rougher=6.6421, sMape final=9.0382, Итоговая sMape=8.4392\n",
      "\n",
      "\n",
      "Модель RandomForestRegressor, лучший результат для target_rougher\n",
      "гиперпараметр max_depth = 7, estimators=85\n",
      "Средняя оценка sMape этапа rougher = 6.5476, финальной очистки = 8.8955, Итоговая sMape = 8.3085\n",
      "\n",
      "\n",
      "Модель RandomForestRegressor, лучший результат для target_final\n",
      "гиперпараметр max_depth = 5, estimators=60\n",
      "Средняя оценка sMape этапа rougher = 6.657, финальной очистки = 8.8073, Итоговая sMape = 8.2697\n"
     ]
    }
   ],
   "source": [
    "# for the Random Forest model in the loop, we will select hyperparameters that can significantly affect the model metric, \n",
    "# the number of estimators and the depth of the tree. \n",
    "# We will try to loop over the values of these parameters in the ranges of 10-50 in increments of 10 and 10-30 in increments of 10, respectively:\n",
    "\n",
    "# set of best results for target_rougher\n",
    "best_depth_r = 0\n",
    "best_est_r = 0\n",
    "best_score_r_r = 100\n",
    "best_score_r_f = 100\n",
    "best_score_r = 100\n",
    "\n",
    "# set of best results for target_final\n",
    "best_depth_f = 0\n",
    "best_est_f = 0\n",
    "best_depth_f_r = 100\n",
    "best_score_f_f = 100\n",
    "best_score_f = 100\n",
    "\n",
    "for depth in range(1, 11, 1):\n",
    "    for estimat in range(10, 111, 25):\n",
    "        model = RandomForestRegressor(random_state=12345, n_estimators=estimat, max_depth = depth)\n",
    "\n",
    "        smape_rougher = cross_val_score(model, features, target_rougher, scoring=smape_score, cv=5).mean()\n",
    "\n",
    "        smape_final = cross_val_score(model, features, target_final, scoring=smape_score, cv=5).mean()\n",
    "\n",
    "        result_model_score = finish_smape(smape_rougher, smape_final)\n",
    "    \n",
    "        print(f'estimators={estimat}, max_depth={depth}, sMape rougher={abs(smape_rougher):.5}, sMape final={abs(smape_final):.5}, Итоговая sMape={abs(result_model_score):.5}')\n",
    "    \n",
    "        if smape_rougher < best_score_r_r:\n",
    "            best_depth_r = depth\n",
    "            best_est_r = estimat\n",
    "            best_score_r_r = smape_rougher\n",
    "            best_score_r_f = smape_final\n",
    "            best_score_r = result_model_score\n",
    "    \n",
    "        if smape_final < best_score_f_f:\n",
    "            best_depth_f = depth\n",
    "            best_est_f = estimat\n",
    "            best_score_f_r = smape_rougher\n",
    "            best_score_f_f = smape_final\n",
    "            best_score_f = result_model_score\n",
    "print()\n",
    "print()\n",
    "print('Модель RandomForestRegressor, лучший результат для target_rougher')\n",
    "print(f'гиперпараметр max_depth = {best_depth_r}, estimators={best_est_r}')\n",
    "print(f'Средняя оценка sMape этапа rougher = {abs(best_score_r_r):.5}, финальной очистки = {abs(best_score_r_f):.5}, Итоговая sMape = {abs(best_score_r):.5}')\n",
    "print()\n",
    "print()\n",
    "print('Модель RandomForestRegressor, лучший результат для target_final')\n",
    "print(f'гиперпараметр max_depth = {best_depth_f}, estimators={best_est_f}')\n",
    "print(f'Средняя оценка sMape этапа rougher = {abs(best_score_f_r):.5}, финальной очистки = {abs(best_score_f_f):.5}, Итоговая sMape = {abs(best_score_f):.5}')"
   ]
  },
  {
   "cell_type": "markdown",
   "metadata": {},
   "source": [
    "#### Summary:\n",
    "The best sMAPE metric for the target attribute target_rougher = 6.5476 was shown by the **RandomForestRegressor** <br> model\n",
    "with hyperparameters max_depth = 7, n_estimators=85\n",
    "\n",
    "The best sMAPE metric for the target trait target_final = 8.8073 was shown by the **RandomForestRegressor** <br> model\n",
    "with hyperparameter max_depth = 5, n_estimators=60\n",
    "\n",
    "Let's apply this model and hyperparameters to the test sample and calculate the metrics"
   ]
  },
  {
   "cell_type": "code",
   "execution_count": 59,
   "metadata": {},
   "outputs": [
    {
     "data": {
      "text/plain": [
       "((5290, 54), (13725, 29))"
      ]
     },
     "execution_count": 59,
     "metadata": {},
     "output_type": "execute_result"
    }
   ],
   "source": [
    "# the columns with high correlation should also be removed from the test sample and 29 should be left. \n",
    "# the test sample should have exactly the same columns as the training sample.\n",
    "\n",
    "# remember the dimensions\n",
    "df_test.shape, df_train.shape\n",
    "\n"
   ]
  },
  {
   "cell_type": "code",
   "execution_count": 60,
   "metadata": {
    "collapsed": true
   },
   "outputs": [
    {
     "data": {
      "text/plain": [
       "{'primary_cleaner.state.floatbank8_b_air',\n",
       " 'primary_cleaner.state.floatbank8_b_level',\n",
       " 'primary_cleaner.state.floatbank8_c_air',\n",
       " 'primary_cleaner.state.floatbank8_c_level',\n",
       " 'primary_cleaner.state.floatbank8_d_level',\n",
       " 'rougher.input.feed_au',\n",
       " 'rougher.input.floatbank11_sulfate',\n",
       " 'rougher.input.floatbank11_xanthate',\n",
       " 'rougher.state.floatbank10_c_air',\n",
       " 'rougher.state.floatbank10_c_level',\n",
       " 'rougher.state.floatbank10_d_air',\n",
       " 'rougher.state.floatbank10_d_level',\n",
       " 'rougher.state.floatbank10_e_air',\n",
       " 'rougher.state.floatbank10_e_level',\n",
       " 'rougher.state.floatbank10_f_air',\n",
       " 'rougher.state.floatbank10_f_level',\n",
       " 'secondary_cleaner.state.floatbank2_b_air',\n",
       " 'secondary_cleaner.state.floatbank2_b_level',\n",
       " 'secondary_cleaner.state.floatbank4_a_level',\n",
       " 'secondary_cleaner.state.floatbank4_b_air',\n",
       " 'secondary_cleaner.state.floatbank4_b_level',\n",
       " 'secondary_cleaner.state.floatbank5_a_air',\n",
       " 'secondary_cleaner.state.floatbank5_a_level',\n",
       " 'secondary_cleaner.state.floatbank5_b_air',\n",
       " 'secondary_cleaner.state.floatbank5_b_level'}"
      ]
     },
     "execution_count": 60,
     "metadata": {},
     "output_type": "execute_result"
    }
   ],
   "source": [
    "# identify the \"extra columns\"\n",
    "col_dif = set(df_test.columns) - set(df_train.columns)\n",
    "col_dif"
   ]
  },
  {
   "cell_type": "code",
   "execution_count": 61,
   "metadata": {},
   "outputs": [],
   "source": [
    "# remove \"extra\" columns from the test sample\n",
    "df_test= df_test.drop(columns=col_dif, axis=1)"
   ]
  },
  {
   "cell_type": "code",
   "execution_count": 62,
   "metadata": {},
   "outputs": [
    {
     "data": {
      "text/plain": [
       "((5290, 29), (13725, 29))"
      ]
     },
     "execution_count": 62,
     "metadata": {},
     "output_type": "execute_result"
    }
   ],
   "source": [
    "df_test.shape, df_train.shape"
   ]
  },
  {
   "cell_type": "code",
   "execution_count": 63,
   "metadata": {},
   "outputs": [],
   "source": [
    "# Prepare samples for training the model# The test sample will not be tested for multicollinearity, let's see if it has any effect on the metric.\n",
    "\n",
    "target_rougher_test = df_test['rougher.output.recovery'] # extract the target feature of the Flotation process.\n",
    "target_final_test = df_test['final.output.recovery'] # extract the target attribute of the final cleaning process\n",
    "\n",
    "features_test = df_test.drop(['rougher.output.recovery', 'final.output.recovery'], axis=1) # retrieve features \n"
   ]
  },
  {
   "cell_type": "code",
   "execution_count": 64,
   "metadata": {},
   "outputs": [],
   "source": [
    "# there were gaps in the samples, we fill them using linear interpolation (by the conditions neighboring values are very close)\n",
    "features_test = features_test.interpolate()"
   ]
  },
  {
   "cell_type": "code",
   "execution_count": 65,
   "metadata": {},
   "outputs": [],
   "source": [
    "# Scale the features\n",
    "\n",
    "# scaler = StandardScaler() # declare method\n",
    "# scaler.fit(features_test) # apply the method \n",
    "\n",
    "\n",
    "# scaler was previously trained on the training sample of features, so we apply it to the training sample immediately:\n",
    "\n",
    "# transform the data and save it in a DataFrame() structure\n",
    "features_test = pd.DataFrame(scaler.transform(features_test), columns=features_test.columns) "
   ]
  },
  {
   "cell_type": "code",
   "execution_count": 68,
   "metadata": {},
   "outputs": [
    {
     "name": "stdout",
     "output_type": "stream",
     "text": [
      "Модель RandomForestRegressor, тестовая выборка\n",
      "Итоговая sMape = 9.2433\n"
     ]
    }
   ],
   "source": [
    "# Declare models with the best hyperparameters found\n",
    "\n",
    "model_r = RandomForestRegressor(random_state=12345, max_depth = 7, n_estimators=85)\n",
    "model_f = RandomForestRegressor(random_state=12345, max_depth = 5, n_estimators=60)\n",
    "\n",
    "\n",
    "# Flotation\n",
    "model_r.fit(features,target_rougher) #train the model on the training sample\n",
    "\n",
    "prediction_rougher_test = model_r.predict(features_test) # make predictions on test features\n",
    "\n",
    "smape_score_rougher_test = smape(target_rougher_test, prediction_rougher_test) # sMAPE for Flotation\n",
    "\n",
    "\n",
    "#final cleanup\n",
    "model_f.fit(features,target_final) #train the model on the training sample\n",
    "\n",
    "prediction_final_test = model_f.predict(features_test) # make predictions on the test features\n",
    "\n",
    "smape_score_final_test = smape(target_final_test, prediction_final_test) # sMape for final cleanup\n",
    "\n",
    "\n",
    "smape_finish = finish_smape(smape_score_rougher_test, smape_score_final_test) # final sMAPE metric\n",
    "\n",
    "\n",
    "print('Модель RandomForestRegressor, тестовая выборка')\n",
    "print(f'Итоговая sMape = {abs(smape_finish):.5}')"
   ]
  },
  {
   "cell_type": "markdown",
   "metadata": {},
   "source": [
    "### Checking the model for adequacy\n",
    "To check for adequacy, we apply a constant model, filling the predictions with mean values, using the DummyRegressor model"
   ]
  },
  {
   "cell_type": "code",
   "execution_count": 69,
   "metadata": {},
   "outputs": [
    {
     "name": "stdout",
     "output_type": "stream",
     "text": [
      "Константная модель DummyRegressor, тестовая выборка\n",
      "Итоговая sMape = 9.8311\n"
     ]
    }
   ],
   "source": [
    "model = DummyRegressor(strategy=\"mean\")\n",
    "\n",
    "# Flotation\n",
    "model.fit(features,target_rougher) #train the model on the training sample\n",
    "\n",
    "prediction_rougher_test = model.predict(features_test) # make predictions on test features\n",
    "\n",
    "smape_score_rougher_test = smape(target_rougher_test, prediction_rougher_test) # sMAPE for Flotation\n",
    "\n",
    "\n",
    "# Final cleanup\n",
    "model.fit(features,target_final) #train the model on the training sample\n",
    "\n",
    "prediction_final_test = model.predict(features_test) # make predictions on test features\n",
    "\n",
    "smape_score_final_test = smape(target_final_test, prediction_final_test) # sMape for final cleanup\n",
    "\n",
    "\n",
    "\n",
    "smape_finish = finish_smape(smape_score_rougher_test, smape_score_final_test) # final sMAPE metric\n",
    "\n",
    "\n",
    "print('Константная модель DummyRegressor, тестовая выборка')\n",
    "print(f'Итоговая sMape = {abs(smape_finish):.5}')"
   ]
  },
  {
   "cell_type": "markdown",
   "metadata": {},
   "source": [
    "### Summary:\n",
    "The \"Total sMape\" metric of the constant model is 9.831, whereas the selected \"Random Forest\" model has 9.2433\n",
    "\n",
    "**Conclusion:** The selected Random Forest model has shown to be adequate"
   ]
  },
  {
   "cell_type": "markdown",
   "metadata": {},
   "source": [
    "## Project Conclusions\n",
    "The project had the task of analyzing the data and selecting/training a prediction model focusing on the values of the sMAPE metric.\n",
    "\n",
    "To accomplish this, the following was done:\n",
    "1. Datasets were loaded and a column with date with object data type was found in the data. The dates were converted to datetype \n",
    "2. Detected that there are gaps in the data. The gaps are filled using linear interpolation.\n",
    "3. the corresponding function is written and the enrichment efficiency ougher.output.recovery is calculated, the average error modulus is 9.7e-15, which is very small. We consider that the calculations were performed correctly.\n",
    "4. The features not available in the test sample were identified - these are data on product parameters at the output of the processes (...output...), as well as 4 calculated parameters at the output of the Flotation process (rougher.calculation....). Importantly, there are no attributes in the test sample that are targeted for our problem. To check the model metrics, these columns should be added using the merge method, with the date column selected as the index (according to the conditions, the data are indexed by date and time)\n",
    "5. The data were analyzed, the concentrations of metals at different stages of the beneficiation process were investigated, and the total concentrations of components were studied. It is revealed that the concentration of gold increases with the purification process. Removed data with zero concentration values as clearly erroneous.\n",
    "6. Analyzed for multicollinearity. Removed data (features) that show a correlation greater than 0.7 with neighboring columns. \n",
    "7. A function for calculating the \"Total sMAPE\" metric has been announced according to the conditions.\n",
    "8. Three models have been trained: Linear Regression, Decision Tree, and Random Forest. Hyperparameters that yielded the best results in the models were tuned using cross-validation (cv=5) based on the \"Total sMAPE\" metric.\n",
    "\n",
    "The \"Linear Regression\" model has a \"Total sMAPE\" metric of 8.9975.<br>\n",
    "The \"Decision Tree\" model has a \"Total sMAPE\" metric of 14.549 with a max_depth of 24.<br>\n",
    "The \"Random Forest\" model has a \"Total sMAPE\" metric of 9.39799 with a max_depth of 20 and 10 estimators.<br>\n",
    "\n",
    "9. Decision Tree model was selected, the model was trained on training sample and validated on test data. On the test data, the model showed a metric of Final sMAPE = 14.714\n",
    "10. The model is validated for adequacy, the constant DummyRegressor model showed the result Total sMAPE = 9.8311.\n",
    "11.Thus, the adequacy of the model is confirmed.\n"
   ]
  }
 ],
 "metadata": {
  "kernelspec": {
   "display_name": "Python 3",
   "language": "python",
   "name": "python3"
  },
  "language_info": {
   "codemirror_mode": {
    "name": "ipython",
    "version": 3
   },
   "file_extension": ".py",
   "mimetype": "text/x-python",
   "name": "python",
   "nbconvert_exporter": "python",
   "pygments_lexer": "ipython3",
   "version": "3.7.3"
  },
  "toc": {
   "base_numbering": 1,
   "nav_menu": {},
   "number_sections": true,
   "sideBar": true,
   "skip_h1_title": true,
   "title_cell": "Table of Contents",
   "title_sidebar": "Contents",
   "toc_cell": false,
   "toc_position": {},
   "toc_section_display": true,
   "toc_window_display": true
  }
 },
 "nbformat": 4,
 "nbformat_minor": 2
}
