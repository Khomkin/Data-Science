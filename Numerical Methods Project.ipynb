{
 "cells": [
  {
   "cell_type": "markdown",
   "metadata": {},
   "source": [
    "## Khomkin Konstantin, cohort 53DS\n",
    "Numerical Methods Project, v.2.0 08.02.2023\n",
    "\n",
    "## Introduction\n",
    "The aim of the project is to find an optimal model for determining the value of a used car based on historical data: technical characteristics, equipment and price.\n"
   ]
  },
  {
   "cell_type": "markdown",
   "metadata": {},
   "source": [
    "# Determining the vehicles' prices"
   ]
  },
  {
   "cell_type": "markdown",
   "metadata": {},
   "source": [
    "The service for the sale of used cars \"No accidents, not painted\" is developing an application to attract new customers. In it, you can quickly find out the market value of your car. You have historical data at your disposal: technical characteristics, equipment and prices of cars. You need to build a model to determine the value. \n",
    "\n",
    "The customer is interested in:\n",
    "\n",
    "- quality of prediction;\n",
    "- speed of prediction;\n",
    "- training time."
   ]
  },
  {
   "cell_type": "markdown",
   "metadata": {},
   "source": [
    "## Importing libraries, loading and preprocessing data"
   ]
  },
  {
   "cell_type": "code",
   "execution_count": 1,
   "metadata": {},
   "outputs": [],
   "source": [
    "# Pandas:\n",
    "import pandas as pd # we need the Pandas library to work with the dataset\n",
    "\n",
    "# Numpy:\n",
    "import numpy as np # we need the numpy library to work with math functions \n",
    "#import numpy.matlib # we need the matlib library to work with math functions. \n",
    "\n",
    "# Sklearn:\n",
    "from sklearn.model_selection import train_test_split # train_test_split function we need to split the data into samples\n",
    "from sklearn.tree import DecisionTreeRegressor # Decision Tree model. \n",
    "from sklearn.linear_model import LinearRegression # \"Linear Regression\" model \n",
    "from sklearn.ensemble import RandomForestRegressor # \"Random Forest\" model from sklearn.preprocessing import StandardScaler # data scale standardization method\n",
    "from sklearn.metrics import mean_squared_error # method for calculating RMSE and vtnhbrb RMSE\n",
    "from sklearn.preprocessing import StandardScaler # method to standardize data scale\n",
    "from sklearn.preprocessing import OneHotEncoder # method to encode categorical features\n",
    "from sklearn.exceptions import DataConversionWarning\n",
    "   \n",
    "\n",
    "# Mathlotlib:\n",
    "\n",
    "import matplotlib as plt\n",
    "\n",
    "# seaborn\n",
    "import seaborn as sns\n",
    "\n",
    "\n",
    "# LightGBM:\n",
    "from lightgbm import LGBMRegressor\n",
    "\n",
    "# Warnings\n",
    "import warnings\n",
    "\n",
    "# timeit \n",
    "import timeit # for timing training and model prediction"
   ]
  },
  {
   "cell_type": "code",
   "execution_count": 2,
   "metadata": {},
   "outputs": [],
   "source": [
    "# apply the try-except construct to load the file both for the local version and for working from the simulator\n",
    "\n",
    "try:\n",
    "\n",
    "    df = pd.read_csv('autos.csv')\n",
    "except:\n",
    "\n",
    "    df = pd.read_csv('/datasets/autos.csv') "
   ]
  },
  {
   "cell_type": "code",
   "execution_count": 3,
   "metadata": {
    "scrolled": true
   },
   "outputs": [
    {
     "data": {
      "text/html": [
       "<div>\n",
       "<style scoped>\n",
       "    .dataframe tbody tr th:only-of-type {\n",
       "        vertical-align: middle;\n",
       "    }\n",
       "\n",
       "    .dataframe tbody tr th {\n",
       "        vertical-align: top;\n",
       "    }\n",
       "\n",
       "    .dataframe thead th {\n",
       "        text-align: right;\n",
       "    }\n",
       "</style>\n",
       "<table border=\"1\" class=\"dataframe\">\n",
       "  <thead>\n",
       "    <tr style=\"text-align: right;\">\n",
       "      <th></th>\n",
       "      <th>DateCrawled</th>\n",
       "      <th>Price</th>\n",
       "      <th>VehicleType</th>\n",
       "      <th>RegistrationYear</th>\n",
       "      <th>Gearbox</th>\n",
       "      <th>Power</th>\n",
       "      <th>Model</th>\n",
       "      <th>Kilometer</th>\n",
       "      <th>RegistrationMonth</th>\n",
       "      <th>FuelType</th>\n",
       "      <th>Brand</th>\n",
       "      <th>Repaired</th>\n",
       "      <th>DateCreated</th>\n",
       "      <th>NumberOfPictures</th>\n",
       "      <th>PostalCode</th>\n",
       "      <th>LastSeen</th>\n",
       "    </tr>\n",
       "  </thead>\n",
       "  <tbody>\n",
       "    <tr>\n",
       "      <th>0</th>\n",
       "      <td>2016-03-24 11:52:17</td>\n",
       "      <td>480</td>\n",
       "      <td>NaN</td>\n",
       "      <td>1993</td>\n",
       "      <td>manual</td>\n",
       "      <td>0</td>\n",
       "      <td>golf</td>\n",
       "      <td>150000</td>\n",
       "      <td>0</td>\n",
       "      <td>petrol</td>\n",
       "      <td>volkswagen</td>\n",
       "      <td>NaN</td>\n",
       "      <td>2016-03-24 00:00:00</td>\n",
       "      <td>0</td>\n",
       "      <td>70435</td>\n",
       "      <td>2016-04-07 03:16:57</td>\n",
       "    </tr>\n",
       "    <tr>\n",
       "      <th>1</th>\n",
       "      <td>2016-03-24 10:58:45</td>\n",
       "      <td>18300</td>\n",
       "      <td>coupe</td>\n",
       "      <td>2011</td>\n",
       "      <td>manual</td>\n",
       "      <td>190</td>\n",
       "      <td>NaN</td>\n",
       "      <td>125000</td>\n",
       "      <td>5</td>\n",
       "      <td>gasoline</td>\n",
       "      <td>audi</td>\n",
       "      <td>yes</td>\n",
       "      <td>2016-03-24 00:00:00</td>\n",
       "      <td>0</td>\n",
       "      <td>66954</td>\n",
       "      <td>2016-04-07 01:46:50</td>\n",
       "    </tr>\n",
       "    <tr>\n",
       "      <th>2</th>\n",
       "      <td>2016-03-14 12:52:21</td>\n",
       "      <td>9800</td>\n",
       "      <td>suv</td>\n",
       "      <td>2004</td>\n",
       "      <td>auto</td>\n",
       "      <td>163</td>\n",
       "      <td>grand</td>\n",
       "      <td>125000</td>\n",
       "      <td>8</td>\n",
       "      <td>gasoline</td>\n",
       "      <td>jeep</td>\n",
       "      <td>NaN</td>\n",
       "      <td>2016-03-14 00:00:00</td>\n",
       "      <td>0</td>\n",
       "      <td>90480</td>\n",
       "      <td>2016-04-05 12:47:46</td>\n",
       "    </tr>\n",
       "    <tr>\n",
       "      <th>3</th>\n",
       "      <td>2016-03-17 16:54:04</td>\n",
       "      <td>1500</td>\n",
       "      <td>small</td>\n",
       "      <td>2001</td>\n",
       "      <td>manual</td>\n",
       "      <td>75</td>\n",
       "      <td>golf</td>\n",
       "      <td>150000</td>\n",
       "      <td>6</td>\n",
       "      <td>petrol</td>\n",
       "      <td>volkswagen</td>\n",
       "      <td>no</td>\n",
       "      <td>2016-03-17 00:00:00</td>\n",
       "      <td>0</td>\n",
       "      <td>91074</td>\n",
       "      <td>2016-03-17 17:40:17</td>\n",
       "    </tr>\n",
       "    <tr>\n",
       "      <th>4</th>\n",
       "      <td>2016-03-31 17:25:20</td>\n",
       "      <td>3600</td>\n",
       "      <td>small</td>\n",
       "      <td>2008</td>\n",
       "      <td>manual</td>\n",
       "      <td>69</td>\n",
       "      <td>fabia</td>\n",
       "      <td>90000</td>\n",
       "      <td>7</td>\n",
       "      <td>gasoline</td>\n",
       "      <td>skoda</td>\n",
       "      <td>no</td>\n",
       "      <td>2016-03-31 00:00:00</td>\n",
       "      <td>0</td>\n",
       "      <td>60437</td>\n",
       "      <td>2016-04-06 10:17:21</td>\n",
       "    </tr>\n",
       "  </tbody>\n",
       "</table>\n",
       "</div>"
      ],
      "text/plain": [
       "           DateCrawled  Price VehicleType  RegistrationYear Gearbox  Power  \\\n",
       "0  2016-03-24 11:52:17    480         NaN              1993  manual      0   \n",
       "1  2016-03-24 10:58:45  18300       coupe              2011  manual    190   \n",
       "2  2016-03-14 12:52:21   9800         suv              2004    auto    163   \n",
       "3  2016-03-17 16:54:04   1500       small              2001  manual     75   \n",
       "4  2016-03-31 17:25:20   3600       small              2008  manual     69   \n",
       "\n",
       "   Model  Kilometer  RegistrationMonth  FuelType       Brand Repaired  \\\n",
       "0   golf     150000                  0    petrol  volkswagen      NaN   \n",
       "1    NaN     125000                  5  gasoline        audi      yes   \n",
       "2  grand     125000                  8  gasoline        jeep      NaN   \n",
       "3   golf     150000                  6    petrol  volkswagen       no   \n",
       "4  fabia      90000                  7  gasoline       skoda       no   \n",
       "\n",
       "           DateCreated  NumberOfPictures  PostalCode             LastSeen  \n",
       "0  2016-03-24 00:00:00                 0       70435  2016-04-07 03:16:57  \n",
       "1  2016-03-24 00:00:00                 0       66954  2016-04-07 01:46:50  \n",
       "2  2016-03-14 00:00:00                 0       90480  2016-04-05 12:47:46  \n",
       "3  2016-03-17 00:00:00                 0       91074  2016-03-17 17:40:17  \n",
       "4  2016-03-31 00:00:00                 0       60437  2016-04-06 10:17:21  "
      ]
     },
     "execution_count": 3,
     "metadata": {},
     "output_type": "execute_result"
    }
   ],
   "source": [
    "df.head(5) # let's look at the structure of the raw data"
   ]
  },
  {
   "cell_type": "code",
   "execution_count": 4,
   "metadata": {},
   "outputs": [
    {
     "data": {
      "text/plain": [
       "(354369, 16)"
      ]
     },
     "execution_count": 4,
     "metadata": {},
     "output_type": "execute_result"
    }
   ],
   "source": [
    "df.shape # ... and at the size of the dataframe"
   ]
  },
  {
   "cell_type": "code",
   "execution_count": 6,
   "metadata": {},
   "outputs": [
    {
     "data": {
      "text/plain": [
       "354369"
      ]
     },
     "execution_count": 6,
     "metadata": {},
     "output_type": "execute_result"
    }
   ],
   "source": [
    "# keep the number of original rows\n",
    "str_count = df.shape[0]\n",
    "str_count"
   ]
  },
  {
   "cell_type": "markdown",
   "metadata": {},
   "source": [
    "Brief conclusions:\n",
    "1. There are gaps in the data.\n",
    "2. data types need to be summarized.\n",
    "3. at first glance there are columns with redundant data (number of pictures, postal code), perhaps some of the dates are superfluous, the type of vehicle is not fundamental, if there is a make and model.\n",
    "\n",
    "\n",
    "Let's analyze all the signs available to us from the information from the customer and select a group of signs that affect the estimated value of the vehicle, and do not affect:\n",
    "\n",
    "Signs that affect the evaluation value in their meaning:<br>\n",
    "**VehicleType** — car body type<br>\n",
    "**RegistrationYear** — the year of registration of the car (here we make the assumption that this is the year **of the first registration**)<br>\n",
    "**Gearbox** — type of gearbox<br>\n",
    "**Power** — power (hp)<br>\n",
    "**Model** — car model<br>\n",
    "**Kilometer** — mileage (km)<br>\n",
    "**FuelType** — fuel type<br>\n",
    "**Brand** — car brand<br>\n",
    "**Repaired** — was the car under repair or not<br><br><br>\n",
    "\n",
    "Features that do not affect in their meaning the estimated value of the object of evaluation (vehicle):<br>\n",
    "**DateCrawled** — date of downloading the questionnaire from the database<br>\n",
    "**RegistrationMonth** — month of registration of the car<br>\n",
    "**DateCreated** — date of creation of the questionnaire<br>\n",
    "**NumberOfPictures** — number of photos of the car<br>\n",
    "**PostalCode** — postal code of the questionnaire owner (user)<br>\n",
    "**lastSeen** — date of the last user activity<br>\n",
    "\n",
    "Remove the signs from the second list"
   ]
  },
  {
   "cell_type": "code",
   "execution_count": 7,
   "metadata": {},
   "outputs": [],
   "source": [
    "df = df.drop(['DateCrawled', 'RegistrationMonth', 'DateCreated', 'NumberOfPictures', 'PostalCode', 'LastSeen'], axis=1)"
   ]
  },
  {
   "cell_type": "code",
   "execution_count": 8,
   "metadata": {
    "scrolled": true
   },
   "outputs": [
    {
     "data": {
      "text/html": [
       "<div>\n",
       "<style scoped>\n",
       "    .dataframe tbody tr th:only-of-type {\n",
       "        vertical-align: middle;\n",
       "    }\n",
       "\n",
       "    .dataframe tbody tr th {\n",
       "        vertical-align: top;\n",
       "    }\n",
       "\n",
       "    .dataframe thead th {\n",
       "        text-align: right;\n",
       "    }\n",
       "</style>\n",
       "<table border=\"1\" class=\"dataframe\">\n",
       "  <thead>\n",
       "    <tr style=\"text-align: right;\">\n",
       "      <th></th>\n",
       "      <th>Price</th>\n",
       "      <th>VehicleType</th>\n",
       "      <th>RegistrationYear</th>\n",
       "      <th>Gearbox</th>\n",
       "      <th>Power</th>\n",
       "      <th>Model</th>\n",
       "      <th>Kilometer</th>\n",
       "      <th>FuelType</th>\n",
       "      <th>Brand</th>\n",
       "      <th>Repaired</th>\n",
       "    </tr>\n",
       "  </thead>\n",
       "  <tbody>\n",
       "    <tr>\n",
       "      <th>0</th>\n",
       "      <td>480</td>\n",
       "      <td>NaN</td>\n",
       "      <td>1993</td>\n",
       "      <td>manual</td>\n",
       "      <td>0</td>\n",
       "      <td>golf</td>\n",
       "      <td>150000</td>\n",
       "      <td>petrol</td>\n",
       "      <td>volkswagen</td>\n",
       "      <td>NaN</td>\n",
       "    </tr>\n",
       "    <tr>\n",
       "      <th>1</th>\n",
       "      <td>18300</td>\n",
       "      <td>coupe</td>\n",
       "      <td>2011</td>\n",
       "      <td>manual</td>\n",
       "      <td>190</td>\n",
       "      <td>NaN</td>\n",
       "      <td>125000</td>\n",
       "      <td>gasoline</td>\n",
       "      <td>audi</td>\n",
       "      <td>yes</td>\n",
       "    </tr>\n",
       "    <tr>\n",
       "      <th>2</th>\n",
       "      <td>9800</td>\n",
       "      <td>suv</td>\n",
       "      <td>2004</td>\n",
       "      <td>auto</td>\n",
       "      <td>163</td>\n",
       "      <td>grand</td>\n",
       "      <td>125000</td>\n",
       "      <td>gasoline</td>\n",
       "      <td>jeep</td>\n",
       "      <td>NaN</td>\n",
       "    </tr>\n",
       "    <tr>\n",
       "      <th>3</th>\n",
       "      <td>1500</td>\n",
       "      <td>small</td>\n",
       "      <td>2001</td>\n",
       "      <td>manual</td>\n",
       "      <td>75</td>\n",
       "      <td>golf</td>\n",
       "      <td>150000</td>\n",
       "      <td>petrol</td>\n",
       "      <td>volkswagen</td>\n",
       "      <td>no</td>\n",
       "    </tr>\n",
       "    <tr>\n",
       "      <th>4</th>\n",
       "      <td>3600</td>\n",
       "      <td>small</td>\n",
       "      <td>2008</td>\n",
       "      <td>manual</td>\n",
       "      <td>69</td>\n",
       "      <td>fabia</td>\n",
       "      <td>90000</td>\n",
       "      <td>gasoline</td>\n",
       "      <td>skoda</td>\n",
       "      <td>no</td>\n",
       "    </tr>\n",
       "  </tbody>\n",
       "</table>\n",
       "</div>"
      ],
      "text/plain": [
       "   Price VehicleType  RegistrationYear Gearbox  Power  Model  Kilometer  \\\n",
       "0    480         NaN              1993  manual      0   golf     150000   \n",
       "1  18300       coupe              2011  manual    190    NaN     125000   \n",
       "2   9800         suv              2004    auto    163  grand     125000   \n",
       "3   1500       small              2001  manual     75   golf     150000   \n",
       "4   3600       small              2008  manual     69  fabia      90000   \n",
       "\n",
       "   FuelType       Brand Repaired  \n",
       "0    petrol  volkswagen      NaN  \n",
       "1  gasoline        audi      yes  \n",
       "2  gasoline        jeep      NaN  \n",
       "3    petrol  volkswagen       no  \n",
       "4  gasoline       skoda       no  "
      ]
     },
     "execution_count": 8,
     "metadata": {},
     "output_type": "execute_result"
    }
   ],
   "source": [
    "df.head(5)"
   ]
  },
  {
   "cell_type": "code",
   "execution_count": 9,
   "metadata": {},
   "outputs": [
    {
     "data": {
      "text/plain": [
       "45040"
      ]
     },
     "execution_count": 9,
     "metadata": {},
     "output_type": "execute_result"
    }
   ],
   "source": [
    "df.duplicated().sum() # проверим данные на полные дубликаты"
   ]
  },
  {
   "cell_type": "markdown",
   "metadata": {},
   "source": [
    "There are more than 45 thousand complete duplicates, which is about 13% of the original dataset. For training tasks, these duplicates will not bring any benefit, so we delete the complete duplicates"
   ]
  },
  {
   "cell_type": "code",
   "execution_count": 10,
   "metadata": {},
   "outputs": [],
   "source": [
    "df = df.drop_duplicates()"
   ]
  },
  {
   "cell_type": "markdown",
   "metadata": {},
   "source": [
    "The critical characteristic of the object is the model, the \"Model\" column. Without information about the model, the estimate does not make sense. For example, an entry in the Toyota database without specifying a specific model, even if there is information about mileage, body type, year of manufacture, will not increase the accuracy of the evaluation model in any way, even rather reduce it by introducing an error. In the line of one manufacturer there can be both super-budget and expensive models.\n",
    "\n",
    "Thus, we delete all lines with omissions in the \"Model\" column"
   ]
  },
  {
   "cell_type": "code",
   "execution_count": 11,
   "metadata": {},
   "outputs": [],
   "source": [
    "df = df.dropna(subset = ['Model'], axis='rows') "
   ]
  },
  {
   "cell_type": "markdown",
   "metadata": {},
   "source": [
    "Another critical column is information about whether the object has been repaired. Let's assume that if there is no repair information in the column, the object was not repaired. Thus, fill in the gaps in the \"Repaired\" column with the value \"no\""
   ]
  },
  {
   "cell_type": "code",
   "execution_count": 12,
   "metadata": {},
   "outputs": [],
   "source": [
    "df['Repaired'] = df['Repaired'].fillna(value = 'no') "
   ]
  },
  {
   "cell_type": "code",
   "execution_count": 13,
   "metadata": {},
   "outputs": [],
   "source": [
    "#df.info()"
   ]
  },
  {
   "cell_type": "markdown",
   "metadata": {},
   "source": [
    "Consider the columns \"VehicleType\", \"Gearbox\" and \"FuelType\":\n",
    "Output a list of unique values"
   ]
  },
  {
   "cell_type": "code",
   "execution_count": 14,
   "metadata": {},
   "outputs": [
    {
     "name": "stdout",
     "output_type": "stream",
     "text": [
      "тип ТС: {nan, 'small', 'coupe', 'bus', 'wagon', 'sedan', 'convertible', 'other', 'suv'}\n",
      "КПП: {'manual', nan, 'auto'}\n",
      "топливо {nan, 'hybrid', 'gasoline', 'lpg', 'electric', 'petrol', 'other', 'cng'}\n"
     ]
    }
   ],
   "source": [
    "print('тип ТС:', set(df['VehicleType']))\n",
    "print('КПП:', set(df['Gearbox']))\n",
    "print('топливо', set(df['FuelType']))"
   ]
  },
  {
   "cell_type": "markdown",
   "metadata": {},
   "source": [
    "Great, there is a type of vehicle and fuel \"other\" - replace the omissions with this value."
   ]
  },
  {
   "cell_type": "code",
   "execution_count": 15,
   "metadata": {},
   "outputs": [],
   "source": [
    "df['VehicleType'] = df['VehicleType'].fillna(value = 'other') \n",
    "df['FuelType'] = df['FuelType'].fillna(value = 'other') "
   ]
  },
  {
   "cell_type": "markdown",
   "metadata": {},
   "source": [
    "The gaps in the \"Gearbox\" column are more difficult, let's look at the distribution of values:"
   ]
  },
  {
   "cell_type": "code",
   "execution_count": 16,
   "metadata": {},
   "outputs": [
    {
     "name": "stdout",
     "output_type": "stream",
     "text": [
      "manual    220960\n",
      "auto       56255\n",
      "Name: Gearbox, dtype: int64\n",
      "13753\n"
     ]
    }
   ],
   "source": [
    "print(df['Gearbox'].value_counts())\n",
    "print(df['Gearbox'].isna().sum())"
   ]
  },
  {
   "cell_type": "markdown",
   "metadata": {},
   "source": [
    "So, there is a choice: either delete 13.7 thousand lines that do not have information about the type of checkpoint, or replace the omissions with a more frequent value \"manual\". Let's see what is the percentage of lines with omissions:"
   ]
  },
  {
   "cell_type": "code",
   "execution_count": 17,
   "metadata": {},
   "outputs": [
    {
     "name": "stdout",
     "output_type": "stream",
     "text": [
      "Пропусков в строке КПП, 4.96%\n"
     ]
    }
   ],
   "source": [
    "print(f\"Пропусков в строке КПП, {df['Gearbox'].isna().sum()/df['Gearbox'].count()*100:.2f}%\" )\n"
   ]
  },
  {
   "cell_type": "markdown",
   "metadata": {},
   "source": [
    "We make a decision - to donate 5% of the data and delete rows with missing data in the \"Gearbox\" column"
   ]
  },
  {
   "cell_type": "code",
   "execution_count": 18,
   "metadata": {},
   "outputs": [],
   "source": [
    "df = df.dropna(subset = ['Gearbox'], axis='rows') "
   ]
  },
  {
   "cell_type": "markdown",
   "metadata": {},
   "source": [
    "we will also check the data for the presence of implicit duplicates:"
   ]
  },
  {
   "cell_type": "code",
   "execution_count": 19,
   "metadata": {
    "scrolled": true
   },
   "outputs": [
    {
     "name": "stdout",
     "output_type": "stream",
     "text": [
      "sedan          73398\n",
      "small          61745\n",
      "wagon          53095\n",
      "other          24744\n",
      "bus            24229\n",
      "convertible    16761\n",
      "coupe          13441\n",
      "suv             9802\n",
      "Name: VehicleType, dtype: int64\n",
      "manual    220960\n",
      "auto       56255\n",
      "Name: Gearbox, dtype: int64\n",
      "golf                  22478\n",
      "other                 21584\n",
      "3er                   16181\n",
      "polo                   9871\n",
      "corsa                  9050\n",
      "astra                  8960\n",
      "a4                     8046\n",
      "passat                 7996\n",
      "c_klasse               6954\n",
      "5er                    6516\n",
      "e_klasse               5872\n",
      "a3                     5045\n",
      "focus                  4925\n",
      "fiesta                 4758\n",
      "a6                     4728\n",
      "2_reihe                4036\n",
      "transporter            3999\n",
      "twingo                 3623\n",
      "vectra                 3555\n",
      "a_klasse               3543\n",
      "fortwo                 3219\n",
      "3_reihe                3036\n",
      "mondeo                 3019\n",
      "1er                    3009\n",
      "clio                   2940\n",
      "touran                 2728\n",
      "punto                  2636\n",
      "megane                 2556\n",
      "zafira                 2469\n",
      "ibiza                  2335\n",
      "                      ...  \n",
      "crossfire                55\n",
      "911                      55\n",
      "move                     50\n",
      "lybra                    50\n",
      "range_rover_sport        48\n",
      "croma                    41\n",
      "145                      39\n",
      "v60                      37\n",
      "delta                    32\n",
      "terios                   32\n",
      "lodgy                    31\n",
      "9000                     26\n",
      "charade                  25\n",
      "musa                     22\n",
      "b_max                    22\n",
      "materia                  18\n",
      "200                      15\n",
      "q3                       14\n",
      "samara                   13\n",
      "kappa                    13\n",
      "gl                       12\n",
      "amarok                   12\n",
      "elefantino               11\n",
      "serie_2                   8\n",
      "kalina                    7\n",
      "i3                        7\n",
      "rangerover                4\n",
      "serie_3                   3\n",
      "range_rover_evoque        1\n",
      "serie_1                   1\n",
      "Name: Model, Length: 250, dtype: int64\n",
      "petrol      173064\n",
      "gasoline     79929\n",
      "other        19024\n",
      "lpg           4453\n",
      "cng            494\n",
      "hybrid         192\n",
      "electric        59\n",
      "Name: FuelType, dtype: int64\n",
      "volkswagen       57485\n",
      "opel             30406\n",
      "bmw              29005\n",
      "mercedes_benz    26554\n",
      "audi             23514\n",
      "ford             20269\n",
      "renault          14181\n",
      "peugeot           8617\n",
      "fiat              7667\n",
      "seat              5724\n",
      "skoda             4725\n",
      "mazda             4602\n",
      "citroen           4335\n",
      "nissan            4103\n",
      "toyota            3957\n",
      "smart             3741\n",
      "hyundai           2970\n",
      "mini              2738\n",
      "volvo             2706\n",
      "mitsubishi        2559\n",
      "honda             2397\n",
      "kia               2062\n",
      "suzuki            1931\n",
      "alfa_romeo        1908\n",
      "chevrolet         1471\n",
      "chrysler          1222\n",
      "dacia              787\n",
      "daihatsu           666\n",
      "subaru             658\n",
      "porsche            606\n",
      "jeep               587\n",
      "land_rover         468\n",
      "saab               456\n",
      "jaguar             449\n",
      "daewoo             443\n",
      "lancia             396\n",
      "rover              357\n",
      "trabant            315\n",
      "lada               178\n",
      "Name: Brand, dtype: int64\n",
      "no     247307\n",
      "yes     29908\n",
      "Name: Repaired, dtype: int64\n"
     ]
    }
   ],
   "source": [
    "for column in ['VehicleType', 'Gearbox', 'Model', 'FuelType', 'Brand', 'Repaired']:\n",
    "    print(df[column].value_counts())"
   ]
  },
  {
   "cell_type": "markdown",
   "metadata": {},
   "source": [
    "We output the final information about the dataset with which it will work"
   ]
  },
  {
   "cell_type": "code",
   "execution_count": 20,
   "metadata": {},
   "outputs": [
    {
     "ename": "TypeError",
     "evalue": "Cannot interpret '<attribute 'dtype' of 'numpy.generic' objects>' as a data type",
     "output_type": "error",
     "traceback": [
      "\u001b[1;31m---------------------------------------------------------------------------\u001b[0m",
      "\u001b[1;31mTypeError\u001b[0m                                 Traceback (most recent call last)",
      "\u001b[1;32m<ipython-input-20-a74c58233b9e>\u001b[0m in \u001b[0;36m<module>\u001b[1;34m\u001b[0m\n\u001b[1;32m----> 1\u001b[1;33m \u001b[0mdf\u001b[0m\u001b[1;33m.\u001b[0m\u001b[0minfo\u001b[0m\u001b[1;33m(\u001b[0m\u001b[1;33m)\u001b[0m\u001b[1;33m\u001b[0m\u001b[1;33m\u001b[0m\u001b[0m\n\u001b[0m",
      "\u001b[1;32mC:\\ProgramData\\Anaconda32\\lib\\site-packages\\pandas\\core\\frame.py\u001b[0m in \u001b[0;36minfo\u001b[1;34m(self, verbose, buf, max_cols, memory_usage, null_counts)\u001b[0m\n\u001b[0;32m   2503\u001b[0m                         self.index._is_memory_usage_qualified()):\n\u001b[0;32m   2504\u001b[0m                     \u001b[0msize_qualifier\u001b[0m \u001b[1;33m=\u001b[0m \u001b[1;34m'+'\u001b[0m\u001b[1;33m\u001b[0m\u001b[1;33m\u001b[0m\u001b[0m\n\u001b[1;32m-> 2505\u001b[1;33m             \u001b[0mmem_usage\u001b[0m \u001b[1;33m=\u001b[0m \u001b[0mself\u001b[0m\u001b[1;33m.\u001b[0m\u001b[0mmemory_usage\u001b[0m\u001b[1;33m(\u001b[0m\u001b[0mindex\u001b[0m\u001b[1;33m=\u001b[0m\u001b[1;32mTrue\u001b[0m\u001b[1;33m,\u001b[0m \u001b[0mdeep\u001b[0m\u001b[1;33m=\u001b[0m\u001b[0mdeep\u001b[0m\u001b[1;33m)\u001b[0m\u001b[1;33m.\u001b[0m\u001b[0msum\u001b[0m\u001b[1;33m(\u001b[0m\u001b[1;33m)\u001b[0m\u001b[1;33m\u001b[0m\u001b[1;33m\u001b[0m\u001b[0m\n\u001b[0m\u001b[0;32m   2506\u001b[0m             lines.append(\"memory usage: {mem}\\n\".format(\n\u001b[0;32m   2507\u001b[0m                 mem=_sizeof_fmt(mem_usage, size_qualifier)))\n",
      "\u001b[1;32mC:\\ProgramData\\Anaconda32\\lib\\site-packages\\pandas\\core\\frame.py\u001b[0m in \u001b[0;36mmemory_usage\u001b[1;34m(self, index, deep)\u001b[0m\n\u001b[0;32m   2597\u001b[0m         \u001b[1;32mif\u001b[0m \u001b[0mindex\u001b[0m\u001b[1;33m:\u001b[0m\u001b[1;33m\u001b[0m\u001b[1;33m\u001b[0m\u001b[0m\n\u001b[0;32m   2598\u001b[0m             result = Series(self.index.memory_usage(deep=deep),\n\u001b[1;32m-> 2599\u001b[1;33m                             index=['Index']).append(result)\n\u001b[0m\u001b[0;32m   2600\u001b[0m         \u001b[1;32mreturn\u001b[0m \u001b[0mresult\u001b[0m\u001b[1;33m\u001b[0m\u001b[1;33m\u001b[0m\u001b[0m\n\u001b[0;32m   2601\u001b[0m \u001b[1;33m\u001b[0m\u001b[0m\n",
      "\u001b[1;32mC:\\ProgramData\\Anaconda32\\lib\\site-packages\\pandas\\core\\series.py\u001b[0m in \u001b[0;36m__init__\u001b[1;34m(self, data, index, dtype, name, copy, fastpath)\u001b[0m\n\u001b[0;32m    260\u001b[0m             \u001b[1;32melse\u001b[0m\u001b[1;33m:\u001b[0m\u001b[1;33m\u001b[0m\u001b[1;33m\u001b[0m\u001b[0m\n\u001b[0;32m    261\u001b[0m                 data = sanitize_array(data, index, dtype, copy,\n\u001b[1;32m--> 262\u001b[1;33m                                       raise_cast_failure=True)\n\u001b[0m\u001b[0;32m    263\u001b[0m \u001b[1;33m\u001b[0m\u001b[0m\n\u001b[0;32m    264\u001b[0m                 \u001b[0mdata\u001b[0m \u001b[1;33m=\u001b[0m \u001b[0mSingleBlockManager\u001b[0m\u001b[1;33m(\u001b[0m\u001b[0mdata\u001b[0m\u001b[1;33m,\u001b[0m \u001b[0mindex\u001b[0m\u001b[1;33m,\u001b[0m \u001b[0mfastpath\u001b[0m\u001b[1;33m=\u001b[0m\u001b[1;32mTrue\u001b[0m\u001b[1;33m)\u001b[0m\u001b[1;33m\u001b[0m\u001b[1;33m\u001b[0m\u001b[0m\n",
      "\u001b[1;32mC:\\ProgramData\\Anaconda32\\lib\\site-packages\\pandas\\core\\internals\\construction.py\u001b[0m in \u001b[0;36msanitize_array\u001b[1;34m(data, index, dtype, copy, raise_cast_failure)\u001b[0m\n\u001b[0;32m    640\u001b[0m \u001b[1;33m\u001b[0m\u001b[0m\n\u001b[0;32m    641\u001b[0m             subarr = construct_1d_arraylike_from_scalar(\n\u001b[1;32m--> 642\u001b[1;33m                 value, len(index), dtype)\n\u001b[0m\u001b[0;32m    643\u001b[0m \u001b[1;33m\u001b[0m\u001b[0m\n\u001b[0;32m    644\u001b[0m         \u001b[1;32melse\u001b[0m\u001b[1;33m:\u001b[0m\u001b[1;33m\u001b[0m\u001b[1;33m\u001b[0m\u001b[0m\n",
      "\u001b[1;32mC:\\ProgramData\\Anaconda32\\lib\\site-packages\\pandas\\core\\dtypes\\cast.py\u001b[0m in \u001b[0;36mconstruct_1d_arraylike_from_scalar\u001b[1;34m(value, length, dtype)\u001b[0m\n\u001b[0;32m   1185\u001b[0m                 \u001b[0mvalue\u001b[0m \u001b[1;33m=\u001b[0m \u001b[0mto_str\u001b[0m\u001b[1;33m(\u001b[0m\u001b[0mvalue\u001b[0m\u001b[1;33m)\u001b[0m\u001b[1;33m\u001b[0m\u001b[1;33m\u001b[0m\u001b[0m\n\u001b[0;32m   1186\u001b[0m \u001b[1;33m\u001b[0m\u001b[0m\n\u001b[1;32m-> 1187\u001b[1;33m         \u001b[0msubarr\u001b[0m \u001b[1;33m=\u001b[0m \u001b[0mnp\u001b[0m\u001b[1;33m.\u001b[0m\u001b[0mempty\u001b[0m\u001b[1;33m(\u001b[0m\u001b[0mlength\u001b[0m\u001b[1;33m,\u001b[0m \u001b[0mdtype\u001b[0m\u001b[1;33m=\u001b[0m\u001b[0mdtype\u001b[0m\u001b[1;33m)\u001b[0m\u001b[1;33m\u001b[0m\u001b[1;33m\u001b[0m\u001b[0m\n\u001b[0m\u001b[0;32m   1188\u001b[0m         \u001b[0msubarr\u001b[0m\u001b[1;33m.\u001b[0m\u001b[0mfill\u001b[0m\u001b[1;33m(\u001b[0m\u001b[0mvalue\u001b[0m\u001b[1;33m)\u001b[0m\u001b[1;33m\u001b[0m\u001b[1;33m\u001b[0m\u001b[0m\n\u001b[0;32m   1189\u001b[0m \u001b[1;33m\u001b[0m\u001b[0m\n",
      "\u001b[1;31mTypeError\u001b[0m: Cannot interpret '<attribute 'dtype' of 'numpy.generic' objects>' as a data type"
     ]
    }
   ],
   "source": [
    "df.info()"
   ]
  },
  {
   "cell_type": "markdown",
   "metadata": {},
   "source": [
    "After importing the data, we saved the initial number of entries in the dataset in the str_count variable.\n",
    "let's see what% of the data we deleted in preprocessing"
   ]
  },
  {
   "cell_type": "code",
   "execution_count": 21,
   "metadata": {},
   "outputs": [
    {
     "name": "stdout",
     "output_type": "stream",
     "text": [
      "От первоначального датасета осталось 78.23% записей\n"
     ]
    }
   ],
   "source": [
    "print(f\"От первоначального датасета осталось {df.shape[0]/str_count*100:.2f}% записей\")"
   ]
  },
  {
   "cell_type": "markdown",
   "metadata": {},
   "source": [
    "### Intermediate output:\n",
    "Data import and preprocessing were carried out. Non-informative signs that do not affect the estimated value of the object of assessment (vehicle) in their meaning have been removed:<br>\n",
    "**DateCrawled** — date of downloading the questionnaire from the database<br>\n",
    "**RegistrationMonth** — month of registration of the car<br>\n",
    "**DateCreated** — date of creation of the questionnaire<br>\n",
    "**NumberOfPictures** — number of photos of the car<br>\n",
    "**PostalCode** — postal code of the questionnaire owner (user)<br>\n",
    "**lastSeen** — date of the last user activity<br>\n",
    "\n",
    "The gaps in the columns are filled in:<br>\n",
    "**VehicleType** — car body type<br>\n",
    "**FuelType** — fuel type<br>\n",
    "\n",
    "Removed the omission in the column: <br>\n",
    "**Gearbox** — type of gearbox<br>\n",
    "\n",
    "Full duplicates have been removed, and a check for hidden duplicates has been carried out.\n",
    "\n",
    "From the original dataset, **78.23%** of records have been preserved"
   ]
  },
  {
   "cell_type": "code",
   "execution_count": 22,
   "metadata": {},
   "outputs": [
    {
     "ename": "TypeError",
     "evalue": "Cannot interpret '<attribute 'dtype' of 'numpy.generic' objects>' as a data type",
     "output_type": "error",
     "traceback": [
      "\u001b[1;31m---------------------------------------------------------------------------\u001b[0m",
      "\u001b[1;31mTypeError\u001b[0m                                 Traceback (most recent call last)",
      "\u001b[1;32m<ipython-input-22-da1226baca25>\u001b[0m in \u001b[0;36m<module>\u001b[1;34m\u001b[0m\n\u001b[1;32m----> 1\u001b[1;33m \u001b[0mdf\u001b[0m\u001b[1;33m[\u001b[0m\u001b[1;34m'Price'\u001b[0m\u001b[1;33m]\u001b[0m\u001b[1;33m.\u001b[0m\u001b[0mplot\u001b[0m\u001b[1;33m(\u001b[0m\u001b[0mkind\u001b[0m\u001b[1;33m=\u001b[0m\u001b[1;34m'hist'\u001b[0m\u001b[1;33m,\u001b[0m \u001b[0mbins\u001b[0m\u001b[1;33m=\u001b[0m\u001b[1;36m20\u001b[0m\u001b[1;33m)\u001b[0m \u001b[1;31m# Building a histogram of the price distribution.\u001b[0m\u001b[1;33m\u001b[0m\u001b[1;33m\u001b[0m\u001b[0m\n\u001b[0m",
      "\u001b[1;32mC:\\ProgramData\\Anaconda32\\lib\\site-packages\\pandas\\plotting\\_core.py\u001b[0m in \u001b[0;36m__call__\u001b[1;34m(self, kind, ax, figsize, use_index, title, grid, legend, style, logx, logy, loglog, xticks, yticks, xlim, ylim, rot, fontsize, colormap, table, yerr, xerr, label, secondary_y, **kwds)\u001b[0m\n\u001b[0;32m   2740\u001b[0m                            \u001b[0mcolormap\u001b[0m\u001b[1;33m=\u001b[0m\u001b[0mcolormap\u001b[0m\u001b[1;33m,\u001b[0m \u001b[0mtable\u001b[0m\u001b[1;33m=\u001b[0m\u001b[0mtable\u001b[0m\u001b[1;33m,\u001b[0m \u001b[0myerr\u001b[0m\u001b[1;33m=\u001b[0m\u001b[0myerr\u001b[0m\u001b[1;33m,\u001b[0m\u001b[1;33m\u001b[0m\u001b[1;33m\u001b[0m\u001b[0m\n\u001b[0;32m   2741\u001b[0m                            \u001b[0mxerr\u001b[0m\u001b[1;33m=\u001b[0m\u001b[0mxerr\u001b[0m\u001b[1;33m,\u001b[0m \u001b[0mlabel\u001b[0m\u001b[1;33m=\u001b[0m\u001b[0mlabel\u001b[0m\u001b[1;33m,\u001b[0m \u001b[0msecondary_y\u001b[0m\u001b[1;33m=\u001b[0m\u001b[0msecondary_y\u001b[0m\u001b[1;33m,\u001b[0m\u001b[1;33m\u001b[0m\u001b[1;33m\u001b[0m\u001b[0m\n\u001b[1;32m-> 2742\u001b[1;33m                            **kwds)\n\u001b[0m\u001b[0;32m   2743\u001b[0m     \u001b[0m__call__\u001b[0m\u001b[1;33m.\u001b[0m\u001b[0m__doc__\u001b[0m \u001b[1;33m=\u001b[0m \u001b[0mplot_series\u001b[0m\u001b[1;33m.\u001b[0m\u001b[0m__doc__\u001b[0m\u001b[1;33m\u001b[0m\u001b[1;33m\u001b[0m\u001b[0m\n\u001b[0;32m   2744\u001b[0m \u001b[1;33m\u001b[0m\u001b[0m\n",
      "\u001b[1;32mC:\\ProgramData\\Anaconda32\\lib\\site-packages\\pandas\\plotting\\_core.py\u001b[0m in \u001b[0;36mplot_series\u001b[1;34m(data, kind, ax, figsize, use_index, title, grid, legend, style, logx, logy, loglog, xticks, yticks, xlim, ylim, rot, fontsize, colormap, table, yerr, xerr, label, secondary_y, **kwds)\u001b[0m\n\u001b[0;32m   1996\u001b[0m                  \u001b[0myerr\u001b[0m\u001b[1;33m=\u001b[0m\u001b[0myerr\u001b[0m\u001b[1;33m,\u001b[0m \u001b[0mxerr\u001b[0m\u001b[1;33m=\u001b[0m\u001b[0mxerr\u001b[0m\u001b[1;33m,\u001b[0m\u001b[1;33m\u001b[0m\u001b[1;33m\u001b[0m\u001b[0m\n\u001b[0;32m   1997\u001b[0m                  \u001b[0mlabel\u001b[0m\u001b[1;33m=\u001b[0m\u001b[0mlabel\u001b[0m\u001b[1;33m,\u001b[0m \u001b[0msecondary_y\u001b[0m\u001b[1;33m=\u001b[0m\u001b[0msecondary_y\u001b[0m\u001b[1;33m,\u001b[0m\u001b[1;33m\u001b[0m\u001b[1;33m\u001b[0m\u001b[0m\n\u001b[1;32m-> 1998\u001b[1;33m                  **kwds)\n\u001b[0m\u001b[0;32m   1999\u001b[0m \u001b[1;33m\u001b[0m\u001b[0m\n\u001b[0;32m   2000\u001b[0m \u001b[1;33m\u001b[0m\u001b[0m\n",
      "\u001b[1;32mC:\\ProgramData\\Anaconda32\\lib\\site-packages\\pandas\\plotting\\_core.py\u001b[0m in \u001b[0;36m_plot\u001b[1;34m(data, x, y, subplots, ax, kind, **kwds)\u001b[0m\n\u001b[0;32m   1799\u001b[0m         \u001b[0mplot_obj\u001b[0m \u001b[1;33m=\u001b[0m \u001b[0mklass\u001b[0m\u001b[1;33m(\u001b[0m\u001b[0mdata\u001b[0m\u001b[1;33m,\u001b[0m \u001b[0msubplots\u001b[0m\u001b[1;33m=\u001b[0m\u001b[0msubplots\u001b[0m\u001b[1;33m,\u001b[0m \u001b[0max\u001b[0m\u001b[1;33m=\u001b[0m\u001b[0max\u001b[0m\u001b[1;33m,\u001b[0m \u001b[0mkind\u001b[0m\u001b[1;33m=\u001b[0m\u001b[0mkind\u001b[0m\u001b[1;33m,\u001b[0m \u001b[1;33m**\u001b[0m\u001b[0mkwds\u001b[0m\u001b[1;33m)\u001b[0m\u001b[1;33m\u001b[0m\u001b[1;33m\u001b[0m\u001b[0m\n\u001b[0;32m   1800\u001b[0m \u001b[1;33m\u001b[0m\u001b[0m\n\u001b[1;32m-> 1801\u001b[1;33m     \u001b[0mplot_obj\u001b[0m\u001b[1;33m.\u001b[0m\u001b[0mgenerate\u001b[0m\u001b[1;33m(\u001b[0m\u001b[1;33m)\u001b[0m\u001b[1;33m\u001b[0m\u001b[1;33m\u001b[0m\u001b[0m\n\u001b[0m\u001b[0;32m   1802\u001b[0m     \u001b[0mplot_obj\u001b[0m\u001b[1;33m.\u001b[0m\u001b[0mdraw\u001b[0m\u001b[1;33m(\u001b[0m\u001b[1;33m)\u001b[0m\u001b[1;33m\u001b[0m\u001b[1;33m\u001b[0m\u001b[0m\n\u001b[0;32m   1803\u001b[0m     \u001b[1;32mreturn\u001b[0m \u001b[0mplot_obj\u001b[0m\u001b[1;33m.\u001b[0m\u001b[0mresult\u001b[0m\u001b[1;33m\u001b[0m\u001b[1;33m\u001b[0m\u001b[0m\n",
      "\u001b[1;32mC:\\ProgramData\\Anaconda32\\lib\\site-packages\\pandas\\plotting\\_core.py\u001b[0m in \u001b[0;36mgenerate\u001b[1;34m(self)\u001b[0m\n\u001b[0;32m    247\u001b[0m     \u001b[1;32mdef\u001b[0m \u001b[0mgenerate\u001b[0m\u001b[1;33m(\u001b[0m\u001b[0mself\u001b[0m\u001b[1;33m)\u001b[0m\u001b[1;33m:\u001b[0m\u001b[1;33m\u001b[0m\u001b[1;33m\u001b[0m\u001b[0m\n\u001b[0;32m    248\u001b[0m         \u001b[0mself\u001b[0m\u001b[1;33m.\u001b[0m\u001b[0m_args_adjust\u001b[0m\u001b[1;33m(\u001b[0m\u001b[1;33m)\u001b[0m\u001b[1;33m\u001b[0m\u001b[1;33m\u001b[0m\u001b[0m\n\u001b[1;32m--> 249\u001b[1;33m         \u001b[0mself\u001b[0m\u001b[1;33m.\u001b[0m\u001b[0m_compute_plot_data\u001b[0m\u001b[1;33m(\u001b[0m\u001b[1;33m)\u001b[0m\u001b[1;33m\u001b[0m\u001b[1;33m\u001b[0m\u001b[0m\n\u001b[0m\u001b[0;32m    250\u001b[0m         \u001b[0mself\u001b[0m\u001b[1;33m.\u001b[0m\u001b[0m_setup_subplots\u001b[0m\u001b[1;33m(\u001b[0m\u001b[1;33m)\u001b[0m\u001b[1;33m\u001b[0m\u001b[1;33m\u001b[0m\u001b[0m\n\u001b[0;32m    251\u001b[0m         \u001b[0mself\u001b[0m\u001b[1;33m.\u001b[0m\u001b[0m_make_plot\u001b[0m\u001b[1;33m(\u001b[0m\u001b[1;33m)\u001b[0m\u001b[1;33m\u001b[0m\u001b[1;33m\u001b[0m\u001b[0m\n",
      "\u001b[1;32mC:\\ProgramData\\Anaconda32\\lib\\site-packages\\pandas\\plotting\\_core.py\u001b[0m in \u001b[0;36m_compute_plot_data\u001b[1;34m(self)\u001b[0m\n\u001b[0;32m    355\u001b[0m                                                    \u001b[1;34m\"datetime\"\u001b[0m\u001b[1;33m,\u001b[0m\u001b[1;33m\u001b[0m\u001b[1;33m\u001b[0m\u001b[0m\n\u001b[0;32m    356\u001b[0m                                                    \u001b[1;34m\"datetimetz\"\u001b[0m\u001b[1;33m,\u001b[0m\u001b[1;33m\u001b[0m\u001b[1;33m\u001b[0m\u001b[0m\n\u001b[1;32m--> 357\u001b[1;33m                                                    \"timedelta\"])\n\u001b[0m\u001b[0;32m    358\u001b[0m \u001b[1;33m\u001b[0m\u001b[0m\n\u001b[0;32m    359\u001b[0m         \u001b[1;32mtry\u001b[0m\u001b[1;33m:\u001b[0m\u001b[1;33m\u001b[0m\u001b[1;33m\u001b[0m\u001b[0m\n",
      "\u001b[1;32mC:\\ProgramData\\Anaconda32\\lib\\site-packages\\pandas\\core\\frame.py\u001b[0m in \u001b[0;36mselect_dtypes\u001b[1;34m(self, include, exclude)\u001b[0m\n\u001b[0;32m   3324\u001b[0m         \u001b[1;31m# the \"union\" of the logic of case 1 and case 2:\u001b[0m\u001b[1;33m\u001b[0m\u001b[1;33m\u001b[0m\u001b[1;33m\u001b[0m\u001b[0m\n\u001b[0;32m   3325\u001b[0m         \u001b[1;31m# we get the included and excluded, and return their logical and\u001b[0m\u001b[1;33m\u001b[0m\u001b[1;33m\u001b[0m\u001b[1;33m\u001b[0m\u001b[0m\n\u001b[1;32m-> 3326\u001b[1;33m         \u001b[0minclude_these\u001b[0m \u001b[1;33m=\u001b[0m \u001b[0mSeries\u001b[0m\u001b[1;33m(\u001b[0m\u001b[1;32mnot\u001b[0m \u001b[0mbool\u001b[0m\u001b[1;33m(\u001b[0m\u001b[0minclude\u001b[0m\u001b[1;33m)\u001b[0m\u001b[1;33m,\u001b[0m \u001b[0mindex\u001b[0m\u001b[1;33m=\u001b[0m\u001b[0mself\u001b[0m\u001b[1;33m.\u001b[0m\u001b[0mcolumns\u001b[0m\u001b[1;33m)\u001b[0m\u001b[1;33m\u001b[0m\u001b[1;33m\u001b[0m\u001b[0m\n\u001b[0m\u001b[0;32m   3327\u001b[0m         \u001b[0mexclude_these\u001b[0m \u001b[1;33m=\u001b[0m \u001b[0mSeries\u001b[0m\u001b[1;33m(\u001b[0m\u001b[1;32mnot\u001b[0m \u001b[0mbool\u001b[0m\u001b[1;33m(\u001b[0m\u001b[0mexclude\u001b[0m\u001b[1;33m)\u001b[0m\u001b[1;33m,\u001b[0m \u001b[0mindex\u001b[0m\u001b[1;33m=\u001b[0m\u001b[0mself\u001b[0m\u001b[1;33m.\u001b[0m\u001b[0mcolumns\u001b[0m\u001b[1;33m)\u001b[0m\u001b[1;33m\u001b[0m\u001b[1;33m\u001b[0m\u001b[0m\n\u001b[0;32m   3328\u001b[0m \u001b[1;33m\u001b[0m\u001b[0m\n",
      "\u001b[1;32mC:\\ProgramData\\Anaconda32\\lib\\site-packages\\pandas\\core\\series.py\u001b[0m in \u001b[0;36m__init__\u001b[1;34m(self, data, index, dtype, name, copy, fastpath)\u001b[0m\n\u001b[0;32m    260\u001b[0m             \u001b[1;32melse\u001b[0m\u001b[1;33m:\u001b[0m\u001b[1;33m\u001b[0m\u001b[1;33m\u001b[0m\u001b[0m\n\u001b[0;32m    261\u001b[0m                 data = sanitize_array(data, index, dtype, copy,\n\u001b[1;32m--> 262\u001b[1;33m                                       raise_cast_failure=True)\n\u001b[0m\u001b[0;32m    263\u001b[0m \u001b[1;33m\u001b[0m\u001b[0m\n\u001b[0;32m    264\u001b[0m                 \u001b[0mdata\u001b[0m \u001b[1;33m=\u001b[0m \u001b[0mSingleBlockManager\u001b[0m\u001b[1;33m(\u001b[0m\u001b[0mdata\u001b[0m\u001b[1;33m,\u001b[0m \u001b[0mindex\u001b[0m\u001b[1;33m,\u001b[0m \u001b[0mfastpath\u001b[0m\u001b[1;33m=\u001b[0m\u001b[1;32mTrue\u001b[0m\u001b[1;33m)\u001b[0m\u001b[1;33m\u001b[0m\u001b[1;33m\u001b[0m\u001b[0m\n",
      "\u001b[1;32mC:\\ProgramData\\Anaconda32\\lib\\site-packages\\pandas\\core\\internals\\construction.py\u001b[0m in \u001b[0;36msanitize_array\u001b[1;34m(data, index, dtype, copy, raise_cast_failure)\u001b[0m\n\u001b[0;32m    640\u001b[0m \u001b[1;33m\u001b[0m\u001b[0m\n\u001b[0;32m    641\u001b[0m             subarr = construct_1d_arraylike_from_scalar(\n\u001b[1;32m--> 642\u001b[1;33m                 value, len(index), dtype)\n\u001b[0m\u001b[0;32m    643\u001b[0m \u001b[1;33m\u001b[0m\u001b[0m\n\u001b[0;32m    644\u001b[0m         \u001b[1;32melse\u001b[0m\u001b[1;33m:\u001b[0m\u001b[1;33m\u001b[0m\u001b[1;33m\u001b[0m\u001b[0m\n",
      "\u001b[1;32mC:\\ProgramData\\Anaconda32\\lib\\site-packages\\pandas\\core\\dtypes\\cast.py\u001b[0m in \u001b[0;36mconstruct_1d_arraylike_from_scalar\u001b[1;34m(value, length, dtype)\u001b[0m\n\u001b[0;32m   1185\u001b[0m                 \u001b[0mvalue\u001b[0m \u001b[1;33m=\u001b[0m \u001b[0mto_str\u001b[0m\u001b[1;33m(\u001b[0m\u001b[0mvalue\u001b[0m\u001b[1;33m)\u001b[0m\u001b[1;33m\u001b[0m\u001b[1;33m\u001b[0m\u001b[0m\n\u001b[0;32m   1186\u001b[0m \u001b[1;33m\u001b[0m\u001b[0m\n\u001b[1;32m-> 1187\u001b[1;33m         \u001b[0msubarr\u001b[0m \u001b[1;33m=\u001b[0m \u001b[0mnp\u001b[0m\u001b[1;33m.\u001b[0m\u001b[0mempty\u001b[0m\u001b[1;33m(\u001b[0m\u001b[0mlength\u001b[0m\u001b[1;33m,\u001b[0m \u001b[0mdtype\u001b[0m\u001b[1;33m=\u001b[0m\u001b[0mdtype\u001b[0m\u001b[1;33m)\u001b[0m\u001b[1;33m\u001b[0m\u001b[1;33m\u001b[0m\u001b[0m\n\u001b[0m\u001b[0;32m   1188\u001b[0m         \u001b[0msubarr\u001b[0m\u001b[1;33m.\u001b[0m\u001b[0mfill\u001b[0m\u001b[1;33m(\u001b[0m\u001b[0mvalue\u001b[0m\u001b[1;33m)\u001b[0m\u001b[1;33m\u001b[0m\u001b[1;33m\u001b[0m\u001b[0m\n\u001b[0;32m   1189\u001b[0m \u001b[1;33m\u001b[0m\u001b[0m\n",
      "\u001b[1;31mTypeError\u001b[0m: Cannot interpret '<attribute 'dtype' of 'numpy.generic' objects>' as a data type"
     ]
    }
   ],
   "source": [
    "df['Price'].plot(kind='hist', bins=20) # Building a histogram of the price distribution."
   ]
  },
  {
   "cell_type": "markdown",
   "metadata": {},
   "source": [
    "Interestingly, there are a lot of \"very cheap\" offers, consider the range \"up to 500 euros\" in more detail"
   ]
  },
  {
   "cell_type": "markdown",
   "metadata": {},
   "source": [
    "Obviously, a spike in zero-price data is a mistake."
   ]
  },
  {
   "cell_type": "code",
   "execution_count": 24,
   "metadata": {},
   "outputs": [
    {
     "data": {
      "text/plain": [
       "6837"
      ]
     },
     "execution_count": 24,
     "metadata": {},
     "output_type": "execute_result"
    }
   ],
   "source": [
    "df[df['Price']<50]['Price'].count() # let's count the number of rows with a \"near-zero\" price"
   ]
  },
  {
   "cell_type": "markdown",
   "metadata": {},
   "source": [
    "These 6,9 thousand records will have to be sacrificed, they are clearly erroneous."
   ]
  },
  {
   "cell_type": "code",
   "execution_count": 25,
   "metadata": {},
   "outputs": [],
   "source": [
    "df= df[df['Price'] > 50] # we leave entries with a price of more than 50 euros"
   ]
  },
  {
   "cell_type": "code",
   "execution_count": 27,
   "metadata": {},
   "outputs": [
    {
     "data": {
      "text/plain": [
       "<matplotlib.axes._subplots.AxesSubplot at 0xd3816d8>"
      ]
     },
     "execution_count": 27,
     "metadata": {},
     "output_type": "execute_result"
    },
    {
     "data": {
      "image/png": "[encoded data removed]",
      "text/plain": [
       "<Figure size 432x288 with 1 Axes>"
      ]
     },
     "metadata": {
      "needs_background": "light"
     },
     "output_type": "display_data"
    }
   ],
   "source": [
    "sns.boxplot(df['RegistrationYear'])#Building a boxplot for the year of registration"
   ]
  },
  {
   "cell_type": "markdown",
   "metadata": {},
   "source": [
    "Obviously, there cannot be years of registration before 1768 (the year of the invention of the car) and after 2023, all emissions are errors. Let's count their number"
   ]
  },
  {
   "cell_type": "code",
   "execution_count": 28,
   "metadata": {},
   "outputs": [
    {
     "data": {
      "text/plain": [
       "18"
      ]
     },
     "execution_count": 28,
     "metadata": {},
     "output_type": "execute_result"
    }
   ],
   "source": [
    "df[(df['RegistrationYear']>2023) | (df['RegistrationYear']<1768) ]['RegistrationYear'].count() # подсчитаем количество строк с \"аномальными\" годами регистрации"
   ]
  },
  {
   "cell_type": "markdown",
   "metadata": {},
   "source": [
    "there are only 18 such anomalies, we remove these artifacts without hesitation"
   ]
  },
  {
   "cell_type": "code",
   "execution_count": 29,
   "metadata": {},
   "outputs": [],
   "source": [
    "df = df[ (df['RegistrationYear'] <= 2023) & (1768 <= df['RegistrationYear']) ] # удаляем записи с аномальными годами выпуска"
   ]
  },
  {
   "cell_type": "code",
   "execution_count": null,
   "metadata": {},
   "outputs": [],
   "source": [
    "df.info()"
   ]
  },
  {
   "cell_type": "code",
   "execution_count": 30,
   "metadata": {},
   "outputs": [
    {
     "data": {
      "text/plain": [
       "<matplotlib.axes._subplots.AxesSubplot at 0xd381fd0>"
      ]
     },
     "execution_count": 30,
     "metadata": {},
     "output_type": "execute_result"
    },
    {
     "data": {
      "image/png": "[encoded data removed]",
      "text/plain": [
       "<Figure size 432x288 with 1 Axes>"
      ]
     },
     "metadata": {
      "needs_background": "light"
     },
     "output_type": "display_data"
    }
   ],
   "source": [
    "sns.boxplot(df['Power'])#Building a boxplot of engine power distribution"
   ]
  },
  {
   "cell_type": "markdown",
   "metadata": {},
   "source": [
    "A lot of emissions, according to the Network, the minimum power of an automobile engine is 0.75 hp (one of the first cars of Karl Benz), the maximum registered is 5000 hp. Everything above / below is removed immediately, and what is in the range of 1700-5000 we will check whether the data of the rating of the most powerful cars https://cars-rating.ru/legkovye/samye-moshhnye-avtomobili-v-mire"
   ]
  },
  {
   "cell_type": "code",
   "execution_count": 31,
   "metadata": {},
   "outputs": [
    {
     "data": {
      "text/plain": [
       "20589"
      ]
     },
     "execution_count": 31,
     "metadata": {},
     "output_type": "execute_result"
    }
   ],
   "source": [
    "df[(df['Power']>5000) | (df['Power']<0.75) ]['Power'].count() # подсчитаем количество строк с \"аномальными\" мощностями"
   ]
  },
  {
   "cell_type": "markdown",
   "metadata": {},
   "source": [
    "20.5 thousand lines is a lot, but there is no adequate and unambiguous way to correct this error (the power could be confused with the price, they could indicate the power in Watts instead of HP, etc.) The lines must be deleted."
   ]
  },
  {
   "cell_type": "code",
   "execution_count": 32,
   "metadata": {},
   "outputs": [],
   "source": [
    "df = df[ (df['Power'] <= 5000) & (0.75 <= df['Power']) ] # deleting records with abnormal release years"
   ]
  },
  {
   "cell_type": "code",
   "execution_count": 33,
   "metadata": {},
   "outputs": [
    {
     "data": {
      "text/plain": [
       "167"
      ]
     },
     "execution_count": 33,
     "metadata": {},
     "output_type": "execute_result"
    }
   ],
   "source": [
    "df[df['Power']>1000]['Power'].count() # let's see how many potentially exclusive sports cars we have with a capacity of 1000-5000 hp"
   ]
  },
  {
   "cell_type": "code",
   "execution_count": 34,
   "metadata": {},
   "outputs": [
    {
     "name": "stdout",
     "output_type": "stream",
     "text": [
      "3er            11\n",
      "golf           11\n",
      "passat         10\n",
      "vectra         10\n",
      "astra           9\n",
      "other           7\n",
      "transporter     7\n",
      "polo            6\n",
      "c_klasse        6\n",
      "e_klasse        5\n",
      "a_klasse        4\n",
      "focus           4\n",
      "scenic          4\n",
      "a4              4\n",
      "5er             4\n",
      "zafira          4\n",
      "a6              3\n",
      "corsa           3\n",
      "touran          2\n",
      "v40             2\n",
      "ka              2\n",
      "toledo          2\n",
      "galaxy          2\n",
      "mondeo          2\n",
      "3_reihe         2\n",
      "tt              2\n",
      "micra           2\n",
      "laguna          2\n",
      "twingo          2\n",
      "cooper          2\n",
      "stilo           2\n",
      "1er             1\n",
      "kangoo          1\n",
      "yaris           1\n",
      "rio             1\n",
      "ibiza           1\n",
      "sprinter        1\n",
      "outlander       1\n",
      "kaefer          1\n",
      "c5              1\n",
      "clio            1\n",
      "x_trail         1\n",
      "c4              1\n",
      "a3              1\n",
      "6_reihe         1\n",
      "punto           1\n",
      "ypsilon         1\n",
      "touareg         1\n",
      "escort          1\n",
      "berlingo        1\n",
      "a8              1\n",
      "nubira          1\n",
      "tiguan          1\n",
      "fiesta          1\n",
      "octavia         1\n",
      "rav             1\n",
      "sharan          1\n",
      "s_klasse        1\n",
      "corolla         1\n",
      "leon            1\n",
      "Name: Model, dtype: int64\n"
     ]
    }
   ],
   "source": [
    " print(df[df['Power']>1000]['Model'].value_counts()) # let's output a list of unique models among these "
   ]
  },
  {
   "cell_type": "markdown",
   "metadata": {},
   "source": [
    "Obviously, there is not a single exclusive sports car among Golfs, Fiestas and other Sprinters. This means that these records are also erroneous and must be deleted."
   ]
  },
  {
   "cell_type": "code",
   "execution_count": 35,
   "metadata": {},
   "outputs": [],
   "source": [
    "df = df[ df['Power'] <= 1000 ] # deleting records with abnormal capacities"
   ]
  },
  {
   "cell_type": "code",
   "execution_count": null,
   "metadata": {},
   "outputs": [],
   "source": [
    "df.info()"
   ]
  },
  {
   "cell_type": "code",
   "execution_count": 36,
   "metadata": {},
   "outputs": [
    {
     "data": {
      "text/plain": [
       "<matplotlib.axes._subplots.AxesSubplot at 0xd4f04e0>"
      ]
     },
     "execution_count": 36,
     "metadata": {},
     "output_type": "execute_result"
    },
    {
     "data": {
      "image/png": "[encoded data removed]",
      "text/plain": [
       "<Figure size 432x288 with 1 Axes>"
      ]
     },
     "metadata": {
      "needs_background": "light"
     },
     "output_type": "display_data"
    }
   ],
   "source": [
    "sns.boxplot(df['Kilometer']) #Building a boxplot of mileage distribution"
   ]
  },
  {
   "cell_type": "markdown",
   "metadata": {},
   "source": [
    "There are no anomalies here. It's even strange that there are no runs of a million kilometers, this happens in life."
   ]
  },
  {
   "cell_type": "code",
   "execution_count": 37,
   "metadata": {},
   "outputs": [
    {
     "name": "stdout",
     "output_type": "stream",
     "text": [
      "От первоначального датасета осталось 70.39% записей\n"
     ]
    }
   ],
   "source": [
    "print(f\"От первоначального датасета осталось {df.shape[0]/str_count*100:.2f}% записей\")"
   ]
  },
  {
   "cell_type": "markdown",
   "metadata": {},
   "source": [
    "## Models learning"
   ]
  },
  {
   "cell_type": "code",
   "execution_count": 38,
   "metadata": {},
   "outputs": [],
   "source": [
    "features = df.drop(['Price'], axis=1) # extracting features\n",
    "target = df['Price'] # extracting the target attribute"
   ]
  },
  {
   "cell_type": "code",
   "execution_count": 39,
   "metadata": {},
   "outputs": [
    {
     "data": {
      "text/html": [
       "<div>\n",
       "<style scoped>\n",
       "    .dataframe tbody tr th:only-of-type {\n",
       "        vertical-align: middle;\n",
       "    }\n",
       "\n",
       "    .dataframe tbody tr th {\n",
       "        vertical-align: top;\n",
       "    }\n",
       "\n",
       "    .dataframe thead th {\n",
       "        text-align: right;\n",
       "    }\n",
       "</style>\n",
       "<table border=\"1\" class=\"dataframe\">\n",
       "  <thead>\n",
       "    <tr style=\"text-align: right;\">\n",
       "      <th></th>\n",
       "      <th>VehicleType</th>\n",
       "      <th>RegistrationYear</th>\n",
       "      <th>Gearbox</th>\n",
       "      <th>Power</th>\n",
       "      <th>Model</th>\n",
       "      <th>Kilometer</th>\n",
       "      <th>FuelType</th>\n",
       "      <th>Brand</th>\n",
       "      <th>Repaired</th>\n",
       "    </tr>\n",
       "  </thead>\n",
       "  <tbody>\n",
       "    <tr>\n",
       "      <th>2</th>\n",
       "      <td>suv</td>\n",
       "      <td>2004</td>\n",
       "      <td>auto</td>\n",
       "      <td>163</td>\n",
       "      <td>grand</td>\n",
       "      <td>125000</td>\n",
       "      <td>gasoline</td>\n",
       "      <td>jeep</td>\n",
       "      <td>no</td>\n",
       "    </tr>\n",
       "    <tr>\n",
       "      <th>3</th>\n",
       "      <td>small</td>\n",
       "      <td>2001</td>\n",
       "      <td>manual</td>\n",
       "      <td>75</td>\n",
       "      <td>golf</td>\n",
       "      <td>150000</td>\n",
       "      <td>petrol</td>\n",
       "      <td>volkswagen</td>\n",
       "      <td>no</td>\n",
       "    </tr>\n",
       "    <tr>\n",
       "      <th>4</th>\n",
       "      <td>small</td>\n",
       "      <td>2008</td>\n",
       "      <td>manual</td>\n",
       "      <td>69</td>\n",
       "      <td>fabia</td>\n",
       "      <td>90000</td>\n",
       "      <td>gasoline</td>\n",
       "      <td>skoda</td>\n",
       "      <td>no</td>\n",
       "    </tr>\n",
       "    <tr>\n",
       "      <th>5</th>\n",
       "      <td>sedan</td>\n",
       "      <td>1995</td>\n",
       "      <td>manual</td>\n",
       "      <td>102</td>\n",
       "      <td>3er</td>\n",
       "      <td>150000</td>\n",
       "      <td>petrol</td>\n",
       "      <td>bmw</td>\n",
       "      <td>yes</td>\n",
       "    </tr>\n",
       "    <tr>\n",
       "      <th>6</th>\n",
       "      <td>convertible</td>\n",
       "      <td>2004</td>\n",
       "      <td>manual</td>\n",
       "      <td>109</td>\n",
       "      <td>2_reihe</td>\n",
       "      <td>150000</td>\n",
       "      <td>petrol</td>\n",
       "      <td>peugeot</td>\n",
       "      <td>no</td>\n",
       "    </tr>\n",
       "  </tbody>\n",
       "</table>\n",
       "</div>"
      ],
      "text/plain": [
       "   VehicleType  RegistrationYear Gearbox  Power    Model  Kilometer  FuelType  \\\n",
       "2          suv              2004    auto    163    grand     125000  gasoline   \n",
       "3        small              2001  manual     75     golf     150000    petrol   \n",
       "4        small              2008  manual     69    fabia      90000  gasoline   \n",
       "5        sedan              1995  manual    102      3er     150000    petrol   \n",
       "6  convertible              2004  manual    109  2_reihe     150000    petrol   \n",
       "\n",
       "        Brand Repaired  \n",
       "2        jeep       no  \n",
       "3  volkswagen       no  \n",
       "4       skoda       no  \n",
       "5         bmw      yes  \n",
       "6     peugeot       no  "
      ]
     },
     "execution_count": 39,
     "metadata": {},
     "output_type": "execute_result"
    }
   ],
   "source": [
    "features.head()\n"
   ]
  },
  {
   "cell_type": "code",
   "execution_count": 40,
   "metadata": {},
   "outputs": [],
   "source": [
    "features_train, features_valid_test, target_train, target_valid_test = train_test_split(\n",
    "    features, target, test_size=0.4, random_state=12345) \n",
    "# we separate 40% of the data for a \"validation-test\" sample using stratify to maintain the balance of classes"
   ]
  },
  {
   "cell_type": "code",
   "execution_count": 41,
   "metadata": {},
   "outputs": [],
   "source": [
    "features_valid, features_test, target_valid, target_test = train_test_split(\n",
    "    features_valid_test, target_valid_test, test_size=0.5, random_state=12345) \n",
    "# divide \"valid_test\" in half into \"validation\" and \"test\" samples using stratify to maintain class balance"
   ]
  },
  {
   "cell_type": "code",
   "execution_count": 42,
   "metadata": {},
   "outputs": [],
   "source": [
    "# for the sake of conciseness of the code, we keep the names of categorical features in a separate list\n",
    "text_columns = ['VehicleType', 'Gearbox', 'Model', 'FuelType', 'Brand', 'Repaired'] "
   ]
  },
  {
   "cell_type": "code",
   "execution_count": 43,
   "metadata": {},
   "outputs": [],
   "source": [
    "#we select columns with categorical features from the selection\n",
    "features_train_text = features_train[text_columns]\n",
    "features_valid_text = features_valid[text_columns]\n",
    "features_test_text  = features_test[text_columns]"
   ]
  },
  {
   "cell_type": "code",
   "execution_count": 44,
   "metadata": {},
   "outputs": [],
   "source": [
    "# Declaring the OneHotEncoder method\n",
    "\n",
    "encod = OneHotEncoder()"
   ]
  },
  {
   "cell_type": "code",
   "execution_count": 45,
   "metadata": {},
   "outputs": [
    {
     "data": {
      "text/plain": [
       "OneHotEncoder()"
      ]
     },
     "execution_count": 45,
     "metadata": {},
     "output_type": "execute_result"
    }
   ],
   "source": [
    "# We train the method on categorical columns of the training sample\n",
    "encod.fit(features_train_text)"
   ]
  },
  {
   "cell_type": "code",
   "execution_count": 46,
   "metadata": {},
   "outputs": [],
   "source": [
    "# Apply coding to categorical columns of all samples\n",
    "enc_data_train = pd.DataFrame(encod.transform(features_train_text).toarray())\n",
    "enc_data_valid = pd.DataFrame(encod.transform(features_valid_text).toarray())\n",
    "enc_data_test  = pd.DataFrame(encod.transform(features_test_text).toarray())\n",
    "\n"
   ]
  },
  {
   "cell_type": "code",
   "execution_count": 47,
   "metadata": {},
   "outputs": [],
   "source": [
    "# # Replace categorical columns with encoded columns in the initial feature samples, apply drop and join:\n",
    "features_train = features_train.drop(text_columns, axis=1)\n",
    "features_valid = features_valid.drop(text_columns, axis=1)\n",
    "features_test  = features_test.drop(text_columns, axis=1)\n",
    "\n",
    "\n",
    "features_train = features_train.join(enc_data_train)\n",
    "features_valid = features_valid.join(enc_data_valid)\n",
    "features_test  = features_test.join(enc_data_test)"
   ]
  },
  {
   "cell_type": "code",
   "execution_count": 48,
   "metadata": {},
   "outputs": [
    {
     "data": {
      "text/html": [
       "<div>\n",
       "<style scoped>\n",
       "    .dataframe tbody tr th:only-of-type {\n",
       "        vertical-align: middle;\n",
       "    }\n",
       "\n",
       "    .dataframe tbody tr th {\n",
       "        vertical-align: top;\n",
       "    }\n",
       "\n",
       "    .dataframe thead th {\n",
       "        text-align: right;\n",
       "    }\n",
       "</style>\n",
       "<table border=\"1\" class=\"dataframe\">\n",
       "  <thead>\n",
       "    <tr style=\"text-align: right;\">\n",
       "      <th></th>\n",
       "      <th>RegistrationYear</th>\n",
       "      <th>Power</th>\n",
       "      <th>Kilometer</th>\n",
       "      <th>0</th>\n",
       "      <th>1</th>\n",
       "      <th>2</th>\n",
       "      <th>3</th>\n",
       "      <th>4</th>\n",
       "      <th>5</th>\n",
       "      <th>6</th>\n",
       "      <th>...</th>\n",
       "      <th>297</th>\n",
       "      <th>298</th>\n",
       "      <th>299</th>\n",
       "      <th>300</th>\n",
       "      <th>301</th>\n",
       "      <th>302</th>\n",
       "      <th>303</th>\n",
       "      <th>304</th>\n",
       "      <th>305</th>\n",
       "      <th>306</th>\n",
       "    </tr>\n",
       "  </thead>\n",
       "  <tbody>\n",
       "    <tr>\n",
       "      <th>52129</th>\n",
       "      <td>2004</td>\n",
       "      <td>75</td>\n",
       "      <td>100000</td>\n",
       "      <td>1.0</td>\n",
       "      <td>0.0</td>\n",
       "      <td>0.0</td>\n",
       "      <td>0.0</td>\n",
       "      <td>0.0</td>\n",
       "      <td>0.0</td>\n",
       "      <td>0.0</td>\n",
       "      <td>...</td>\n",
       "      <td>0.0</td>\n",
       "      <td>0.0</td>\n",
       "      <td>0.0</td>\n",
       "      <td>0.0</td>\n",
       "      <td>0.0</td>\n",
       "      <td>0.0</td>\n",
       "      <td>0.0</td>\n",
       "      <td>0.0</td>\n",
       "      <td>1.0</td>\n",
       "      <td>0.0</td>\n",
       "    </tr>\n",
       "    <tr>\n",
       "      <th>119140</th>\n",
       "      <td>2012</td>\n",
       "      <td>122</td>\n",
       "      <td>60000</td>\n",
       "      <td>0.0</td>\n",
       "      <td>0.0</td>\n",
       "      <td>0.0</td>\n",
       "      <td>0.0</td>\n",
       "      <td>0.0</td>\n",
       "      <td>1.0</td>\n",
       "      <td>0.0</td>\n",
       "      <td>...</td>\n",
       "      <td>0.0</td>\n",
       "      <td>0.0</td>\n",
       "      <td>0.0</td>\n",
       "      <td>1.0</td>\n",
       "      <td>0.0</td>\n",
       "      <td>0.0</td>\n",
       "      <td>0.0</td>\n",
       "      <td>0.0</td>\n",
       "      <td>1.0</td>\n",
       "      <td>0.0</td>\n",
       "    </tr>\n",
       "    <tr>\n",
       "      <th>69403</th>\n",
       "      <td>1996</td>\n",
       "      <td>45</td>\n",
       "      <td>150000</td>\n",
       "      <td>0.0</td>\n",
       "      <td>1.0</td>\n",
       "      <td>0.0</td>\n",
       "      <td>0.0</td>\n",
       "      <td>0.0</td>\n",
       "      <td>0.0</td>\n",
       "      <td>0.0</td>\n",
       "      <td>...</td>\n",
       "      <td>0.0</td>\n",
       "      <td>0.0</td>\n",
       "      <td>0.0</td>\n",
       "      <td>0.0</td>\n",
       "      <td>1.0</td>\n",
       "      <td>0.0</td>\n",
       "      <td>0.0</td>\n",
       "      <td>0.0</td>\n",
       "      <td>1.0</td>\n",
       "      <td>0.0</td>\n",
       "    </tr>\n",
       "    <tr>\n",
       "      <th>107935</th>\n",
       "      <td>2010</td>\n",
       "      <td>105</td>\n",
       "      <td>125000</td>\n",
       "      <td>0.0</td>\n",
       "      <td>0.0</td>\n",
       "      <td>0.0</td>\n",
       "      <td>1.0</td>\n",
       "      <td>0.0</td>\n",
       "      <td>0.0</td>\n",
       "      <td>0.0</td>\n",
       "      <td>...</td>\n",
       "      <td>0.0</td>\n",
       "      <td>0.0</td>\n",
       "      <td>0.0</td>\n",
       "      <td>0.0</td>\n",
       "      <td>0.0</td>\n",
       "      <td>0.0</td>\n",
       "      <td>1.0</td>\n",
       "      <td>0.0</td>\n",
       "      <td>1.0</td>\n",
       "      <td>0.0</td>\n",
       "    </tr>\n",
       "    <tr>\n",
       "      <th>141712</th>\n",
       "      <td>1996</td>\n",
       "      <td>72</td>\n",
       "      <td>150000</td>\n",
       "      <td>1.0</td>\n",
       "      <td>0.0</td>\n",
       "      <td>0.0</td>\n",
       "      <td>0.0</td>\n",
       "      <td>0.0</td>\n",
       "      <td>0.0</td>\n",
       "      <td>0.0</td>\n",
       "      <td>...</td>\n",
       "      <td>0.0</td>\n",
       "      <td>0.0</td>\n",
       "      <td>0.0</td>\n",
       "      <td>0.0</td>\n",
       "      <td>0.0</td>\n",
       "      <td>0.0</td>\n",
       "      <td>1.0</td>\n",
       "      <td>0.0</td>\n",
       "      <td>1.0</td>\n",
       "      <td>0.0</td>\n",
       "    </tr>\n",
       "  </tbody>\n",
       "</table>\n",
       "<p>5 rows × 310 columns</p>\n",
       "</div>"
      ],
      "text/plain": [
       "        RegistrationYear  Power  Kilometer    0    1    2    3    4    5    6  \\\n",
       "52129               2004     75     100000  1.0  0.0  0.0  0.0  0.0  0.0  0.0   \n",
       "119140              2012    122      60000  0.0  0.0  0.0  0.0  0.0  1.0  0.0   \n",
       "69403               1996     45     150000  0.0  1.0  0.0  0.0  0.0  0.0  0.0   \n",
       "107935              2010    105     125000  0.0  0.0  0.0  1.0  0.0  0.0  0.0   \n",
       "141712              1996     72     150000  1.0  0.0  0.0  0.0  0.0  0.0  0.0   \n",
       "\n",
       "        ...  297  298  299  300  301  302  303  304  305  306  \n",
       "52129   ...  0.0  0.0  0.0  0.0  0.0  0.0  0.0  0.0  1.0  0.0  \n",
       "119140  ...  0.0  0.0  0.0  1.0  0.0  0.0  0.0  0.0  1.0  0.0  \n",
       "69403   ...  0.0  0.0  0.0  0.0  1.0  0.0  0.0  0.0  1.0  0.0  \n",
       "107935  ...  0.0  0.0  0.0  0.0  0.0  0.0  1.0  0.0  1.0  0.0  \n",
       "141712  ...  0.0  0.0  0.0  0.0  0.0  0.0  1.0  0.0  1.0  0.0  \n",
       "\n",
       "[5 rows x 310 columns]"
      ]
     },
     "execution_count": 48,
     "metadata": {},
     "output_type": "execute_result"
    }
   ],
   "source": [
    "features_train.head()"
   ]
  },
  {
   "cell_type": "code",
   "execution_count": 49,
   "metadata": {},
   "outputs": [
    {
     "data": {
      "text/html": [
       "<div>\n",
       "<style scoped>\n",
       "    .dataframe tbody tr th:only-of-type {\n",
       "        vertical-align: middle;\n",
       "    }\n",
       "\n",
       "    .dataframe tbody tr th {\n",
       "        vertical-align: top;\n",
       "    }\n",
       "\n",
       "    .dataframe thead th {\n",
       "        text-align: right;\n",
       "    }\n",
       "</style>\n",
       "<table border=\"1\" class=\"dataframe\">\n",
       "  <thead>\n",
       "    <tr style=\"text-align: right;\">\n",
       "      <th></th>\n",
       "      <th>RegistrationYear</th>\n",
       "      <th>Power</th>\n",
       "      <th>Kilometer</th>\n",
       "      <th>0</th>\n",
       "      <th>1</th>\n",
       "      <th>2</th>\n",
       "      <th>3</th>\n",
       "      <th>4</th>\n",
       "      <th>5</th>\n",
       "      <th>6</th>\n",
       "      <th>...</th>\n",
       "      <th>297</th>\n",
       "      <th>298</th>\n",
       "      <th>299</th>\n",
       "      <th>300</th>\n",
       "      <th>301</th>\n",
       "      <th>302</th>\n",
       "      <th>303</th>\n",
       "      <th>304</th>\n",
       "      <th>305</th>\n",
       "      <th>306</th>\n",
       "    </tr>\n",
       "  </thead>\n",
       "  <tbody>\n",
       "    <tr>\n",
       "      <th>151979</th>\n",
       "      <td>2003</td>\n",
       "      <td>90</td>\n",
       "      <td>150000</td>\n",
       "      <td>NaN</td>\n",
       "      <td>NaN</td>\n",
       "      <td>NaN</td>\n",
       "      <td>NaN</td>\n",
       "      <td>NaN</td>\n",
       "      <td>NaN</td>\n",
       "      <td>NaN</td>\n",
       "      <td>...</td>\n",
       "      <td>NaN</td>\n",
       "      <td>NaN</td>\n",
       "      <td>NaN</td>\n",
       "      <td>NaN</td>\n",
       "      <td>NaN</td>\n",
       "      <td>NaN</td>\n",
       "      <td>NaN</td>\n",
       "      <td>NaN</td>\n",
       "      <td>NaN</td>\n",
       "      <td>NaN</td>\n",
       "    </tr>\n",
       "    <tr>\n",
       "      <th>347864</th>\n",
       "      <td>2000</td>\n",
       "      <td>279</td>\n",
       "      <td>150000</td>\n",
       "      <td>NaN</td>\n",
       "      <td>NaN</td>\n",
       "      <td>NaN</td>\n",
       "      <td>NaN</td>\n",
       "      <td>NaN</td>\n",
       "      <td>NaN</td>\n",
       "      <td>NaN</td>\n",
       "      <td>...</td>\n",
       "      <td>NaN</td>\n",
       "      <td>NaN</td>\n",
       "      <td>NaN</td>\n",
       "      <td>NaN</td>\n",
       "      <td>NaN</td>\n",
       "      <td>NaN</td>\n",
       "      <td>NaN</td>\n",
       "      <td>NaN</td>\n",
       "      <td>NaN</td>\n",
       "      <td>NaN</td>\n",
       "    </tr>\n",
       "    <tr>\n",
       "      <th>165143</th>\n",
       "      <td>1997</td>\n",
       "      <td>54</td>\n",
       "      <td>150000</td>\n",
       "      <td>NaN</td>\n",
       "      <td>NaN</td>\n",
       "      <td>NaN</td>\n",
       "      <td>NaN</td>\n",
       "      <td>NaN</td>\n",
       "      <td>NaN</td>\n",
       "      <td>NaN</td>\n",
       "      <td>...</td>\n",
       "      <td>NaN</td>\n",
       "      <td>NaN</td>\n",
       "      <td>NaN</td>\n",
       "      <td>NaN</td>\n",
       "      <td>NaN</td>\n",
       "      <td>NaN</td>\n",
       "      <td>NaN</td>\n",
       "      <td>NaN</td>\n",
       "      <td>NaN</td>\n",
       "      <td>NaN</td>\n",
       "    </tr>\n",
       "    <tr>\n",
       "      <th>1607</th>\n",
       "      <td>2000</td>\n",
       "      <td>115</td>\n",
       "      <td>125000</td>\n",
       "      <td>0.0</td>\n",
       "      <td>0.0</td>\n",
       "      <td>0.0</td>\n",
       "      <td>0.0</td>\n",
       "      <td>1.0</td>\n",
       "      <td>0.0</td>\n",
       "      <td>0.0</td>\n",
       "      <td>...</td>\n",
       "      <td>0.0</td>\n",
       "      <td>0.0</td>\n",
       "      <td>0.0</td>\n",
       "      <td>0.0</td>\n",
       "      <td>0.0</td>\n",
       "      <td>0.0</td>\n",
       "      <td>0.0</td>\n",
       "      <td>0.0</td>\n",
       "      <td>1.0</td>\n",
       "      <td>0.0</td>\n",
       "    </tr>\n",
       "    <tr>\n",
       "      <th>173638</th>\n",
       "      <td>1995</td>\n",
       "      <td>60</td>\n",
       "      <td>90000</td>\n",
       "      <td>NaN</td>\n",
       "      <td>NaN</td>\n",
       "      <td>NaN</td>\n",
       "      <td>NaN</td>\n",
       "      <td>NaN</td>\n",
       "      <td>NaN</td>\n",
       "      <td>NaN</td>\n",
       "      <td>...</td>\n",
       "      <td>NaN</td>\n",
       "      <td>NaN</td>\n",
       "      <td>NaN</td>\n",
       "      <td>NaN</td>\n",
       "      <td>NaN</td>\n",
       "      <td>NaN</td>\n",
       "      <td>NaN</td>\n",
       "      <td>NaN</td>\n",
       "      <td>NaN</td>\n",
       "      <td>NaN</td>\n",
       "    </tr>\n",
       "  </tbody>\n",
       "</table>\n",
       "<p>5 rows × 310 columns</p>\n",
       "</div>"
      ],
      "text/plain": [
       "        RegistrationYear  Power  Kilometer    0    1    2    3    4    5    6  \\\n",
       "151979              2003     90     150000  NaN  NaN  NaN  NaN  NaN  NaN  NaN   \n",
       "347864              2000    279     150000  NaN  NaN  NaN  NaN  NaN  NaN  NaN   \n",
       "165143              1997     54     150000  NaN  NaN  NaN  NaN  NaN  NaN  NaN   \n",
       "1607                2000    115     125000  0.0  0.0  0.0  0.0  1.0  0.0  0.0   \n",
       "173638              1995     60      90000  NaN  NaN  NaN  NaN  NaN  NaN  NaN   \n",
       "\n",
       "        ...  297  298  299  300  301  302  303  304  305  306  \n",
       "151979  ...  NaN  NaN  NaN  NaN  NaN  NaN  NaN  NaN  NaN  NaN  \n",
       "347864  ...  NaN  NaN  NaN  NaN  NaN  NaN  NaN  NaN  NaN  NaN  \n",
       "165143  ...  NaN  NaN  NaN  NaN  NaN  NaN  NaN  NaN  NaN  NaN  \n",
       "1607    ...  0.0  0.0  0.0  0.0  0.0  0.0  0.0  0.0  1.0  0.0  \n",
       "173638  ...  NaN  NaN  NaN  NaN  NaN  NaN  NaN  NaN  NaN  NaN  \n",
       "\n",
       "[5 rows x 310 columns]"
      ]
     },
     "execution_count": 49,
     "metadata": {},
     "output_type": "execute_result"
    }
   ],
   "source": [
    "features_valid.head()"
   ]
  },
  {
   "cell_type": "code",
   "execution_count": 50,
   "metadata": {},
   "outputs": [
    {
     "data": {
      "text/html": [
       "<div>\n",
       "<style scoped>\n",
       "    .dataframe tbody tr th:only-of-type {\n",
       "        vertical-align: middle;\n",
       "    }\n",
       "\n",
       "    .dataframe tbody tr th {\n",
       "        vertical-align: top;\n",
       "    }\n",
       "\n",
       "    .dataframe thead th {\n",
       "        text-align: right;\n",
       "    }\n",
       "</style>\n",
       "<table border=\"1\" class=\"dataframe\">\n",
       "  <thead>\n",
       "    <tr style=\"text-align: right;\">\n",
       "      <th></th>\n",
       "      <th>RegistrationYear</th>\n",
       "      <th>Power</th>\n",
       "      <th>Kilometer</th>\n",
       "      <th>0</th>\n",
       "      <th>1</th>\n",
       "      <th>2</th>\n",
       "      <th>3</th>\n",
       "      <th>4</th>\n",
       "      <th>5</th>\n",
       "      <th>6</th>\n",
       "      <th>...</th>\n",
       "      <th>297</th>\n",
       "      <th>298</th>\n",
       "      <th>299</th>\n",
       "      <th>300</th>\n",
       "      <th>301</th>\n",
       "      <th>302</th>\n",
       "      <th>303</th>\n",
       "      <th>304</th>\n",
       "      <th>305</th>\n",
       "      <th>306</th>\n",
       "    </tr>\n",
       "  </thead>\n",
       "  <tbody>\n",
       "    <tr>\n",
       "      <th>89785</th>\n",
       "      <td>2008</td>\n",
       "      <td>177</td>\n",
       "      <td>150000</td>\n",
       "      <td>NaN</td>\n",
       "      <td>NaN</td>\n",
       "      <td>NaN</td>\n",
       "      <td>NaN</td>\n",
       "      <td>NaN</td>\n",
       "      <td>NaN</td>\n",
       "      <td>NaN</td>\n",
       "      <td>...</td>\n",
       "      <td>NaN</td>\n",
       "      <td>NaN</td>\n",
       "      <td>NaN</td>\n",
       "      <td>NaN</td>\n",
       "      <td>NaN</td>\n",
       "      <td>NaN</td>\n",
       "      <td>NaN</td>\n",
       "      <td>NaN</td>\n",
       "      <td>NaN</td>\n",
       "      <td>NaN</td>\n",
       "    </tr>\n",
       "    <tr>\n",
       "      <th>179608</th>\n",
       "      <td>1996</td>\n",
       "      <td>45</td>\n",
       "      <td>150000</td>\n",
       "      <td>NaN</td>\n",
       "      <td>NaN</td>\n",
       "      <td>NaN</td>\n",
       "      <td>NaN</td>\n",
       "      <td>NaN</td>\n",
       "      <td>NaN</td>\n",
       "      <td>NaN</td>\n",
       "      <td>...</td>\n",
       "      <td>NaN</td>\n",
       "      <td>NaN</td>\n",
       "      <td>NaN</td>\n",
       "      <td>NaN</td>\n",
       "      <td>NaN</td>\n",
       "      <td>NaN</td>\n",
       "      <td>NaN</td>\n",
       "      <td>NaN</td>\n",
       "      <td>NaN</td>\n",
       "      <td>NaN</td>\n",
       "    </tr>\n",
       "    <tr>\n",
       "      <th>272970</th>\n",
       "      <td>2005</td>\n",
       "      <td>68</td>\n",
       "      <td>150000</td>\n",
       "      <td>NaN</td>\n",
       "      <td>NaN</td>\n",
       "      <td>NaN</td>\n",
       "      <td>NaN</td>\n",
       "      <td>NaN</td>\n",
       "      <td>NaN</td>\n",
       "      <td>NaN</td>\n",
       "      <td>...</td>\n",
       "      <td>NaN</td>\n",
       "      <td>NaN</td>\n",
       "      <td>NaN</td>\n",
       "      <td>NaN</td>\n",
       "      <td>NaN</td>\n",
       "      <td>NaN</td>\n",
       "      <td>NaN</td>\n",
       "      <td>NaN</td>\n",
       "      <td>NaN</td>\n",
       "      <td>NaN</td>\n",
       "    </tr>\n",
       "    <tr>\n",
       "      <th>139120</th>\n",
       "      <td>2005</td>\n",
       "      <td>116</td>\n",
       "      <td>150000</td>\n",
       "      <td>NaN</td>\n",
       "      <td>NaN</td>\n",
       "      <td>NaN</td>\n",
       "      <td>NaN</td>\n",
       "      <td>NaN</td>\n",
       "      <td>NaN</td>\n",
       "      <td>NaN</td>\n",
       "      <td>...</td>\n",
       "      <td>NaN</td>\n",
       "      <td>NaN</td>\n",
       "      <td>NaN</td>\n",
       "      <td>NaN</td>\n",
       "      <td>NaN</td>\n",
       "      <td>NaN</td>\n",
       "      <td>NaN</td>\n",
       "      <td>NaN</td>\n",
       "      <td>NaN</td>\n",
       "      <td>NaN</td>\n",
       "    </tr>\n",
       "    <tr>\n",
       "      <th>254017</th>\n",
       "      <td>2005</td>\n",
       "      <td>140</td>\n",
       "      <td>150000</td>\n",
       "      <td>NaN</td>\n",
       "      <td>NaN</td>\n",
       "      <td>NaN</td>\n",
       "      <td>NaN</td>\n",
       "      <td>NaN</td>\n",
       "      <td>NaN</td>\n",
       "      <td>NaN</td>\n",
       "      <td>...</td>\n",
       "      <td>NaN</td>\n",
       "      <td>NaN</td>\n",
       "      <td>NaN</td>\n",
       "      <td>NaN</td>\n",
       "      <td>NaN</td>\n",
       "      <td>NaN</td>\n",
       "      <td>NaN</td>\n",
       "      <td>NaN</td>\n",
       "      <td>NaN</td>\n",
       "      <td>NaN</td>\n",
       "    </tr>\n",
       "  </tbody>\n",
       "</table>\n",
       "<p>5 rows × 310 columns</p>\n",
       "</div>"
      ],
      "text/plain": [
       "        RegistrationYear  Power  Kilometer   0   1   2   3   4   5   6  ...  \\\n",
       "89785               2008    177     150000 NaN NaN NaN NaN NaN NaN NaN  ...   \n",
       "179608              1996     45     150000 NaN NaN NaN NaN NaN NaN NaN  ...   \n",
       "272970              2005     68     150000 NaN NaN NaN NaN NaN NaN NaN  ...   \n",
       "139120              2005    116     150000 NaN NaN NaN NaN NaN NaN NaN  ...   \n",
       "254017              2005    140     150000 NaN NaN NaN NaN NaN NaN NaN  ...   \n",
       "\n",
       "        297  298  299  300  301  302  303  304  305  306  \n",
       "89785   NaN  NaN  NaN  NaN  NaN  NaN  NaN  NaN  NaN  NaN  \n",
       "179608  NaN  NaN  NaN  NaN  NaN  NaN  NaN  NaN  NaN  NaN  \n",
       "272970  NaN  NaN  NaN  NaN  NaN  NaN  NaN  NaN  NaN  NaN  \n",
       "139120  NaN  NaN  NaN  NaN  NaN  NaN  NaN  NaN  NaN  NaN  \n",
       "254017  NaN  NaN  NaN  NaN  NaN  NaN  NaN  NaN  NaN  NaN  \n",
       "\n",
       "[5 rows x 310 columns]"
      ]
     },
     "execution_count": 50,
     "metadata": {},
     "output_type": "execute_result"
    }
   ],
   "source": [
    "features_test.head()"
   ]
  },
  {
   "cell_type": "code",
   "execution_count": 51,
   "metadata": {},
   "outputs": [
    {
     "data": {
      "text/html": [
       "<div>\n",
       "<style scoped>\n",
       "    .dataframe tbody tr th:only-of-type {\n",
       "        vertical-align: middle;\n",
       "    }\n",
       "\n",
       "    .dataframe tbody tr th {\n",
       "        vertical-align: top;\n",
       "    }\n",
       "\n",
       "    .dataframe thead th {\n",
       "        text-align: right;\n",
       "    }\n",
       "</style>\n",
       "<table border=\"1\" class=\"dataframe\">\n",
       "  <thead>\n",
       "    <tr style=\"text-align: right;\">\n",
       "      <th></th>\n",
       "      <th>RegistrationYear</th>\n",
       "      <th>Power</th>\n",
       "      <th>Kilometer</th>\n",
       "      <th>0</th>\n",
       "      <th>1</th>\n",
       "      <th>2</th>\n",
       "      <th>3</th>\n",
       "      <th>4</th>\n",
       "      <th>5</th>\n",
       "      <th>6</th>\n",
       "      <th>...</th>\n",
       "      <th>297</th>\n",
       "      <th>298</th>\n",
       "      <th>299</th>\n",
       "      <th>300</th>\n",
       "      <th>301</th>\n",
       "      <th>302</th>\n",
       "      <th>303</th>\n",
       "      <th>304</th>\n",
       "      <th>305</th>\n",
       "      <th>306</th>\n",
       "    </tr>\n",
       "  </thead>\n",
       "  <tbody>\n",
       "    <tr>\n",
       "      <th>89785</th>\n",
       "      <td>2008</td>\n",
       "      <td>177</td>\n",
       "      <td>150000</td>\n",
       "      <td>NaN</td>\n",
       "      <td>NaN</td>\n",
       "      <td>NaN</td>\n",
       "      <td>NaN</td>\n",
       "      <td>NaN</td>\n",
       "      <td>NaN</td>\n",
       "      <td>NaN</td>\n",
       "      <td>...</td>\n",
       "      <td>NaN</td>\n",
       "      <td>NaN</td>\n",
       "      <td>NaN</td>\n",
       "      <td>NaN</td>\n",
       "      <td>NaN</td>\n",
       "      <td>NaN</td>\n",
       "      <td>NaN</td>\n",
       "      <td>NaN</td>\n",
       "      <td>NaN</td>\n",
       "      <td>NaN</td>\n",
       "    </tr>\n",
       "    <tr>\n",
       "      <th>179608</th>\n",
       "      <td>1996</td>\n",
       "      <td>45</td>\n",
       "      <td>150000</td>\n",
       "      <td>NaN</td>\n",
       "      <td>NaN</td>\n",
       "      <td>NaN</td>\n",
       "      <td>NaN</td>\n",
       "      <td>NaN</td>\n",
       "      <td>NaN</td>\n",
       "      <td>NaN</td>\n",
       "      <td>...</td>\n",
       "      <td>NaN</td>\n",
       "      <td>NaN</td>\n",
       "      <td>NaN</td>\n",
       "      <td>NaN</td>\n",
       "      <td>NaN</td>\n",
       "      <td>NaN</td>\n",
       "      <td>NaN</td>\n",
       "      <td>NaN</td>\n",
       "      <td>NaN</td>\n",
       "      <td>NaN</td>\n",
       "    </tr>\n",
       "    <tr>\n",
       "      <th>272970</th>\n",
       "      <td>2005</td>\n",
       "      <td>68</td>\n",
       "      <td>150000</td>\n",
       "      <td>NaN</td>\n",
       "      <td>NaN</td>\n",
       "      <td>NaN</td>\n",
       "      <td>NaN</td>\n",
       "      <td>NaN</td>\n",
       "      <td>NaN</td>\n",
       "      <td>NaN</td>\n",
       "      <td>...</td>\n",
       "      <td>NaN</td>\n",
       "      <td>NaN</td>\n",
       "      <td>NaN</td>\n",
       "      <td>NaN</td>\n",
       "      <td>NaN</td>\n",
       "      <td>NaN</td>\n",
       "      <td>NaN</td>\n",
       "      <td>NaN</td>\n",
       "      <td>NaN</td>\n",
       "      <td>NaN</td>\n",
       "    </tr>\n",
       "    <tr>\n",
       "      <th>139120</th>\n",
       "      <td>2005</td>\n",
       "      <td>116</td>\n",
       "      <td>150000</td>\n",
       "      <td>NaN</td>\n",
       "      <td>NaN</td>\n",
       "      <td>NaN</td>\n",
       "      <td>NaN</td>\n",
       "      <td>NaN</td>\n",
       "      <td>NaN</td>\n",
       "      <td>NaN</td>\n",
       "      <td>...</td>\n",
       "      <td>NaN</td>\n",
       "      <td>NaN</td>\n",
       "      <td>NaN</td>\n",
       "      <td>NaN</td>\n",
       "      <td>NaN</td>\n",
       "      <td>NaN</td>\n",
       "      <td>NaN</td>\n",
       "      <td>NaN</td>\n",
       "      <td>NaN</td>\n",
       "      <td>NaN</td>\n",
       "    </tr>\n",
       "    <tr>\n",
       "      <th>254017</th>\n",
       "      <td>2005</td>\n",
       "      <td>140</td>\n",
       "      <td>150000</td>\n",
       "      <td>NaN</td>\n",
       "      <td>NaN</td>\n",
       "      <td>NaN</td>\n",
       "      <td>NaN</td>\n",
       "      <td>NaN</td>\n",
       "      <td>NaN</td>\n",
       "      <td>NaN</td>\n",
       "      <td>...</td>\n",
       "      <td>NaN</td>\n",
       "      <td>NaN</td>\n",
       "      <td>NaN</td>\n",
       "      <td>NaN</td>\n",
       "      <td>NaN</td>\n",
       "      <td>NaN</td>\n",
       "      <td>NaN</td>\n",
       "      <td>NaN</td>\n",
       "      <td>NaN</td>\n",
       "      <td>NaN</td>\n",
       "    </tr>\n",
       "  </tbody>\n",
       "</table>\n",
       "<p>5 rows × 310 columns</p>\n",
       "</div>"
      ],
      "text/plain": [
       "        RegistrationYear  Power  Kilometer   0   1   2   3   4   5   6  ...  \\\n",
       "89785               2008    177     150000 NaN NaN NaN NaN NaN NaN NaN  ...   \n",
       "179608              1996     45     150000 NaN NaN NaN NaN NaN NaN NaN  ...   \n",
       "272970              2005     68     150000 NaN NaN NaN NaN NaN NaN NaN  ...   \n",
       "139120              2005    116     150000 NaN NaN NaN NaN NaN NaN NaN  ...   \n",
       "254017              2005    140     150000 NaN NaN NaN NaN NaN NaN NaN  ...   \n",
       "\n",
       "        297  298  299  300  301  302  303  304  305  306  \n",
       "89785   NaN  NaN  NaN  NaN  NaN  NaN  NaN  NaN  NaN  NaN  \n",
       "179608  NaN  NaN  NaN  NaN  NaN  NaN  NaN  NaN  NaN  NaN  \n",
       "272970  NaN  NaN  NaN  NaN  NaN  NaN  NaN  NaN  NaN  NaN  \n",
       "139120  NaN  NaN  NaN  NaN  NaN  NaN  NaN  NaN  NaN  NaN  \n",
       "254017  NaN  NaN  NaN  NaN  NaN  NaN  NaN  NaN  NaN  NaN  \n",
       "\n",
       "[5 rows x 310 columns]"
      ]
     },
     "execution_count": 51,
     "metadata": {},
     "output_type": "execute_result"
    }
   ],
   "source": [
    "features_test.head()"
   ]
  },
  {
   "cell_type": "code",
   "execution_count": 52,
   "metadata": {},
   "outputs": [],
   "source": [
    "# For correct training of models, fill in NaN with zeros:\n",
    "features_train = features_train.fillna(0)\n",
    "features_valid = features_valid.fillna(0)\n",
    "features_test = features_test.fillna(0)"
   ]
  },
  {
   "cell_type": "code",
   "execution_count": 53,
   "metadata": {},
   "outputs": [],
   "source": [
    "# Define missing columns in features_test\n",
    "missing_cols = set( features_train.columns ) - set( features_test.columns )\n",
    "\n",
    "# Add missing columns to features_test and fill them with zeros\n",
    "for c in missing_cols:\n",
    "    features_test[c] = 0\n",
    "    \n",
    "# Make sure that the column order in features_test is the same as in the training sample\n",
    "features_test = features_test[features_train.columns]\n",
    "\n",
    "\n",
    "\n",
    "# Define missing columns in features_valid\n",
    "missing_cols = set( features_train.columns ) - set( features_valid.columns )\n",
    "\n",
    "# Add the missing columns to features_valid and fill them with zeros\n",
    "for c in missing_cols:\n",
    "    features_valid[c] = 0\n",
    "    \n",
    "# Make sure that the column order in features_valid is the same as in the training sample\n",
    "features_valid = features_valid[features_train.columns]\n",
    "\n"
   ]
  },
  {
   "cell_type": "code",
   "execution_count": 54,
   "metadata": {
    "collapsed": true
   },
   "outputs": [
    {
     "ename": "MemoryError",
     "evalue": "Unable to allocate 354. MiB for an array with shape (310, 149655) and data type float64",
     "output_type": "error",
     "traceback": [
      "\u001b[1;31m---------------------------------------------------------------------------\u001b[0m",
      "\u001b[1;31mMemoryError\u001b[0m                               Traceback (most recent call last)",
      "\u001b[1;32m<ipython-input-54-747b06f19b64>\u001b[0m in \u001b[0;36m<module>\u001b[1;34m\u001b[0m\n\u001b[0;32m      5\u001b[0m \u001b[0mscaler\u001b[0m \u001b[1;33m=\u001b[0m \u001b[0mStandardScaler\u001b[0m\u001b[1;33m(\u001b[0m\u001b[1;33m)\u001b[0m \u001b[1;31m# объявляем метод\u001b[0m\u001b[1;33m\u001b[0m\u001b[1;33m\u001b[0m\u001b[0m\n\u001b[0;32m      6\u001b[0m \u001b[1;33m\u001b[0m\u001b[0m\n\u001b[1;32m----> 7\u001b[1;33m \u001b[0mscaler\u001b[0m\u001b[1;33m.\u001b[0m\u001b[0mfit\u001b[0m\u001b[1;33m(\u001b[0m\u001b[0mfeatures_train\u001b[0m\u001b[1;33m.\u001b[0m\u001b[0mastype\u001b[0m\u001b[1;33m(\u001b[0m\u001b[0mfloat\u001b[0m\u001b[1;33m)\u001b[0m\u001b[1;33m)\u001b[0m \u001b[1;31m# Обучаем метод только на обучающей выборке\u001b[0m\u001b[1;33m\u001b[0m\u001b[1;33m\u001b[0m\u001b[0m\n\u001b[0m\u001b[0;32m      8\u001b[0m \u001b[0mfeatures_train\u001b[0m \u001b[1;33m=\u001b[0m \u001b[0mpd\u001b[0m\u001b[1;33m.\u001b[0m\u001b[0mDataFrame\u001b[0m\u001b[1;33m(\u001b[0m\u001b[0mscaler\u001b[0m\u001b[1;33m.\u001b[0m\u001b[0mtransform\u001b[0m\u001b[1;33m(\u001b[0m\u001b[0mfeatures_train\u001b[0m\u001b[1;33m)\u001b[0m\u001b[1;33m,\u001b[0m \u001b[0mcolumns\u001b[0m\u001b[1;33m=\u001b[0m\u001b[0mfeatures_train\u001b[0m\u001b[1;33m.\u001b[0m\u001b[0mcolumns\u001b[0m\u001b[1;33m)\u001b[0m \u001b[1;31m# Преобразуем данные и сохраняем в новой переменной в структуре DataFrame()\u001b[0m\u001b[1;33m\u001b[0m\u001b[1;33m\u001b[0m\u001b[0m\n\u001b[0;32m      9\u001b[0m \u001b[0mfeatures_valid\u001b[0m \u001b[1;33m=\u001b[0m \u001b[0mpd\u001b[0m\u001b[1;33m.\u001b[0m\u001b[0mDataFrame\u001b[0m\u001b[1;33m(\u001b[0m\u001b[0mscaler\u001b[0m\u001b[1;33m.\u001b[0m\u001b[0mtransform\u001b[0m\u001b[1;33m(\u001b[0m\u001b[0mfeatures_valid\u001b[0m\u001b[1;33m)\u001b[0m\u001b[1;33m,\u001b[0m \u001b[0mcolumns\u001b[0m\u001b[1;33m=\u001b[0m\u001b[0mfeatures_valid\u001b[0m\u001b[1;33m.\u001b[0m\u001b[0mcolumns\u001b[0m\u001b[1;33m)\u001b[0m \u001b[1;31m# Преобразуем данные и сохраняем в новой переменной в структуре DataFrame()\u001b[0m\u001b[1;33m\u001b[0m\u001b[1;33m\u001b[0m\u001b[0m\n",
      "\u001b[1;32mC:\\ProgramData\\Anaconda32\\lib\\site-packages\\pandas\\core\\generic.py\u001b[0m in \u001b[0;36mastype\u001b[1;34m(self, dtype, copy, errors, **kwargs)\u001b[0m\n\u001b[0;32m   5689\u001b[0m             \u001b[1;31m# else, only a single dtype is given\u001b[0m\u001b[1;33m\u001b[0m\u001b[1;33m\u001b[0m\u001b[1;33m\u001b[0m\u001b[0m\n\u001b[0;32m   5690\u001b[0m             new_data = self._data.astype(dtype=dtype, copy=copy, errors=errors,\n\u001b[1;32m-> 5691\u001b[1;33m                                          **kwargs)\n\u001b[0m\u001b[0;32m   5692\u001b[0m             \u001b[1;32mreturn\u001b[0m \u001b[0mself\u001b[0m\u001b[1;33m.\u001b[0m\u001b[0m_constructor\u001b[0m\u001b[1;33m(\u001b[0m\u001b[0mnew_data\u001b[0m\u001b[1;33m)\u001b[0m\u001b[1;33m.\u001b[0m\u001b[0m__finalize__\u001b[0m\u001b[1;33m(\u001b[0m\u001b[0mself\u001b[0m\u001b[1;33m)\u001b[0m\u001b[1;33m\u001b[0m\u001b[1;33m\u001b[0m\u001b[0m\n\u001b[0;32m   5693\u001b[0m \u001b[1;33m\u001b[0m\u001b[0m\n",
      "\u001b[1;32mC:\\ProgramData\\Anaconda32\\lib\\site-packages\\pandas\\core\\internals\\managers.py\u001b[0m in \u001b[0;36mastype\u001b[1;34m(self, dtype, **kwargs)\u001b[0m\n\u001b[0;32m    529\u001b[0m \u001b[1;33m\u001b[0m\u001b[0m\n\u001b[0;32m    530\u001b[0m     \u001b[1;32mdef\u001b[0m \u001b[0mastype\u001b[0m\u001b[1;33m(\u001b[0m\u001b[0mself\u001b[0m\u001b[1;33m,\u001b[0m \u001b[0mdtype\u001b[0m\u001b[1;33m,\u001b[0m \u001b[1;33m**\u001b[0m\u001b[0mkwargs\u001b[0m\u001b[1;33m)\u001b[0m\u001b[1;33m:\u001b[0m\u001b[1;33m\u001b[0m\u001b[1;33m\u001b[0m\u001b[0m\n\u001b[1;32m--> 531\u001b[1;33m         \u001b[1;32mreturn\u001b[0m \u001b[0mself\u001b[0m\u001b[1;33m.\u001b[0m\u001b[0mapply\u001b[0m\u001b[1;33m(\u001b[0m\u001b[1;34m'astype'\u001b[0m\u001b[1;33m,\u001b[0m \u001b[0mdtype\u001b[0m\u001b[1;33m=\u001b[0m\u001b[0mdtype\u001b[0m\u001b[1;33m,\u001b[0m \u001b[1;33m**\u001b[0m\u001b[0mkwargs\u001b[0m\u001b[1;33m)\u001b[0m\u001b[1;33m\u001b[0m\u001b[1;33m\u001b[0m\u001b[0m\n\u001b[0m\u001b[0;32m    532\u001b[0m \u001b[1;33m\u001b[0m\u001b[0m\n\u001b[0;32m    533\u001b[0m     \u001b[1;32mdef\u001b[0m \u001b[0mconvert\u001b[0m\u001b[1;33m(\u001b[0m\u001b[0mself\u001b[0m\u001b[1;33m,\u001b[0m \u001b[1;33m**\u001b[0m\u001b[0mkwargs\u001b[0m\u001b[1;33m)\u001b[0m\u001b[1;33m:\u001b[0m\u001b[1;33m\u001b[0m\u001b[1;33m\u001b[0m\u001b[0m\n",
      "\u001b[1;32mC:\\ProgramData\\Anaconda32\\lib\\site-packages\\pandas\\core\\internals\\managers.py\u001b[0m in \u001b[0;36mapply\u001b[1;34m(self, f, axes, filter, do_integrity_check, consolidate, **kwargs)\u001b[0m\n\u001b[0;32m    400\u001b[0m         bm = self.__class__(result_blocks, axes or self.axes,\n\u001b[0;32m    401\u001b[0m                             do_integrity_check=do_integrity_check)\n\u001b[1;32m--> 402\u001b[1;33m         \u001b[0mbm\u001b[0m\u001b[1;33m.\u001b[0m\u001b[0m_consolidate_inplace\u001b[0m\u001b[1;33m(\u001b[0m\u001b[1;33m)\u001b[0m\u001b[1;33m\u001b[0m\u001b[1;33m\u001b[0m\u001b[0m\n\u001b[0m\u001b[0;32m    403\u001b[0m         \u001b[1;32mreturn\u001b[0m \u001b[0mbm\u001b[0m\u001b[1;33m\u001b[0m\u001b[1;33m\u001b[0m\u001b[0m\n\u001b[0;32m    404\u001b[0m \u001b[1;33m\u001b[0m\u001b[0m\n",
      "\u001b[1;32mC:\\ProgramData\\Anaconda32\\lib\\site-packages\\pandas\\core\\internals\\managers.py\u001b[0m in \u001b[0;36m_consolidate_inplace\u001b[1;34m(self)\u001b[0m\n\u001b[0;32m    927\u001b[0m     \u001b[1;32mdef\u001b[0m \u001b[0m_consolidate_inplace\u001b[0m\u001b[1;33m(\u001b[0m\u001b[0mself\u001b[0m\u001b[1;33m)\u001b[0m\u001b[1;33m:\u001b[0m\u001b[1;33m\u001b[0m\u001b[1;33m\u001b[0m\u001b[0m\n\u001b[0;32m    928\u001b[0m         \u001b[1;32mif\u001b[0m \u001b[1;32mnot\u001b[0m \u001b[0mself\u001b[0m\u001b[1;33m.\u001b[0m\u001b[0mis_consolidated\u001b[0m\u001b[1;33m(\u001b[0m\u001b[1;33m)\u001b[0m\u001b[1;33m:\u001b[0m\u001b[1;33m\u001b[0m\u001b[1;33m\u001b[0m\u001b[0m\n\u001b[1;32m--> 929\u001b[1;33m             \u001b[0mself\u001b[0m\u001b[1;33m.\u001b[0m\u001b[0mblocks\u001b[0m \u001b[1;33m=\u001b[0m \u001b[0mtuple\u001b[0m\u001b[1;33m(\u001b[0m\u001b[0m_consolidate\u001b[0m\u001b[1;33m(\u001b[0m\u001b[0mself\u001b[0m\u001b[1;33m.\u001b[0m\u001b[0mblocks\u001b[0m\u001b[1;33m)\u001b[0m\u001b[1;33m)\u001b[0m\u001b[1;33m\u001b[0m\u001b[1;33m\u001b[0m\u001b[0m\n\u001b[0m\u001b[0;32m    930\u001b[0m             \u001b[0mself\u001b[0m\u001b[1;33m.\u001b[0m\u001b[0m_is_consolidated\u001b[0m \u001b[1;33m=\u001b[0m \u001b[1;32mTrue\u001b[0m\u001b[1;33m\u001b[0m\u001b[1;33m\u001b[0m\u001b[0m\n\u001b[0;32m    931\u001b[0m             \u001b[0mself\u001b[0m\u001b[1;33m.\u001b[0m\u001b[0m_known_consolidated\u001b[0m \u001b[1;33m=\u001b[0m \u001b[1;32mTrue\u001b[0m\u001b[1;33m\u001b[0m\u001b[1;33m\u001b[0m\u001b[0m\n",
      "\u001b[1;32mC:\\ProgramData\\Anaconda32\\lib\\site-packages\\pandas\\core\\internals\\managers.py\u001b[0m in \u001b[0;36m_consolidate\u001b[1;34m(blocks)\u001b[0m\n\u001b[0;32m   1897\u001b[0m     \u001b[1;32mfor\u001b[0m \u001b[1;33m(\u001b[0m\u001b[0m_can_consolidate\u001b[0m\u001b[1;33m,\u001b[0m \u001b[0mdtype\u001b[0m\u001b[1;33m)\u001b[0m\u001b[1;33m,\u001b[0m \u001b[0mgroup_blocks\u001b[0m \u001b[1;32min\u001b[0m \u001b[0mgrouper\u001b[0m\u001b[1;33m:\u001b[0m\u001b[1;33m\u001b[0m\u001b[1;33m\u001b[0m\u001b[0m\n\u001b[0;32m   1898\u001b[0m         merged_blocks = _merge_blocks(list(group_blocks), dtype=dtype,\n\u001b[1;32m-> 1899\u001b[1;33m                                       _can_consolidate=_can_consolidate)\n\u001b[0m\u001b[0;32m   1900\u001b[0m         \u001b[0mnew_blocks\u001b[0m \u001b[1;33m=\u001b[0m \u001b[0m_extend_blocks\u001b[0m\u001b[1;33m(\u001b[0m\u001b[0mmerged_blocks\u001b[0m\u001b[1;33m,\u001b[0m \u001b[0mnew_blocks\u001b[0m\u001b[1;33m)\u001b[0m\u001b[1;33m\u001b[0m\u001b[1;33m\u001b[0m\u001b[0m\n\u001b[0;32m   1901\u001b[0m     \u001b[1;32mreturn\u001b[0m \u001b[0mnew_blocks\u001b[0m\u001b[1;33m\u001b[0m\u001b[1;33m\u001b[0m\u001b[0m\n",
      "\u001b[1;32mC:\\ProgramData\\Anaconda32\\lib\\site-packages\\pandas\\core\\internals\\blocks.py\u001b[0m in \u001b[0;36m_merge_blocks\u001b[1;34m(blocks, dtype, _can_consolidate)\u001b[0m\n\u001b[0;32m   3147\u001b[0m \u001b[1;33m\u001b[0m\u001b[0m\n\u001b[0;32m   3148\u001b[0m         \u001b[0margsort\u001b[0m \u001b[1;33m=\u001b[0m \u001b[0mnp\u001b[0m\u001b[1;33m.\u001b[0m\u001b[0margsort\u001b[0m\u001b[1;33m(\u001b[0m\u001b[0mnew_mgr_locs\u001b[0m\u001b[1;33m)\u001b[0m\u001b[1;33m\u001b[0m\u001b[1;33m\u001b[0m\u001b[0m\n\u001b[1;32m-> 3149\u001b[1;33m         \u001b[0mnew_values\u001b[0m \u001b[1;33m=\u001b[0m \u001b[0mnew_values\u001b[0m\u001b[1;33m[\u001b[0m\u001b[0margsort\u001b[0m\u001b[1;33m]\u001b[0m\u001b[1;33m\u001b[0m\u001b[1;33m\u001b[0m\u001b[0m\n\u001b[0m\u001b[0;32m   3150\u001b[0m         \u001b[0mnew_mgr_locs\u001b[0m \u001b[1;33m=\u001b[0m \u001b[0mnew_mgr_locs\u001b[0m\u001b[1;33m[\u001b[0m\u001b[0margsort\u001b[0m\u001b[1;33m]\u001b[0m\u001b[1;33m\u001b[0m\u001b[1;33m\u001b[0m\u001b[0m\n\u001b[0;32m   3151\u001b[0m \u001b[1;33m\u001b[0m\u001b[0m\n",
      "\u001b[1;31mMemoryError\u001b[0m: Unable to allocate 354. MiB for an array with shape (310, 149655) and data type float64"
     ]
    }
   ],
   "source": [
    "# Проведем масштабирование признаков\n",
    "\n",
    "#отключаем предупреждения о преобразованиях типов данных\n",
    "warnings.filterwarnings(action='ignore', category=DataConversionWarning)\n",
    "scaler = StandardScaler() # объявляем метод\n",
    "\n",
    "scaler.fit(features_train.astype(float)) # Обучаем метод только на обучающей выборке\n",
    "features_train = pd.DataFrame(scaler.transform(features_train), columns=features_train.columns) # Преобразуем данные и сохраняем в новой переменной в структуре DataFrame()\n",
    "features_valid = pd.DataFrame(scaler.transform(features_valid), columns=features_valid.columns) # Преобразуем данные и сохраняем в новой переменной в структуре DataFrame()\n",
    "features_test = pd.DataFrame(scaler.transform(features_test), columns=features_test.columns) # Преобразуем данные и сохраняем в новой переменной в структуре DataFrame()\n",
    "\n"
   ]
  },
  {
   "cell_type": "markdown",
   "metadata": {},
   "source": [
    "Samples are prepared, categorical features are encoded by simple coding. Consider the models of linear regression, decision regressor, random forest regressor and LightGBM"
   ]
  },
  {
   "cell_type": "code",
   "execution_count": 55,
   "metadata": {
    "collapsed": true
   },
   "outputs": [
    {
     "ename": "SyntaxError",
     "evalue": "invalid syntax (<ipython-input-55-75b46f34966c>, line 4)",
     "output_type": "error",
     "traceback": [
      "\u001b[1;36m  File \u001b[1;32m\"<ipython-input-55-75b46f34966c>\"\u001b[1;36m, line \u001b[1;32m4\u001b[0m\n\u001b[1;33m    models[0] = Linear regression()\u001b[0m\n\u001b[1;37m                                ^\u001b[0m\n\u001b[1;31mSyntaxError\u001b[0m\u001b[1;31m:\u001b[0m invalid syntax\n"
     ]
    }
   ],
   "source": [
    "models = {}\n",
    "\n",
    "# Using the LinearRegression() model\n",
    "models[0] = Linear regression()\n",
    "\n",
    "# Choosing a decision-making method Treeregressor() with different\n",
    "model parameters[1] = DecisionTreeRegressor(random_state=12345, max_depth = 5)\n",
    "models[2] = DecisionTreeRegressor(random_state=12345, max_depth = 10)\n",
    "models[3] = DecisionTreeRegressor(random_state=12345, max_depth = 15)\n",
    "\n",
    "# Choosing the RandomForestRegressor() method with different\n",
    "model parameters[4] = RandomForestRegressor(random_state=12345, n_estimators=15, max_depth = 5)\n",
    "models[5] = RandomForestRegressor(random_state=12345, n_estimators=25, max_depth = 5)\n",
    "models[6] = RandomForestRegressor(random_state=12345, n_estimators=25, max_depth = 15)\n",
    "\n",
    "# We are a LGBT regressor modeler() with different hyperparameters\n",
    "of the model[7] = LGBMRegressor(random_state=12345, n_estimators=15, max_depth = 5)\n",
    "models[8] = LGBMRegressor(random_state=12345, n_estimators=25, max_depth = 5)\n",
    "models[9] = LGBMRegressor(random_state= 12345, n_estimators=25, max_depth = 15)"
   ]
  },
  {
   "cell_type": "markdown",
   "metadata": {},
   "source": [
    "The models have been announced, we will take measurements of the time for training"
   ]
  },
  {
   "cell_type": "code",
   "execution_count": null,
   "metadata": {},
   "outputs": [],
   "source": [
    "# In the loop, we iterate through all the models and measure the training time of each, adding the results to the TrainTime variable\n",
    "\n",
    "TrainTime = {}\n",
    "\n",
    "for i in range(len(models)):\n",
    "    start_time = timeit.default_timer()\n",
    "    models[i].fit(features_train, target_train)\n",
    "    TrainTime[i] = timeit.default_timer() - start_time"
   ]
  },
  {
   "cell_type": "code",
   "execution_count": null,
   "metadata": {},
   "outputs": [],
   "source": [
    "TrainTime"
   ]
  },
  {
   "cell_type": "markdown",
   "metadata": {},
   "source": [
    "**Intermediate output:** The models have been trained, the time for training each model has been measured.<br>\n",
    "**NB:** The hyperparameters of the models were chosen randomly, without lengthy GridSearch procedures to save time, since the project is educational and we do not pursue accuracy, but follow the methodology. In a real project, you can add a hyperparameter selection block for each model, which would require offhand one hour of time for each model."
   ]
  },
  {
   "cell_type": "markdown",
   "metadata": {},
   "source": [
    "## Model analysis"
   ]
  },
  {
   "cell_type": "code",
   "execution_count": null,
   "metadata": {},
   "outputs": [],
   "source": [
    "# In the loop, we iterate through all the models, make a prediction and measure the prediction time of each\n",
    "# # The results of the predictions are added to the Prediction_valid variable, the time measurements are stored in PredictTime\n",
    "\n",
    "Prediction_valid = {}\n",
    "PredictTime = {}\n",
    "\n",
    "for i in range(len(models)):\n",
    "    start_time = timeit.default_timer()\n",
    "    Prediction_valid[i] = models[i].predict(features_valid)     \n",
    "    PredictTime[i] = timeit.default_timer() - start_time"
   ]
  },
  {
   "cell_type": "code",
   "execution_count": null,
   "metadata": {},
   "outputs": [],
   "source": [
    "PredictTime"
   ]
  },
  {
   "cell_type": "code",
   "execution_count": null,
   "metadata": {
    "scrolled": true
   },
   "outputs": [],
   "source": [
    "# In the loop, we iterate through all the models and calculate the RMSE metric, we will save the result in the variable of the same name\n",
    "RMSE = {}\n",
    "\n",
    "for i in range(len(models)):\n",
    "    RMSE[i] = mean_squared_error(target_valid, Prediction_valid[i])**0.5     \n",
    "    "
   ]
  },
  {
   "cell_type": "code",
   "execution_count": null,
   "metadata": {
    "scrolled": true
   },
   "outputs": [],
   "source": [
    "RMSE"
   ]
  },
  {
   "cell_type": "markdown",
   "metadata": {},
   "source": [
    "**Interim summary:** Predictions were calculated for all models, time was fixed, the RMSE metric of each model was calculated.\n",
    "\n",
    "Let's solve the main problem: we will choose the \"optimal\" model based on the criterion \"the best training time, prediction time and model quality\".\n",
    "The best model with such introductory data is the one that will show less training time, less prediction time and less standard deviation. Let's find the minimum value of the product of three results - learning time, prediction time and RMSE."
   ]
  },
  {
   "cell_type": "code",
   "execution_count": null,
   "metadata": {},
   "outputs": [],
   "source": [
    "# Find the product of three results - learning time, prediction time and RMSE.\n",
    "result = {}\n",
    "for i in range(len(models)):\n",
    "    result[i] = TrainTime[i] * PredictTime[i] * RMSE[i]"
   ]
  },
  {
   "cell_type": "code",
   "execution_count": null,
   "metadata": {},
   "outputs": [],
   "source": [
    "result"
   ]
  },
  {
   "cell_type": "code",
   "execution_count": null,
   "metadata": {},
   "outputs": [],
   "source": [
    "# Let's determine which model gave the best result according to our criterion:\n",
    "models[list(result.keys())[list(result.values()).index(min(result.values()))]]"
   ]
  },
  {
   "cell_type": "markdown",
   "metadata": {},
   "source": [
    "**Interim summary:** The optimal model was \"DecisionTreeRegressor()\" with the hyperparameter max_depth=5\n",
    "Now let's evaluate the quality of this model on a test sample"
   ]
  },
  {
   "cell_type": "code",
   "execution_count": null,
   "metadata": {},
   "outputs": [],
   "source": [
    "# To make the entries more concise, let's define the key number of the optimal model\n",
    "key = list(result.keys())[list(result.values()).index(min(result.values()))]\n",
    "key"
   ]
  },
  {
   "cell_type": "code",
   "execution_count": null,
   "metadata": {},
   "outputs": [],
   "source": [
    "predictions_best = models[key].predict(features_test) # prediction by test sampling\n",
    "score_best = mean_squared_error(target_test, predictions_best)**0.5 # calculation of the RMSE metric\n",
    "score_best"
   ]
  },
  {
   "cell_type": "markdown",
   "metadata": {},
   "source": [
    "The RMSE metric on the test sample is comparable to the validation result."
   ]
  },
  {
   "cell_type": "markdown",
   "metadata": {},
   "source": [
    "**Intermediate output:** The selected model '#1' showed far from the best, but not the worst result.  At the same time, the model learns quickly and predicts quickly. <br> Comparison with other models here replaces the adequacy check with the use of a constant model."
   ]
  },
  {
   "cell_type": "markdown",
   "metadata": {},
   "source": [
    "# Conclusions\n",
    "In the project, the task was to find the optimal model for determining the value of a used car based on historical data: technical characteristics, configuration and prices.<br>\n",
    "At the same time, the customer formulated clear optimality criteria - the speed of learning and prediction with good quality.<br>\n",
    "\n",
    "At the stage of preliminary data processing, both omissions and data that are not valuable for calculations (for example, the number of photos or the date of publication) were identified.\n",
    "After processing the omissions, 78% of the original data was saved.\n",
    "\n",
    "The project analyzed regression models \"Linear regression\" (one model), \"Random Forest\" (three sets of hyperparameters), \"Decision Tree\" (three sets of hyperparameters) and \"regression with gradient boosting\" (three sets of hyperparameters).<br>\n",
    "Timekeeping of the learning processes of each model (with different hyperparameters), the processes of obtaining predictions were performed, and the calculation of the quality metric of each model (RMSE metric) was performed. A total of 10 model variants were analyzed.<br><br>\n",
    "\n",
    "Based on the customer's requirements, an optimal model was determined (based on minimizing the product of the training time, prediction time and quality metric), which turned out to be a \"Decision Tree\" model with the \"maximum depth\" hyperparameter equal to 5.\n",
    "\n",
    "This model was applied to a test sample and the RMSE metric was 2551 .<br>\n",
    "<br>\n",
    "<br><br>\n",
    "An important conclusion: when searching for the optimal model, taking into account the calculation time, the most accurate model will not always be optimal. And not always the fastest. Probably, with more accurate introductory weights of criteria, it would be possible to choose a more accurate model with comparable time. To do this, we would need conditions like \"a model that learns and predicts no longer than XX seconds and provides the first quartile in quality based on the so-and-so metric.\""
   ]
  },
  {
   "cell_type": "code",
   "execution_count": null,
   "metadata": {},
   "outputs": [],
   "source": []
  }
 ],
 "metadata": {
  "ExecuteTimeLog": [
   {
    "duration": 151,
    "start_time": "2023-02-08T15:12:37.365Z"
   },
   {
    "duration": 92,
    "start_time": "2023-02-08T15:14:40.212Z"
   },
   {
    "duration": 6719,
    "start_time": "2023-02-08T20:53:48.702Z"
   },
   {
    "duration": 2990,
    "start_time": "2023-02-08T20:53:55.423Z"
   },
   {
    "duration": 21,
    "start_time": "2023-02-08T20:53:58.415Z"
   },
   {
    "duration": 17,
    "start_time": "2023-02-08T20:53:58.437Z"
   },
   {
    "duration": 10,
    "start_time": "2023-02-08T20:53:58.457Z"
   },
   {
    "duration": 140,
    "start_time": "2023-02-08T20:53:58.469Z"
   },
   {
    "duration": 15,
    "start_time": "2023-02-08T20:53:58.611Z"
   },
   {
    "duration": 10,
    "start_time": "2023-02-08T20:53:58.628Z"
   },
   {
    "duration": 203,
    "start_time": "2023-02-08T20:53:58.640Z"
   },
   {
    "duration": 216,
    "start_time": "2023-02-08T20:53:58.844Z"
   },
   {
    "duration": 70,
    "start_time": "2023-02-08T20:53:59.061Z"
   },
   {
    "duration": 59,
    "start_time": "2023-02-08T20:53:59.132Z"
   },
   {
    "duration": 76,
    "start_time": "2023-02-08T20:53:59.193Z"
   },
   {
    "duration": 17,
    "start_time": "2023-02-08T20:53:59.272Z"
   },
   {
    "duration": 83,
    "start_time": "2023-02-08T20:53:59.290Z"
   },
   {
    "duration": 56,
    "start_time": "2023-02-08T20:53:59.374Z"
   },
   {
    "duration": 60,
    "start_time": "2023-02-08T20:53:59.431Z"
   },
   {
    "duration": 40,
    "start_time": "2023-02-08T20:53:59.492Z"
   },
   {
    "duration": 36,
    "start_time": "2023-02-08T20:53:59.533Z"
   },
   {
    "duration": 46,
    "start_time": "2023-02-08T20:53:59.571Z"
   },
   {
    "duration": 154,
    "start_time": "2023-02-08T20:53:59.619Z"
   },
   {
    "duration": 63,
    "start_time": "2023-02-08T20:53:59.775Z"
   },
   {
    "duration": 3,
    "start_time": "2023-02-08T20:53:59.840Z"
   },
   {
    "duration": 315,
    "start_time": "2023-02-08T20:53:59.845Z"
   },
   {
    "duration": 319,
    "start_time": "2023-02-08T20:54:00.162Z"
   },
   {
    "duration": 8,
    "start_time": "2023-02-08T20:54:00.483Z"
   },
   {
    "duration": 41,
    "start_time": "2023-02-08T20:54:00.492Z"
   },
   {
    "duration": 63,
    "start_time": "2023-02-08T20:54:00.535Z"
   },
   {
    "duration": 221,
    "start_time": "2023-02-08T20:54:00.600Z"
   },
   {
    "duration": 7,
    "start_time": "2023-02-08T20:54:00.867Z"
   },
   {
    "duration": 31,
    "start_time": "2023-02-08T20:54:00.876Z"
   },
   {
    "duration": 73,
    "start_time": "2023-02-08T20:54:00.909Z"
   },
   {
    "duration": 234,
    "start_time": "2023-02-08T20:54:00.984Z"
   },
   {
    "duration": 10,
    "start_time": "2023-02-08T20:54:01.220Z"
   },
   {
    "duration": 45,
    "start_time": "2023-02-08T20:54:01.232Z"
   },
   {
    "duration": 7,
    "start_time": "2023-02-08T20:54:01.279Z"
   },
   {
    "duration": 17,
    "start_time": "2023-02-08T20:54:01.287Z"
   },
   {
    "duration": 42,
    "start_time": "2023-02-08T20:54:01.305Z"
   },
   {
    "duration": 73,
    "start_time": "2023-02-08T20:54:01.349Z"
   },
   {
    "duration": 419,
    "start_time": "2023-02-08T20:54:01.423Z"
   },
   {
    "duration": 3,
    "start_time": "2023-02-08T20:54:01.847Z"
   },
   {
    "duration": 37,
    "start_time": "2023-02-08T20:54:01.852Z"
   },
   {
    "duration": 14,
    "start_time": "2023-02-08T20:54:01.891Z"
   },
   {
    "duration": 80,
    "start_time": "2023-02-08T20:54:01.907Z"
   },
   {
    "duration": 22,
    "start_time": "2023-02-08T20:54:01.989Z"
   },
   {
    "duration": 13,
    "start_time": "2023-02-08T20:54:02.012Z"
   },
   {
    "duration": 44,
    "start_time": "2023-02-08T20:54:02.026Z"
   },
   {
    "duration": 39,
    "start_time": "2023-02-08T20:54:02.072Z"
   },
   {
    "duration": 19,
    "start_time": "2023-02-08T20:54:02.112Z"
   },
   {
    "duration": 5,
    "start_time": "2023-02-08T20:54:05.470Z"
   },
   {
    "duration": 107,
    "start_time": "2023-02-08T20:54:09.921Z"
   },
   {
    "duration": 64,
    "start_time": "2023-02-08T20:54:48.087Z"
   },
   {
    "duration": 2,
    "start_time": "2023-02-08T20:54:59.001Z"
   },
   {
    "duration": 43,
    "start_time": "2023-02-08T20:55:01.771Z"
   },
   {
    "duration": 1075,
    "start_time": "2023-02-08T20:55:03.342Z"
   },
   {
    "duration": 46,
    "start_time": "2023-02-08T20:55:09.800Z"
   },
   {
    "duration": 3252,
    "start_time": "2023-02-08T20:56:24.191Z"
   },
   {
    "duration": 2954,
    "start_time": "2023-02-08T20:56:27.444Z"
   },
   {
    "duration": 20,
    "start_time": "2023-02-08T20:56:30.400Z"
   },
   {
    "duration": 31,
    "start_time": "2023-02-08T20:56:30.421Z"
   },
   {
    "duration": 21,
    "start_time": "2023-02-08T20:56:30.454Z"
   },
   {
    "duration": 141,
    "start_time": "2023-02-08T20:56:30.477Z"
   },
   {
    "duration": 22,
    "start_time": "2023-02-08T20:56:30.620Z"
   },
   {
    "duration": 36,
    "start_time": "2023-02-08T20:56:30.643Z"
   },
   {
    "duration": 204,
    "start_time": "2023-02-08T20:56:30.681Z"
   },
   {
    "duration": 221,
    "start_time": "2023-02-08T20:56:30.887Z"
   },
   {
    "duration": 76,
    "start_time": "2023-02-08T20:56:31.110Z"
   },
   {
    "duration": 56,
    "start_time": "2023-02-08T20:56:31.188Z"
   },
   {
    "duration": 68,
    "start_time": "2023-02-08T20:56:31.246Z"
   },
   {
    "duration": 15,
    "start_time": "2023-02-08T20:56:31.319Z"
   },
   {
    "duration": 94,
    "start_time": "2023-02-08T20:56:31.336Z"
   },
   {
    "duration": 65,
    "start_time": "2023-02-08T20:56:31.432Z"
   },
   {
    "duration": 31,
    "start_time": "2023-02-08T20:56:31.499Z"
   },
   {
    "duration": 38,
    "start_time": "2023-02-08T20:56:31.531Z"
   },
   {
    "duration": 27,
    "start_time": "2023-02-08T20:56:31.570Z"
   },
   {
    "duration": 36,
    "start_time": "2023-02-08T20:56:31.599Z"
   },
   {
    "duration": 163,
    "start_time": "2023-02-08T20:56:31.637Z"
   },
   {
    "duration": 74,
    "start_time": "2023-02-08T20:56:31.802Z"
   },
   {
    "duration": 3,
    "start_time": "2023-02-08T20:56:31.878Z"
   },
   {
    "duration": 355,
    "start_time": "2023-02-08T20:56:31.882Z"
   },
   {
    "duration": 315,
    "start_time": "2023-02-08T20:56:32.239Z"
   },
   {
    "duration": 17,
    "start_time": "2023-02-08T20:56:32.556Z"
   },
   {
    "duration": 27,
    "start_time": "2023-02-08T20:56:32.574Z"
   },
   {
    "duration": 75,
    "start_time": "2023-02-08T20:56:32.602Z"
   },
   {
    "duration": 233,
    "start_time": "2023-02-08T20:56:32.679Z"
   },
   {
    "duration": 7,
    "start_time": "2023-02-08T20:56:32.914Z"
   },
   {
    "duration": 47,
    "start_time": "2023-02-08T20:56:32.923Z"
   },
   {
    "duration": 80,
    "start_time": "2023-02-08T20:56:32.972Z"
   },
   {
    "duration": 285,
    "start_time": "2023-02-08T20:56:33.054Z"
   },
   {
    "duration": 14,
    "start_time": "2023-02-08T20:56:33.340Z"
   },
   {
    "duration": 22,
    "start_time": "2023-02-08T20:56:33.368Z"
   },
   {
    "duration": 7,
    "start_time": "2023-02-08T20:56:33.392Z"
   },
   {
    "duration": 7,
    "start_time": "2023-02-08T20:56:33.401Z"
   },
   {
    "duration": 20,
    "start_time": "2023-02-08T20:56:33.410Z"
   },
   {
    "duration": 95,
    "start_time": "2023-02-08T20:56:33.432Z"
   },
   {
    "duration": 367,
    "start_time": "2023-02-08T20:56:33.529Z"
   },
   {
    "duration": 4,
    "start_time": "2023-02-08T20:56:33.900Z"
   },
   {
    "duration": 17,
    "start_time": "2023-02-08T20:56:33.906Z"
   },
   {
    "duration": 11,
    "start_time": "2023-02-08T20:56:33.925Z"
   },
   {
    "duration": 83,
    "start_time": "2023-02-08T20:56:33.938Z"
   },
   {
    "duration": 27,
    "start_time": "2023-02-08T20:56:34.023Z"
   },
   {
    "duration": 15,
    "start_time": "2023-02-08T20:56:34.052Z"
   },
   {
    "duration": 8,
    "start_time": "2023-02-08T20:56:34.069Z"
   },
   {
    "duration": 21,
    "start_time": "2023-02-08T20:56:34.078Z"
   },
   {
    "duration": 2,
    "start_time": "2023-02-08T20:56:34.101Z"
   },
   {
    "duration": 35,
    "start_time": "2023-02-08T20:56:34.105Z"
   },
   {
    "duration": 1245,
    "start_time": "2023-02-08T20:56:34.141Z"
   },
   {
    "duration": 43,
    "start_time": "2023-02-08T20:56:39.773Z"
   },
   {
    "duration": 0,
    "start_time": "2023-02-08T20:56:39.818Z"
   },
   {
    "duration": 3392,
    "start_time": "2023-02-08T20:56:47.871Z"
   },
   {
    "duration": 2971,
    "start_time": "2023-02-08T20:56:51.264Z"
   },
   {
    "duration": 3,
    "start_time": "2023-02-08T20:56:55.452Z"
   },
   {
    "duration": 25,
    "start_time": "2023-02-08T20:56:56.471Z"
   },
   {
    "duration": 4,
    "start_time": "2023-02-08T20:56:56.980Z"
   },
   {
    "duration": 4,
    "start_time": "2023-02-08T20:56:57.060Z"
   },
   {
    "duration": 13,
    "start_time": "2023-02-08T20:56:57.136Z"
   },
   {
    "duration": 4,
    "start_time": "2023-02-08T20:56:57.320Z"
   },
   {
    "duration": 11,
    "start_time": "2023-02-08T20:56:57.481Z"
   },
   {
    "duration": 8,
    "start_time": "2023-02-08T20:56:57.561Z"
   },
   {
    "duration": 7,
    "start_time": "2023-02-08T20:56:57.730Z"
   },
   {
    "duration": 11,
    "start_time": "2023-02-08T20:56:57.807Z"
   },
   {
    "duration": 24,
    "start_time": "2023-02-08T20:56:57.980Z"
   },
   {
    "duration": 12,
    "start_time": "2023-02-08T20:56:58.060Z"
   },
   {
    "duration": 4,
    "start_time": "2023-02-08T20:56:58.220Z"
   },
   {
    "duration": 11,
    "start_time": "2023-02-08T20:56:58.299Z"
   },
   {
    "duration": 5,
    "start_time": "2023-02-08T20:56:58.468Z"
   },
   {
    "duration": 5,
    "start_time": "2023-02-08T20:56:58.638Z"
   },
   {
    "duration": 5,
    "start_time": "2023-02-08T20:56:58.812Z"
   },
   {
    "duration": 4,
    "start_time": "2023-02-08T20:56:58.977Z"
   },
   {
    "duration": 6,
    "start_time": "2023-02-08T20:56:59.150Z"
   },
   {
    "duration": 12,
    "start_time": "2023-02-08T20:56:59.322Z"
   },
   {
    "duration": 11,
    "start_time": "2023-02-08T20:56:59.481Z"
   },
   {
    "duration": 4,
    "start_time": "2023-02-08T20:56:59.638Z"
   },
   {
    "duration": 327,
    "start_time": "2023-02-08T20:57:00.151Z"
   },
   {
    "duration": 300,
    "start_time": "2023-02-08T20:57:00.480Z"
   },
   {
    "duration": 5,
    "start_time": "2023-02-08T20:57:01.561Z"
   },
   {
    "duration": 5,
    "start_time": "2023-02-08T20:57:02.140Z"
   },
   {
    "duration": 11,
    "start_time": "2023-02-08T20:57:02.518Z"
   },
   {
    "duration": 162,
    "start_time": "2023-02-08T20:57:02.531Z"
   },
   {
    "duration": 5,
    "start_time": "2023-02-08T20:57:02.695Z"
   },
   {
    "duration": 4,
    "start_time": "2023-02-08T20:57:02.720Z"
   },
   {
    "duration": 12,
    "start_time": "2023-02-08T20:57:02.890Z"
   },
   {
    "duration": 230,
    "start_time": "2023-02-08T20:57:02.961Z"
   },
   {
    "duration": 6,
    "start_time": "2023-02-08T20:57:03.193Z"
   },
   {
    "duration": 5,
    "start_time": "2023-02-08T20:57:03.371Z"
   },
   {
    "duration": 6,
    "start_time": "2023-02-08T20:57:03.455Z"
   },
   {
    "duration": 6,
    "start_time": "2023-02-08T20:57:03.537Z"
   },
   {
    "duration": 5,
    "start_time": "2023-02-08T20:57:03.723Z"
   },
   {
    "duration": 15,
    "start_time": "2023-02-08T20:57:03.801Z"
   },
   {
    "duration": 218,
    "start_time": "2023-02-08T20:57:03.879Z"
   },
   {
    "duration": 4,
    "start_time": "2023-02-08T20:57:04.099Z"
   },
   {
    "duration": 4,
    "start_time": "2023-02-08T20:57:04.391Z"
   },
   {
    "duration": 10,
    "start_time": "2023-02-08T20:57:04.468Z"
   },
   {
    "duration": 6,
    "start_time": "2023-02-08T20:57:05.241Z"
   },
   {
    "duration": 5,
    "start_time": "2023-02-08T20:57:05.421Z"
   },
   {
    "duration": 3,
    "start_time": "2023-02-08T20:57:05.621Z"
   },
   {
    "duration": 3,
    "start_time": "2023-02-08T20:57:06.541Z"
   },
   {
    "duration": 7,
    "start_time": "2023-02-08T20:57:06.740Z"
   },
   {
    "duration": 2,
    "start_time": "2023-02-08T20:57:06.911Z"
   },
   {
    "duration": 6,
    "start_time": "2023-02-08T20:57:08.051Z"
   },
   {
    "duration": 86,
    "start_time": "2023-02-08T20:57:08.278Z"
   },
   {
    "duration": 15,
    "start_time": "2023-02-08T20:57:08.471Z"
   },
   {
    "duration": 2,
    "start_time": "2023-02-08T20:57:37.280Z"
   },
   {
    "duration": 11,
    "start_time": "2023-02-08T20:57:48.742Z"
   },
   {
    "duration": 10,
    "start_time": "2023-02-08T20:57:58.216Z"
   },
   {
    "duration": 12,
    "start_time": "2023-02-08T20:58:00.791Z"
   },
   {
    "duration": 4,
    "start_time": "2023-02-08T20:58:03.701Z"
   },
   {
    "duration": 6,
    "start_time": "2023-02-08T20:58:05.478Z"
   },
   {
    "duration": 4,
    "start_time": "2023-02-08T20:58:10.401Z"
   },
   {
    "duration": 5,
    "start_time": "2023-02-08T20:58:10.850Z"
   },
   {
    "duration": 20,
    "start_time": "2023-02-08T20:58:12.500Z"
   },
   {
    "duration": 2,
    "start_time": "2023-02-08T20:58:20.630Z"
   },
   {
    "duration": 10,
    "start_time": "2023-02-08T20:58:21.330Z"
   },
   {
    "duration": 12,
    "start_time": "2023-02-08T20:58:21.493Z"
   },
   {
    "duration": 3,
    "start_time": "2023-02-08T20:58:47.021Z"
   },
   {
    "duration": 6,
    "start_time": "2023-02-08T20:58:47.501Z"
   },
   {
    "duration": 25,
    "start_time": "2023-02-08T20:58:47.681Z"
   },
   {
    "duration": 20,
    "start_time": "2023-02-08T20:58:48.316Z"
   },
   {
    "duration": 23,
    "start_time": "2023-02-08T20:58:48.514Z"
   }
  ],
  "kernelspec": {
   "display_name": "Python 3",
   "language": "python",
   "name": "python3"
  },
  "language_info": {
   "codemirror_mode": {
    "name": "ipython",
    "version": 3
   },
   "file_extension": ".py",
   "mimetype": "text/x-python",
   "name": "python",
   "nbconvert_exporter": "python",
   "pygments_lexer": "ipython3",
   "version": "3.7.3"
  },
  "toc": {
   "base_numbering": 1,
   "nav_menu": {},
   "number_sections": true,
   "sideBar": true,
   "skip_h1_title": true,
   "title_cell": "Table of Contents",
   "title_sidebar": "Contents",
   "toc_cell": false,
   "toc_position": {},
   "toc_section_display": true,
   "toc_window_display": false
  }
 },
 "nbformat": 4,
 "nbformat_minor": 2
}
