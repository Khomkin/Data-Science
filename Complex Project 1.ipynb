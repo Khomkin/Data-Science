{
 "cells": [
  {
   "cell_type": "markdown",
   "metadata": {},
   "source": [
    "<div style=\"background: #B0E0E6; padding: 5px; border: 1px solid SteelBlue; border-radius: 5px;\">\n",
    "\n",
    "____    \n",
    "\n",
    "**Complex Project #1: Identifying patterns that determine the market success of computer games** Khomkin Konstantin, cohort 53_DS\n",
    "_____\n",
    "**Research Description.**\n",
    "    Based on public reports from Streamchick, an online store that sells computer games worldwide, historical data on game sales, user and expert ratings, genres and platforms (e.g. Xbox or PlayStation) are available. The goal is to identify the patterns that determine a game's success, which will allow betting on a potentially popular product and planning advertising campaigns.\n",
    "Data up to 2016 is available for the study, with advertising campaigns planned for 2017 at the end of 2016. \n",
    "_____\n",
    "**Research Objective.**\n",
    "    The purpose of the study is to identify valid patterns in game sales data that can be applied to predict the success of subsequent advertising campaigns.\n",
    "    \n",
    "**Subject of the study.** \n",
    "\n",
    "To analyze the data that the company will use to develop key activities for next year's advertising campaign.\n",
    "    \n",
    "_____\n",
    "**Research Objectives.**\n",
    "\n",
    "To achieve the objectives of the study, it is necessary to perform data pre-processing (elimination of duplicates, omissions), conduct exploratory and statistical analysis of the data, create a user portrait and test hypotheses about similarities/differences of average user ratings of Xbox One and PC platforms and Action and Sports genres.\n",
    "_____\n",
    "**Source Data.**\n",
    "    \n",
    "A *.csv file with the following columns is available as raw data:\n",
    "    \n",
    "Name — the name of the game<br>\n",
    "Platform — the platform<br>\n",
    "Year_of_Release — year of release<br>\n",
    "Genre — tha genre of the game<br>\n",
    "NA_sales — sales in North America in millions of copies<br>\n",
    "EU_sales — sales in Europe in millions of copies<br>\n",
    "JP_sales — sales in Japan in millions of copies<br>\n",
    "Other_sales — sales in other couintries in millions of copies<br>\n",
    "Critic_Score — scores by critics (100 max)<br>\n",
    "User_Score — scores by users (10 max)<br>\n",
    "Rating — Entertainment Software Rating Board rating<br>\n",
    "______\n",
    "\n",
    "**This study will be divided into several steps.**\n",
    "\n",
    "***Step 1: Examine data files, obtain general information, download libraries.***\n",
    "    \n",
    "***Step 2: Data Preparation.***\n",
    "* [1. Replacing column titles.](#1-bullet)\n",
    "* [2. Finding and correcting anomalies and errors.](#2-bullet)\n",
    "* [3. Pass processing.](#3-bullet)\n",
    "* [4. Calculating total sales in all regions.](#4-bullet)\n",
    "\n",
    "***Step 3: Exploratory Data Analysis.***\n",
    "* [1. Analyze sales by year, by platform.](#5-bullet)\n",
    "* [2. Determine the actual period to analyze.](#6-bullet)\n",
    "* [3. Identify the leading platforms.](#7-bullet)\n",
    "* [4. Building a box-and-whisker chart of global game sales by platform.](#8-bullet)\n",
    "* [5. Analyzing the impact of user and critic feedback on sales within a single popular platform.](#9-bullet)\n",
    "* [6. Constructing a scatter plot and calculating the correlation between reviews and sales.](#10-bullet)\n",
    "* [7. Analyze the overall distribution of games by genre.](#11-bullet)\n",
    "    \n",
    "***Step 4: Build a user portrait of each region.***\n",
    "* [1. Top 5 platforms.](#12-bullet)\n",
    "*** [2. Top 5 genres.](#13-bullet)\n",
    "*** [3. ESRB Rating Impact.](#14-bullet)\n",
    "\n",
    "***Step 5: Hypothesis Testing***\n",
    "* [1. Average user ratings for Xbox One and PC platforms are the same.](#15-bullet)\n",
    "* [2. Average user ratings of Action and Sports genres](#16-bullet).\n"
   ]
  },
  {
   "cell_type": "markdown",
   "metadata": {},
   "source": [
    "## Step 1. \n",
    "Import the necessary libraries, open the data file and study the general information\n"
   ]
  },
  {
   "cell_type": "code",
   "execution_count": 1,
   "metadata": {},
   "outputs": [],
   "source": [
    "import pandas as pd\n",
    "import seaborn\n",
    "from scipy import stats as st\n",
    "import numpy as np\n",
    "import matplotlib.pyplot as plt\n"
   ]
  },
  {
   "cell_type": "code",
   "execution_count": 2,
   "metadata": {},
   "outputs": [],
   "source": [
    "data = pd.read_csv('datasets/games.csv')\n",
    "\n",
    "#data.info()\n"
   ]
  },
  {
   "cell_type": "code",
   "execution_count": 3,
   "metadata": {},
   "outputs": [
    {
     "data": {
      "text/html": [
       "<div>\n",
       "<style scoped>\n",
       "    .dataframe tbody tr th:only-of-type {\n",
       "        vertical-align: middle;\n",
       "    }\n",
       "\n",
       "    .dataframe tbody tr th {\n",
       "        vertical-align: top;\n",
       "    }\n",
       "\n",
       "    .dataframe thead th {\n",
       "        text-align: right;\n",
       "    }\n",
       "</style>\n",
       "<table border=\"1\" class=\"dataframe\">\n",
       "  <thead>\n",
       "    <tr style=\"text-align: right;\">\n",
       "      <th></th>\n",
       "      <th>Name</th>\n",
       "      <th>Platform</th>\n",
       "      <th>Year_of_Release</th>\n",
       "      <th>Genre</th>\n",
       "      <th>NA_sales</th>\n",
       "      <th>EU_sales</th>\n",
       "      <th>JP_sales</th>\n",
       "      <th>Other_sales</th>\n",
       "      <th>Critic_Score</th>\n",
       "      <th>User_Score</th>\n",
       "      <th>Rating</th>\n",
       "    </tr>\n",
       "  </thead>\n",
       "  <tbody>\n",
       "    <tr>\n",
       "      <th>0</th>\n",
       "      <td>Wii Sports</td>\n",
       "      <td>Wii</td>\n",
       "      <td>2006.0</td>\n",
       "      <td>Sports</td>\n",
       "      <td>41.36</td>\n",
       "      <td>28.96</td>\n",
       "      <td>3.77</td>\n",
       "      <td>8.45</td>\n",
       "      <td>76.0</td>\n",
       "      <td>8</td>\n",
       "      <td>E</td>\n",
       "    </tr>\n",
       "    <tr>\n",
       "      <th>1</th>\n",
       "      <td>Super Mario Bros.</td>\n",
       "      <td>NES</td>\n",
       "      <td>1985.0</td>\n",
       "      <td>Platform</td>\n",
       "      <td>29.08</td>\n",
       "      <td>3.58</td>\n",
       "      <td>6.81</td>\n",
       "      <td>0.77</td>\n",
       "      <td>NaN</td>\n",
       "      <td>NaN</td>\n",
       "      <td>NaN</td>\n",
       "    </tr>\n",
       "    <tr>\n",
       "      <th>2</th>\n",
       "      <td>Mario Kart Wii</td>\n",
       "      <td>Wii</td>\n",
       "      <td>2008.0</td>\n",
       "      <td>Racing</td>\n",
       "      <td>15.68</td>\n",
       "      <td>12.76</td>\n",
       "      <td>3.79</td>\n",
       "      <td>3.29</td>\n",
       "      <td>82.0</td>\n",
       "      <td>8.3</td>\n",
       "      <td>E</td>\n",
       "    </tr>\n",
       "    <tr>\n",
       "      <th>3</th>\n",
       "      <td>Wii Sports Resort</td>\n",
       "      <td>Wii</td>\n",
       "      <td>2009.0</td>\n",
       "      <td>Sports</td>\n",
       "      <td>15.61</td>\n",
       "      <td>10.93</td>\n",
       "      <td>3.28</td>\n",
       "      <td>2.95</td>\n",
       "      <td>80.0</td>\n",
       "      <td>8</td>\n",
       "      <td>E</td>\n",
       "    </tr>\n",
       "    <tr>\n",
       "      <th>4</th>\n",
       "      <td>Pokemon Red/Pokemon Blue</td>\n",
       "      <td>GB</td>\n",
       "      <td>1996.0</td>\n",
       "      <td>Role-Playing</td>\n",
       "      <td>11.27</td>\n",
       "      <td>8.89</td>\n",
       "      <td>10.22</td>\n",
       "      <td>1.00</td>\n",
       "      <td>NaN</td>\n",
       "      <td>NaN</td>\n",
       "      <td>NaN</td>\n",
       "    </tr>\n",
       "    <tr>\n",
       "      <th>5</th>\n",
       "      <td>Tetris</td>\n",
       "      <td>GB</td>\n",
       "      <td>1989.0</td>\n",
       "      <td>Puzzle</td>\n",
       "      <td>23.20</td>\n",
       "      <td>2.26</td>\n",
       "      <td>4.22</td>\n",
       "      <td>0.58</td>\n",
       "      <td>NaN</td>\n",
       "      <td>NaN</td>\n",
       "      <td>NaN</td>\n",
       "    </tr>\n",
       "    <tr>\n",
       "      <th>6</th>\n",
       "      <td>New Super Mario Bros.</td>\n",
       "      <td>DS</td>\n",
       "      <td>2006.0</td>\n",
       "      <td>Platform</td>\n",
       "      <td>11.28</td>\n",
       "      <td>9.14</td>\n",
       "      <td>6.50</td>\n",
       "      <td>2.88</td>\n",
       "      <td>89.0</td>\n",
       "      <td>8.5</td>\n",
       "      <td>E</td>\n",
       "    </tr>\n",
       "    <tr>\n",
       "      <th>7</th>\n",
       "      <td>Wii Play</td>\n",
       "      <td>Wii</td>\n",
       "      <td>2006.0</td>\n",
       "      <td>Misc</td>\n",
       "      <td>13.96</td>\n",
       "      <td>9.18</td>\n",
       "      <td>2.93</td>\n",
       "      <td>2.84</td>\n",
       "      <td>58.0</td>\n",
       "      <td>6.6</td>\n",
       "      <td>E</td>\n",
       "    </tr>\n",
       "    <tr>\n",
       "      <th>8</th>\n",
       "      <td>New Super Mario Bros. Wii</td>\n",
       "      <td>Wii</td>\n",
       "      <td>2009.0</td>\n",
       "      <td>Platform</td>\n",
       "      <td>14.44</td>\n",
       "      <td>6.94</td>\n",
       "      <td>4.70</td>\n",
       "      <td>2.24</td>\n",
       "      <td>87.0</td>\n",
       "      <td>8.4</td>\n",
       "      <td>E</td>\n",
       "    </tr>\n",
       "    <tr>\n",
       "      <th>9</th>\n",
       "      <td>Duck Hunt</td>\n",
       "      <td>NES</td>\n",
       "      <td>1984.0</td>\n",
       "      <td>Shooter</td>\n",
       "      <td>26.93</td>\n",
       "      <td>0.63</td>\n",
       "      <td>0.28</td>\n",
       "      <td>0.47</td>\n",
       "      <td>NaN</td>\n",
       "      <td>NaN</td>\n",
       "      <td>NaN</td>\n",
       "    </tr>\n",
       "    <tr>\n",
       "      <th>10</th>\n",
       "      <td>Nintendogs</td>\n",
       "      <td>DS</td>\n",
       "      <td>2005.0</td>\n",
       "      <td>Simulation</td>\n",
       "      <td>9.05</td>\n",
       "      <td>10.95</td>\n",
       "      <td>1.93</td>\n",
       "      <td>2.74</td>\n",
       "      <td>NaN</td>\n",
       "      <td>NaN</td>\n",
       "      <td>NaN</td>\n",
       "    </tr>\n",
       "    <tr>\n",
       "      <th>11</th>\n",
       "      <td>Mario Kart DS</td>\n",
       "      <td>DS</td>\n",
       "      <td>2005.0</td>\n",
       "      <td>Racing</td>\n",
       "      <td>9.71</td>\n",
       "      <td>7.47</td>\n",
       "      <td>4.13</td>\n",
       "      <td>1.90</td>\n",
       "      <td>91.0</td>\n",
       "      <td>8.6</td>\n",
       "      <td>E</td>\n",
       "    </tr>\n",
       "    <tr>\n",
       "      <th>12</th>\n",
       "      <td>Pokemon Gold/Pokemon Silver</td>\n",
       "      <td>GB</td>\n",
       "      <td>1999.0</td>\n",
       "      <td>Role-Playing</td>\n",
       "      <td>9.00</td>\n",
       "      <td>6.18</td>\n",
       "      <td>7.20</td>\n",
       "      <td>0.71</td>\n",
       "      <td>NaN</td>\n",
       "      <td>NaN</td>\n",
       "      <td>NaN</td>\n",
       "    </tr>\n",
       "    <tr>\n",
       "      <th>13</th>\n",
       "      <td>Wii Fit</td>\n",
       "      <td>Wii</td>\n",
       "      <td>2007.0</td>\n",
       "      <td>Sports</td>\n",
       "      <td>8.92</td>\n",
       "      <td>8.03</td>\n",
       "      <td>3.60</td>\n",
       "      <td>2.15</td>\n",
       "      <td>80.0</td>\n",
       "      <td>7.7</td>\n",
       "      <td>E</td>\n",
       "    </tr>\n",
       "    <tr>\n",
       "      <th>14</th>\n",
       "      <td>Kinect Adventures!</td>\n",
       "      <td>X360</td>\n",
       "      <td>2010.0</td>\n",
       "      <td>Misc</td>\n",
       "      <td>15.00</td>\n",
       "      <td>4.89</td>\n",
       "      <td>0.24</td>\n",
       "      <td>1.69</td>\n",
       "      <td>61.0</td>\n",
       "      <td>6.3</td>\n",
       "      <td>E</td>\n",
       "    </tr>\n",
       "    <tr>\n",
       "      <th>15</th>\n",
       "      <td>Wii Fit Plus</td>\n",
       "      <td>Wii</td>\n",
       "      <td>2009.0</td>\n",
       "      <td>Sports</td>\n",
       "      <td>9.01</td>\n",
       "      <td>8.49</td>\n",
       "      <td>2.53</td>\n",
       "      <td>1.77</td>\n",
       "      <td>80.0</td>\n",
       "      <td>7.4</td>\n",
       "      <td>E</td>\n",
       "    </tr>\n",
       "    <tr>\n",
       "      <th>16</th>\n",
       "      <td>Grand Theft Auto V</td>\n",
       "      <td>PS3</td>\n",
       "      <td>2013.0</td>\n",
       "      <td>Action</td>\n",
       "      <td>7.02</td>\n",
       "      <td>9.09</td>\n",
       "      <td>0.98</td>\n",
       "      <td>3.96</td>\n",
       "      <td>97.0</td>\n",
       "      <td>8.2</td>\n",
       "      <td>M</td>\n",
       "    </tr>\n",
       "    <tr>\n",
       "      <th>17</th>\n",
       "      <td>Grand Theft Auto: San Andreas</td>\n",
       "      <td>PS2</td>\n",
       "      <td>2004.0</td>\n",
       "      <td>Action</td>\n",
       "      <td>9.43</td>\n",
       "      <td>0.40</td>\n",
       "      <td>0.41</td>\n",
       "      <td>10.57</td>\n",
       "      <td>95.0</td>\n",
       "      <td>9</td>\n",
       "      <td>M</td>\n",
       "    </tr>\n",
       "    <tr>\n",
       "      <th>18</th>\n",
       "      <td>Super Mario World</td>\n",
       "      <td>SNES</td>\n",
       "      <td>1990.0</td>\n",
       "      <td>Platform</td>\n",
       "      <td>12.78</td>\n",
       "      <td>3.75</td>\n",
       "      <td>3.54</td>\n",
       "      <td>0.55</td>\n",
       "      <td>NaN</td>\n",
       "      <td>NaN</td>\n",
       "      <td>NaN</td>\n",
       "    </tr>\n",
       "    <tr>\n",
       "      <th>19</th>\n",
       "      <td>Brain Age: Train Your Brain in Minutes a Day</td>\n",
       "      <td>DS</td>\n",
       "      <td>2005.0</td>\n",
       "      <td>Misc</td>\n",
       "      <td>4.74</td>\n",
       "      <td>9.20</td>\n",
       "      <td>4.16</td>\n",
       "      <td>2.04</td>\n",
       "      <td>77.0</td>\n",
       "      <td>7.9</td>\n",
       "      <td>E</td>\n",
       "    </tr>\n",
       "  </tbody>\n",
       "</table>\n",
       "</div>"
      ],
      "text/plain": [
       "                                            Name Platform  Year_of_Release  \\\n",
       "0                                     Wii Sports      Wii           2006.0   \n",
       "1                              Super Mario Bros.      NES           1985.0   \n",
       "2                                 Mario Kart Wii      Wii           2008.0   \n",
       "3                              Wii Sports Resort      Wii           2009.0   \n",
       "4                       Pokemon Red/Pokemon Blue       GB           1996.0   \n",
       "5                                         Tetris       GB           1989.0   \n",
       "6                          New Super Mario Bros.       DS           2006.0   \n",
       "7                                       Wii Play      Wii           2006.0   \n",
       "8                      New Super Mario Bros. Wii      Wii           2009.0   \n",
       "9                                      Duck Hunt      NES           1984.0   \n",
       "10                                    Nintendogs       DS           2005.0   \n",
       "11                                 Mario Kart DS       DS           2005.0   \n",
       "12                   Pokemon Gold/Pokemon Silver       GB           1999.0   \n",
       "13                                       Wii Fit      Wii           2007.0   \n",
       "14                            Kinect Adventures!     X360           2010.0   \n",
       "15                                  Wii Fit Plus      Wii           2009.0   \n",
       "16                            Grand Theft Auto V      PS3           2013.0   \n",
       "17                 Grand Theft Auto: San Andreas      PS2           2004.0   \n",
       "18                             Super Mario World     SNES           1990.0   \n",
       "19  Brain Age: Train Your Brain in Minutes a Day       DS           2005.0   \n",
       "\n",
       "           Genre  NA_sales  EU_sales  JP_sales  Other_sales  Critic_Score  \\\n",
       "0         Sports     41.36     28.96      3.77         8.45          76.0   \n",
       "1       Platform     29.08      3.58      6.81         0.77           NaN   \n",
       "2         Racing     15.68     12.76      3.79         3.29          82.0   \n",
       "3         Sports     15.61     10.93      3.28         2.95          80.0   \n",
       "4   Role-Playing     11.27      8.89     10.22         1.00           NaN   \n",
       "5         Puzzle     23.20      2.26      4.22         0.58           NaN   \n",
       "6       Platform     11.28      9.14      6.50         2.88          89.0   \n",
       "7           Misc     13.96      9.18      2.93         2.84          58.0   \n",
       "8       Platform     14.44      6.94      4.70         2.24          87.0   \n",
       "9        Shooter     26.93      0.63      0.28         0.47           NaN   \n",
       "10    Simulation      9.05     10.95      1.93         2.74           NaN   \n",
       "11        Racing      9.71      7.47      4.13         1.90          91.0   \n",
       "12  Role-Playing      9.00      6.18      7.20         0.71           NaN   \n",
       "13        Sports      8.92      8.03      3.60         2.15          80.0   \n",
       "14          Misc     15.00      4.89      0.24         1.69          61.0   \n",
       "15        Sports      9.01      8.49      2.53         1.77          80.0   \n",
       "16        Action      7.02      9.09      0.98         3.96          97.0   \n",
       "17        Action      9.43      0.40      0.41        10.57          95.0   \n",
       "18      Platform     12.78      3.75      3.54         0.55           NaN   \n",
       "19          Misc      4.74      9.20      4.16         2.04          77.0   \n",
       "\n",
       "   User_Score Rating  \n",
       "0           8      E  \n",
       "1         NaN    NaN  \n",
       "2         8.3      E  \n",
       "3           8      E  \n",
       "4         NaN    NaN  \n",
       "5         NaN    NaN  \n",
       "6         8.5      E  \n",
       "7         6.6      E  \n",
       "8         8.4      E  \n",
       "9         NaN    NaN  \n",
       "10        NaN    NaN  \n",
       "11        8.6      E  \n",
       "12        NaN    NaN  \n",
       "13        7.7      E  \n",
       "14        6.3      E  \n",
       "15        7.4      E  \n",
       "16        8.2      M  \n",
       "17          9      M  \n",
       "18        NaN    NaN  \n",
       "19        7.9      E  "
      ]
     },
     "execution_count": 3,
     "metadata": {},
     "output_type": "execute_result"
    }
   ],
   "source": [
    "data.head(20)"
   ]
  },
  {
   "cell_type": "markdown",
   "metadata": {},
   "source": [
    "Conclusion from the primary express analysis:\n",
    "\n",
    "1. There are missing data in 4 columns, with one (critic_score) missing about 50% of the data \n",
    "2. Confusion in data types: Year_of_Release should be int, User_Score is more like float\n",
    "3. Data and column names should be set to the same case and checked for duplicates"
   ]
  },
  {
   "cell_type": "markdown",
   "metadata": {},
   "source": [
    "# Step 2. \n",
    "**Data preparation/preprocessing**"
   ]
  },
  {
   "cell_type": "markdown",
   "metadata": {},
   "source": [
    "Let's convert the column names to lower case. We use rename() to avoid confusion in the sequence of column assignments and to carefully rename each header, although to rename all columns we could just use the shorter data.columns=[]"
   ]
  },
  {
   "cell_type": "code",
   "execution_count": 4,
   "metadata": {
    "scrolled": true
   },
   "outputs": [
    {
     "name": "stdout",
     "output_type": "stream",
     "text": [
      "Index(['Name', 'Platform', 'Year_of_Release', 'Genre', 'NA_sales', 'EU_sales',\n",
      "       'JP_sales', 'Other_sales', 'Critic_Score', 'User_Score', 'Rating'],\n",
      "      dtype='object')\n"
     ]
    }
   ],
   "source": [
    "print(data.columns) "
   ]
  },
  {
   "cell_type": "code",
   "execution_count": 5,
   "metadata": {},
   "outputs": [],
   "source": [
    "data.columns = data.columns.str.lower()\n"
   ]
  },
  {
   "cell_type": "code",
   "execution_count": 6,
   "metadata": {},
   "outputs": [],
   "source": [
    "#data = data.rename(columns={\n",
    "#    'Platform': 'platform',\n",
    "#    'Year_of_Release': 'year_of_release',\n",
    "#    'Genre': 'genre',\n",
    "#   'NA_sales': 'na_sales',\n",
    "#    'EU_sales': 'eu_sales',\n",
    "#    'JP_sales': 'jp_sales',\n",
    "#    'Other_sales': 'other_sales',\n",
    "#    'Critic_Score': 'critic_score',\n",
    "#    'User_Score': 'user_score',\n",
    "#    'Rating': 'rating'\n",
    "#})"
   ]
  },
  {
   "cell_type": "code",
   "execution_count": 7,
   "metadata": {},
   "outputs": [
    {
     "name": "stdout",
     "output_type": "stream",
     "text": [
      "Index(['name', 'platform', 'year_of_release', 'genre', 'na_sales', 'eu_sales',\n",
      "       'jp_sales', 'other_sales', 'critic_score', 'user_score', 'rating'],\n",
      "      dtype='object')\n"
     ]
    }
   ],
   "source": [
    "print(data.columns) "
   ]
  },
  {
   "cell_type": "markdown",
   "metadata": {},
   "source": [
    "Matching the data types"
   ]
  },
  {
   "cell_type": "code",
   "execution_count": 8,
   "metadata": {},
   "outputs": [
    {
     "data": {
      "text/plain": [
       "269"
      ]
     },
     "execution_count": 8,
     "metadata": {},
     "output_type": "execute_result"
    }
   ],
   "source": [
    "data['year_of_release'].isna().sum() "
   ]
  },
  {
   "cell_type": "markdown",
   "metadata": {},
   "source": [
    "In the 'year_of_release' column there are gaps that do not allow type conversion. There are only 269 of them, just delete these rows (data about the year of release is important and without this column the value of the row is zero, you can try to search for exact matches in other rows, for example by game name, platform, rating and fill in the gaps in the year column, but for such a number of gaps it makes no sense."
   ]
  },
  {
   "cell_type": "code",
   "execution_count": 9,
   "metadata": {},
   "outputs": [],
   "source": [
    "data = data.dropna(subset=['year_of_release'])"
   ]
  },
  {
   "cell_type": "code",
   "execution_count": 10,
   "metadata": {},
   "outputs": [
    {
     "data": {
      "text/plain": [
       "0"
      ]
     },
     "execution_count": 10,
     "metadata": {},
     "output_type": "execute_result"
    }
   ],
   "source": [
    "data['year_of_release'].isnull().sum()"
   ]
  },
  {
   "cell_type": "code",
   "execution_count": 11,
   "metadata": {},
   "outputs": [],
   "source": [
    "data['year_of_release'] = data['year_of_release'].astype('int')"
   ]
  },
  {
   "cell_type": "code",
   "execution_count": 12,
   "metadata": {},
   "outputs": [],
   "source": [
    "#data.info()"
   ]
  },
  {
   "cell_type": "markdown",
   "metadata": {},
   "source": [
    "Everything worked out. The gaps were replaced with zeros and the data type of the 'year_of_release' column was set to int type"
   ]
  },
  {
   "cell_type": "code",
   "execution_count": 13,
   "metadata": {
    "scrolled": true
   },
   "outputs": [],
   "source": [
    "#data['user_score'] = data['user_score'].astype('float64') #приводим тип второго столбца"
   ]
  },
  {
   "cell_type": "markdown",
   "metadata": {},
   "source": [
    "Some rows of the 'user_score' column are filled with text. Usually tbd denotes a value that is \"to be determined later\", tbd = \"to be developed\"\n",
    "Let's count how many such values"
   ]
  },
  {
   "cell_type": "code",
   "execution_count": 14,
   "metadata": {},
   "outputs": [
    {
     "data": {
      "text/plain": [
       "2376"
      ]
     },
     "execution_count": 14,
     "metadata": {},
     "output_type": "execute_result"
    }
   ],
   "source": [
    "data[data['user_score'] == 'tbd']['user_score'].count()"
   ]
  },
  {
   "cell_type": "markdown",
   "metadata": {},
   "source": [
    "2376 of 10,000 is a critical number. Maybe it's meaningful data. Let's see if we can replace them with, for example, zero?"
   ]
  },
  {
   "cell_type": "code",
   "execution_count": 15,
   "metadata": {},
   "outputs": [
    {
     "data": {
      "text/plain": [
       "1"
      ]
     },
     "execution_count": 15,
     "metadata": {},
     "output_type": "execute_result"
    }
   ],
   "source": [
    "data[data['user_score'] == '0']['user_score'].count() # '0' берём в кавычки, т.к. сейчас столбец пока еще имеет тип object"
   ]
  },
  {
   "cell_type": "markdown",
   "metadata": {},
   "source": [
    "The actual value of '0' is only one in 10+ thousand. For convenience, we replace 'tbd' with '0'"
   ]
  },
  {
   "cell_type": "code",
   "execution_count": 16,
   "metadata": {},
   "outputs": [],
   "source": [
    "data.loc[data['user_score'] == 'tbd', 'user_score'] = '0' "
   ]
  },
  {
   "cell_type": "markdown",
   "metadata": {},
   "source": [
    "Once again we try to set the 'user_score' column type to float"
   ]
  },
  {
   "cell_type": "code",
   "execution_count": 17,
   "metadata": {},
   "outputs": [],
   "source": [
    "data['user_score'] = data['user_score'].astype('float64')"
   ]
  },
  {
   "cell_type": "code",
   "execution_count": 18,
   "metadata": {},
   "outputs": [],
   "source": [
    "#data.info()"
   ]
  },
  {
   "cell_type": "markdown",
   "metadata": {},
   "source": [
    "Data types are given, we can deal with skips and duplicates. Remember that skips in release year and 'tbd' in user scores have already been replaced by '0'.\n",
    "\n",
    "The main data omissions are in the columns related to scores and rating: 'critic_score', 'user_score' and 'rating'. Judging by the first 20 columns of the dataframe, these columns have no values for games released before 2005 (hypothesis). \n",
    "\n",
    "We will handle the omissions in the following way:\n",
    "\n",
    "Let's delete a few rows where there are gaps in the 'genre' and 'name' columns. There are only from 2 to 4 of them (depending on whether the gaps are in different rows or possibly in the same rows), we will not even to save time to understand the nature of these gaps and will not look at what data in other columns of these rows."
   ]
  },
  {
   "cell_type": "code",
   "execution_count": 19,
   "metadata": {},
   "outputs": [],
   "source": [
    "data = data.dropna(subset=['name', 'genre']) #delete"
   ]
  },
  {
   "cell_type": "markdown",
   "metadata": {},
   "source": [
    "The omissions in the 'name' and 'genre' columns have been dealt with. \n",
    "\n",
    "Replace omissions in ratings with the value 'unknown'."
   ]
  },
  {
   "cell_type": "code",
   "execution_count": 20,
   "metadata": {},
   "outputs": [],
   "source": [
    "data['rating'] = data['rating'].fillna('unknown') "
   ]
  },
  {
   "cell_type": "code",
   "execution_count": 21,
   "metadata": {},
   "outputs": [],
   "source": [
    "data_full = data #In order not to write the whole code further, I rename df "
   ]
  },
  {
   "cell_type": "markdown",
   "metadata": {},
   "source": [
    "Let's calculate total sales in all regions and add the corresponding column to the dataframe"
   ]
  },
  {
   "cell_type": "code",
   "execution_count": 22,
   "metadata": {},
   "outputs": [],
   "source": [
    "# for calculation of sales we don't need data on rating and points, so we calculate in the full table\n",
    "data_full['total_sales'] = data[['na_sales','eu_sales','jp_sales','other_sales']].sum(axis='columns') \n",
    "#data_full.info()"
   ]
  },
  {
   "cell_type": "markdown",
   "metadata": {},
   "source": [
    "**Duplicate Processing**"
   ]
  },
  {
   "cell_type": "code",
   "execution_count": 23,
   "metadata": {},
   "outputs": [
    {
     "data": {
      "text/plain": [
       "0"
      ]
     },
     "execution_count": 23,
     "metadata": {},
     "output_type": "execute_result"
    }
   ],
   "source": [
    "data_full.duplicated().sum() #search and summarize obvious duplicates"
   ]
  },
  {
   "cell_type": "markdown",
   "metadata": {},
   "source": [
    "no obvious duplicates"
   ]
  },
  {
   "cell_type": "code",
   "execution_count": 24,
   "metadata": {},
   "outputs": [
    {
     "data": {
      "text/plain": [
       "3"
      ]
     },
     "execution_count": 24,
     "metadata": {},
     "output_type": "execute_result"
    }
   ],
   "source": [
    "#data_full.duplicated(subset=['name','platform']).sum()\n",
    "data_full.duplicated(subset=['name','platform']).sum()\n",
    "\n",
    "#search for implicit duplicates in the \"name\"-\"console/platform name\" mapping"
   ]
  },
  {
   "cell_type": "markdown",
   "metadata": {},
   "source": [
    "We found 3 rows with matches in the 'name' and 'platform' columns, let's display them:"
   ]
  },
  {
   "cell_type": "code",
   "execution_count": 25,
   "metadata": {},
   "outputs": [
    {
     "data": {
      "text/html": [
       "<div>\n",
       "<style scoped>\n",
       "    .dataframe tbody tr th:only-of-type {\n",
       "        vertical-align: middle;\n",
       "    }\n",
       "\n",
       "    .dataframe tbody tr th {\n",
       "        vertical-align: top;\n",
       "    }\n",
       "\n",
       "    .dataframe thead th {\n",
       "        text-align: right;\n",
       "    }\n",
       "</style>\n",
       "<table border=\"1\" class=\"dataframe\">\n",
       "  <thead>\n",
       "    <tr style=\"text-align: right;\">\n",
       "      <th></th>\n",
       "      <th>name</th>\n",
       "      <th>platform</th>\n",
       "      <th>year_of_release</th>\n",
       "      <th>genre</th>\n",
       "      <th>na_sales</th>\n",
       "      <th>eu_sales</th>\n",
       "      <th>jp_sales</th>\n",
       "      <th>other_sales</th>\n",
       "      <th>critic_score</th>\n",
       "      <th>user_score</th>\n",
       "      <th>rating</th>\n",
       "      <th>total_sales</th>\n",
       "    </tr>\n",
       "  </thead>\n",
       "  <tbody>\n",
       "    <tr>\n",
       "      <th>1591</th>\n",
       "      <td>Need for Speed: Most Wanted</td>\n",
       "      <td>X360</td>\n",
       "      <td>2005</td>\n",
       "      <td>Racing</td>\n",
       "      <td>1.0</td>\n",
       "      <td>0.13</td>\n",
       "      <td>0.02</td>\n",
       "      <td>0.10</td>\n",
       "      <td>83.0</td>\n",
       "      <td>8.5</td>\n",
       "      <td>T</td>\n",
       "      <td>1.25</td>\n",
       "    </tr>\n",
       "    <tr>\n",
       "      <th>11715</th>\n",
       "      <td>Need for Speed: Most Wanted</td>\n",
       "      <td>PC</td>\n",
       "      <td>2012</td>\n",
       "      <td>Racing</td>\n",
       "      <td>0.0</td>\n",
       "      <td>0.06</td>\n",
       "      <td>0.00</td>\n",
       "      <td>0.02</td>\n",
       "      <td>82.0</td>\n",
       "      <td>8.5</td>\n",
       "      <td>T</td>\n",
       "      <td>0.08</td>\n",
       "    </tr>\n",
       "    <tr>\n",
       "      <th>16230</th>\n",
       "      <td>Madden NFL 13</td>\n",
       "      <td>PS3</td>\n",
       "      <td>2012</td>\n",
       "      <td>Sports</td>\n",
       "      <td>0.0</td>\n",
       "      <td>0.01</td>\n",
       "      <td>0.00</td>\n",
       "      <td>0.00</td>\n",
       "      <td>83.0</td>\n",
       "      <td>5.5</td>\n",
       "      <td>E</td>\n",
       "      <td>0.01</td>\n",
       "    </tr>\n",
       "  </tbody>\n",
       "</table>\n",
       "</div>"
      ],
      "text/plain": [
       "                              name platform  year_of_release   genre  \\\n",
       "1591   Need for Speed: Most Wanted     X360             2005  Racing   \n",
       "11715  Need for Speed: Most Wanted       PC             2012  Racing   \n",
       "16230                Madden NFL 13      PS3             2012  Sports   \n",
       "\n",
       "       na_sales  eu_sales  jp_sales  other_sales  critic_score  user_score  \\\n",
       "1591        1.0      0.13      0.02         0.10          83.0         8.5   \n",
       "11715       0.0      0.06      0.00         0.02          82.0         8.5   \n",
       "16230       0.0      0.01      0.00         0.00          83.0         5.5   \n",
       "\n",
       "      rating  total_sales  \n",
       "1591       T         1.25  \n",
       "11715      T         0.08  \n",
       "16230      E         0.01  "
      ]
     },
     "execution_count": 25,
     "metadata": {},
     "output_type": "execute_result"
    }
   ],
   "source": [
    "data_full[data_full.duplicated(subset=['name','platform'])] \n",
    "# Let's take a look at these duplicates"
   ]
  },
  {
   "cell_type": "code",
   "execution_count": 26,
   "metadata": {},
   "outputs": [
    {
     "data": {
      "text/html": [
       "<div>\n",
       "<style scoped>\n",
       "    .dataframe tbody tr th:only-of-type {\n",
       "        vertical-align: middle;\n",
       "    }\n",
       "\n",
       "    .dataframe tbody tr th {\n",
       "        vertical-align: top;\n",
       "    }\n",
       "\n",
       "    .dataframe thead th {\n",
       "        text-align: right;\n",
       "    }\n",
       "</style>\n",
       "<table border=\"1\" class=\"dataframe\">\n",
       "  <thead>\n",
       "    <tr style=\"text-align: right;\">\n",
       "      <th></th>\n",
       "      <th>name</th>\n",
       "      <th>platform</th>\n",
       "      <th>year_of_release</th>\n",
       "      <th>genre</th>\n",
       "      <th>na_sales</th>\n",
       "      <th>eu_sales</th>\n",
       "      <th>jp_sales</th>\n",
       "      <th>other_sales</th>\n",
       "      <th>critic_score</th>\n",
       "      <th>user_score</th>\n",
       "      <th>rating</th>\n",
       "      <th>total_sales</th>\n",
       "    </tr>\n",
       "  </thead>\n",
       "  <tbody>\n",
       "    <tr>\n",
       "      <th>1190</th>\n",
       "      <td>Need for Speed: Most Wanted</td>\n",
       "      <td>X360</td>\n",
       "      <td>2012</td>\n",
       "      <td>Racing</td>\n",
       "      <td>0.62</td>\n",
       "      <td>0.78</td>\n",
       "      <td>0.01</td>\n",
       "      <td>0.15</td>\n",
       "      <td>83.0</td>\n",
       "      <td>8.5</td>\n",
       "      <td>T</td>\n",
       "      <td>1.56</td>\n",
       "    </tr>\n",
       "    <tr>\n",
       "      <th>1591</th>\n",
       "      <td>Need for Speed: Most Wanted</td>\n",
       "      <td>X360</td>\n",
       "      <td>2005</td>\n",
       "      <td>Racing</td>\n",
       "      <td>1.00</td>\n",
       "      <td>0.13</td>\n",
       "      <td>0.02</td>\n",
       "      <td>0.10</td>\n",
       "      <td>83.0</td>\n",
       "      <td>8.5</td>\n",
       "      <td>T</td>\n",
       "      <td>1.25</td>\n",
       "    </tr>\n",
       "  </tbody>\n",
       "</table>\n",
       "</div>"
      ],
      "text/plain": [
       "                             name platform  year_of_release   genre  na_sales  \\\n",
       "1190  Need for Speed: Most Wanted     X360             2012  Racing      0.62   \n",
       "1591  Need for Speed: Most Wanted     X360             2005  Racing      1.00   \n",
       "\n",
       "      eu_sales  jp_sales  other_sales  critic_score  user_score rating  \\\n",
       "1190      0.78      0.01         0.15          83.0         8.5      T   \n",
       "1591      0.13      0.02         0.10          83.0         8.5      T   \n",
       "\n",
       "      total_sales  \n",
       "1190         1.56  \n",
       "1591         1.25  "
      ]
     },
     "execution_count": 26,
     "metadata": {},
     "output_type": "execute_result"
    }
   ],
   "source": [
    "data_full.query('name == \"Need for Speed: Most Wanted\" & platform == \"X360\"')"
   ]
  },
  {
   "cell_type": "code",
   "execution_count": 27,
   "metadata": {},
   "outputs": [
    {
     "data": {
      "text/html": [
       "<div>\n",
       "<style scoped>\n",
       "    .dataframe tbody tr th:only-of-type {\n",
       "        vertical-align: middle;\n",
       "    }\n",
       "\n",
       "    .dataframe tbody tr th {\n",
       "        vertical-align: top;\n",
       "    }\n",
       "\n",
       "    .dataframe thead th {\n",
       "        text-align: right;\n",
       "    }\n",
       "</style>\n",
       "<table border=\"1\" class=\"dataframe\">\n",
       "  <thead>\n",
       "    <tr style=\"text-align: right;\">\n",
       "      <th></th>\n",
       "      <th>name</th>\n",
       "      <th>platform</th>\n",
       "      <th>year_of_release</th>\n",
       "      <th>genre</th>\n",
       "      <th>na_sales</th>\n",
       "      <th>eu_sales</th>\n",
       "      <th>jp_sales</th>\n",
       "      <th>other_sales</th>\n",
       "      <th>critic_score</th>\n",
       "      <th>user_score</th>\n",
       "      <th>rating</th>\n",
       "      <th>total_sales</th>\n",
       "    </tr>\n",
       "  </thead>\n",
       "  <tbody>\n",
       "    <tr>\n",
       "      <th>5972</th>\n",
       "      <td>Need for Speed: Most Wanted</td>\n",
       "      <td>PC</td>\n",
       "      <td>2005</td>\n",
       "      <td>Racing</td>\n",
       "      <td>0.02</td>\n",
       "      <td>0.23</td>\n",
       "      <td>0.0</td>\n",
       "      <td>0.04</td>\n",
       "      <td>82.0</td>\n",
       "      <td>8.5</td>\n",
       "      <td>T</td>\n",
       "      <td>0.29</td>\n",
       "    </tr>\n",
       "    <tr>\n",
       "      <th>11715</th>\n",
       "      <td>Need for Speed: Most Wanted</td>\n",
       "      <td>PC</td>\n",
       "      <td>2012</td>\n",
       "      <td>Racing</td>\n",
       "      <td>0.00</td>\n",
       "      <td>0.06</td>\n",
       "      <td>0.0</td>\n",
       "      <td>0.02</td>\n",
       "      <td>82.0</td>\n",
       "      <td>8.5</td>\n",
       "      <td>T</td>\n",
       "      <td>0.08</td>\n",
       "    </tr>\n",
       "  </tbody>\n",
       "</table>\n",
       "</div>"
      ],
      "text/plain": [
       "                              name platform  year_of_release   genre  \\\n",
       "5972   Need for Speed: Most Wanted       PC             2005  Racing   \n",
       "11715  Need for Speed: Most Wanted       PC             2012  Racing   \n",
       "\n",
       "       na_sales  eu_sales  jp_sales  other_sales  critic_score  user_score  \\\n",
       "5972       0.02      0.23       0.0         0.04          82.0         8.5   \n",
       "11715      0.00      0.06       0.0         0.02          82.0         8.5   \n",
       "\n",
       "      rating  total_sales  \n",
       "5972       T         0.29  \n",
       "11715      T         0.08  "
      ]
     },
     "execution_count": 27,
     "metadata": {},
     "output_type": "execute_result"
    }
   ],
   "source": [
    "data_full.query('name == \"Need for Speed: Most Wanted\" & platform == \"PC\"')"
   ]
  },
  {
   "cell_type": "code",
   "execution_count": 28,
   "metadata": {},
   "outputs": [
    {
     "data": {
      "text/html": [
       "<div>\n",
       "<style scoped>\n",
       "    .dataframe tbody tr th:only-of-type {\n",
       "        vertical-align: middle;\n",
       "    }\n",
       "\n",
       "    .dataframe tbody tr th {\n",
       "        vertical-align: top;\n",
       "    }\n",
       "\n",
       "    .dataframe thead th {\n",
       "        text-align: right;\n",
       "    }\n",
       "</style>\n",
       "<table border=\"1\" class=\"dataframe\">\n",
       "  <thead>\n",
       "    <tr style=\"text-align: right;\">\n",
       "      <th></th>\n",
       "      <th>name</th>\n",
       "      <th>platform</th>\n",
       "      <th>year_of_release</th>\n",
       "      <th>genre</th>\n",
       "      <th>na_sales</th>\n",
       "      <th>eu_sales</th>\n",
       "      <th>jp_sales</th>\n",
       "      <th>other_sales</th>\n",
       "      <th>critic_score</th>\n",
       "      <th>user_score</th>\n",
       "      <th>rating</th>\n",
       "      <th>total_sales</th>\n",
       "    </tr>\n",
       "  </thead>\n",
       "  <tbody>\n",
       "    <tr>\n",
       "      <th>604</th>\n",
       "      <td>Madden NFL 13</td>\n",
       "      <td>PS3</td>\n",
       "      <td>2012</td>\n",
       "      <td>Sports</td>\n",
       "      <td>2.11</td>\n",
       "      <td>0.22</td>\n",
       "      <td>0.0</td>\n",
       "      <td>0.23</td>\n",
       "      <td>83.0</td>\n",
       "      <td>5.5</td>\n",
       "      <td>E</td>\n",
       "      <td>2.56</td>\n",
       "    </tr>\n",
       "    <tr>\n",
       "      <th>16230</th>\n",
       "      <td>Madden NFL 13</td>\n",
       "      <td>PS3</td>\n",
       "      <td>2012</td>\n",
       "      <td>Sports</td>\n",
       "      <td>0.00</td>\n",
       "      <td>0.01</td>\n",
       "      <td>0.0</td>\n",
       "      <td>0.00</td>\n",
       "      <td>83.0</td>\n",
       "      <td>5.5</td>\n",
       "      <td>E</td>\n",
       "      <td>0.01</td>\n",
       "    </tr>\n",
       "  </tbody>\n",
       "</table>\n",
       "</div>"
      ],
      "text/plain": [
       "                name platform  year_of_release   genre  na_sales  eu_sales  \\\n",
       "604    Madden NFL 13      PS3             2012  Sports      2.11      0.22   \n",
       "16230  Madden NFL 13      PS3             2012  Sports      0.00      0.01   \n",
       "\n",
       "       jp_sales  other_sales  critic_score  user_score rating  total_sales  \n",
       "604         0.0         0.23          83.0         5.5      E         2.56  \n",
       "16230       0.0         0.00          83.0         5.5      E         0.01  "
      ]
     },
     "execution_count": 28,
     "metadata": {},
     "output_type": "execute_result"
    }
   ],
   "source": [
    "data_full.query('name == \"Madden NFL 13\" & platform == \"PS3\"')"
   ]
  },
  {
   "cell_type": "markdown",
   "metadata": {},
   "source": [
    "Wikipedia says that Need for Speed: Most Wanted was released in 2005 on both platforms, so the line with the specified year 2012 is wrong. And the error can be in any cell - in the name of the game, in the platform, in the year. \n",
    "\n",
    "If for the duplicate with the specified PC platform sales data for 2012 are small and there was clearly a one-time error, as in the case of a duplicate of the game NFL13 - in cell 16230 clearly some one-time upload, then with NFS is not all so clear, the data for 2005 and 2012 are too comparable.\n",
    "\n",
    "My solution:\n",
    "Delete the rows with the NFS game for 2012 (since they have a clear factual error in the game's release year), and delete row 16230 due to the small values in it and the presence of row 604 with clearly more complete data.\n",
    "\n",
    "The approach is as follows: since we do not know the history and nature of the error, but the erroneous data has been identified, it is better to delete such data to reduce the error, rather than accumulate it in the data (by summarizing rows, etc.). \n",
    "\n",
    "**Total: delete the implicit duplicates, rows 1190, 11715 and 16230 - because they have identified data errors**"
   ]
  },
  {
   "cell_type": "code",
   "execution_count": 29,
   "metadata": {},
   "outputs": [],
   "source": [
    "data_full.drop(labels = [1190, 11715, 16230],axis = 0, inplace = True) #delete"
   ]
  },
  {
   "cell_type": "code",
   "execution_count": 30,
   "metadata": {},
   "outputs": [
    {
     "data": {
      "text/plain": [
       "0"
      ]
     },
     "execution_count": 30,
     "metadata": {},
     "output_type": "execute_result"
    }
   ],
   "source": [
    "data_full.duplicated(subset=['name','platform']).sum() #check"
   ]
  },
  {
   "cell_type": "code",
   "execution_count": 31,
   "metadata": {},
   "outputs": [
    {
     "data": {
      "text/html": [
       "<div>\n",
       "<style scoped>\n",
       "    .dataframe tbody tr th:only-of-type {\n",
       "        vertical-align: middle;\n",
       "    }\n",
       "\n",
       "    .dataframe tbody tr th {\n",
       "        vertical-align: top;\n",
       "    }\n",
       "\n",
       "    .dataframe thead th {\n",
       "        text-align: right;\n",
       "    }\n",
       "</style>\n",
       "<table border=\"1\" class=\"dataframe\">\n",
       "  <thead>\n",
       "    <tr style=\"text-align: right;\">\n",
       "      <th></th>\n",
       "      <th>name</th>\n",
       "      <th>platform</th>\n",
       "      <th>year_of_release</th>\n",
       "      <th>genre</th>\n",
       "      <th>na_sales</th>\n",
       "      <th>eu_sales</th>\n",
       "      <th>jp_sales</th>\n",
       "      <th>other_sales</th>\n",
       "      <th>critic_score</th>\n",
       "      <th>user_score</th>\n",
       "      <th>rating</th>\n",
       "      <th>total_sales</th>\n",
       "    </tr>\n",
       "  </thead>\n",
       "  <tbody>\n",
       "    <tr>\n",
       "      <th>0</th>\n",
       "      <td>Wii Sports</td>\n",
       "      <td>Wii</td>\n",
       "      <td>2006</td>\n",
       "      <td>Sports</td>\n",
       "      <td>41.36</td>\n",
       "      <td>28.96</td>\n",
       "      <td>3.77</td>\n",
       "      <td>8.45</td>\n",
       "      <td>76.0</td>\n",
       "      <td>8.0</td>\n",
       "      <td>E</td>\n",
       "      <td>82.54</td>\n",
       "    </tr>\n",
       "    <tr>\n",
       "      <th>1</th>\n",
       "      <td>Super Mario Bros.</td>\n",
       "      <td>NES</td>\n",
       "      <td>1985</td>\n",
       "      <td>Platform</td>\n",
       "      <td>29.08</td>\n",
       "      <td>3.58</td>\n",
       "      <td>6.81</td>\n",
       "      <td>0.77</td>\n",
       "      <td>NaN</td>\n",
       "      <td>NaN</td>\n",
       "      <td>unknown</td>\n",
       "      <td>40.24</td>\n",
       "    </tr>\n",
       "    <tr>\n",
       "      <th>2</th>\n",
       "      <td>Mario Kart Wii</td>\n",
       "      <td>Wii</td>\n",
       "      <td>2008</td>\n",
       "      <td>Racing</td>\n",
       "      <td>15.68</td>\n",
       "      <td>12.76</td>\n",
       "      <td>3.79</td>\n",
       "      <td>3.29</td>\n",
       "      <td>82.0</td>\n",
       "      <td>8.3</td>\n",
       "      <td>E</td>\n",
       "      <td>35.52</td>\n",
       "    </tr>\n",
       "    <tr>\n",
       "      <th>3</th>\n",
       "      <td>Wii Sports Resort</td>\n",
       "      <td>Wii</td>\n",
       "      <td>2009</td>\n",
       "      <td>Sports</td>\n",
       "      <td>15.61</td>\n",
       "      <td>10.93</td>\n",
       "      <td>3.28</td>\n",
       "      <td>2.95</td>\n",
       "      <td>80.0</td>\n",
       "      <td>8.0</td>\n",
       "      <td>E</td>\n",
       "      <td>32.77</td>\n",
       "    </tr>\n",
       "    <tr>\n",
       "      <th>4</th>\n",
       "      <td>Pokemon Red/Pokemon Blue</td>\n",
       "      <td>GB</td>\n",
       "      <td>1996</td>\n",
       "      <td>Role-Playing</td>\n",
       "      <td>11.27</td>\n",
       "      <td>8.89</td>\n",
       "      <td>10.22</td>\n",
       "      <td>1.00</td>\n",
       "      <td>NaN</td>\n",
       "      <td>NaN</td>\n",
       "      <td>unknown</td>\n",
       "      <td>31.38</td>\n",
       "    </tr>\n",
       "    <tr>\n",
       "      <th>5</th>\n",
       "      <td>Tetris</td>\n",
       "      <td>GB</td>\n",
       "      <td>1989</td>\n",
       "      <td>Puzzle</td>\n",
       "      <td>23.20</td>\n",
       "      <td>2.26</td>\n",
       "      <td>4.22</td>\n",
       "      <td>0.58</td>\n",
       "      <td>NaN</td>\n",
       "      <td>NaN</td>\n",
       "      <td>unknown</td>\n",
       "      <td>30.26</td>\n",
       "    </tr>\n",
       "    <tr>\n",
       "      <th>6</th>\n",
       "      <td>New Super Mario Bros.</td>\n",
       "      <td>DS</td>\n",
       "      <td>2006</td>\n",
       "      <td>Platform</td>\n",
       "      <td>11.28</td>\n",
       "      <td>9.14</td>\n",
       "      <td>6.50</td>\n",
       "      <td>2.88</td>\n",
       "      <td>89.0</td>\n",
       "      <td>8.5</td>\n",
       "      <td>E</td>\n",
       "      <td>29.80</td>\n",
       "    </tr>\n",
       "    <tr>\n",
       "      <th>7</th>\n",
       "      <td>Wii Play</td>\n",
       "      <td>Wii</td>\n",
       "      <td>2006</td>\n",
       "      <td>Misc</td>\n",
       "      <td>13.96</td>\n",
       "      <td>9.18</td>\n",
       "      <td>2.93</td>\n",
       "      <td>2.84</td>\n",
       "      <td>58.0</td>\n",
       "      <td>6.6</td>\n",
       "      <td>E</td>\n",
       "      <td>28.91</td>\n",
       "    </tr>\n",
       "    <tr>\n",
       "      <th>8</th>\n",
       "      <td>New Super Mario Bros. Wii</td>\n",
       "      <td>Wii</td>\n",
       "      <td>2009</td>\n",
       "      <td>Platform</td>\n",
       "      <td>14.44</td>\n",
       "      <td>6.94</td>\n",
       "      <td>4.70</td>\n",
       "      <td>2.24</td>\n",
       "      <td>87.0</td>\n",
       "      <td>8.4</td>\n",
       "      <td>E</td>\n",
       "      <td>28.32</td>\n",
       "    </tr>\n",
       "    <tr>\n",
       "      <th>9</th>\n",
       "      <td>Duck Hunt</td>\n",
       "      <td>NES</td>\n",
       "      <td>1984</td>\n",
       "      <td>Shooter</td>\n",
       "      <td>26.93</td>\n",
       "      <td>0.63</td>\n",
       "      <td>0.28</td>\n",
       "      <td>0.47</td>\n",
       "      <td>NaN</td>\n",
       "      <td>NaN</td>\n",
       "      <td>unknown</td>\n",
       "      <td>28.31</td>\n",
       "    </tr>\n",
       "    <tr>\n",
       "      <th>10</th>\n",
       "      <td>Nintendogs</td>\n",
       "      <td>DS</td>\n",
       "      <td>2005</td>\n",
       "      <td>Simulation</td>\n",
       "      <td>9.05</td>\n",
       "      <td>10.95</td>\n",
       "      <td>1.93</td>\n",
       "      <td>2.74</td>\n",
       "      <td>NaN</td>\n",
       "      <td>NaN</td>\n",
       "      <td>unknown</td>\n",
       "      <td>24.67</td>\n",
       "    </tr>\n",
       "    <tr>\n",
       "      <th>11</th>\n",
       "      <td>Mario Kart DS</td>\n",
       "      <td>DS</td>\n",
       "      <td>2005</td>\n",
       "      <td>Racing</td>\n",
       "      <td>9.71</td>\n",
       "      <td>7.47</td>\n",
       "      <td>4.13</td>\n",
       "      <td>1.90</td>\n",
       "      <td>91.0</td>\n",
       "      <td>8.6</td>\n",
       "      <td>E</td>\n",
       "      <td>23.21</td>\n",
       "    </tr>\n",
       "    <tr>\n",
       "      <th>12</th>\n",
       "      <td>Pokemon Gold/Pokemon Silver</td>\n",
       "      <td>GB</td>\n",
       "      <td>1999</td>\n",
       "      <td>Role-Playing</td>\n",
       "      <td>9.00</td>\n",
       "      <td>6.18</td>\n",
       "      <td>7.20</td>\n",
       "      <td>0.71</td>\n",
       "      <td>NaN</td>\n",
       "      <td>NaN</td>\n",
       "      <td>unknown</td>\n",
       "      <td>23.09</td>\n",
       "    </tr>\n",
       "    <tr>\n",
       "      <th>13</th>\n",
       "      <td>Wii Fit</td>\n",
       "      <td>Wii</td>\n",
       "      <td>2007</td>\n",
       "      <td>Sports</td>\n",
       "      <td>8.92</td>\n",
       "      <td>8.03</td>\n",
       "      <td>3.60</td>\n",
       "      <td>2.15</td>\n",
       "      <td>80.0</td>\n",
       "      <td>7.7</td>\n",
       "      <td>E</td>\n",
       "      <td>22.70</td>\n",
       "    </tr>\n",
       "    <tr>\n",
       "      <th>14</th>\n",
       "      <td>Kinect Adventures!</td>\n",
       "      <td>X360</td>\n",
       "      <td>2010</td>\n",
       "      <td>Misc</td>\n",
       "      <td>15.00</td>\n",
       "      <td>4.89</td>\n",
       "      <td>0.24</td>\n",
       "      <td>1.69</td>\n",
       "      <td>61.0</td>\n",
       "      <td>6.3</td>\n",
       "      <td>E</td>\n",
       "      <td>21.82</td>\n",
       "    </tr>\n",
       "    <tr>\n",
       "      <th>15</th>\n",
       "      <td>Wii Fit Plus</td>\n",
       "      <td>Wii</td>\n",
       "      <td>2009</td>\n",
       "      <td>Sports</td>\n",
       "      <td>9.01</td>\n",
       "      <td>8.49</td>\n",
       "      <td>2.53</td>\n",
       "      <td>1.77</td>\n",
       "      <td>80.0</td>\n",
       "      <td>7.4</td>\n",
       "      <td>E</td>\n",
       "      <td>21.80</td>\n",
       "    </tr>\n",
       "    <tr>\n",
       "      <th>16</th>\n",
       "      <td>Grand Theft Auto V</td>\n",
       "      <td>PS3</td>\n",
       "      <td>2013</td>\n",
       "      <td>Action</td>\n",
       "      <td>7.02</td>\n",
       "      <td>9.09</td>\n",
       "      <td>0.98</td>\n",
       "      <td>3.96</td>\n",
       "      <td>97.0</td>\n",
       "      <td>8.2</td>\n",
       "      <td>M</td>\n",
       "      <td>21.05</td>\n",
       "    </tr>\n",
       "    <tr>\n",
       "      <th>17</th>\n",
       "      <td>Grand Theft Auto: San Andreas</td>\n",
       "      <td>PS2</td>\n",
       "      <td>2004</td>\n",
       "      <td>Action</td>\n",
       "      <td>9.43</td>\n",
       "      <td>0.40</td>\n",
       "      <td>0.41</td>\n",
       "      <td>10.57</td>\n",
       "      <td>95.0</td>\n",
       "      <td>9.0</td>\n",
       "      <td>M</td>\n",
       "      <td>20.81</td>\n",
       "    </tr>\n",
       "    <tr>\n",
       "      <th>18</th>\n",
       "      <td>Super Mario World</td>\n",
       "      <td>SNES</td>\n",
       "      <td>1990</td>\n",
       "      <td>Platform</td>\n",
       "      <td>12.78</td>\n",
       "      <td>3.75</td>\n",
       "      <td>3.54</td>\n",
       "      <td>0.55</td>\n",
       "      <td>NaN</td>\n",
       "      <td>NaN</td>\n",
       "      <td>unknown</td>\n",
       "      <td>20.62</td>\n",
       "    </tr>\n",
       "    <tr>\n",
       "      <th>19</th>\n",
       "      <td>Brain Age: Train Your Brain in Minutes a Day</td>\n",
       "      <td>DS</td>\n",
       "      <td>2005</td>\n",
       "      <td>Misc</td>\n",
       "      <td>4.74</td>\n",
       "      <td>9.20</td>\n",
       "      <td>4.16</td>\n",
       "      <td>2.04</td>\n",
       "      <td>77.0</td>\n",
       "      <td>7.9</td>\n",
       "      <td>E</td>\n",
       "      <td>20.14</td>\n",
       "    </tr>\n",
       "    <tr>\n",
       "      <th>20</th>\n",
       "      <td>Pokemon Diamond/Pokemon Pearl</td>\n",
       "      <td>DS</td>\n",
       "      <td>2006</td>\n",
       "      <td>Role-Playing</td>\n",
       "      <td>6.38</td>\n",
       "      <td>4.46</td>\n",
       "      <td>6.04</td>\n",
       "      <td>1.36</td>\n",
       "      <td>NaN</td>\n",
       "      <td>NaN</td>\n",
       "      <td>unknown</td>\n",
       "      <td>18.24</td>\n",
       "    </tr>\n",
       "    <tr>\n",
       "      <th>21</th>\n",
       "      <td>Super Mario Land</td>\n",
       "      <td>GB</td>\n",
       "      <td>1989</td>\n",
       "      <td>Platform</td>\n",
       "      <td>10.83</td>\n",
       "      <td>2.71</td>\n",
       "      <td>4.18</td>\n",
       "      <td>0.42</td>\n",
       "      <td>NaN</td>\n",
       "      <td>NaN</td>\n",
       "      <td>unknown</td>\n",
       "      <td>18.14</td>\n",
       "    </tr>\n",
       "    <tr>\n",
       "      <th>22</th>\n",
       "      <td>Super Mario Bros. 3</td>\n",
       "      <td>NES</td>\n",
       "      <td>1988</td>\n",
       "      <td>Platform</td>\n",
       "      <td>9.54</td>\n",
       "      <td>3.44</td>\n",
       "      <td>3.84</td>\n",
       "      <td>0.46</td>\n",
       "      <td>NaN</td>\n",
       "      <td>NaN</td>\n",
       "      <td>unknown</td>\n",
       "      <td>17.28</td>\n",
       "    </tr>\n",
       "    <tr>\n",
       "      <th>23</th>\n",
       "      <td>Grand Theft Auto V</td>\n",
       "      <td>X360</td>\n",
       "      <td>2013</td>\n",
       "      <td>Action</td>\n",
       "      <td>9.66</td>\n",
       "      <td>5.14</td>\n",
       "      <td>0.06</td>\n",
       "      <td>1.41</td>\n",
       "      <td>97.0</td>\n",
       "      <td>8.1</td>\n",
       "      <td>M</td>\n",
       "      <td>16.27</td>\n",
       "    </tr>\n",
       "    <tr>\n",
       "      <th>24</th>\n",
       "      <td>Grand Theft Auto: Vice City</td>\n",
       "      <td>PS2</td>\n",
       "      <td>2002</td>\n",
       "      <td>Action</td>\n",
       "      <td>8.41</td>\n",
       "      <td>5.49</td>\n",
       "      <td>0.47</td>\n",
       "      <td>1.78</td>\n",
       "      <td>95.0</td>\n",
       "      <td>8.7</td>\n",
       "      <td>M</td>\n",
       "      <td>16.15</td>\n",
       "    </tr>\n",
       "    <tr>\n",
       "      <th>25</th>\n",
       "      <td>Pokemon Ruby/Pokemon Sapphire</td>\n",
       "      <td>GBA</td>\n",
       "      <td>2002</td>\n",
       "      <td>Role-Playing</td>\n",
       "      <td>6.06</td>\n",
       "      <td>3.90</td>\n",
       "      <td>5.38</td>\n",
       "      <td>0.50</td>\n",
       "      <td>NaN</td>\n",
       "      <td>NaN</td>\n",
       "      <td>unknown</td>\n",
       "      <td>15.84</td>\n",
       "    </tr>\n",
       "    <tr>\n",
       "      <th>26</th>\n",
       "      <td>Brain Age 2: More Training in Minutes a Day</td>\n",
       "      <td>DS</td>\n",
       "      <td>2005</td>\n",
       "      <td>Puzzle</td>\n",
       "      <td>3.43</td>\n",
       "      <td>5.35</td>\n",
       "      <td>5.32</td>\n",
       "      <td>1.18</td>\n",
       "      <td>77.0</td>\n",
       "      <td>7.1</td>\n",
       "      <td>E</td>\n",
       "      <td>15.28</td>\n",
       "    </tr>\n",
       "    <tr>\n",
       "      <th>27</th>\n",
       "      <td>Pokemon Black/Pokemon White</td>\n",
       "      <td>DS</td>\n",
       "      <td>2010</td>\n",
       "      <td>Role-Playing</td>\n",
       "      <td>5.51</td>\n",
       "      <td>3.17</td>\n",
       "      <td>5.65</td>\n",
       "      <td>0.80</td>\n",
       "      <td>NaN</td>\n",
       "      <td>NaN</td>\n",
       "      <td>unknown</td>\n",
       "      <td>15.13</td>\n",
       "    </tr>\n",
       "    <tr>\n",
       "      <th>28</th>\n",
       "      <td>Gran Turismo 3: A-Spec</td>\n",
       "      <td>PS2</td>\n",
       "      <td>2001</td>\n",
       "      <td>Racing</td>\n",
       "      <td>6.85</td>\n",
       "      <td>5.09</td>\n",
       "      <td>1.87</td>\n",
       "      <td>1.16</td>\n",
       "      <td>95.0</td>\n",
       "      <td>8.4</td>\n",
       "      <td>E</td>\n",
       "      <td>14.97</td>\n",
       "    </tr>\n",
       "    <tr>\n",
       "      <th>29</th>\n",
       "      <td>Call of Duty: Modern Warfare 3</td>\n",
       "      <td>X360</td>\n",
       "      <td>2011</td>\n",
       "      <td>Shooter</td>\n",
       "      <td>9.04</td>\n",
       "      <td>4.24</td>\n",
       "      <td>0.13</td>\n",
       "      <td>1.32</td>\n",
       "      <td>88.0</td>\n",
       "      <td>3.4</td>\n",
       "      <td>M</td>\n",
       "      <td>14.73</td>\n",
       "    </tr>\n",
       "    <tr>\n",
       "      <th>...</th>\n",
       "      <td>...</td>\n",
       "      <td>...</td>\n",
       "      <td>...</td>\n",
       "      <td>...</td>\n",
       "      <td>...</td>\n",
       "      <td>...</td>\n",
       "      <td>...</td>\n",
       "      <td>...</td>\n",
       "      <td>...</td>\n",
       "      <td>...</td>\n",
       "      <td>...</td>\n",
       "      <td>...</td>\n",
       "    </tr>\n",
       "    <tr>\n",
       "      <th>16411</th>\n",
       "      <td>Help Wanted: 50 Wacky Jobs (jp sales)</td>\n",
       "      <td>Wii</td>\n",
       "      <td>2008</td>\n",
       "      <td>Simulation</td>\n",
       "      <td>0.00</td>\n",
       "      <td>0.00</td>\n",
       "      <td>0.01</td>\n",
       "      <td>0.00</td>\n",
       "      <td>NaN</td>\n",
       "      <td>NaN</td>\n",
       "      <td>unknown</td>\n",
       "      <td>0.01</td>\n",
       "    </tr>\n",
       "    <tr>\n",
       "      <th>16412</th>\n",
       "      <td>Yattaman Wii: BikkuriDokkiri Machine de Mou Ra...</td>\n",
       "      <td>Wii</td>\n",
       "      <td>2008</td>\n",
       "      <td>Racing</td>\n",
       "      <td>0.00</td>\n",
       "      <td>0.00</td>\n",
       "      <td>0.01</td>\n",
       "      <td>0.00</td>\n",
       "      <td>NaN</td>\n",
       "      <td>NaN</td>\n",
       "      <td>unknown</td>\n",
       "      <td>0.01</td>\n",
       "    </tr>\n",
       "    <tr>\n",
       "      <th>16413</th>\n",
       "      <td>Neo Angelique Special</td>\n",
       "      <td>PSP</td>\n",
       "      <td>2008</td>\n",
       "      <td>Adventure</td>\n",
       "      <td>0.00</td>\n",
       "      <td>0.00</td>\n",
       "      <td>0.01</td>\n",
       "      <td>0.00</td>\n",
       "      <td>NaN</td>\n",
       "      <td>NaN</td>\n",
       "      <td>unknown</td>\n",
       "      <td>0.01</td>\n",
       "    </tr>\n",
       "    <tr>\n",
       "      <th>16414</th>\n",
       "      <td>Outdoors Unleashed: Africa 3D</td>\n",
       "      <td>3DS</td>\n",
       "      <td>2011</td>\n",
       "      <td>Sports</td>\n",
       "      <td>0.01</td>\n",
       "      <td>0.00</td>\n",
       "      <td>0.00</td>\n",
       "      <td>0.00</td>\n",
       "      <td>NaN</td>\n",
       "      <td>0.0</td>\n",
       "      <td>T</td>\n",
       "      <td>0.01</td>\n",
       "    </tr>\n",
       "    <tr>\n",
       "      <th>16415</th>\n",
       "      <td>Real Rode</td>\n",
       "      <td>PS2</td>\n",
       "      <td>2008</td>\n",
       "      <td>Adventure</td>\n",
       "      <td>0.00</td>\n",
       "      <td>0.00</td>\n",
       "      <td>0.01</td>\n",
       "      <td>0.00</td>\n",
       "      <td>NaN</td>\n",
       "      <td>NaN</td>\n",
       "      <td>unknown</td>\n",
       "      <td>0.01</td>\n",
       "    </tr>\n",
       "    <tr>\n",
       "      <th>16416</th>\n",
       "      <td>Pony Friends 2</td>\n",
       "      <td>PC</td>\n",
       "      <td>2009</td>\n",
       "      <td>Simulation</td>\n",
       "      <td>0.00</td>\n",
       "      <td>0.01</td>\n",
       "      <td>0.00</td>\n",
       "      <td>0.00</td>\n",
       "      <td>NaN</td>\n",
       "      <td>NaN</td>\n",
       "      <td>unknown</td>\n",
       "      <td>0.01</td>\n",
       "    </tr>\n",
       "    <tr>\n",
       "      <th>16417</th>\n",
       "      <td>Dynasty Warriors: Eiketsuden</td>\n",
       "      <td>PS3</td>\n",
       "      <td>2016</td>\n",
       "      <td>Action</td>\n",
       "      <td>0.00</td>\n",
       "      <td>0.00</td>\n",
       "      <td>0.01</td>\n",
       "      <td>0.00</td>\n",
       "      <td>NaN</td>\n",
       "      <td>NaN</td>\n",
       "      <td>unknown</td>\n",
       "      <td>0.01</td>\n",
       "    </tr>\n",
       "    <tr>\n",
       "      <th>16418</th>\n",
       "      <td>Metal Gear Solid V: Ground Zeroes</td>\n",
       "      <td>PC</td>\n",
       "      <td>2014</td>\n",
       "      <td>Action</td>\n",
       "      <td>0.00</td>\n",
       "      <td>0.01</td>\n",
       "      <td>0.00</td>\n",
       "      <td>0.00</td>\n",
       "      <td>80.0</td>\n",
       "      <td>7.6</td>\n",
       "      <td>M</td>\n",
       "      <td>0.01</td>\n",
       "    </tr>\n",
       "    <tr>\n",
       "      <th>16419</th>\n",
       "      <td>PGA European Tour</td>\n",
       "      <td>N64</td>\n",
       "      <td>2000</td>\n",
       "      <td>Sports</td>\n",
       "      <td>0.01</td>\n",
       "      <td>0.00</td>\n",
       "      <td>0.00</td>\n",
       "      <td>0.00</td>\n",
       "      <td>NaN</td>\n",
       "      <td>NaN</td>\n",
       "      <td>unknown</td>\n",
       "      <td>0.01</td>\n",
       "    </tr>\n",
       "    <tr>\n",
       "      <th>16420</th>\n",
       "      <td>Carmageddon 64</td>\n",
       "      <td>N64</td>\n",
       "      <td>1999</td>\n",
       "      <td>Action</td>\n",
       "      <td>0.01</td>\n",
       "      <td>0.00</td>\n",
       "      <td>0.00</td>\n",
       "      <td>0.00</td>\n",
       "      <td>NaN</td>\n",
       "      <td>NaN</td>\n",
       "      <td>unknown</td>\n",
       "      <td>0.01</td>\n",
       "    </tr>\n",
       "    <tr>\n",
       "      <th>16421</th>\n",
       "      <td>Planet Monsters</td>\n",
       "      <td>GBA</td>\n",
       "      <td>2001</td>\n",
       "      <td>Action</td>\n",
       "      <td>0.01</td>\n",
       "      <td>0.00</td>\n",
       "      <td>0.00</td>\n",
       "      <td>0.00</td>\n",
       "      <td>67.0</td>\n",
       "      <td>0.0</td>\n",
       "      <td>E</td>\n",
       "      <td>0.01</td>\n",
       "    </tr>\n",
       "    <tr>\n",
       "      <th>16422</th>\n",
       "      <td>Breach</td>\n",
       "      <td>PC</td>\n",
       "      <td>2011</td>\n",
       "      <td>Shooter</td>\n",
       "      <td>0.01</td>\n",
       "      <td>0.00</td>\n",
       "      <td>0.00</td>\n",
       "      <td>0.00</td>\n",
       "      <td>61.0</td>\n",
       "      <td>5.8</td>\n",
       "      <td>T</td>\n",
       "      <td>0.01</td>\n",
       "    </tr>\n",
       "    <tr>\n",
       "      <th>16423</th>\n",
       "      <td>Bust-A-Move 3000</td>\n",
       "      <td>GC</td>\n",
       "      <td>2003</td>\n",
       "      <td>Puzzle</td>\n",
       "      <td>0.01</td>\n",
       "      <td>0.00</td>\n",
       "      <td>0.00</td>\n",
       "      <td>0.00</td>\n",
       "      <td>53.0</td>\n",
       "      <td>0.0</td>\n",
       "      <td>E</td>\n",
       "      <td>0.01</td>\n",
       "    </tr>\n",
       "    <tr>\n",
       "      <th>16424</th>\n",
       "      <td>Mega Brain Boost</td>\n",
       "      <td>DS</td>\n",
       "      <td>2008</td>\n",
       "      <td>Puzzle</td>\n",
       "      <td>0.01</td>\n",
       "      <td>0.00</td>\n",
       "      <td>0.00</td>\n",
       "      <td>0.00</td>\n",
       "      <td>48.0</td>\n",
       "      <td>0.0</td>\n",
       "      <td>E</td>\n",
       "      <td>0.01</td>\n",
       "    </tr>\n",
       "    <tr>\n",
       "      <th>16425</th>\n",
       "      <td>The Longest 5 Minutes</td>\n",
       "      <td>PSV</td>\n",
       "      <td>2016</td>\n",
       "      <td>Action</td>\n",
       "      <td>0.00</td>\n",
       "      <td>0.00</td>\n",
       "      <td>0.01</td>\n",
       "      <td>0.00</td>\n",
       "      <td>NaN</td>\n",
       "      <td>NaN</td>\n",
       "      <td>unknown</td>\n",
       "      <td>0.01</td>\n",
       "    </tr>\n",
       "    <tr>\n",
       "      <th>16426</th>\n",
       "      <td>Mezase!! Tsuri Master DS</td>\n",
       "      <td>DS</td>\n",
       "      <td>2009</td>\n",
       "      <td>Sports</td>\n",
       "      <td>0.00</td>\n",
       "      <td>0.00</td>\n",
       "      <td>0.01</td>\n",
       "      <td>0.00</td>\n",
       "      <td>NaN</td>\n",
       "      <td>NaN</td>\n",
       "      <td>unknown</td>\n",
       "      <td>0.01</td>\n",
       "    </tr>\n",
       "    <tr>\n",
       "      <th>16427</th>\n",
       "      <td>Eiyuu Densetsu: Sora no Kiseki Material Collec...</td>\n",
       "      <td>PSP</td>\n",
       "      <td>2007</td>\n",
       "      <td>Role-Playing</td>\n",
       "      <td>0.00</td>\n",
       "      <td>0.00</td>\n",
       "      <td>0.01</td>\n",
       "      <td>0.00</td>\n",
       "      <td>NaN</td>\n",
       "      <td>NaN</td>\n",
       "      <td>unknown</td>\n",
       "      <td>0.01</td>\n",
       "    </tr>\n",
       "    <tr>\n",
       "      <th>16428</th>\n",
       "      <td>STORM: Frontline Nation</td>\n",
       "      <td>PC</td>\n",
       "      <td>2011</td>\n",
       "      <td>Strategy</td>\n",
       "      <td>0.00</td>\n",
       "      <td>0.01</td>\n",
       "      <td>0.00</td>\n",
       "      <td>0.00</td>\n",
       "      <td>60.0</td>\n",
       "      <td>7.2</td>\n",
       "      <td>E10+</td>\n",
       "      <td>0.01</td>\n",
       "    </tr>\n",
       "    <tr>\n",
       "      <th>16429</th>\n",
       "      <td>Strawberry Nauts</td>\n",
       "      <td>PSV</td>\n",
       "      <td>2016</td>\n",
       "      <td>Adventure</td>\n",
       "      <td>0.00</td>\n",
       "      <td>0.00</td>\n",
       "      <td>0.01</td>\n",
       "      <td>0.00</td>\n",
       "      <td>NaN</td>\n",
       "      <td>NaN</td>\n",
       "      <td>unknown</td>\n",
       "      <td>0.01</td>\n",
       "    </tr>\n",
       "    <tr>\n",
       "      <th>16430</th>\n",
       "      <td>Plushees</td>\n",
       "      <td>DS</td>\n",
       "      <td>2008</td>\n",
       "      <td>Simulation</td>\n",
       "      <td>0.01</td>\n",
       "      <td>0.00</td>\n",
       "      <td>0.00</td>\n",
       "      <td>0.00</td>\n",
       "      <td>NaN</td>\n",
       "      <td>0.0</td>\n",
       "      <td>E</td>\n",
       "      <td>0.01</td>\n",
       "    </tr>\n",
       "    <tr>\n",
       "      <th>16431</th>\n",
       "      <td>15 Days</td>\n",
       "      <td>PC</td>\n",
       "      <td>2009</td>\n",
       "      <td>Adventure</td>\n",
       "      <td>0.00</td>\n",
       "      <td>0.01</td>\n",
       "      <td>0.00</td>\n",
       "      <td>0.00</td>\n",
       "      <td>63.0</td>\n",
       "      <td>5.8</td>\n",
       "      <td>unknown</td>\n",
       "      <td>0.01</td>\n",
       "    </tr>\n",
       "    <tr>\n",
       "      <th>16432</th>\n",
       "      <td>Men in Black II: Alien Escape</td>\n",
       "      <td>GC</td>\n",
       "      <td>2003</td>\n",
       "      <td>Shooter</td>\n",
       "      <td>0.01</td>\n",
       "      <td>0.00</td>\n",
       "      <td>0.00</td>\n",
       "      <td>0.00</td>\n",
       "      <td>NaN</td>\n",
       "      <td>0.0</td>\n",
       "      <td>T</td>\n",
       "      <td>0.01</td>\n",
       "    </tr>\n",
       "    <tr>\n",
       "      <th>16433</th>\n",
       "      <td>Aiyoku no Eustia</td>\n",
       "      <td>PSV</td>\n",
       "      <td>2014</td>\n",
       "      <td>Misc</td>\n",
       "      <td>0.00</td>\n",
       "      <td>0.00</td>\n",
       "      <td>0.01</td>\n",
       "      <td>0.00</td>\n",
       "      <td>NaN</td>\n",
       "      <td>NaN</td>\n",
       "      <td>unknown</td>\n",
       "      <td>0.01</td>\n",
       "    </tr>\n",
       "    <tr>\n",
       "      <th>16434</th>\n",
       "      <td>Woody Woodpecker in Crazy Castle 5</td>\n",
       "      <td>GBA</td>\n",
       "      <td>2002</td>\n",
       "      <td>Platform</td>\n",
       "      <td>0.01</td>\n",
       "      <td>0.00</td>\n",
       "      <td>0.00</td>\n",
       "      <td>0.00</td>\n",
       "      <td>NaN</td>\n",
       "      <td>NaN</td>\n",
       "      <td>unknown</td>\n",
       "      <td>0.01</td>\n",
       "    </tr>\n",
       "    <tr>\n",
       "      <th>16435</th>\n",
       "      <td>SCORE International Baja 1000: The Official Game</td>\n",
       "      <td>PS2</td>\n",
       "      <td>2008</td>\n",
       "      <td>Racing</td>\n",
       "      <td>0.00</td>\n",
       "      <td>0.00</td>\n",
       "      <td>0.00</td>\n",
       "      <td>0.00</td>\n",
       "      <td>NaN</td>\n",
       "      <td>NaN</td>\n",
       "      <td>unknown</td>\n",
       "      <td>0.00</td>\n",
       "    </tr>\n",
       "    <tr>\n",
       "      <th>16436</th>\n",
       "      <td>Samurai Warriors: Sanada Maru</td>\n",
       "      <td>PS3</td>\n",
       "      <td>2016</td>\n",
       "      <td>Action</td>\n",
       "      <td>0.00</td>\n",
       "      <td>0.00</td>\n",
       "      <td>0.01</td>\n",
       "      <td>0.00</td>\n",
       "      <td>NaN</td>\n",
       "      <td>NaN</td>\n",
       "      <td>unknown</td>\n",
       "      <td>0.01</td>\n",
       "    </tr>\n",
       "    <tr>\n",
       "      <th>16437</th>\n",
       "      <td>LMA Manager 2007</td>\n",
       "      <td>X360</td>\n",
       "      <td>2006</td>\n",
       "      <td>Sports</td>\n",
       "      <td>0.00</td>\n",
       "      <td>0.01</td>\n",
       "      <td>0.00</td>\n",
       "      <td>0.00</td>\n",
       "      <td>NaN</td>\n",
       "      <td>NaN</td>\n",
       "      <td>unknown</td>\n",
       "      <td>0.01</td>\n",
       "    </tr>\n",
       "    <tr>\n",
       "      <th>16438</th>\n",
       "      <td>Haitaka no Psychedelica</td>\n",
       "      <td>PSV</td>\n",
       "      <td>2016</td>\n",
       "      <td>Adventure</td>\n",
       "      <td>0.00</td>\n",
       "      <td>0.00</td>\n",
       "      <td>0.01</td>\n",
       "      <td>0.00</td>\n",
       "      <td>NaN</td>\n",
       "      <td>NaN</td>\n",
       "      <td>unknown</td>\n",
       "      <td>0.01</td>\n",
       "    </tr>\n",
       "    <tr>\n",
       "      <th>16439</th>\n",
       "      <td>Spirits &amp; Spells</td>\n",
       "      <td>GBA</td>\n",
       "      <td>2003</td>\n",
       "      <td>Platform</td>\n",
       "      <td>0.01</td>\n",
       "      <td>0.00</td>\n",
       "      <td>0.00</td>\n",
       "      <td>0.00</td>\n",
       "      <td>NaN</td>\n",
       "      <td>NaN</td>\n",
       "      <td>unknown</td>\n",
       "      <td>0.01</td>\n",
       "    </tr>\n",
       "    <tr>\n",
       "      <th>16440</th>\n",
       "      <td>Winning Post 8 2016</td>\n",
       "      <td>PSV</td>\n",
       "      <td>2016</td>\n",
       "      <td>Simulation</td>\n",
       "      <td>0.00</td>\n",
       "      <td>0.00</td>\n",
       "      <td>0.01</td>\n",
       "      <td>0.00</td>\n",
       "      <td>NaN</td>\n",
       "      <td>NaN</td>\n",
       "      <td>unknown</td>\n",
       "      <td>0.01</td>\n",
       "    </tr>\n",
       "  </tbody>\n",
       "</table>\n",
       "<p>16441 rows × 12 columns</p>\n",
       "</div>"
      ],
      "text/plain": [
       "                                                    name platform  \\\n",
       "0                                             Wii Sports      Wii   \n",
       "1                                      Super Mario Bros.      NES   \n",
       "2                                         Mario Kart Wii      Wii   \n",
       "3                                      Wii Sports Resort      Wii   \n",
       "4                               Pokemon Red/Pokemon Blue       GB   \n",
       "5                                                 Tetris       GB   \n",
       "6                                  New Super Mario Bros.       DS   \n",
       "7                                               Wii Play      Wii   \n",
       "8                              New Super Mario Bros. Wii      Wii   \n",
       "9                                              Duck Hunt      NES   \n",
       "10                                            Nintendogs       DS   \n",
       "11                                         Mario Kart DS       DS   \n",
       "12                           Pokemon Gold/Pokemon Silver       GB   \n",
       "13                                               Wii Fit      Wii   \n",
       "14                                    Kinect Adventures!     X360   \n",
       "15                                          Wii Fit Plus      Wii   \n",
       "16                                    Grand Theft Auto V      PS3   \n",
       "17                         Grand Theft Auto: San Andreas      PS2   \n",
       "18                                     Super Mario World     SNES   \n",
       "19          Brain Age: Train Your Brain in Minutes a Day       DS   \n",
       "20                         Pokemon Diamond/Pokemon Pearl       DS   \n",
       "21                                      Super Mario Land       GB   \n",
       "22                                   Super Mario Bros. 3      NES   \n",
       "23                                    Grand Theft Auto V     X360   \n",
       "24                           Grand Theft Auto: Vice City      PS2   \n",
       "25                         Pokemon Ruby/Pokemon Sapphire      GBA   \n",
       "26           Brain Age 2: More Training in Minutes a Day       DS   \n",
       "27                           Pokemon Black/Pokemon White       DS   \n",
       "28                                Gran Turismo 3: A-Spec      PS2   \n",
       "29                        Call of Duty: Modern Warfare 3     X360   \n",
       "...                                                  ...      ...   \n",
       "16411              Help Wanted: 50 Wacky Jobs (jp sales)      Wii   \n",
       "16412  Yattaman Wii: BikkuriDokkiri Machine de Mou Ra...      Wii   \n",
       "16413                              Neo Angelique Special      PSP   \n",
       "16414                      Outdoors Unleashed: Africa 3D      3DS   \n",
       "16415                                          Real Rode      PS2   \n",
       "16416                                     Pony Friends 2       PC   \n",
       "16417                       Dynasty Warriors: Eiketsuden      PS3   \n",
       "16418                  Metal Gear Solid V: Ground Zeroes       PC   \n",
       "16419                                  PGA European Tour      N64   \n",
       "16420                                     Carmageddon 64      N64   \n",
       "16421                                    Planet Monsters      GBA   \n",
       "16422                                             Breach       PC   \n",
       "16423                                   Bust-A-Move 3000       GC   \n",
       "16424                                   Mega Brain Boost       DS   \n",
       "16425                              The Longest 5 Minutes      PSV   \n",
       "16426                           Mezase!! Tsuri Master DS       DS   \n",
       "16427  Eiyuu Densetsu: Sora no Kiseki Material Collec...      PSP   \n",
       "16428                            STORM: Frontline Nation       PC   \n",
       "16429                                   Strawberry Nauts      PSV   \n",
       "16430                                           Plushees       DS   \n",
       "16431                                            15 Days       PC   \n",
       "16432                      Men in Black II: Alien Escape       GC   \n",
       "16433                                   Aiyoku no Eustia      PSV   \n",
       "16434                 Woody Woodpecker in Crazy Castle 5      GBA   \n",
       "16435   SCORE International Baja 1000: The Official Game      PS2   \n",
       "16436                      Samurai Warriors: Sanada Maru      PS3   \n",
       "16437                                   LMA Manager 2007     X360   \n",
       "16438                            Haitaka no Psychedelica      PSV   \n",
       "16439                                   Spirits & Spells      GBA   \n",
       "16440                                Winning Post 8 2016      PSV   \n",
       "\n",
       "       year_of_release         genre  na_sales  eu_sales  jp_sales  \\\n",
       "0                 2006        Sports     41.36     28.96      3.77   \n",
       "1                 1985      Platform     29.08      3.58      6.81   \n",
       "2                 2008        Racing     15.68     12.76      3.79   \n",
       "3                 2009        Sports     15.61     10.93      3.28   \n",
       "4                 1996  Role-Playing     11.27      8.89     10.22   \n",
       "5                 1989        Puzzle     23.20      2.26      4.22   \n",
       "6                 2006      Platform     11.28      9.14      6.50   \n",
       "7                 2006          Misc     13.96      9.18      2.93   \n",
       "8                 2009      Platform     14.44      6.94      4.70   \n",
       "9                 1984       Shooter     26.93      0.63      0.28   \n",
       "10                2005    Simulation      9.05     10.95      1.93   \n",
       "11                2005        Racing      9.71      7.47      4.13   \n",
       "12                1999  Role-Playing      9.00      6.18      7.20   \n",
       "13                2007        Sports      8.92      8.03      3.60   \n",
       "14                2010          Misc     15.00      4.89      0.24   \n",
       "15                2009        Sports      9.01      8.49      2.53   \n",
       "16                2013        Action      7.02      9.09      0.98   \n",
       "17                2004        Action      9.43      0.40      0.41   \n",
       "18                1990      Platform     12.78      3.75      3.54   \n",
       "19                2005          Misc      4.74      9.20      4.16   \n",
       "20                2006  Role-Playing      6.38      4.46      6.04   \n",
       "21                1989      Platform     10.83      2.71      4.18   \n",
       "22                1988      Platform      9.54      3.44      3.84   \n",
       "23                2013        Action      9.66      5.14      0.06   \n",
       "24                2002        Action      8.41      5.49      0.47   \n",
       "25                2002  Role-Playing      6.06      3.90      5.38   \n",
       "26                2005        Puzzle      3.43      5.35      5.32   \n",
       "27                2010  Role-Playing      5.51      3.17      5.65   \n",
       "28                2001        Racing      6.85      5.09      1.87   \n",
       "29                2011       Shooter      9.04      4.24      0.13   \n",
       "...                ...           ...       ...       ...       ...   \n",
       "16411             2008    Simulation      0.00      0.00      0.01   \n",
       "16412             2008        Racing      0.00      0.00      0.01   \n",
       "16413             2008     Adventure      0.00      0.00      0.01   \n",
       "16414             2011        Sports      0.01      0.00      0.00   \n",
       "16415             2008     Adventure      0.00      0.00      0.01   \n",
       "16416             2009    Simulation      0.00      0.01      0.00   \n",
       "16417             2016        Action      0.00      0.00      0.01   \n",
       "16418             2014        Action      0.00      0.01      0.00   \n",
       "16419             2000        Sports      0.01      0.00      0.00   \n",
       "16420             1999        Action      0.01      0.00      0.00   \n",
       "16421             2001        Action      0.01      0.00      0.00   \n",
       "16422             2011       Shooter      0.01      0.00      0.00   \n",
       "16423             2003        Puzzle      0.01      0.00      0.00   \n",
       "16424             2008        Puzzle      0.01      0.00      0.00   \n",
       "16425             2016        Action      0.00      0.00      0.01   \n",
       "16426             2009        Sports      0.00      0.00      0.01   \n",
       "16427             2007  Role-Playing      0.00      0.00      0.01   \n",
       "16428             2011      Strategy      0.00      0.01      0.00   \n",
       "16429             2016     Adventure      0.00      0.00      0.01   \n",
       "16430             2008    Simulation      0.01      0.00      0.00   \n",
       "16431             2009     Adventure      0.00      0.01      0.00   \n",
       "16432             2003       Shooter      0.01      0.00      0.00   \n",
       "16433             2014          Misc      0.00      0.00      0.01   \n",
       "16434             2002      Platform      0.01      0.00      0.00   \n",
       "16435             2008        Racing      0.00      0.00      0.00   \n",
       "16436             2016        Action      0.00      0.00      0.01   \n",
       "16437             2006        Sports      0.00      0.01      0.00   \n",
       "16438             2016     Adventure      0.00      0.00      0.01   \n",
       "16439             2003      Platform      0.01      0.00      0.00   \n",
       "16440             2016    Simulation      0.00      0.00      0.01   \n",
       "\n",
       "       other_sales  critic_score  user_score   rating  total_sales  \n",
       "0             8.45          76.0         8.0        E        82.54  \n",
       "1             0.77           NaN         NaN  unknown        40.24  \n",
       "2             3.29          82.0         8.3        E        35.52  \n",
       "3             2.95          80.0         8.0        E        32.77  \n",
       "4             1.00           NaN         NaN  unknown        31.38  \n",
       "5             0.58           NaN         NaN  unknown        30.26  \n",
       "6             2.88          89.0         8.5        E        29.80  \n",
       "7             2.84          58.0         6.6        E        28.91  \n",
       "8             2.24          87.0         8.4        E        28.32  \n",
       "9             0.47           NaN         NaN  unknown        28.31  \n",
       "10            2.74           NaN         NaN  unknown        24.67  \n",
       "11            1.90          91.0         8.6        E        23.21  \n",
       "12            0.71           NaN         NaN  unknown        23.09  \n",
       "13            2.15          80.0         7.7        E        22.70  \n",
       "14            1.69          61.0         6.3        E        21.82  \n",
       "15            1.77          80.0         7.4        E        21.80  \n",
       "16            3.96          97.0         8.2        M        21.05  \n",
       "17           10.57          95.0         9.0        M        20.81  \n",
       "18            0.55           NaN         NaN  unknown        20.62  \n",
       "19            2.04          77.0         7.9        E        20.14  \n",
       "20            1.36           NaN         NaN  unknown        18.24  \n",
       "21            0.42           NaN         NaN  unknown        18.14  \n",
       "22            0.46           NaN         NaN  unknown        17.28  \n",
       "23            1.41          97.0         8.1        M        16.27  \n",
       "24            1.78          95.0         8.7        M        16.15  \n",
       "25            0.50           NaN         NaN  unknown        15.84  \n",
       "26            1.18          77.0         7.1        E        15.28  \n",
       "27            0.80           NaN         NaN  unknown        15.13  \n",
       "28            1.16          95.0         8.4        E        14.97  \n",
       "29            1.32          88.0         3.4        M        14.73  \n",
       "...            ...           ...         ...      ...          ...  \n",
       "16411         0.00           NaN         NaN  unknown         0.01  \n",
       "16412         0.00           NaN         NaN  unknown         0.01  \n",
       "16413         0.00           NaN         NaN  unknown         0.01  \n",
       "16414         0.00           NaN         0.0        T         0.01  \n",
       "16415         0.00           NaN         NaN  unknown         0.01  \n",
       "16416         0.00           NaN         NaN  unknown         0.01  \n",
       "16417         0.00           NaN         NaN  unknown         0.01  \n",
       "16418         0.00          80.0         7.6        M         0.01  \n",
       "16419         0.00           NaN         NaN  unknown         0.01  \n",
       "16420         0.00           NaN         NaN  unknown         0.01  \n",
       "16421         0.00          67.0         0.0        E         0.01  \n",
       "16422         0.00          61.0         5.8        T         0.01  \n",
       "16423         0.00          53.0         0.0        E         0.01  \n",
       "16424         0.00          48.0         0.0        E         0.01  \n",
       "16425         0.00           NaN         NaN  unknown         0.01  \n",
       "16426         0.00           NaN         NaN  unknown         0.01  \n",
       "16427         0.00           NaN         NaN  unknown         0.01  \n",
       "16428         0.00          60.0         7.2     E10+         0.01  \n",
       "16429         0.00           NaN         NaN  unknown         0.01  \n",
       "16430         0.00           NaN         0.0        E         0.01  \n",
       "16431         0.00          63.0         5.8  unknown         0.01  \n",
       "16432         0.00           NaN         0.0        T         0.01  \n",
       "16433         0.00           NaN         NaN  unknown         0.01  \n",
       "16434         0.00           NaN         NaN  unknown         0.01  \n",
       "16435         0.00           NaN         NaN  unknown         0.00  \n",
       "16436         0.00           NaN         NaN  unknown         0.01  \n",
       "16437         0.00           NaN         NaN  unknown         0.01  \n",
       "16438         0.00           NaN         NaN  unknown         0.01  \n",
       "16439         0.00           NaN         NaN  unknown         0.01  \n",
       "16440         0.00           NaN         NaN  unknown         0.01  \n",
       "\n",
       "[16441 rows x 12 columns]"
      ]
     },
     "execution_count": 31,
     "metadata": {},
     "output_type": "execute_result"
    }
   ],
   "source": [
    "data_full.reset_index(drop=True) #refresh indexes"
   ]
  },
  {
   "cell_type": "markdown",
   "metadata": {},
   "source": [
    "# Step 3. \n",
    "**Do an exploratory analysis**"
   ]
  },
  {
   "cell_type": "markdown",
   "metadata": {},
   "source": [
    "Researching how many games were released in different years"
   ]
  },
  {
   "cell_type": "code",
   "execution_count": 32,
   "metadata": {},
   "outputs": [
    {
     "name": "stdout",
     "output_type": "stream",
     "text": [
      "year_of_release\n",
      "1980       9\n",
      "1981      46\n",
      "1982      36\n",
      "1983      17\n",
      "1984      14\n",
      "1985      14\n",
      "1986      21\n",
      "1987      16\n",
      "1988      15\n",
      "1989      17\n",
      "1990      16\n",
      "1991      41\n",
      "1992      43\n",
      "1993      60\n",
      "1994     121\n",
      "1995     219\n",
      "1996     263\n",
      "1997     289\n",
      "1998     379\n",
      "1999     338\n",
      "2000     350\n",
      "2001     482\n",
      "2002     829\n",
      "2003     775\n",
      "2004     762\n",
      "2005     939\n",
      "2006    1006\n",
      "2007    1197\n",
      "2008    1427\n",
      "2009    1426\n",
      "2010    1255\n",
      "2011    1136\n",
      "2012     650\n",
      "2013     544\n",
      "2014     581\n",
      "2015     606\n",
      "2016     502\n",
      "Name: platform, dtype: int64\n"
     ]
    }
   ],
   "source": [
    "print(data_full.groupby('year_of_release').count()['platform']) "
   ]
  },
  {
   "cell_type": "code",
   "execution_count": 33,
   "metadata": {},
   "outputs": [
    {
     "data": {
      "image/png": "[encoded data removed]",
      "text/plain": [
       "<Figure size 432x288 with 1 Axes>"
      ]
     },
     "metadata": {
      "needs_background": "light"
     },
     "output_type": "display_data"
    }
   ],
   "source": [
    "data_full.groupby('year_of_release').count()['platform'].plot\n",
    "plt.title(label='Number of games released on different platforms by year')\n",
    "plt.xlabel(xlabel='Years')\n",
    "plt.ylabel(ylabel='million copies of games across platforms')\n",
    "\n",
    "plt.show()\n"
   ]
  },
  {
   "cell_type": "markdown",
   "metadata": {},
   "source": [
    "Less than 100 games per year were released before 1994, there is too little data to analyze, so it only makes sense to analyze data from 1994 onwards."
   ]
  },
  {
   "cell_type": "markdown",
   "metadata": {},
   "source": [
    "Let's see how sales have changed by platform. Let's choose the platforms with the highest total sales and plot the distribution by year."
   ]
  },
  {
   "cell_type": "code",
   "execution_count": 34,
   "metadata": {},
   "outputs": [
    {
     "data": {
      "text/plain": [
       "platform\n",
       "2600     116\n",
       "3DO        3\n",
       "3DS      512\n",
       "DC        52\n",
       "DS      2121\n",
       "GB        97\n",
       "GBA      811\n",
       "GC       542\n",
       "GEN       27\n",
       "GG         1\n",
       "N64      316\n",
       "NES       98\n",
       "NG        12\n",
       "PC       956\n",
       "PCFX       1\n",
       "PS      1190\n",
       "PS2     2127\n",
       "PS3     1305\n",
       "PS4      392\n",
       "PSP     1193\n",
       "PSV      429\n",
       "SAT      173\n",
       "SCD        6\n",
       "SNES     239\n",
       "TG16       2\n",
       "WS         6\n",
       "Wii     1286\n",
       "WiiU     147\n",
       "X360    1231\n",
       "XB       803\n",
       "XOne     247\n",
       "Name: name, dtype: int64"
      ]
     },
     "execution_count": 34,
     "metadata": {},
     "output_type": "execute_result"
    }
   ],
   "source": [
    "data_full.groupby('platform').count()['name'] #look at how many games have been released on different platforms."
   ]
  },
  {
   "cell_type": "code",
   "execution_count": 35,
   "metadata": {},
   "outputs": [
    {
     "data": {
      "text/plain": [
       "platform\n",
       "PS2     1233.56\n",
       "X360     959.68\n",
       "PS3      931.33\n",
       "Wii      891.18\n",
       "DS       802.78\n",
       "PS       727.58\n",
       "PS4      314.14\n",
       "GBA      312.88\n",
       "PSP      289.53\n",
       "3DS      257.81\n",
       "PC       255.68\n",
       "GB       254.43\n",
       "XB       251.57\n",
       "NES      251.05\n",
       "N64      218.01\n",
       "SNES     200.04\n",
       "GC       196.73\n",
       "XOne     159.32\n",
       "2600      86.48\n",
       "WiiU      82.19\n",
       "PSV       53.81\n",
       "SAT       33.59\n",
       "GEN       28.35\n",
       "DC        15.95\n",
       "SCD        1.86\n",
       "NG         1.44\n",
       "WS         1.42\n",
       "TG16       0.16\n",
       "3DO        0.10\n",
       "GG         0.04\n",
       "PCFX       0.03\n",
       "Name: total_sales, dtype: float64"
      ]
     },
     "execution_count": 35,
     "metadata": {},
     "output_type": "execute_result"
    }
   ],
   "source": [
    "data_full.groupby('platform').sum().sort_values(by='total_sales', ascending=False)['total_sales'] #platform ranking by global sales"
   ]
  },
  {
   "cell_type": "markdown",
   "metadata": {},
   "source": [
    "We can see the gap between the leaders by several orders of magnitude. To analyze \"by year\" let's take the top 6 platforms, because the seventh (PS4) is more than twice behind the sixth (PS).\n",
    "\n",
    "Let's define the list of top-6 platforms"
   ]
  },
  {
   "cell_type": "code",
   "execution_count": 36,
   "metadata": {},
   "outputs": [
    {
     "data": {
      "text/plain": [
       "platform\n",
       "PS2     1233.56\n",
       "X360     959.68\n",
       "PS3      931.33\n",
       "Wii      891.18\n",
       "DS       802.78\n",
       "PS       727.58\n",
       "Name: total_sales, dtype: float64"
      ]
     },
     "execution_count": 36,
     "metadata": {},
     "output_type": "execute_result"
    }
   ],
   "source": [
    "top_platforms = data_full.groupby('platform').sum().sort_values(by='total_sales', ascending=False)['total_sales'].head(6)\n",
    "top_platforms"
   ]
  },
  {
   "cell_type": "code",
   "execution_count": 37,
   "metadata": {},
   "outputs": [
    {
     "data": {
      "text/plain": [
       "['PS2', 'X360', 'PS3', 'Wii', 'DS', 'PS']"
      ]
     },
     "execution_count": 37,
     "metadata": {},
     "output_type": "execute_result"
    }
   ],
   "source": [
    "top_platforms_list = list(top_platforms.index)\n",
    "top_platforms_list"
   ]
  },
  {
   "cell_type": "markdown",
   "metadata": {},
   "source": [
    "We have obtained a list of the top 6 platforms with the highest global sales. Let's plot the distribution of global game sales on these platforms by years and see the characteristic \"lifetime\" of games on the top platforms"
   ]
  },
  {
   "cell_type": "code",
   "execution_count": 38,
   "metadata": {},
   "outputs": [
    {
     "data": {
      "image/png": "[encoded data removed]",
      "text/plain": [
       "<Figure size 432x288 with 1 Axes>"
      ]
     },
     "metadata": {
      "needs_background": "light"
     },
     "output_type": "display_data"
    }
   ],
   "source": [
    "data_full_top = data_full.query('platform in @top_platforms_list')\n",
    "\n",
    "data_full_plot = data_full_top.pivot_table(\n",
    "        index='year_of_release', \n",
    "        values='total_sales', \n",
    "        columns='platform', \n",
    "        aggfunc=['sum']).plot\n",
    "plt.title(label='Distribution of global game sales of the top 6 platforms by year')\n",
    "plt.xlabel(xlabel='years')\n",
    "plt.ylabel(ylabel='million copies of games across platforms')\n",
    "\n",
    "plt.show()"
   ]
  },
  {
   "cell_type": "markdown",
   "metadata": {},
   "source": [
    "The graph shows that the characteristic \"life time\" of the game is about 7-10 years, with the game completely losing its relevance in 10 years.\n",
    "\n",
    "Thus, to make a forecast for 2017, it is necessary to use data for no more than 10 previous years. Older data will not be relevant.\n",
    "\n",
    "For further analysis, we will limit the sample to current data:"
   ]
  },
  {
   "cell_type": "code",
   "execution_count": 39,
   "metadata": {},
   "outputs": [
    {
     "data": {
      "text/html": [
       "<div>\n",
       "<style scoped>\n",
       "    .dataframe tbody tr th:only-of-type {\n",
       "        vertical-align: middle;\n",
       "    }\n",
       "\n",
       "    .dataframe tbody tr th {\n",
       "        vertical-align: top;\n",
       "    }\n",
       "\n",
       "    .dataframe thead th {\n",
       "        text-align: right;\n",
       "    }\n",
       "</style>\n",
       "<table border=\"1\" class=\"dataframe\">\n",
       "  <thead>\n",
       "    <tr style=\"text-align: right;\">\n",
       "      <th></th>\n",
       "      <th>name</th>\n",
       "      <th>platform</th>\n",
       "      <th>year_of_release</th>\n",
       "      <th>genre</th>\n",
       "      <th>na_sales</th>\n",
       "      <th>eu_sales</th>\n",
       "      <th>jp_sales</th>\n",
       "      <th>other_sales</th>\n",
       "      <th>critic_score</th>\n",
       "      <th>user_score</th>\n",
       "      <th>rating</th>\n",
       "      <th>total_sales</th>\n",
       "    </tr>\n",
       "  </thead>\n",
       "  <tbody>\n",
       "    <tr>\n",
       "      <th>16</th>\n",
       "      <td>Grand Theft Auto V</td>\n",
       "      <td>PS3</td>\n",
       "      <td>2013</td>\n",
       "      <td>Action</td>\n",
       "      <td>7.02</td>\n",
       "      <td>9.09</td>\n",
       "      <td>0.98</td>\n",
       "      <td>3.96</td>\n",
       "      <td>97.0</td>\n",
       "      <td>8.2</td>\n",
       "      <td>M</td>\n",
       "      <td>21.05</td>\n",
       "    </tr>\n",
       "    <tr>\n",
       "      <th>23</th>\n",
       "      <td>Grand Theft Auto V</td>\n",
       "      <td>X360</td>\n",
       "      <td>2013</td>\n",
       "      <td>Action</td>\n",
       "      <td>9.66</td>\n",
       "      <td>5.14</td>\n",
       "      <td>0.06</td>\n",
       "      <td>1.41</td>\n",
       "      <td>97.0</td>\n",
       "      <td>8.1</td>\n",
       "      <td>M</td>\n",
       "      <td>16.27</td>\n",
       "    </tr>\n",
       "    <tr>\n",
       "      <th>31</th>\n",
       "      <td>Call of Duty: Black Ops 3</td>\n",
       "      <td>PS4</td>\n",
       "      <td>2015</td>\n",
       "      <td>Shooter</td>\n",
       "      <td>6.03</td>\n",
       "      <td>5.86</td>\n",
       "      <td>0.36</td>\n",
       "      <td>2.38</td>\n",
       "      <td>NaN</td>\n",
       "      <td>NaN</td>\n",
       "      <td>unknown</td>\n",
       "      <td>14.63</td>\n",
       "    </tr>\n",
       "    <tr>\n",
       "      <th>33</th>\n",
       "      <td>Pokemon X/Pokemon Y</td>\n",
       "      <td>3DS</td>\n",
       "      <td>2013</td>\n",
       "      <td>Role-Playing</td>\n",
       "      <td>5.28</td>\n",
       "      <td>4.19</td>\n",
       "      <td>4.35</td>\n",
       "      <td>0.78</td>\n",
       "      <td>NaN</td>\n",
       "      <td>NaN</td>\n",
       "      <td>unknown</td>\n",
       "      <td>14.60</td>\n",
       "    </tr>\n",
       "    <tr>\n",
       "      <th>42</th>\n",
       "      <td>Grand Theft Auto V</td>\n",
       "      <td>PS4</td>\n",
       "      <td>2014</td>\n",
       "      <td>Action</td>\n",
       "      <td>3.96</td>\n",
       "      <td>6.31</td>\n",
       "      <td>0.38</td>\n",
       "      <td>1.97</td>\n",
       "      <td>97.0</td>\n",
       "      <td>8.3</td>\n",
       "      <td>M</td>\n",
       "      <td>12.62</td>\n",
       "    </tr>\n",
       "  </tbody>\n",
       "</table>\n",
       "</div>"
      ],
      "text/plain": [
       "                         name platform  year_of_release         genre  \\\n",
       "16         Grand Theft Auto V      PS3             2013        Action   \n",
       "23         Grand Theft Auto V     X360             2013        Action   \n",
       "31  Call of Duty: Black Ops 3      PS4             2015       Shooter   \n",
       "33        Pokemon X/Pokemon Y      3DS             2013  Role-Playing   \n",
       "42         Grand Theft Auto V      PS4             2014        Action   \n",
       "\n",
       "    na_sales  eu_sales  jp_sales  other_sales  critic_score  user_score  \\\n",
       "16      7.02      9.09      0.98         3.96          97.0         8.2   \n",
       "23      9.66      5.14      0.06         1.41          97.0         8.1   \n",
       "31      6.03      5.86      0.36         2.38           NaN         NaN   \n",
       "33      5.28      4.19      4.35         0.78           NaN         NaN   \n",
       "42      3.96      6.31      0.38         1.97          97.0         8.3   \n",
       "\n",
       "     rating  total_sales  \n",
       "16        M        21.05  \n",
       "23        M        16.27  \n",
       "31  unknown        14.63  \n",
       "33  unknown        14.60  \n",
       "42        M        12.62  "
      ]
     },
     "execution_count": 39,
     "metadata": {},
     "output_type": "execute_result"
    }
   ],
   "source": [
    "max_year = data_full['year_of_release'].max()-3  #actual period of analysis - 3 years\n",
    "data_full_actual = data_full.query('year_of_release >= @max_year') #make a proper query\n",
    "#data_full_actual.info()\n",
    "data_full_actual.head()\n"
   ]
  },
  {
   "cell_type": "markdown",
   "metadata": {},
   "source": [
    "We will analyze actual data on platform profitability and sales dynamics by year."
   ]
  },
  {
   "cell_type": "code",
   "execution_count": 40,
   "metadata": {},
   "outputs": [
    {
     "data": {
      "image/png": "[encoded data removed]",
      "text/plain": [
       "<Figure size 432x288 with 1 Axes>"
      ]
     },
     "metadata": {
      "needs_background": "light"
     },
     "output_type": "display_data"
    }
   ],
   "source": [
    "data_full_actual_pivot = data_full_actual.pivot_table(\n",
    "    index='year_of_release', \n",
    "    values='total_sales', \n",
    "    columns='platform', \n",
    "    aggfunc=['sum'])\n",
    "\n",
    "\n",
    "data_full_actual_plot = data_full_actual_pivot.plot\n",
    "\n",
    "\n",
    "plt.title(label='Global game sales by year')\n",
    "plt.xlabel(xlabel='years')\n",
    "plt.ylabel(ylabel='millions of copies')\n",
    "\n",
    "plt.show()"
   ]
  },
  {
   "cell_type": "markdown",
   "metadata": {},
   "source": [
    "The graph of absolute values of sales is not very informative; the indicator \"market share dynamics\" is more important for analyzing dynamics. Let's try to calculate annual shares for all platforms and look at changes in shares by year. \n",
    "To do this, we need to calculate the total sales volume for each year."
   ]
  },
  {
   "cell_type": "code",
   "execution_count": 41,
   "metadata": {},
   "outputs": [
    {
     "data": {
      "text/html": [
       "<div>\n",
       "<style scoped>\n",
       "    .dataframe tbody tr th:only-of-type {\n",
       "        vertical-align: middle;\n",
       "    }\n",
       "\n",
       "    .dataframe tbody tr th {\n",
       "        vertical-align: top;\n",
       "    }\n",
       "\n",
       "    .dataframe thead tr th {\n",
       "        text-align: left;\n",
       "    }\n",
       "\n",
       "    .dataframe thead tr:last-of-type th {\n",
       "        text-align: right;\n",
       "    }\n",
       "</style>\n",
       "<table border=\"1\" class=\"dataframe\">\n",
       "  <thead>\n",
       "    <tr>\n",
       "      <th></th>\n",
       "      <th colspan=\"11\" halign=\"left\">sum</th>\n",
       "    </tr>\n",
       "    <tr>\n",
       "      <th>platform</th>\n",
       "      <th>3DS</th>\n",
       "      <th>DS</th>\n",
       "      <th>PC</th>\n",
       "      <th>PS3</th>\n",
       "      <th>PS4</th>\n",
       "      <th>PSP</th>\n",
       "      <th>PSV</th>\n",
       "      <th>Wii</th>\n",
       "      <th>WiiU</th>\n",
       "      <th>X360</th>\n",
       "      <th>XOne</th>\n",
       "    </tr>\n",
       "    <tr>\n",
       "      <th>year_of_release</th>\n",
       "      <th></th>\n",
       "      <th></th>\n",
       "      <th></th>\n",
       "      <th></th>\n",
       "      <th></th>\n",
       "      <th></th>\n",
       "      <th></th>\n",
       "      <th></th>\n",
       "      <th></th>\n",
       "      <th></th>\n",
       "      <th></th>\n",
       "    </tr>\n",
       "  </thead>\n",
       "  <tbody>\n",
       "    <tr>\n",
       "      <th>2013</th>\n",
       "      <td>56.57</td>\n",
       "      <td>1.54</td>\n",
       "      <td>12.38</td>\n",
       "      <td>113.25</td>\n",
       "      <td>25.99</td>\n",
       "      <td>3.14</td>\n",
       "      <td>10.59</td>\n",
       "      <td>8.59</td>\n",
       "      <td>21.65</td>\n",
       "      <td>88.58</td>\n",
       "      <td>18.96</td>\n",
       "    </tr>\n",
       "    <tr>\n",
       "      <th>2014</th>\n",
       "      <td>43.76</td>\n",
       "      <td>NaN</td>\n",
       "      <td>13.28</td>\n",
       "      <td>47.76</td>\n",
       "      <td>100.00</td>\n",
       "      <td>0.24</td>\n",
       "      <td>11.90</td>\n",
       "      <td>3.75</td>\n",
       "      <td>22.03</td>\n",
       "      <td>34.74</td>\n",
       "      <td>54.07</td>\n",
       "    </tr>\n",
       "    <tr>\n",
       "      <th>2015</th>\n",
       "      <td>27.78</td>\n",
       "      <td>NaN</td>\n",
       "      <td>8.52</td>\n",
       "      <td>16.82</td>\n",
       "      <td>118.90</td>\n",
       "      <td>0.12</td>\n",
       "      <td>6.25</td>\n",
       "      <td>1.14</td>\n",
       "      <td>16.35</td>\n",
       "      <td>11.96</td>\n",
       "      <td>60.14</td>\n",
       "    </tr>\n",
       "    <tr>\n",
       "      <th>2016</th>\n",
       "      <td>15.14</td>\n",
       "      <td>NaN</td>\n",
       "      <td>5.25</td>\n",
       "      <td>3.60</td>\n",
       "      <td>69.25</td>\n",
       "      <td>NaN</td>\n",
       "      <td>4.25</td>\n",
       "      <td>0.18</td>\n",
       "      <td>4.60</td>\n",
       "      <td>1.52</td>\n",
       "      <td>26.15</td>\n",
       "    </tr>\n",
       "  </tbody>\n",
       "</table>\n",
       "</div>"
      ],
      "text/plain": [
       "                   sum                                                         \\\n",
       "platform           3DS    DS     PC     PS3     PS4   PSP    PSV   Wii   WiiU   \n",
       "year_of_release                                                                 \n",
       "2013             56.57  1.54  12.38  113.25   25.99  3.14  10.59  8.59  21.65   \n",
       "2014             43.76   NaN  13.28   47.76  100.00  0.24  11.90  3.75  22.03   \n",
       "2015             27.78   NaN   8.52   16.82  118.90  0.12   6.25  1.14  16.35   \n",
       "2016             15.14   NaN   5.25    3.60   69.25   NaN   4.25  0.18   4.60   \n",
       "\n",
       "                               \n",
       "platform          X360   XOne  \n",
       "year_of_release                \n",
       "2013             88.58  18.96  \n",
       "2014             34.74  54.07  \n",
       "2015             11.96  60.14  \n",
       "2016              1.52  26.15  "
      ]
     },
     "execution_count": 41,
     "metadata": {},
     "output_type": "execute_result"
    }
   ],
   "source": [
    "data_full_actual_pivot.head()"
   ]
  },
  {
   "cell_type": "markdown",
   "metadata": {},
   "source": [
    "removed the multi-index"
   ]
  },
  {
   "cell_type": "code",
   "execution_count": 42,
   "metadata": {},
   "outputs": [
    {
     "data": {
      "text/html": [
       "<div>\n",
       "<style scoped>\n",
       "    .dataframe tbody tr th:only-of-type {\n",
       "        vertical-align: middle;\n",
       "    }\n",
       "\n",
       "    .dataframe tbody tr th {\n",
       "        vertical-align: top;\n",
       "    }\n",
       "\n",
       "    .dataframe thead tr th {\n",
       "        text-align: left;\n",
       "    }\n",
       "\n",
       "    .dataframe thead tr:last-of-type th {\n",
       "        text-align: right;\n",
       "    }\n",
       "</style>\n",
       "<table border=\"1\" class=\"dataframe\">\n",
       "  <thead>\n",
       "    <tr>\n",
       "      <th></th>\n",
       "      <th colspan=\"11\" halign=\"left\">sum</th>\n",
       "    </tr>\n",
       "    <tr>\n",
       "      <th>platform</th>\n",
       "      <th>3DS</th>\n",
       "      <th>DS</th>\n",
       "      <th>PC</th>\n",
       "      <th>PS3</th>\n",
       "      <th>PS4</th>\n",
       "      <th>PSP</th>\n",
       "      <th>PSV</th>\n",
       "      <th>Wii</th>\n",
       "      <th>WiiU</th>\n",
       "      <th>X360</th>\n",
       "      <th>XOne</th>\n",
       "    </tr>\n",
       "    <tr>\n",
       "      <th>year_of_release</th>\n",
       "      <th></th>\n",
       "      <th></th>\n",
       "      <th></th>\n",
       "      <th></th>\n",
       "      <th></th>\n",
       "      <th></th>\n",
       "      <th></th>\n",
       "      <th></th>\n",
       "      <th></th>\n",
       "      <th></th>\n",
       "      <th></th>\n",
       "    </tr>\n",
       "  </thead>\n",
       "  <tbody>\n",
       "    <tr>\n",
       "      <th>2013</th>\n",
       "      <td>56.57</td>\n",
       "      <td>1.54</td>\n",
       "      <td>12.38</td>\n",
       "      <td>113.25</td>\n",
       "      <td>25.99</td>\n",
       "      <td>3.14</td>\n",
       "      <td>10.59</td>\n",
       "      <td>8.59</td>\n",
       "      <td>21.65</td>\n",
       "      <td>88.58</td>\n",
       "      <td>18.96</td>\n",
       "    </tr>\n",
       "    <tr>\n",
       "      <th>2014</th>\n",
       "      <td>43.76</td>\n",
       "      <td>NaN</td>\n",
       "      <td>13.28</td>\n",
       "      <td>47.76</td>\n",
       "      <td>100.00</td>\n",
       "      <td>0.24</td>\n",
       "      <td>11.90</td>\n",
       "      <td>3.75</td>\n",
       "      <td>22.03</td>\n",
       "      <td>34.74</td>\n",
       "      <td>54.07</td>\n",
       "    </tr>\n",
       "    <tr>\n",
       "      <th>2015</th>\n",
       "      <td>27.78</td>\n",
       "      <td>NaN</td>\n",
       "      <td>8.52</td>\n",
       "      <td>16.82</td>\n",
       "      <td>118.90</td>\n",
       "      <td>0.12</td>\n",
       "      <td>6.25</td>\n",
       "      <td>1.14</td>\n",
       "      <td>16.35</td>\n",
       "      <td>11.96</td>\n",
       "      <td>60.14</td>\n",
       "    </tr>\n",
       "    <tr>\n",
       "      <th>2016</th>\n",
       "      <td>15.14</td>\n",
       "      <td>NaN</td>\n",
       "      <td>5.25</td>\n",
       "      <td>3.60</td>\n",
       "      <td>69.25</td>\n",
       "      <td>NaN</td>\n",
       "      <td>4.25</td>\n",
       "      <td>0.18</td>\n",
       "      <td>4.60</td>\n",
       "      <td>1.52</td>\n",
       "      <td>26.15</td>\n",
       "    </tr>\n",
       "  </tbody>\n",
       "</table>\n",
       "</div>"
      ],
      "text/plain": [
       "                   sum                                                         \\\n",
       "platform           3DS    DS     PC     PS3     PS4   PSP    PSV   Wii   WiiU   \n",
       "year_of_release                                                                 \n",
       "2013             56.57  1.54  12.38  113.25   25.99  3.14  10.59  8.59  21.65   \n",
       "2014             43.76   NaN  13.28   47.76  100.00  0.24  11.90  3.75  22.03   \n",
       "2015             27.78   NaN   8.52   16.82  118.90  0.12   6.25  1.14  16.35   \n",
       "2016             15.14   NaN   5.25    3.60   69.25   NaN   4.25  0.18   4.60   \n",
       "\n",
       "                               \n",
       "platform          X360   XOne  \n",
       "year_of_release                \n",
       "2013             88.58  18.96  \n",
       "2014             34.74  54.07  \n",
       "2015             11.96  60.14  \n",
       "2016              1.52  26.15  "
      ]
     },
     "execution_count": 42,
     "metadata": {},
     "output_type": "execute_result"
    }
   ],
   "source": [
    "data_full_actual_pivot"
   ]
  },
  {
   "cell_type": "markdown",
   "metadata": {},
   "source": [
    "Add a column with the sum of all sales per year (world market volume)"
   ]
  },
  {
   "cell_type": "code",
   "execution_count": 43,
   "metadata": {},
   "outputs": [],
   "source": [
    "data_full_actual_pivot['total_year_sales'] = data_full_actual.groupby('year_of_release').sum().sort_values(\n",
    "    by='total_sales', \n",
    "    ascending=False)['total_sales'] #market volumes each year"
   ]
  },
  {
   "cell_type": "code",
   "execution_count": 44,
   "metadata": {},
   "outputs": [
    {
     "data": {
      "text/html": [
       "<div>\n",
       "<style scoped>\n",
       "    .dataframe tbody tr th:only-of-type {\n",
       "        vertical-align: middle;\n",
       "    }\n",
       "\n",
       "    .dataframe tbody tr th {\n",
       "        vertical-align: top;\n",
       "    }\n",
       "\n",
       "    .dataframe thead tr th {\n",
       "        text-align: left;\n",
       "    }\n",
       "\n",
       "    .dataframe thead tr:last-of-type th {\n",
       "        text-align: right;\n",
       "    }\n",
       "</style>\n",
       "<table border=\"1\" class=\"dataframe\">\n",
       "  <thead>\n",
       "    <tr>\n",
       "      <th></th>\n",
       "      <th colspan=\"11\" halign=\"left\">sum</th>\n",
       "      <th>total_year_sales</th>\n",
       "    </tr>\n",
       "    <tr>\n",
       "      <th>platform</th>\n",
       "      <th>3DS</th>\n",
       "      <th>DS</th>\n",
       "      <th>PC</th>\n",
       "      <th>PS3</th>\n",
       "      <th>PS4</th>\n",
       "      <th>PSP</th>\n",
       "      <th>PSV</th>\n",
       "      <th>Wii</th>\n",
       "      <th>WiiU</th>\n",
       "      <th>X360</th>\n",
       "      <th>XOne</th>\n",
       "      <th></th>\n",
       "    </tr>\n",
       "    <tr>\n",
       "      <th>year_of_release</th>\n",
       "      <th></th>\n",
       "      <th></th>\n",
       "      <th></th>\n",
       "      <th></th>\n",
       "      <th></th>\n",
       "      <th></th>\n",
       "      <th></th>\n",
       "      <th></th>\n",
       "      <th></th>\n",
       "      <th></th>\n",
       "      <th></th>\n",
       "      <th></th>\n",
       "    </tr>\n",
       "  </thead>\n",
       "  <tbody>\n",
       "    <tr>\n",
       "      <th>2013</th>\n",
       "      <td>56.57</td>\n",
       "      <td>1.54</td>\n",
       "      <td>12.38</td>\n",
       "      <td>113.25</td>\n",
       "      <td>25.99</td>\n",
       "      <td>3.14</td>\n",
       "      <td>10.59</td>\n",
       "      <td>8.59</td>\n",
       "      <td>21.65</td>\n",
       "      <td>88.58</td>\n",
       "      <td>18.96</td>\n",
       "      <td>361.24</td>\n",
       "    </tr>\n",
       "    <tr>\n",
       "      <th>2014</th>\n",
       "      <td>43.76</td>\n",
       "      <td>NaN</td>\n",
       "      <td>13.28</td>\n",
       "      <td>47.76</td>\n",
       "      <td>100.00</td>\n",
       "      <td>0.24</td>\n",
       "      <td>11.90</td>\n",
       "      <td>3.75</td>\n",
       "      <td>22.03</td>\n",
       "      <td>34.74</td>\n",
       "      <td>54.07</td>\n",
       "      <td>331.53</td>\n",
       "    </tr>\n",
       "    <tr>\n",
       "      <th>2015</th>\n",
       "      <td>27.78</td>\n",
       "      <td>NaN</td>\n",
       "      <td>8.52</td>\n",
       "      <td>16.82</td>\n",
       "      <td>118.90</td>\n",
       "      <td>0.12</td>\n",
       "      <td>6.25</td>\n",
       "      <td>1.14</td>\n",
       "      <td>16.35</td>\n",
       "      <td>11.96</td>\n",
       "      <td>60.14</td>\n",
       "      <td>267.98</td>\n",
       "    </tr>\n",
       "    <tr>\n",
       "      <th>2016</th>\n",
       "      <td>15.14</td>\n",
       "      <td>NaN</td>\n",
       "      <td>5.25</td>\n",
       "      <td>3.60</td>\n",
       "      <td>69.25</td>\n",
       "      <td>NaN</td>\n",
       "      <td>4.25</td>\n",
       "      <td>0.18</td>\n",
       "      <td>4.60</td>\n",
       "      <td>1.52</td>\n",
       "      <td>26.15</td>\n",
       "      <td>129.94</td>\n",
       "    </tr>\n",
       "  </tbody>\n",
       "</table>\n",
       "</div>"
      ],
      "text/plain": [
       "                   sum                                                         \\\n",
       "platform           3DS    DS     PC     PS3     PS4   PSP    PSV   Wii   WiiU   \n",
       "year_of_release                                                                 \n",
       "2013             56.57  1.54  12.38  113.25   25.99  3.14  10.59  8.59  21.65   \n",
       "2014             43.76   NaN  13.28   47.76  100.00  0.24  11.90  3.75  22.03   \n",
       "2015             27.78   NaN   8.52   16.82  118.90  0.12   6.25  1.14  16.35   \n",
       "2016             15.14   NaN   5.25    3.60   69.25   NaN   4.25  0.18   4.60   \n",
       "\n",
       "                              total_year_sales  \n",
       "platform          X360   XOne                   \n",
       "year_of_release                                 \n",
       "2013             88.58  18.96           361.24  \n",
       "2014             34.74  54.07           331.53  \n",
       "2015             11.96  60.14           267.98  \n",
       "2016              1.52  26.15           129.94  "
      ]
     },
     "execution_count": 44,
     "metadata": {},
     "output_type": "execute_result"
    }
   ],
   "source": [
    "data_full_actual_pivot"
   ]
  },
  {
   "cell_type": "code",
   "execution_count": 45,
   "metadata": {},
   "outputs": [
    {
     "data": {
      "text/html": [
       "<div>\n",
       "<style scoped>\n",
       "    .dataframe tbody tr th:only-of-type {\n",
       "        vertical-align: middle;\n",
       "    }\n",
       "\n",
       "    .dataframe tbody tr th {\n",
       "        vertical-align: top;\n",
       "    }\n",
       "\n",
       "    .dataframe thead tr th {\n",
       "        text-align: left;\n",
       "    }\n",
       "\n",
       "    .dataframe thead tr:last-of-type th {\n",
       "        text-align: right;\n",
       "    }\n",
       "</style>\n",
       "<table border=\"1\" class=\"dataframe\">\n",
       "  <thead>\n",
       "    <tr>\n",
       "      <th></th>\n",
       "      <th colspan=\"11\" halign=\"left\">sum</th>\n",
       "      <th>total_year_sales</th>\n",
       "    </tr>\n",
       "    <tr>\n",
       "      <th>platform</th>\n",
       "      <th>3DS</th>\n",
       "      <th>DS</th>\n",
       "      <th>PC</th>\n",
       "      <th>PS3</th>\n",
       "      <th>PS4</th>\n",
       "      <th>PSP</th>\n",
       "      <th>PSV</th>\n",
       "      <th>Wii</th>\n",
       "      <th>WiiU</th>\n",
       "      <th>X360</th>\n",
       "      <th>XOne</th>\n",
       "      <th></th>\n",
       "    </tr>\n",
       "    <tr>\n",
       "      <th>year_of_release</th>\n",
       "      <th></th>\n",
       "      <th></th>\n",
       "      <th></th>\n",
       "      <th></th>\n",
       "      <th></th>\n",
       "      <th></th>\n",
       "      <th></th>\n",
       "      <th></th>\n",
       "      <th></th>\n",
       "      <th></th>\n",
       "      <th></th>\n",
       "      <th></th>\n",
       "    </tr>\n",
       "  </thead>\n",
       "  <tbody>\n",
       "    <tr>\n",
       "      <th>2013</th>\n",
       "      <td>56.57</td>\n",
       "      <td>1.54</td>\n",
       "      <td>12.38</td>\n",
       "      <td>113.25</td>\n",
       "      <td>25.99</td>\n",
       "      <td>3.14</td>\n",
       "      <td>10.59</td>\n",
       "      <td>8.59</td>\n",
       "      <td>21.65</td>\n",
       "      <td>88.58</td>\n",
       "      <td>18.96</td>\n",
       "      <td>361.24</td>\n",
       "    </tr>\n",
       "    <tr>\n",
       "      <th>2014</th>\n",
       "      <td>43.76</td>\n",
       "      <td>NaN</td>\n",
       "      <td>13.28</td>\n",
       "      <td>47.76</td>\n",
       "      <td>100.00</td>\n",
       "      <td>0.24</td>\n",
       "      <td>11.90</td>\n",
       "      <td>3.75</td>\n",
       "      <td>22.03</td>\n",
       "      <td>34.74</td>\n",
       "      <td>54.07</td>\n",
       "      <td>331.53</td>\n",
       "    </tr>\n",
       "    <tr>\n",
       "      <th>2015</th>\n",
       "      <td>27.78</td>\n",
       "      <td>NaN</td>\n",
       "      <td>8.52</td>\n",
       "      <td>16.82</td>\n",
       "      <td>118.90</td>\n",
       "      <td>0.12</td>\n",
       "      <td>6.25</td>\n",
       "      <td>1.14</td>\n",
       "      <td>16.35</td>\n",
       "      <td>11.96</td>\n",
       "      <td>60.14</td>\n",
       "      <td>267.98</td>\n",
       "    </tr>\n",
       "    <tr>\n",
       "      <th>2016</th>\n",
       "      <td>15.14</td>\n",
       "      <td>NaN</td>\n",
       "      <td>5.25</td>\n",
       "      <td>3.60</td>\n",
       "      <td>69.25</td>\n",
       "      <td>NaN</td>\n",
       "      <td>4.25</td>\n",
       "      <td>0.18</td>\n",
       "      <td>4.60</td>\n",
       "      <td>1.52</td>\n",
       "      <td>26.15</td>\n",
       "      <td>129.94</td>\n",
       "    </tr>\n",
       "  </tbody>\n",
       "</table>\n",
       "</div>"
      ],
      "text/plain": [
       "                   sum                                                         \\\n",
       "platform           3DS    DS     PC     PS3     PS4   PSP    PSV   Wii   WiiU   \n",
       "year_of_release                                                                 \n",
       "2013             56.57  1.54  12.38  113.25   25.99  3.14  10.59  8.59  21.65   \n",
       "2014             43.76   NaN  13.28   47.76  100.00  0.24  11.90  3.75  22.03   \n",
       "2015             27.78   NaN   8.52   16.82  118.90  0.12   6.25  1.14  16.35   \n",
       "2016             15.14   NaN   5.25    3.60   69.25   NaN   4.25  0.18   4.60   \n",
       "\n",
       "                              total_year_sales  \n",
       "platform          X360   XOne                   \n",
       "year_of_release                                 \n",
       "2013             88.58  18.96           361.24  \n",
       "2014             34.74  54.07           331.53  \n",
       "2015             11.96  60.14           267.98  \n",
       "2016              1.52  26.15           129.94  "
      ]
     },
     "execution_count": 45,
     "metadata": {},
     "output_type": "execute_result"
    }
   ],
   "source": [
    "data_full_actual_pivot"
   ]
  },
  {
   "cell_type": "code",
   "execution_count": 46,
   "metadata": {},
   "outputs": [
    {
     "ename": "NameError",
     "evalue": "name 'data_full_actual_pivot_ratio' is not defined",
     "output_type": "error",
     "traceback": [
      "\u001b[1;31m---------------------------------------------------------------------------\u001b[0m",
      "\u001b[1;31mNameError\u001b[0m                                 Traceback (most recent call last)",
      "\u001b[1;32m<ipython-input-46-5818d0ddc9be>\u001b[0m in \u001b[0;36m<module>\u001b[1;34m\u001b[0m\n\u001b[1;32m----> 1\u001b[1;33m \u001b[0mdata_full_actual_pivot_ratio\u001b[0m\u001b[1;33m\u001b[0m\u001b[1;33m\u001b[0m\u001b[0m\n\u001b[0m",
      "\u001b[1;31mNameError\u001b[0m: name 'data_full_actual_pivot_ratio' is not defined"
     ]
    }
   ],
   "source": [
    "data_full_actual_pivot_ratio"
   ]
  },
  {
   "cell_type": "code",
   "execution_count": null,
   "metadata": {},
   "outputs": [],
   "source": [
    "data_full_actual_boxplt = data_full_actual.pivot_table(\n",
    "    index='year_of_release', \n",
    "    values='total_sales', \n",
    "    columns='platform', \n",
    "    aggfunc=['sum'])\n",
    "\n",
    "\n",
    "data_full_actual_boxplt.boxplot(figsize=(30, 10), fontsize =15)\n",
    "\n",
    "plt.title(label='Diagram of game sales values by platforms')\n",
    "plt.xlabel(xlabel='platforms')\n",
    "plt.ylabel(ylabel='million copies of games across platforms')\n",
    "\n",
    "plt.show()"
   ]
  },
  {
   "cell_type": "markdown",
   "metadata": {},
   "source": [
    "Here the results are more interesting. Based on the scatter diagram, we can distinguish 4 groups of platforms: 1) The undisputed leader, the PS4 platform. Taking into account the past chart of market shares, we can say that the platform immediately declared itself as a leader, the scatter is due to the fact that in the dynamics of the platform shows a steady growth in relative market share, while the current indicators are very good. 2) \"Second echelon\" - 3DS, DS, PS3, Wii, X360, XOne - relative market share of 15-20%. 3) The rest, which have not broken above 10% of the market in their history."
   ]
  },
  {
   "cell_type": "markdown",
   "metadata": {},
   "source": [
    "But in the diagram above we analyzed the market shares of platforms. Perhaps we can see something more interesting from the data on sales of specific games in a particular year? Let's test this hypothesis by building the diagram using the full data, not a summary table:"
   ]
  },
  {
   "cell_type": "code",
   "execution_count": null,
   "metadata": {},
   "outputs": [],
   "source": [
    "\n",
    "\n",
    "# plot the scatter plot on the original complete data\n",
    "\n",
    "seaborn.boxplot(x=data_full_actual['platform'], y=data_full_actual['total_sales'])"
   ]
  },
  {
   "cell_type": "markdown",
   "metadata": {},
   "source": [
    "We can see many outliers with too large values, on their background quartiles are not even visible. Let's select a slice of data without such outliers"
   ]
  },
  {
   "cell_type": "code",
   "execution_count": null,
   "metadata": {},
   "outputs": [],
   "source": [
    "\n",
    "\n",
    "# in the scatter plot we will make a slice of data without outliers, in order to see something on the diagram.\n",
    "seaborn.boxplot(x=data_full_actual['platform'], y=data_full_actual['total_sales'])\n",
    "\n",
    "plt.title(label='Chart of game sales value spread by platform')\n",
    "plt.xlabel(xlabel='Platforms')\n",
    "plt.ylabel(ylabel='million copies of games on different platforms')\n",
    "plt.ylim(0, 2)\n",
    "plt.show()"
   ]
  },
  {
   "cell_type": "markdown",
   "metadata": {},
   "source": [
    "Intermediate conclusion: from the scatter plot of the full global sales data for the period from 2013 to 2016, we can only see that the values of the 2-3 quartiles of global sales of specific games on different platforms do not exceed the value of 0.75 million copies of games, and the median values rarely exceed the value of 0.25 million copies.\n",
    "To be sure, let's plot a scatter chart of the top 6 platforms that have the highest cumulative sales by volume over the time period from 1980 to 2016:"
   ]
  },
  {
   "cell_type": "code",
   "execution_count": null,
   "metadata": {},
   "outputs": [],
   "source": [
    "seaborn.boxplot(x=data_full_top['platform'], y=data_full_top['total_sales'])\n",
    "plt.title(label='Chart of sales value spread of top-6 platform games')\n",
    "plt.xlabel(xlabel='Platforms')\n",
    "plt.ylabel(ylabel='million copies of games on different platforms')\n",
    "plt.ylim(0, 2)\n",
    "plt.show()"
   ]
  },
  {
   "cell_type": "markdown",
   "metadata": {},
   "source": [
    "**Mini-conclusion:** the hypothesis that it will be possible to make some global conclusions based on the full data (and on the data of the top 6 platforms) was not confirmed. One conclusion: the expected sales figure is 0.25 mln copies of the game per year, the figure of more than 0.75 mln copies per year is a success for the game."
   ]
  },
  {
   "cell_type": "markdown",
   "metadata": {},
   "source": [
    "Exploring correlations within a single platform. What affects sales? **Hypothesis:** Perhaps user reviews or critics' evaluations have a strong influence on sales? Let's analyze the PS4 platform as the market share growth leader in recent years.\n",
    "\n",
    "First, to investigate the relationship between sales and reviews, let's construct a scatter plot:"
   ]
  },
  {
   "cell_type": "markdown",
   "metadata": {},
   "source": [
    "Let's look at the correlations"
   ]
  },
  {
   "cell_type": "code",
   "execution_count": null,
   "metadata": {},
   "outputs": [],
   "source": [
    "crtitic_corr_PS4 = data_full_actual.query('platform == \"PS4\"')['critic_score'].corr(data_full_actual.query('platform == \"PS4\"')['total_sales'])\n",
    "user_corr_PS4 = data_full_actual.query('platform == \"PS4\"')['user_score'].corr(data_full_actual.query('platform == \"PS4\"')['total_sales'])\n",
    "\n",
    "print(f'Correlation of worldwide PS4 sales and critic scores: {crtitic_corr_PS4:.2%}')\n",
    "print(f'Correlation of worldwide PS4 sales and user ratings: {user_corr_PS4:.2%}')\n"
   ]
  },
  {
   "cell_type": "markdown",
   "metadata": {},
   "source": [
    "Very interesting results! Quite a noticeable correlation between worldwide sales of PS4 games and critics' scores, with about zero correlation with users' scores. \n",
    "and about zero correlation with user reviews. Technically, it's even negative.\n",
    "\n",
    "For interest I checked similar correlations on two other platforms, Wii and X360 for a change"
   ]
  },
  {
   "cell_type": "code",
   "execution_count": null,
   "metadata": {},
   "outputs": [],
   "source": [
    "crtitic_corr_Wii = data_full_actual.query('platform == \"Wii\"')['critic_score'].corr(data_full_actual.query('platform == \"Wii\"')['total_sales'])\n",
    "user_corr_Wii = data_full_actual.query('platform == \"Wii\"')['user_score'].corr(data_full_actual.query('platform == \"Wii\"')['total_sales'])\n",
    "\n",
    "crtitic_corr_X360 = data_full_actual.query('platform == \"X360\"')['critic_score'].corr(data_full_actual.query('platform == \"X360\"')['total_sales'])\n",
    "user_corr_X360 = data_full_actual.query('platform == \"X360\"')['user_score'].corr(data_full_actual.query('platform == \"X360\"')['total_sales'])\n",
    "\n",
    "\n",
    "print(f'Correlation of worldwide sales (Wii) and critic scores: {crtitic_corr_Wii:.2%}')\n",
    "print(f'Correlation of worldwide sales (Wii) and user ratings: {user_corr_Wii:.2%}')\n",
    "\n",
    "print(f'Correlation of worldwide sales (X360) and critic ratings: {crtitic_corr_X360:.2%}')\n",
    "print(f'Correlation of worldwide sales (X360) and user ratings: {user_corr_X360:.2%}')"
   ]
  },
  {
   "cell_type": "markdown",
   "metadata": {},
   "source": [
    "Let's analyze the distribution of the number of games sold and total sales by genre. For the whole period 1980-2016 and for the current period 2013-2016"
   ]
  },
  {
   "cell_type": "code",
   "execution_count": null,
   "metadata": {},
   "outputs": [],
   "source": [
    "data_full.groupby('genre').count().sort_values(by='total_sales', ascending=False)['total_sales']\n",
    "#genre ranking by number of games sold for the entire period 1980-2016"
   ]
  },
  {
   "cell_type": "code",
   "execution_count": null,
   "metadata": {},
   "outputs": [],
   "source": [
    "data_full_actual.groupby('genre').count().sort_values(by='total_sales', ascending=False)['total_sales'] \n",
    "#genre ranking by number of games sold for the period 2013-2016"
   ]
  },
  {
   "cell_type": "markdown",
   "metadata": {},
   "source": [
    "In terms of the number of games sold, the Action genre is uninterruptedly in the lead, followed by Puzzle"
   ]
  },
  {
   "cell_type": "code",
   "execution_count": null,
   "metadata": {},
   "outputs": [],
   "source": [
    "data_full.groupby('genre').sum().sort_values(by='total_sales', ascending=False)['total_sales']\n",
    "#genre ranking by worldwide sales for the entire period 1980-2016 #genre ranking by worldwide sales for the entire period 1980-2016"
   ]
  },
  {
   "cell_type": "code",
   "execution_count": null,
   "metadata": {},
   "outputs": [],
   "source": [
    "data_full_actual.groupby('genre').sum().sort_values(by='total_sales', ascending=False)['total_sales'] \n",
    "#genre ranking by worldwide sales for the period 2013-2016"
   ]
  },
  {
   "cell_type": "code",
   "execution_count": null,
   "metadata": {},
   "outputs": [],
   "source": [
    "data_full.groupby('genre').mean().sort_values(by='total_sales', ascending=False)['total_sales'] \n",
    "#ranking genres by average sales over the entire 1980-2016 period #ranking genres by worldwide sales over the entire 1980-2016 period"
   ]
  },
  {
   "cell_type": "code",
   "execution_count": null,
   "metadata": {},
   "outputs": [],
   "source": [
    "data_full_actual.groupby('genre').mean().sort_values(by='total_sales', ascending=False)['total_sales'] \n",
    "#ranking genres by average sales from 2013-2016"
   ]
  },
  {
   "cell_type": "markdown",
   "metadata": {},
   "source": [
    "Conclusion: Action and Sports genres traditionally lead in global sales, while Strategy, Puzzle and Adventure are outsiders"
   ]
  },
  {
   "cell_type": "markdown",
   "metadata": {},
   "source": [
    "**Step 4.** Create a user profile for each region\n",
    "\n",
    "Identify the top 5 platforms and top 5 genres for each macro-region (Europe, North America, Japan). We will analyze actual data for the period from 2006 to 2016"
   ]
  },
  {
   "cell_type": "code",
   "execution_count": null,
   "metadata": {},
   "outputs": [],
   "source": [
    "#To analyze market shares, let's calculate total sales for each region\n",
    "\n",
    "eu_total_sales_actual = data_full_actual['eu_sales'].sum()\n",
    "print(f'European sales for 2013-2016: {eu_total_sales_actual:.2f}')\n",
    "\n",
    "na_total_sales_actual = data_full_actual['na_sales'].sum()\n",
    "print(f'North American sales for 2013-2016: {na_total_sales_actual:.2f}')\n",
    "\n",
    "jp_total_sales_actual = data_full_actual['jp_sales'].sum()\n",
    "print(f'Sales in Japan for 2013-2016: {jp_total_sales_actual:.2f}')"
   ]
  },
  {
   "cell_type": "code",
   "execution_count": null,
   "metadata": {},
   "outputs": [],
   "source": [
    "print('Top 5 platforms in the Europe region (million copies):', \n",
    "      data_full_actual.groupby('platform').sum().sort_values(by='eu_sales', ascending=False)['eu_sales'].head(5))\n",
    "print()\n",
    "print('Top 5 platforms in the North America region (million copies):',\n",
    "      data_full_actual.groupby('platform').sum().sort_values(by='na_sales', ascending=False)['na_sales'].head(5))\n",
    "print()\n",
    "print('Top 5 platforms in Japan region (million copies):',\n",
    "      data_full_actual.groupby('platform').sum().sort_values(by='na_sales', ascending=False)['na_sales'].head(5))\n"
   ]
  },
  {
   "cell_type": "code",
   "execution_count": null,
   "metadata": {},
   "outputs": [],
   "source": [
    "# in market shares\n",
    "print('Platform market shares in Europe region (market share):', data_full_actual.groupby('platform').sum().sort_values(by='eu_sales', ascending=False)['eu_sales'].head(5) / eu_total_sales_actual)\n",
    "print()\n",
    "print('Platform market shares in the North America region (market share):', data_full_actual.groupby('platform').sum().sort_values(by='na_sales', ascending=False)['na_sales'].head(5) / na_total_sales_actual)\n",
    "print()\n",
    "print('Platform market shares in Japan region (market share):', data_full_actual.groupby('platform').sum().sort_values(by='jp_sales', ascending=False)['jp_sales'].head(5) / jp_total_sales_actual)\n"
   ]
  },
  {
   "cell_type": "code",
   "execution_count": null,
   "metadata": {},
   "outputs": [],
   "source": [
    "print('Top 5 genres in the Europe region (million copies):',\n",
    "      data_full_actual.groupby('genre').sum().sort_values(by='eu_sales', ascending=False)['eu_sales'].head(5))\n",
    "print()\n",
    "print('Top 5 genres in the North America region (million copies):',\n",
    "      data_full_actual.groupby('genre').sum().sort_values(by='na_sales', ascending=False)['na_sales'].head(5))\n",
    "print()\n",
    "print('Top 5 genres in Japan region (million copies):',\n",
    "      data_full_actual.groupby('genre').sum().sort_values(by='jp_sales', ascending=False)['jp_sales'].head(5))\n"
   ]
  },
  {
   "cell_type": "markdown",
   "metadata": {},
   "source": [
    "**Conclusion:** Analysis of the top 5 platforms and genres showed that:\n",
    "1. User preferences differ greatly in different macro-regions. According to the sales results for the last 10 years (hereinafter - in physical terms), the PS3 platform is the leader in Europe, the X360 in North America, and the DS in Japan. The leading platforms in each region have about 25% of the market, the second platform lags behind with about 18-19% of the market share\n",
    "\n",
    "2. Genre preferences are more interesting. Culturally, North America and Europe are much closer, and there gaming preferences are similar across the top four genres. Japan prefers role-playing games, while shooters are not in the top 5 at all.\n"
   ]
  },
  {
   "cell_type": "markdown",
   "metadata": {},
   "source": [
    "The influence of ESRB rating on sales in the region can be checked by comparing the distribution of sales data with the grouping by rating. This may not be a completely correct analysis, since game rating and game genre are related, and it is not obvious what is more important in consumer preferences - ESRB rating or just game genre."
   ]
  },
  {
   "cell_type": "code",
   "execution_count": null,
   "metadata": {},
   "outputs": [],
   "source": [
    "print('Ranking of ESRB ratings in the Europe region (million copies):',\n",
    "      data_full_actual.groupby('rating').sum().sort_values(by='eu_sales', ascending=False)['eu_sales'])\n",
    "print()\n",
    "print('ESRB rating in the North America region (million copies):',\n",
    "      data_full_actual.groupby('rating').sum().sort_values(by='na_sales', ascending=False)['na_sales'])\n",
    "print()\n",
    "print('ESRB ranking in the Japan region (million copies):',\n",
    "      data_full_actual.groupby('rating').sum().sort_values(by='jp_sales', ascending=False)['jp_sales'])"
   ]
  },
  {
   "cell_type": "markdown",
   "metadata": {},
   "source": [
    "**Conclusion:** The hypothesis that the rating is some key factor of consumer preferences is rather disproved. The 1st 2 places are shared by E (9+ years old) and M (17+ years old) ratings with very close figures. Japan generally leads in sales of unrated games.\n",
    "\n",
    "**Step 5** Let's test the hypotheses.\n",
    "\n",
    "(1) The average user ratings of the Xbox One and PC platforms are the same. **The null hypothesis** in this case is \"ratings are not the same\", the alternative (working) hypothesis is \"ratings are the same\".\n",
    "\n",
    "(2) The average user ratings of Action and Sports genres are different. **The null hypothesis** here is again \"the ratings are different\" (this is the working hypothesis), the alternative hypothesis is \"the ratings are the same\"\n",
    "\n",
    "For this purpose, let's use the method for testing the hypothesis of equality of the mean of two general populations by the samples taken from them: scipy.stats.ttest_ind . We analyze actual data from 2006-2016, and only those with ratings data. Here we need a caveat: there is not a lot of data in the dataset, and we can simply compare the average values, but we assume that we have some sample of sales and ratings data in the dataset, i.e. the data is not complete. Moreover, we can examine only those rows where there is information about ratings, and this is not a complete table."
   ]
  },
  {
   "cell_type": "code",
   "execution_count": null,
   "metadata": {},
   "outputs": [],
   "source": [
    "data_rating_actual = data_full.query('year_of_release >= @max_year and user_score>0') #considered the \"stubs\" and did not include them in the cutoffs\n",
    "\n",
    "\n",
    "alpha = .2 # we set the critical level of statistical significance to 0.2, i.e. we are ready to make a decision with a probability of 80%.\n",
    "# if p-value turns out to be less than it - reject the hypothesis\n",
    "\n",
    "results = st.ttest_ind(\n",
    "    data_rating_actual.query('platform == \"XOne\"')['user_score'], \n",
    "    data_rating_actual.query('platform == \"PC\"')['user_score'])\n",
    "\n",
    "print('p-value:', results.pvalue) \n",
    "\n",
    "if (results.pvalue < alpha ): \n",
    "    print('Reject the null hypothesis')\n",
    "else:\n",
    "    print('Failed to reject the null hypothesis')"
   ]
  },
  {
   "cell_type": "code",
   "execution_count": null,
   "metadata": {},
   "outputs": [],
   "source": [
    "\n",
    "alpha = .2 # let's set the critical level of statistical significance at 0.2, i.e. we are ready to make a decision with a probability of 80%.\n",
    "# if p-value turns out to be less than it - reject the hypothesis\n",
    "\n",
    "\n",
    "results = st.ttest_ind(\n",
    "    data_rating_actual.query('genre == \"Action\"')['user_score'], \n",
    "    data_rating_actual.query('genre == \"Sports\"')['user_score'])\n",
    "\n",
    "print('p-value:', results.pvalue) \n",
    "\n",
    "if (results.pvalue < alpha ): \n",
    "    print('Reject the null hypothesis')\n",
    "else:\n",
    "    print('Failed to reject the null hypothesis')"
   ]
  },
  {
   "cell_type": "markdown",
   "metadata": {},
   "source": [
    "### General project conclusions\n",
    "\n",
    "Researched game sales data across multiple platforms, including the regions of Europe, North America, Japan from 1980 to 2016.\n",
    "\n",
    "Calculated total sales in all regions and added a corresponding column to analyze relative market shares.\n",
    "\n",
    "Researched game sales data by year, found that less than 100 games per year were released before 1994, the data is too small to analyze, so it makes sense to analyze only data from 1994 onwards.\n",
    "\n",
    "\n",
    "A list of the top 6 platforms is identified\n",
    "['PS2', 'X360', 'PS3', 'Wii', 'DS', 'PS'].\n",
    "\n",
    "with the highest worldwide sales. The characteristic \"life time\" of games on the top platforms was determined, which is 7-10 years, and for 10 years the game completely loses its relevance. At the same time the period of significant changes in the games market is 3 years.\n",
    "\n",
    "**So, to make a forecast for 2017 you should use data for no more than 3 previous years. Older data will not be relevant.**\n",
    "\n",
    "Based on the graphical analysis of market shares occupied by platforms, it was revealed that since 2013 there was a significant \"redistribution\" of the platform market and since 2014 there has been a confident leader **in terms of relative market share growth** - PS4 platform, the only one that \"dashingly\" overcame the threshold of **30%** and retained its position.\n",
    "\n",
    "**Answering the question \"choose potentially profitable platforms\":** market share growth is expected only for PS4, though judging by the chart the growth rate is decreasing and saturation is possible soon, two more platforms still have good shares: XOne (about 20% and the share is starting to decrease) and 3DS (13% share is stable, but the platform is already 5 years old and at any moment the market share may start to decrease due to the leaders' influence).\n",
    "\n",
    "\n",
    "\n",
    "\n",
    "Several \"box-and-whisker\" charts of global total game sales by platform have been constructed.It has been revealed that there are platforms that have \"broken out\" in the area of high median sales (platforms **PS3, PS4, X360**), but they also have the highest spread of values. At the same time, there are platforms with more stable but low results. Here it is important to remember that the annual sales figure itself is not informative - the dynamics by years is important and the most important thing is the relative market shares. \n",
    "\n",
    "Based on the analysis of the scatter diagram of the relative market shares data, the results are more interesting. **We can distinguish 4 groups of platforms:** 1) The undisputed leader, the **PS4** platform. Taking into account the past chart of market shares, we can say that the platform immediately declared itself as a leader, the scatter is due to the fact that in dynamics the platform shows a steady growth of relative market share, while the current indicators are very good.2) \"Second echelon\" - platforms **3DS, PS3, X360, XOne** - relative market share of 15-20%.3) The rest, which have not broken above 10% of the market in their entire history.We tested the hypothesis that from the data on sales of specific games in a particular year we can see something more informative, for this purpose we built a scatter diagram on the full data, rather than on a summary table with grouping by platform. \n",
    "\n",
    "The conclusion is that the scatter plot of total worldwide sales for the period from 2013 to 2016 shows only that the **2-3 quartiles** of worldwide sales of specific games on different platforms **do not exceed the value of 0.75 million copies** of games, and the median values rarely exceed the value of **0.25 million copies**.\n",
    "To be sure, a scatter plot of the **top 6 platforms** that have the highest cumulative in-kind sales over the current time period from 1980 to 2016 is plotted:The hypothesis that any global conclusions could be drawn from the full data (and from the top-6 platforms) was not confirmed. **One conclusion is that the \"hospital average\" expected sales figure would be 0.25 million copies of a game per year, a figure of more than 0.75 million copies per year is a success for a game.**\n",
    "\n",
    "Investigated correlations within a single platform, what influences sales? **Hypothesis tested:** \"User reviews or critics' evaluations have a strong influence on sales\". The analysis is based on the sales of games on the PS4 platform as the market share growth leader in recent years.\n",
    "\n",
    "\n",
    "**PS4 Worldwide Sales and Critics' Charts Correlation: 40.32%\n",
    "Correlation between worldwide PS4 sales and user ratings: -0.67%**\n",
    "There is a fairly significant correlation between worldwide sales of PS4 games and critics' scores, with a near-zero correlation with user ratings. \n",
    "and about zero correlation with user ratings. Technically, it's even negative.\n",
    "\n",
    "For completeness of the experiment we checked similar correlations on two other platforms: Wii and X360\n",
    "\n",
    "**Correlation between worldwide sales (Wii) and critics' ratings: 17.97%.\n",
    "Correlation between worldwide sales (Wii) and user ratings: 12.98%\n",
    "Correlation of worldwide sales (X360) and critical acclaim: 39.66%\n",
    "Correlation of worldwide sales (X360) and user ratings: 13.63%**\n",
    "\n",
    "Critics' scores show a direct, medium-weak correlation with worldwide sales figures. User ratings have no correlation with sales.\n",
    "\n",
    "\n",
    "We analyzed the distribution of the number of games sold and total sales by genre.For the entire period 1980-2016 and up to date 2013-2016The genres **Action** and **Sports** have traditionally led the way in terms of worldwide gross sales, with **Strategy**, **Puzzle** and **Adventure** being the outsiders\n",
    "While the **Action** genre leads in terms of \"gross\" sales, if we look at average sales by game, we find that the **Shooter** genre is in the lead (2013-2016).That is, if we talk about the success of a particular game, on average more than 1.2 million copies are sold.\n",
    "\n",
    "The preferences of users in each region were analyzedThe top 5 platforms and top 5 genres for each macro-region (**Europe, North America, Japan**) based on current data for the period from 2013 to 2016 were determined\n",
    "\n",
    "Total sales in Europe 2013-2016 гг.: 392.23 (millions of copies)<br>\n",
    "Total sales in North America 2013-2016 гг.: 437.71 (millions of copies)<br>\n",
    "Total sales in Japan 2013-2016 гг.: 140.78 (millions of copies)<br>\n",
    "\n",
    "Top 5 platforms in the Europe region (million copies): <br>\n",
    "PS4     141.09<br>\n",
    "PS3      67.81<br>\n",
    "XOne     51.59<br>\n",
    "X360     42.52<br>\n",
    "3DS      30.96<br>\n",
    "\n",
    "\n",
    "Top 5 platforms in the North America region (million copies): <br>\n",
    "PS4     108.74<br>\n",
    "XOne     93.12<br>\n",
    "X360     81.66<br>\n",
    "PS3      63.50<br>\n",
    "3DS      38.20<br>\n",
    "\n",
    "\n",
    "Top 5 platforms in the Japan region (million copies): <br>\n",
    "PS4     108.74<br>\n",
    "XOne     93.12<br>\n",
    "X360     81.66<br>\n",
    "PS3      63.50<br>\n",
    "3DS      38.20<br>\n",
    "\n",
    "\n",
    "Platform market shares in the Europe region (market share): <br>\n",
    "PS4     0.359712<br>\n",
    "PS3     0.172883<br>\n",
    "XOne    0.131530<br>\n",
    "X360    0.108406<br>\n",
    "3DS     0.078933<br>\n",
    "\n",
    "Platform market shares in the North America region (market share): <br>\n",
    "PS4     0.248429<br>\n",
    "XOne    0.212744<br>\n",
    "X360    0.186562<br>\n",
    "PS3     0.145073<br>\n",
    "3DS     0.087272<br>\n",
    "\n",
    "Platform market shares in the Japan region (market share): <br>\n",
    "3DS     0.481674<br>\n",
    "PS3     0.165862<br>\n",
    "PSV     0.132050<br>\n",
    "PS4     0.113368<br>\n",
    "WiiU    0.077284<br>\n",
    "\n",
    "Top 5 genres in the Europe region (million copies): <br>\n",
    "Action          118.13<br>\n",
    "Shooter          87.86<br>\n",
    "Sports           60.52<br>\n",
    "Role-Playing     36.97<br>\n",
    "Racing           20.19<br>\n",
    "\n",
    "Top 5 genres in the North America region (million copies): <br>\n",
    "Action          126.05<br>\n",
    "Shooter         109.74<br>\n",
    "Sports           65.27<br>\n",
    "Role-Playing     46.40<br>\n",
    "Misc             27.49<br>\n",
    "\n",
    "Top 5 genres in the Japan region (million copies): <br>\n",
    "Role-Playing    51.04<br>\n",
    "Action          40.49<br>\n",
    "Misc             9.20<br>\n",
    "Fighting         7.65<br>\n",
    "Shooter          6.61<br>\n",
    "\n",
    "\n",
    "\n",
    "\n",
    "An analysis of the top 5 platforms and genres showed that:\n",
    "1.\tUser preferences vary greatly across macro-regions. According to the sales results for the last 3 years (hereinafter - in physical terms), the PS4 platform is the leader in Europe (36%) and North America (25%), while in Japan -3DS (48%).  The leading platforms in each region occupy about 25% of the market, with the second platform lagging behind with about 18-19% of the market share\n",
    "2.\tGenre preferences are more interesting. Culturally, North America and Europe are much closer, and game preferences are similar across the top four genres. Japan prefers role-playing games, while shooters are not in the top 5 at all.\n",
    "\n",
    "\n",
    "The impact of the **ESRB** rating on sales in the region is determined by comparing the distribution of sales data with the grouping by rating. \n",
    "\n",
    "\n",
    "\n",
    "Ranking of \"ESRB ratings\" in the Europe region (million copies): <br>\n",
    "M          145.32<br>\n",
    "E           83.36<br>\n",
    "unknown     78.91<br>\n",
    "E10+        42.69<br>\n",
    "T           41.95<br>\n",
    "\n",
    "Ranking of \"ESRB ratings\" in the North America region (million copies): <br>\n",
    "M          165.21<br>\n",
    "unknown     89.42<br>\n",
    "E           79.05<br>\n",
    "E10+        54.24<br>\n",
    "T           49.79<br>\n",
    "\n",
    "Ranking of \"ESRB ratings\" in the Japan region (million copies): <br>\n",
    "unknown    85.05<br>\n",
    "T          20.59<br>\n",
    "E          15.14<br>\n",
    "M          14.11<br>\n",
    "E10+        5.89<br>\n",
    "\n",
    "**The hypothesis that the rating is a key factor of consumer preferences is rather disproved.** 1-2 places are shared by **E** (9+ years old) and **M** (17+ years old) ratings with very close indicators. In Japan in general, sales of games without North American ratings are leading, which probably indicates that games popular on the Japanese domestic market are not even included in North American ratings, as they are not represented on the North American market\n",
    "\n",
    "\n",
    "Statistical analysis of user ratings was performed, and two hypotheses were tested:\n",
    "**(1)** The average user ratings of **Xbox One** and **PC** platforms are the same.  We can conclude that we do not have sufficient grounds to claim that the average user ratings of Xbox One and PC platforms are significantly different. Let's test the second hypothesis in the same way\n",
    "**(2)** The average user ratings of **Action** and **Sports** genres are different. It can be concluded that we do not have enough evidence to claim that the average user ratings of players of 'Action' and 'Sports' genres are meaningfully different.\n",
    "For this purpose, we used the method of testing the hypothesis of equality of the mean of two general populations by the samples taken from them: **scipy.stats.ttest_ind**. Actual data from 2006-2016 were used for the analysis, and only those with ratings data were used.\n",
    "\n",
    "\n",
    "**General conclusions of the project**\n",
    "\n",
    "Identified key patterns and consumer preferences in different markets. When launching a new product on the market it is possible to use these results, for example, in the Japanese market the best selling games in the genre **Role-Playing** on the **3DS** platform, in this case user ratings are not so important, and it is not necessary to get ESBR rating for sales on the Japanese market.\n",
    "\n",
    "\n",
    "\n"
   ]
  },
  {
   "cell_type": "code",
   "execution_count": null,
   "metadata": {},
   "outputs": [],
   "source": []
  }
 ],
 "metadata": {
  "ExecuteTimeLog": [
   {
    "duration": 899,
    "start_time": "2022-11-02T08:34:08.609Z"
   },
   {
    "duration": 78,
    "start_time": "2022-11-02T11:23:04.859Z"
   },
   {
    "duration": 556,
    "start_time": "2022-11-02T11:23:16.309Z"
   },
   {
    "duration": 77,
    "start_time": "2022-11-02T11:23:20.115Z"
   },
   {
    "duration": 77,
    "start_time": "2022-11-02T11:24:59.148Z"
   },
   {
    "duration": 3,
    "start_time": "2022-11-02T11:25:52.810Z"
   },
   {
    "duration": 83,
    "start_time": "2022-11-02T11:29:16.378Z"
   },
   {
    "duration": 92,
    "start_time": "2022-11-02T11:30:24.756Z"
   },
   {
    "duration": 79,
    "start_time": "2022-11-02T11:31:03.657Z"
   },
   {
    "duration": 72,
    "start_time": "2022-11-02T11:33:54.074Z"
   },
   {
    "duration": 4,
    "start_time": "2022-11-02T11:36:26.348Z"
   },
   {
    "duration": 4,
    "start_time": "2022-11-02T11:36:48.564Z"
   },
   {
    "duration": 68,
    "start_time": "2022-11-02T11:46:29.669Z"
   },
   {
    "duration": 9,
    "start_time": "2022-11-02T11:49:41.775Z"
   },
   {
    "duration": 4,
    "start_time": "2022-11-02T11:49:59.451Z"
   },
   {
    "duration": 9,
    "start_time": "2022-11-02T11:51:18.056Z"
   },
   {
    "duration": 8,
    "start_time": "2022-11-02T11:51:32.274Z"
   },
   {
    "duration": 6,
    "start_time": "2022-11-02T11:52:52.183Z"
   },
   {
    "duration": 5,
    "start_time": "2022-11-02T11:53:03.819Z"
   },
   {
    "duration": 13,
    "start_time": "2022-11-02T11:53:18.243Z"
   },
   {
    "duration": 99,
    "start_time": "2022-11-02T11:59:13.963Z"
   },
   {
    "duration": 35,
    "start_time": "2022-11-02T11:59:22.474Z"
   },
   {
    "duration": 5,
    "start_time": "2022-11-02T11:59:33.216Z"
   },
   {
    "duration": 6,
    "start_time": "2022-11-02T11:59:36.345Z"
   },
   {
    "duration": 4,
    "start_time": "2022-11-02T12:00:00.067Z"
   },
   {
    "duration": 11,
    "start_time": "2022-11-02T12:00:13.333Z"
   },
   {
    "duration": 13,
    "start_time": "2022-11-02T12:00:44.552Z"
   },
   {
    "duration": 5,
    "start_time": "2022-11-02T12:02:47.909Z"
   },
   {
    "duration": 3,
    "start_time": "2022-11-02T12:03:11.005Z"
   },
   {
    "duration": 4,
    "start_time": "2022-11-02T12:03:13.483Z"
   },
   {
    "duration": 4,
    "start_time": "2022-11-02T12:03:20.148Z"
   },
   {
    "duration": 13,
    "start_time": "2022-11-02T12:03:30.216Z"
   },
   {
    "duration": 11,
    "start_time": "2022-11-02T12:03:49.648Z"
   },
   {
    "duration": 74,
    "start_time": "2022-11-02T12:10:00.661Z"
   },
   {
    "duration": 8,
    "start_time": "2022-11-02T12:10:19.964Z"
   },
   {
    "duration": 6,
    "start_time": "2022-11-02T12:11:29.189Z"
   },
   {
    "duration": 6,
    "start_time": "2022-11-02T12:11:44.152Z"
   },
   {
    "duration": 6,
    "start_time": "2022-11-02T12:12:29.909Z"
   },
   {
    "duration": 7,
    "start_time": "2022-11-02T12:13:33.036Z"
   },
   {
    "duration": 4,
    "start_time": "2022-11-02T12:16:56.428Z"
   },
   {
    "duration": 5,
    "start_time": "2022-11-02T12:17:57.419Z"
   },
   {
    "duration": 12,
    "start_time": "2022-11-02T12:18:10.398Z"
   },
   {
    "duration": 10,
    "start_time": "2022-11-02T12:40:05.873Z"
   },
   {
    "duration": 11,
    "start_time": "2022-11-02T12:40:25.834Z"
   },
   {
    "duration": 8,
    "start_time": "2022-11-02T12:40:32.921Z"
   },
   {
    "duration": 12,
    "start_time": "2022-11-02T12:40:39.575Z"
   },
   {
    "duration": 86,
    "start_time": "2022-11-02T12:47:34.796Z"
   },
   {
    "duration": 73,
    "start_time": "2022-11-02T12:47:50.696Z"
   },
   {
    "duration": 78,
    "start_time": "2022-11-02T12:48:01.503Z"
   },
   {
    "duration": 3,
    "start_time": "2022-11-02T12:48:08.640Z"
   },
   {
    "duration": 7,
    "start_time": "2022-11-02T12:48:14.751Z"
   },
   {
    "duration": 9,
    "start_time": "2022-11-02T12:48:21.572Z"
   },
   {
    "duration": 3,
    "start_time": "2022-11-02T12:48:35.136Z"
   },
   {
    "duration": 3,
    "start_time": "2022-11-02T12:48:40.618Z"
   },
   {
    "duration": 10,
    "start_time": "2022-11-02T12:48:42.745Z"
   },
   {
    "duration": 3,
    "start_time": "2022-11-02T12:48:48.192Z"
   },
   {
    "duration": 8,
    "start_time": "2022-11-02T12:48:49.518Z"
   },
   {
    "duration": 3,
    "start_time": "2022-11-02T12:48:54.045Z"
   },
   {
    "duration": 9,
    "start_time": "2022-11-02T12:48:55.566Z"
   },
   {
    "duration": 4,
    "start_time": "2022-11-02T12:49:27.334Z"
   },
   {
    "duration": 12,
    "start_time": "2022-11-02T12:49:29.006Z"
   },
   {
    "duration": 4,
    "start_time": "2022-11-02T12:49:47.454Z"
   },
   {
    "duration": 10,
    "start_time": "2022-11-02T12:49:48.301Z"
   },
   {
    "duration": 4,
    "start_time": "2022-11-02T12:50:09.798Z"
   },
   {
    "duration": 11,
    "start_time": "2022-11-02T12:50:11.812Z"
   },
   {
    "duration": 15,
    "start_time": "2022-11-02T12:50:29.359Z"
   },
   {
    "duration": 79,
    "start_time": "2022-11-02T12:51:15.005Z"
   },
   {
    "duration": 11,
    "start_time": "2022-11-02T12:51:25.798Z"
   },
   {
    "duration": 16,
    "start_time": "2022-11-02T12:51:32.803Z"
   },
   {
    "duration": 6,
    "start_time": "2022-11-02T13:01:26.169Z"
   },
   {
    "duration": 7,
    "start_time": "2022-11-02T13:01:32.484Z"
   },
   {
    "duration": 88,
    "start_time": "2022-11-02T13:04:47.716Z"
   },
   {
    "duration": 8,
    "start_time": "2022-11-02T13:04:54.459Z"
   },
   {
    "duration": 8,
    "start_time": "2022-11-02T13:05:07.113Z"
   },
   {
    "duration": 6,
    "start_time": "2022-11-02T13:05:14.705Z"
   },
   {
    "duration": 10,
    "start_time": "2022-11-02T13:07:17.258Z"
   },
   {
    "duration": 6,
    "start_time": "2022-11-02T13:09:09.768Z"
   },
   {
    "duration": 7,
    "start_time": "2022-11-02T13:09:12.200Z"
   },
   {
    "duration": 4,
    "start_time": "2022-11-02T13:09:21.688Z"
   },
   {
    "duration": 9,
    "start_time": "2022-11-02T13:09:36.989Z"
   },
   {
    "duration": 16,
    "start_time": "2022-11-02T13:10:46.924Z"
   },
   {
    "duration": 9,
    "start_time": "2022-11-02T13:11:17.916Z"
   },
   {
    "duration": 5,
    "start_time": "2022-11-02T13:11:37.042Z"
   },
   {
    "duration": 8,
    "start_time": "2022-11-02T13:11:42.588Z"
   },
   {
    "duration": 6,
    "start_time": "2022-11-02T13:11:52.769Z"
   },
   {
    "duration": 6,
    "start_time": "2022-11-02T13:12:44.390Z"
   },
   {
    "duration": 7,
    "start_time": "2022-11-02T13:12:46.159Z"
   },
   {
    "duration": 10,
    "start_time": "2022-11-02T13:12:51.197Z"
   },
   {
    "duration": 7,
    "start_time": "2022-11-02T13:13:01.772Z"
   },
   {
    "duration": 9,
    "start_time": "2022-11-02T13:13:03.819Z"
   },
   {
    "duration": 610,
    "start_time": "2022-11-07T06:34:24.851Z"
   },
   {
    "duration": 4,
    "start_time": "2022-11-07T06:34:30.082Z"
   },
   {
    "duration": 4,
    "start_time": "2022-11-07T06:34:33.099Z"
   },
   {
    "duration": 88,
    "start_time": "2022-11-07T06:34:37.882Z"
   },
   {
    "duration": 4,
    "start_time": "2022-11-07T06:34:44.008Z"
   },
   {
    "duration": 4,
    "start_time": "2022-11-07T06:34:55.665Z"
   },
   {
    "duration": 5,
    "start_time": "2022-11-07T06:34:57.808Z"
   },
   {
    "duration": 4,
    "start_time": "2022-11-07T06:34:58.930Z"
   },
   {
    "duration": 71,
    "start_time": "2022-11-07T06:35:34.285Z"
   },
   {
    "duration": 4,
    "start_time": "2022-11-07T06:35:40.076Z"
   },
   {
    "duration": 3,
    "start_time": "2022-11-07T06:35:41.164Z"
   },
   {
    "duration": 11,
    "start_time": "2022-11-07T06:35:42.250Z"
   },
   {
    "duration": 5,
    "start_time": "2022-11-07T06:35:42.684Z"
   },
   {
    "duration": 3,
    "start_time": "2022-11-07T06:35:45.535Z"
   },
   {
    "duration": 6,
    "start_time": "2022-11-07T06:35:46.055Z"
   },
   {
    "duration": 3,
    "start_time": "2022-11-07T06:35:46.837Z"
   },
   {
    "duration": 11,
    "start_time": "2022-11-07T06:35:47.960Z"
   },
   {
    "duration": 11,
    "start_time": "2022-11-07T06:35:53.477Z"
   },
   {
    "duration": 7,
    "start_time": "2022-11-07T06:35:56.023Z"
   },
   {
    "duration": 6,
    "start_time": "2022-11-07T06:36:08.473Z"
   },
   {
    "duration": 5,
    "start_time": "2022-11-07T06:36:10.598Z"
   },
   {
    "duration": 5,
    "start_time": "2022-11-07T06:36:19.212Z"
   },
   {
    "duration": 11,
    "start_time": "2022-11-07T06:36:20.039Z"
   },
   {
    "duration": 8,
    "start_time": "2022-11-07T06:36:26.767Z"
   },
   {
    "duration": 11,
    "start_time": "2022-11-07T06:36:27.639Z"
   },
   {
    "duration": 8,
    "start_time": "2022-11-07T06:36:36.312Z"
   },
   {
    "duration": 7,
    "start_time": "2022-11-07T06:36:42.579Z"
   },
   {
    "duration": 10,
    "start_time": "2022-11-07T06:36:43.239Z"
   },
   {
    "duration": 10,
    "start_time": "2022-11-07T06:36:55.332Z"
   },
   {
    "duration": 14,
    "start_time": "2022-11-07T06:38:03.008Z"
   },
   {
    "duration": 6,
    "start_time": "2022-11-07T06:38:41.528Z"
   },
   {
    "duration": 12,
    "start_time": "2022-11-07T06:39:10.583Z"
   },
   {
    "duration": 15,
    "start_time": "2022-11-07T06:39:15.942Z"
   },
   {
    "duration": 8,
    "start_time": "2022-11-07T06:41:34.782Z"
   },
   {
    "duration": 12,
    "start_time": "2022-11-07T06:41:42.982Z"
   },
   {
    "duration": 13,
    "start_time": "2022-11-07T06:48:33.967Z"
   },
   {
    "duration": 11,
    "start_time": "2022-11-07T06:48:41.287Z"
   },
   {
    "duration": 12,
    "start_time": "2022-11-07T06:48:48.847Z"
   },
   {
    "duration": 5,
    "start_time": "2022-11-07T06:51:34.166Z"
   },
   {
    "duration": 12,
    "start_time": "2022-11-07T06:51:36.238Z"
   },
   {
    "duration": 8,
    "start_time": "2022-11-07T06:59:12.323Z"
   },
   {
    "duration": 18,
    "start_time": "2022-11-07T06:59:24.723Z"
   },
   {
    "duration": 12,
    "start_time": "2022-11-07T07:04:48.908Z"
   },
   {
    "duration": 7,
    "start_time": "2022-11-07T07:05:26.838Z"
   },
   {
    "duration": 13,
    "start_time": "2022-11-07T07:06:01.725Z"
   },
   {
    "duration": 19,
    "start_time": "2022-11-07T07:06:55.640Z"
   },
   {
    "duration": 12,
    "start_time": "2022-11-07T07:06:57.408Z"
   },
   {
    "duration": 68,
    "start_time": "2022-11-07T07:07:25.882Z"
   },
   {
    "duration": 12,
    "start_time": "2022-11-07T07:07:36.643Z"
   },
   {
    "duration": 11,
    "start_time": "2022-11-07T07:07:37.736Z"
   },
   {
    "duration": 10,
    "start_time": "2022-11-07T07:09:55.968Z"
   },
   {
    "duration": 11,
    "start_time": "2022-11-07T07:10:28.970Z"
   },
   {
    "duration": 8,
    "start_time": "2022-11-07T07:11:01.441Z"
   },
   {
    "duration": 67,
    "start_time": "2022-11-07T07:12:10.694Z"
   },
   {
    "duration": 475,
    "start_time": "2022-11-07T07:12:15.449Z"
   },
   {
    "duration": 131,
    "start_time": "2022-11-07T07:14:18.186Z"
   },
   {
    "duration": 260,
    "start_time": "2022-11-07T07:15:52.231Z"
   },
   {
    "duration": 262,
    "start_time": "2022-11-07T07:15:59.558Z"
   },
   {
    "duration": 125,
    "start_time": "2022-11-07T07:16:32.511Z"
   },
   {
    "duration": 123,
    "start_time": "2022-11-07T07:16:57.656Z"
   },
   {
    "duration": 114,
    "start_time": "2022-11-07T07:17:08.181Z"
   },
   {
    "duration": 4,
    "start_time": "2022-11-07T07:20:12.374Z"
   },
   {
    "duration": 996,
    "start_time": "2022-11-07T07:20:16.900Z"
   },
   {
    "duration": 0,
    "start_time": "2022-11-07T07:20:17.897Z"
   },
   {
    "duration": 927,
    "start_time": "2022-11-07T07:20:21.891Z"
   },
   {
    "duration": 0,
    "start_time": "2022-11-07T07:20:22.820Z"
   },
   {
    "duration": 800,
    "start_time": "2022-11-07T07:21:26.574Z"
   },
   {
    "duration": 822,
    "start_time": "2022-11-07T07:21:28.121Z"
   },
   {
    "duration": 886,
    "start_time": "2022-11-07T07:21:29.267Z"
   },
   {
    "duration": 0,
    "start_time": "2022-11-07T07:21:30.155Z"
   },
   {
    "duration": 10,
    "start_time": "2022-11-07T07:21:31.597Z"
   },
   {
    "duration": 1056,
    "start_time": "2022-11-07T07:21:35.043Z"
   },
   {
    "duration": 1416,
    "start_time": "2022-11-07T07:21:36.701Z"
   },
   {
    "duration": 434,
    "start_time": "2022-11-07T07:21:54.440Z"
   },
   {
    "duration": 4,
    "start_time": "2022-11-07T07:21:58.719Z"
   },
   {
    "duration": 4,
    "start_time": "2022-11-07T07:22:11.999Z"
   },
   {
    "duration": 5,
    "start_time": "2022-11-07T07:22:13.132Z"
   },
   {
    "duration": 4,
    "start_time": "2022-11-07T07:22:14.280Z"
   },
   {
    "duration": 63,
    "start_time": "2022-11-07T07:22:16.688Z"
   },
   {
    "duration": 9,
    "start_time": "2022-11-07T07:22:18.360Z"
   },
   {
    "duration": 4,
    "start_time": "2022-11-07T07:22:20.567Z"
   },
   {
    "duration": 5,
    "start_time": "2022-11-07T07:22:28.391Z"
   },
   {
    "duration": 72,
    "start_time": "2022-11-07T07:22:38.611Z"
   },
   {
    "duration": 3,
    "start_time": "2022-11-07T07:22:41.847Z"
   },
   {
    "duration": 5,
    "start_time": "2022-11-07T07:22:42.675Z"
   },
   {
    "duration": 4,
    "start_time": "2022-11-07T07:22:43.463Z"
   },
   {
    "duration": 12,
    "start_time": "2022-11-07T07:22:45.298Z"
   },
   {
    "duration": 7,
    "start_time": "2022-11-07T07:22:46.783Z"
   },
   {
    "duration": 2,
    "start_time": "2022-11-07T07:22:49.311Z"
   },
   {
    "duration": 4,
    "start_time": "2022-11-07T07:22:50.331Z"
   },
   {
    "duration": 5,
    "start_time": "2022-11-07T07:23:10.729Z"
   },
   {
    "duration": 75,
    "start_time": "2022-11-07T07:23:24.615Z"
   },
   {
    "duration": 3,
    "start_time": "2022-11-07T07:23:26.686Z"
   },
   {
    "duration": 4,
    "start_time": "2022-11-07T07:23:27.402Z"
   },
   {
    "duration": 3,
    "start_time": "2022-11-07T07:23:28.039Z"
   },
   {
    "duration": 12,
    "start_time": "2022-11-07T07:23:29.617Z"
   },
   {
    "duration": 5,
    "start_time": "2022-11-07T07:23:32.832Z"
   },
   {
    "duration": 4,
    "start_time": "2022-11-07T07:25:45.120Z"
   },
   {
    "duration": 17,
    "start_time": "2022-11-07T07:25:45.360Z"
   },
   {
    "duration": 21,
    "start_time": "2022-11-07T07:25:45.582Z"
   },
   {
    "duration": 5,
    "start_time": "2022-11-07T07:26:01.784Z"
   },
   {
    "duration": 9,
    "start_time": "2022-11-07T07:26:03.344Z"
   },
   {
    "duration": 6,
    "start_time": "2022-11-07T07:26:03.910Z"
   },
   {
    "duration": 5,
    "start_time": "2022-11-07T07:26:08.344Z"
   },
   {
    "duration": 18,
    "start_time": "2022-11-07T07:26:09.398Z"
   },
   {
    "duration": 15,
    "start_time": "2022-11-07T07:26:16.711Z"
   },
   {
    "duration": 7,
    "start_time": "2022-11-07T07:26:18.375Z"
   },
   {
    "duration": 6,
    "start_time": "2022-11-07T07:26:28.447Z"
   },
   {
    "duration": 7,
    "start_time": "2022-11-07T07:26:35.586Z"
   },
   {
    "duration": 4,
    "start_time": "2022-11-07T07:26:38.705Z"
   },
   {
    "duration": 13,
    "start_time": "2022-11-07T07:26:39.402Z"
   },
   {
    "duration": 8,
    "start_time": "2022-11-07T07:26:42.388Z"
   },
   {
    "duration": 14,
    "start_time": "2022-11-07T07:26:42.971Z"
   },
   {
    "duration": 12,
    "start_time": "2022-11-07T07:26:45.686Z"
   },
   {
    "duration": 15,
    "start_time": "2022-11-07T07:26:46.227Z"
   },
   {
    "duration": 13,
    "start_time": "2022-11-07T07:26:46.554Z"
   },
   {
    "duration": 6,
    "start_time": "2022-11-07T07:26:47.643Z"
   },
   {
    "duration": 6,
    "start_time": "2022-11-07T07:26:48.112Z"
   },
   {
    "duration": 6,
    "start_time": "2022-11-07T07:26:48.515Z"
   },
   {
    "duration": 8,
    "start_time": "2022-11-07T07:26:50.981Z"
   },
   {
    "duration": 19,
    "start_time": "2022-11-07T07:27:15.990Z"
   },
   {
    "duration": 14,
    "start_time": "2022-11-07T07:27:19.146Z"
   },
   {
    "duration": 19,
    "start_time": "2022-11-07T07:27:22.943Z"
   },
   {
    "duration": 12,
    "start_time": "2022-11-07T07:27:24.658Z"
   },
   {
    "duration": 14,
    "start_time": "2022-11-07T07:27:30.254Z"
   },
   {
    "duration": 9,
    "start_time": "2022-11-07T07:27:40.404Z"
   },
   {
    "duration": 385,
    "start_time": "2022-11-07T07:27:50.564Z"
   },
   {
    "duration": 626,
    "start_time": "2022-11-07T09:26:14.604Z"
   },
   {
    "duration": 3,
    "start_time": "2022-11-07T09:26:15.232Z"
   },
   {
    "duration": 6,
    "start_time": "2022-11-07T09:26:15.236Z"
   },
   {
    "duration": 4,
    "start_time": "2022-11-07T09:26:15.244Z"
   },
   {
    "duration": 75,
    "start_time": "2022-11-07T09:26:15.249Z"
   },
   {
    "duration": 0,
    "start_time": "2022-11-07T09:26:15.327Z"
   },
   {
    "duration": 0,
    "start_time": "2022-11-07T09:26:15.328Z"
   },
   {
    "duration": 0,
    "start_time": "2022-11-07T09:26:15.329Z"
   },
   {
    "duration": 0,
    "start_time": "2022-11-07T09:26:15.331Z"
   },
   {
    "duration": 0,
    "start_time": "2022-11-07T09:26:15.332Z"
   },
   {
    "duration": 0,
    "start_time": "2022-11-07T09:26:15.333Z"
   },
   {
    "duration": 0,
    "start_time": "2022-11-07T09:26:15.334Z"
   },
   {
    "duration": 0,
    "start_time": "2022-11-07T09:26:15.335Z"
   },
   {
    "duration": 0,
    "start_time": "2022-11-07T09:26:15.336Z"
   },
   {
    "duration": 0,
    "start_time": "2022-11-07T09:26:15.337Z"
   },
   {
    "duration": 0,
    "start_time": "2022-11-07T09:26:15.338Z"
   },
   {
    "duration": 0,
    "start_time": "2022-11-07T09:26:15.339Z"
   },
   {
    "duration": 0,
    "start_time": "2022-11-07T09:26:15.340Z"
   },
   {
    "duration": 0,
    "start_time": "2022-11-07T09:26:15.341Z"
   },
   {
    "duration": 0,
    "start_time": "2022-11-07T09:26:15.342Z"
   },
   {
    "duration": 0,
    "start_time": "2022-11-07T09:26:15.343Z"
   },
   {
    "duration": 0,
    "start_time": "2022-11-07T09:26:15.344Z"
   },
   {
    "duration": 0,
    "start_time": "2022-11-07T09:26:15.345Z"
   },
   {
    "duration": 0,
    "start_time": "2022-11-07T09:26:15.347Z"
   },
   {
    "duration": 0,
    "start_time": "2022-11-07T09:26:15.348Z"
   },
   {
    "duration": 0,
    "start_time": "2022-11-07T09:26:15.349Z"
   },
   {
    "duration": 1,
    "start_time": "2022-11-07T09:26:15.349Z"
   },
   {
    "duration": 0,
    "start_time": "2022-11-07T09:26:15.350Z"
   },
   {
    "duration": 5,
    "start_time": "2022-11-07T09:26:45.729Z"
   },
   {
    "duration": 8,
    "start_time": "2022-11-07T09:26:46.860Z"
   },
   {
    "duration": 5,
    "start_time": "2022-11-07T09:26:47.356Z"
   },
   {
    "duration": 4,
    "start_time": "2022-11-07T09:26:48.045Z"
   },
   {
    "duration": 13,
    "start_time": "2022-11-07T09:26:48.389Z"
   },
   {
    "duration": 11,
    "start_time": "2022-11-07T09:26:48.766Z"
   },
   {
    "duration": 6,
    "start_time": "2022-11-07T09:26:49.182Z"
   },
   {
    "duration": 6,
    "start_time": "2022-11-07T09:26:49.618Z"
   },
   {
    "duration": 5,
    "start_time": "2022-11-07T09:26:50.020Z"
   },
   {
    "duration": 4,
    "start_time": "2022-11-07T09:26:50.436Z"
   },
   {
    "duration": 11,
    "start_time": "2022-11-07T09:26:50.627Z"
   },
   {
    "duration": 10,
    "start_time": "2022-11-07T09:26:51.020Z"
   },
   {
    "duration": 13,
    "start_time": "2022-11-07T09:26:51.221Z"
   },
   {
    "duration": 11,
    "start_time": "2022-11-07T09:26:51.599Z"
   },
   {
    "duration": 11,
    "start_time": "2022-11-07T09:26:51.785Z"
   },
   {
    "duration": 13,
    "start_time": "2022-11-07T09:26:51.992Z"
   },
   {
    "duration": 15,
    "start_time": "2022-11-07T09:26:52.388Z"
   },
   {
    "duration": 11,
    "start_time": "2022-11-07T09:26:52.574Z"
   },
   {
    "duration": 20,
    "start_time": "2022-11-07T09:26:52.957Z"
   },
   {
    "duration": 14,
    "start_time": "2022-11-07T09:26:53.363Z"
   },
   {
    "duration": 14,
    "start_time": "2022-11-07T09:26:53.968Z"
   },
   {
    "duration": 10,
    "start_time": "2022-11-07T09:26:56.556Z"
   },
   {
    "duration": 521,
    "start_time": "2022-11-07T09:26:57.069Z"
   },
   {
    "duration": 1195,
    "start_time": "2022-11-07T09:29:26.249Z"
   },
   {
    "duration": 147,
    "start_time": "2022-11-07T09:29:33.151Z"
   },
   {
    "duration": 10,
    "start_time": "2022-11-07T09:29:54.425Z"
   },
   {
    "duration": 15,
    "start_time": "2022-11-07T09:31:26.144Z"
   },
   {
    "duration": 13,
    "start_time": "2022-11-07T09:32:32.479Z"
   },
   {
    "duration": 13,
    "start_time": "2022-11-07T09:32:40.183Z"
   },
   {
    "duration": 13,
    "start_time": "2022-11-07T09:32:54.250Z"
   },
   {
    "duration": 11,
    "start_time": "2022-11-07T09:33:05.624Z"
   },
   {
    "duration": 12,
    "start_time": "2022-11-07T09:39:30.513Z"
   },
   {
    "duration": 27,
    "start_time": "2022-11-07T09:39:36.655Z"
   },
   {
    "duration": 10,
    "start_time": "2022-11-07T09:39:42.047Z"
   },
   {
    "duration": 10,
    "start_time": "2022-11-07T09:41:05.175Z"
   },
   {
    "duration": 16,
    "start_time": "2022-11-07T09:46:56.559Z"
   },
   {
    "duration": 1202,
    "start_time": "2022-11-07T09:48:41.902Z"
   },
   {
    "duration": 8,
    "start_time": "2022-11-07T09:52:09.140Z"
   },
   {
    "duration": 6,
    "start_time": "2022-11-07T09:53:07.424Z"
   },
   {
    "duration": 6,
    "start_time": "2022-11-07T09:53:14.968Z"
   },
   {
    "duration": 8,
    "start_time": "2022-11-07T09:53:18.490Z"
   },
   {
    "duration": 4,
    "start_time": "2022-11-07T09:53:18.959Z"
   },
   {
    "duration": 86,
    "start_time": "2022-11-07T09:55:07.088Z"
   },
   {
    "duration": 4,
    "start_time": "2022-11-07T09:55:07.645Z"
   },
   {
    "duration": 7,
    "start_time": "2022-11-07T09:55:16.291Z"
   },
   {
    "duration": 3,
    "start_time": "2022-11-07T09:55:16.951Z"
   },
   {
    "duration": 8,
    "start_time": "2022-11-07T09:57:29.139Z"
   },
   {
    "duration": 4,
    "start_time": "2022-11-07T09:57:29.521Z"
   },
   {
    "duration": 3,
    "start_time": "2022-11-07T09:57:58.825Z"
   },
   {
    "duration": 11,
    "start_time": "2022-11-07T09:58:14.034Z"
   },
   {
    "duration": 4,
    "start_time": "2022-11-07T09:58:23.464Z"
   },
   {
    "duration": 37,
    "start_time": "2022-11-07T10:02:42.351Z"
   },
   {
    "duration": 27,
    "start_time": "2022-11-07T10:02:51.282Z"
   },
   {
    "duration": 71,
    "start_time": "2022-11-07T10:04:08.054Z"
   },
   {
    "duration": 24,
    "start_time": "2022-11-07T10:05:28.353Z"
   },
   {
    "duration": 13,
    "start_time": "2022-11-07T10:06:35.648Z"
   },
   {
    "duration": 119,
    "start_time": "2022-11-07T10:07:01.367Z"
   },
   {
    "duration": 323,
    "start_time": "2022-11-07T10:07:17.394Z"
   },
   {
    "duration": 4984,
    "start_time": "2022-11-07T10:07:29.473Z"
   },
   {
    "duration": 8,
    "start_time": "2022-11-07T10:07:41.202Z"
   },
   {
    "duration": 4,
    "start_time": "2022-11-07T10:07:52.134Z"
   },
   {
    "duration": 7,
    "start_time": "2022-11-07T10:07:53.039Z"
   },
   {
    "duration": 19,
    "start_time": "2022-11-07T10:08:05.530Z"
   },
   {
    "duration": 6,
    "start_time": "2022-11-07T10:09:07.713Z"
   },
   {
    "duration": 11,
    "start_time": "2022-11-07T10:11:27.209Z"
   },
   {
    "duration": 226,
    "start_time": "2022-11-07T10:11:44.182Z"
   },
   {
    "duration": 78,
    "start_time": "2022-11-08T11:10:02.380Z"
   },
   {
    "duration": 515,
    "start_time": "2022-11-08T11:10:35.295Z"
   },
   {
    "duration": 4,
    "start_time": "2022-11-08T11:10:35.812Z"
   },
   {
    "duration": 22,
    "start_time": "2022-11-08T11:10:35.817Z"
   },
   {
    "duration": 9,
    "start_time": "2022-11-08T11:10:35.840Z"
   },
   {
    "duration": 68,
    "start_time": "2022-11-08T11:10:35.850Z"
   },
   {
    "duration": 0,
    "start_time": "2022-11-08T11:10:35.922Z"
   },
   {
    "duration": 0,
    "start_time": "2022-11-08T11:10:35.923Z"
   },
   {
    "duration": 0,
    "start_time": "2022-11-08T11:10:35.924Z"
   },
   {
    "duration": 0,
    "start_time": "2022-11-08T11:10:35.925Z"
   },
   {
    "duration": 0,
    "start_time": "2022-11-08T11:10:35.926Z"
   },
   {
    "duration": 0,
    "start_time": "2022-11-08T11:10:35.927Z"
   },
   {
    "duration": 0,
    "start_time": "2022-11-08T11:10:35.929Z"
   },
   {
    "duration": 0,
    "start_time": "2022-11-08T11:10:35.930Z"
   },
   {
    "duration": 0,
    "start_time": "2022-11-08T11:10:35.930Z"
   },
   {
    "duration": 0,
    "start_time": "2022-11-08T11:10:35.931Z"
   },
   {
    "duration": 0,
    "start_time": "2022-11-08T11:10:35.932Z"
   },
   {
    "duration": 0,
    "start_time": "2022-11-08T11:10:35.933Z"
   },
   {
    "duration": 0,
    "start_time": "2022-11-08T11:10:35.934Z"
   },
   {
    "duration": 0,
    "start_time": "2022-11-08T11:10:35.935Z"
   },
   {
    "duration": 0,
    "start_time": "2022-11-08T11:10:35.936Z"
   },
   {
    "duration": 0,
    "start_time": "2022-11-08T11:10:35.937Z"
   },
   {
    "duration": 0,
    "start_time": "2022-11-08T11:10:35.938Z"
   },
   {
    "duration": 0,
    "start_time": "2022-11-08T11:10:35.939Z"
   },
   {
    "duration": 0,
    "start_time": "2022-11-08T11:10:35.940Z"
   },
   {
    "duration": 0,
    "start_time": "2022-11-08T11:10:35.942Z"
   },
   {
    "duration": 0,
    "start_time": "2022-11-08T11:10:35.943Z"
   },
   {
    "duration": 0,
    "start_time": "2022-11-08T11:10:35.944Z"
   },
   {
    "duration": 0,
    "start_time": "2022-11-08T11:10:35.945Z"
   },
   {
    "duration": 0,
    "start_time": "2022-11-08T11:10:35.946Z"
   },
   {
    "duration": 0,
    "start_time": "2022-11-08T11:10:35.947Z"
   },
   {
    "duration": 0,
    "start_time": "2022-11-08T11:10:35.948Z"
   },
   {
    "duration": 0,
    "start_time": "2022-11-08T11:10:35.949Z"
   },
   {
    "duration": 0,
    "start_time": "2022-11-08T11:10:35.950Z"
   },
   {
    "duration": 0,
    "start_time": "2022-11-08T11:10:35.951Z"
   },
   {
    "duration": 5,
    "start_time": "2022-11-08T11:10:57.163Z"
   },
   {
    "duration": 10,
    "start_time": "2022-11-08T11:10:57.938Z"
   },
   {
    "duration": 6,
    "start_time": "2022-11-08T11:10:58.115Z"
   },
   {
    "duration": 5,
    "start_time": "2022-11-08T11:10:58.291Z"
   },
   {
    "duration": 19,
    "start_time": "2022-11-08T11:10:58.595Z"
   },
   {
    "duration": 13,
    "start_time": "2022-11-08T11:10:58.946Z"
   },
   {
    "duration": 7,
    "start_time": "2022-11-08T11:10:59.276Z"
   },
   {
    "duration": 7,
    "start_time": "2022-11-08T11:10:59.637Z"
   },
   {
    "duration": 6,
    "start_time": "2022-11-08T11:10:59.958Z"
   },
   {
    "duration": 11,
    "start_time": "2022-11-08T11:11:00.656Z"
   },
   {
    "duration": 13,
    "start_time": "2022-11-08T11:11:00.879Z"
   },
   {
    "duration": 8,
    "start_time": "2022-11-08T11:11:01.086Z"
   },
   {
    "duration": 40,
    "start_time": "2022-11-08T11:11:01.096Z"
   },
   {
    "duration": 10,
    "start_time": "2022-11-08T11:11:01.558Z"
   },
   {
    "duration": 15,
    "start_time": "2022-11-08T11:11:01.570Z"
   },
   {
    "duration": 13,
    "start_time": "2022-11-08T11:11:01.717Z"
   },
   {
    "duration": 15,
    "start_time": "2022-11-08T11:11:02.066Z"
   },
   {
    "duration": 12,
    "start_time": "2022-11-08T11:11:02.938Z"
   },
   {
    "duration": 23,
    "start_time": "2022-11-08T11:11:04.018Z"
   },
   {
    "duration": 16,
    "start_time": "2022-11-08T11:11:04.448Z"
   },
   {
    "duration": 16,
    "start_time": "2022-11-08T11:11:05.566Z"
   },
   {
    "duration": 10,
    "start_time": "2022-11-08T11:11:06.753Z"
   },
   {
    "duration": 533,
    "start_time": "2022-11-08T11:11:06.943Z"
   },
   {
    "duration": 10,
    "start_time": "2022-11-08T11:11:09.020Z"
   },
   {
    "duration": 10,
    "start_time": "2022-11-08T11:11:09.236Z"
   },
   {
    "duration": 11,
    "start_time": "2022-11-08T11:11:10.194Z"
   },
   {
    "duration": 4,
    "start_time": "2022-11-08T11:11:10.382Z"
   },
   {
    "duration": 189,
    "start_time": "2022-11-08T11:11:11.343Z"
   },
   {
    "duration": 94,
    "start_time": "2022-11-08T11:11:11.715Z"
   },
   {
    "duration": 7,
    "start_time": "2022-11-08T11:11:46.845Z"
   },
   {
    "duration": 7,
    "start_time": "2022-11-08T11:12:10.462Z"
   },
   {
    "duration": 5,
    "start_time": "2022-11-08T11:12:16.190Z"
   },
   {
    "duration": 6,
    "start_time": "2022-11-08T11:12:22.719Z"
   },
   {
    "duration": 6,
    "start_time": "2022-11-08T11:12:27.230Z"
   },
   {
    "duration": 34,
    "start_time": "2022-11-08T11:12:43.203Z"
   },
   {
    "duration": 6,
    "start_time": "2022-11-08T11:12:49.111Z"
   },
   {
    "duration": 62,
    "start_time": "2022-11-08T11:13:15.936Z"
   },
   {
    "duration": 6,
    "start_time": "2022-11-08T11:13:30.569Z"
   },
   {
    "duration": 11,
    "start_time": "2022-11-08T11:13:58.854Z"
   },
   {
    "duration": 19,
    "start_time": "2022-11-08T11:14:03.725Z"
   },
   {
    "duration": 25,
    "start_time": "2022-11-08T11:14:21.118Z"
   },
   {
    "duration": 245,
    "start_time": "2022-11-08T11:16:56.783Z"
   },
   {
    "duration": 299,
    "start_time": "2022-11-08T11:17:29.583Z"
   },
   {
    "duration": 339,
    "start_time": "2022-11-08T11:19:32.709Z"
   },
   {
    "duration": 434,
    "start_time": "2022-11-08T11:19:43.639Z"
   },
   {
    "duration": 3,
    "start_time": "2022-11-08T11:25:08.902Z"
   },
   {
    "duration": 6,
    "start_time": "2022-11-08T11:25:22.534Z"
   },
   {
    "duration": 431,
    "start_time": "2022-11-08T11:26:23.441Z"
   },
   {
    "duration": 345,
    "start_time": "2022-11-08T11:26:36.587Z"
   },
   {
    "duration": 21,
    "start_time": "2022-11-08T11:26:45.872Z"
   },
   {
    "duration": 314,
    "start_time": "2022-11-08T11:28:56.585Z"
   },
   {
    "duration": 67,
    "start_time": "2022-11-08T11:47:59.202Z"
   },
   {
    "duration": 66,
    "start_time": "2022-11-08T11:48:08.525Z"
   },
   {
    "duration": 3,
    "start_time": "2022-11-08T11:48:14.792Z"
   },
   {
    "duration": 20,
    "start_time": "2022-11-08T11:48:19.973Z"
   },
   {
    "duration": 5,
    "start_time": "2022-11-08T11:49:10.260Z"
   },
   {
    "duration": 21,
    "start_time": "2022-11-08T11:49:15.783Z"
   },
   {
    "duration": 1085,
    "start_time": "2022-11-08T11:52:20.728Z"
   },
   {
    "duration": 21,
    "start_time": "2022-11-08T11:52:21.983Z"
   },
   {
    "duration": 11,
    "start_time": "2022-11-08T11:53:55.208Z"
   },
   {
    "duration": 11,
    "start_time": "2022-11-08T11:56:15.193Z"
   },
   {
    "duration": 8,
    "start_time": "2022-11-08T11:56:38.393Z"
   },
   {
    "duration": 25,
    "start_time": "2022-11-08T11:57:46.742Z"
   },
   {
    "duration": 9,
    "start_time": "2022-11-08T11:58:23.074Z"
   },
   {
    "duration": 12,
    "start_time": "2022-11-08T11:58:34.496Z"
   },
   {
    "duration": 8,
    "start_time": "2022-11-08T11:58:40.909Z"
   },
   {
    "duration": 1143,
    "start_time": "2022-11-08T11:59:19.708Z"
   },
   {
    "duration": 4,
    "start_time": "2022-11-08T11:59:31.022Z"
   },
   {
    "duration": 22,
    "start_time": "2022-11-08T11:59:35.324Z"
   },
   {
    "duration": 7,
    "start_time": "2022-11-08T11:59:52.975Z"
   },
   {
    "duration": 22,
    "start_time": "2022-11-08T11:59:56.016Z"
   },
   {
    "duration": 7,
    "start_time": "2022-11-08T12:01:11.915Z"
   },
   {
    "duration": 364,
    "start_time": "2022-11-08T12:01:21.463Z"
   },
   {
    "duration": 26,
    "start_time": "2022-11-08T12:01:23.972Z"
   },
   {
    "duration": 3,
    "start_time": "2022-11-08T12:01:25.006Z"
   },
   {
    "duration": 23,
    "start_time": "2022-11-08T12:01:25.964Z"
   },
   {
    "duration": 7,
    "start_time": "2022-11-08T12:01:29.968Z"
   },
   {
    "duration": 25,
    "start_time": "2022-11-08T12:01:30.630Z"
   },
   {
    "duration": 5,
    "start_time": "2022-11-08T12:08:35.203Z"
   },
   {
    "duration": 19,
    "start_time": "2022-11-08T12:08:40.423Z"
   },
   {
    "duration": 4,
    "start_time": "2022-11-08T12:11:47.532Z"
   },
   {
    "duration": 23,
    "start_time": "2022-11-08T12:11:49.155Z"
   },
   {
    "duration": 8,
    "start_time": "2022-11-08T12:13:12.685Z"
   },
   {
    "duration": 25,
    "start_time": "2022-11-08T12:13:14.439Z"
   },
   {
    "duration": 504,
    "start_time": "2022-11-08T12:13:32.594Z"
   },
   {
    "duration": 2,
    "start_time": "2022-11-08T12:13:33.100Z"
   },
   {
    "duration": 20,
    "start_time": "2022-11-08T12:13:33.104Z"
   },
   {
    "duration": 13,
    "start_time": "2022-11-08T12:13:33.125Z"
   },
   {
    "duration": 69,
    "start_time": "2022-11-08T12:13:33.139Z"
   },
   {
    "duration": 0,
    "start_time": "2022-11-08T12:13:33.211Z"
   },
   {
    "duration": 0,
    "start_time": "2022-11-08T12:13:33.213Z"
   },
   {
    "duration": 0,
    "start_time": "2022-11-08T12:13:33.214Z"
   },
   {
    "duration": 0,
    "start_time": "2022-11-08T12:13:33.215Z"
   },
   {
    "duration": 0,
    "start_time": "2022-11-08T12:13:33.216Z"
   },
   {
    "duration": 0,
    "start_time": "2022-11-08T12:13:33.217Z"
   },
   {
    "duration": 0,
    "start_time": "2022-11-08T12:13:33.218Z"
   },
   {
    "duration": 0,
    "start_time": "2022-11-08T12:13:33.218Z"
   },
   {
    "duration": 0,
    "start_time": "2022-11-08T12:13:33.219Z"
   },
   {
    "duration": 0,
    "start_time": "2022-11-08T12:13:33.220Z"
   },
   {
    "duration": 0,
    "start_time": "2022-11-08T12:13:33.221Z"
   },
   {
    "duration": 0,
    "start_time": "2022-11-08T12:13:33.222Z"
   },
   {
    "duration": 0,
    "start_time": "2022-11-08T12:13:33.223Z"
   },
   {
    "duration": 0,
    "start_time": "2022-11-08T12:13:33.224Z"
   },
   {
    "duration": 0,
    "start_time": "2022-11-08T12:13:33.225Z"
   },
   {
    "duration": 0,
    "start_time": "2022-11-08T12:13:33.226Z"
   },
   {
    "duration": 0,
    "start_time": "2022-11-08T12:13:33.227Z"
   },
   {
    "duration": 0,
    "start_time": "2022-11-08T12:13:33.228Z"
   },
   {
    "duration": 0,
    "start_time": "2022-11-08T12:13:33.229Z"
   },
   {
    "duration": 0,
    "start_time": "2022-11-08T12:13:33.230Z"
   },
   {
    "duration": 0,
    "start_time": "2022-11-08T12:13:33.231Z"
   },
   {
    "duration": 0,
    "start_time": "2022-11-08T12:13:33.232Z"
   },
   {
    "duration": 0,
    "start_time": "2022-11-08T12:13:33.233Z"
   },
   {
    "duration": 0,
    "start_time": "2022-11-08T12:13:33.234Z"
   },
   {
    "duration": 0,
    "start_time": "2022-11-08T12:13:33.235Z"
   },
   {
    "duration": 0,
    "start_time": "2022-11-08T12:13:33.236Z"
   },
   {
    "duration": 0,
    "start_time": "2022-11-08T12:13:33.237Z"
   },
   {
    "duration": 0,
    "start_time": "2022-11-08T12:13:33.238Z"
   },
   {
    "duration": 0,
    "start_time": "2022-11-08T12:13:33.239Z"
   },
   {
    "duration": 0,
    "start_time": "2022-11-08T12:13:33.240Z"
   },
   {
    "duration": 0,
    "start_time": "2022-11-08T12:13:33.241Z"
   },
   {
    "duration": 0,
    "start_time": "2022-11-08T12:13:33.242Z"
   },
   {
    "duration": 0,
    "start_time": "2022-11-08T12:13:33.243Z"
   },
   {
    "duration": 0,
    "start_time": "2022-11-08T12:13:33.245Z"
   },
   {
    "duration": 0,
    "start_time": "2022-11-08T12:13:33.246Z"
   },
   {
    "duration": 0,
    "start_time": "2022-11-08T12:13:33.247Z"
   },
   {
    "duration": 0,
    "start_time": "2022-11-08T12:13:33.248Z"
   },
   {
    "duration": 4,
    "start_time": "2022-11-08T12:13:41.840Z"
   },
   {
    "duration": 8,
    "start_time": "2022-11-08T12:13:42.660Z"
   },
   {
    "duration": 5,
    "start_time": "2022-11-08T12:13:42.830Z"
   },
   {
    "duration": 4,
    "start_time": "2022-11-08T12:13:43.058Z"
   },
   {
    "duration": 11,
    "start_time": "2022-11-08T12:13:43.187Z"
   },
   {
    "duration": 11,
    "start_time": "2022-11-08T12:13:43.509Z"
   },
   {
    "duration": 6,
    "start_time": "2022-11-08T12:13:44.162Z"
   },
   {
    "duration": 6,
    "start_time": "2022-11-08T12:13:44.517Z"
   },
   {
    "duration": 5,
    "start_time": "2022-11-08T12:13:44.829Z"
   },
   {
    "duration": 5,
    "start_time": "2022-11-08T12:13:45.182Z"
   },
   {
    "duration": 14,
    "start_time": "2022-11-08T12:13:45.314Z"
   },
   {
    "duration": 10,
    "start_time": "2022-11-08T12:13:45.641Z"
   },
   {
    "duration": 13,
    "start_time": "2022-11-08T12:13:45.822Z"
   },
   {
    "duration": 11,
    "start_time": "2022-11-08T12:13:46.153Z"
   },
   {
    "duration": 11,
    "start_time": "2022-11-08T12:13:46.328Z"
   },
   {
    "duration": 15,
    "start_time": "2022-11-08T12:13:46.498Z"
   },
   {
    "duration": 15,
    "start_time": "2022-11-08T12:13:46.851Z"
   },
   {
    "duration": 17,
    "start_time": "2022-11-08T12:13:47.006Z"
   },
   {
    "duration": 22,
    "start_time": "2022-11-08T12:13:47.379Z"
   },
   {
    "duration": 12,
    "start_time": "2022-11-08T12:13:47.710Z"
   },
   {
    "duration": 17,
    "start_time": "2022-11-08T12:13:48.236Z"
   },
   {
    "duration": 9,
    "start_time": "2022-11-08T12:13:48.742Z"
   },
   {
    "duration": 374,
    "start_time": "2022-11-08T12:13:48.940Z"
   },
   {
    "duration": 9,
    "start_time": "2022-11-08T12:13:49.927Z"
   },
   {
    "duration": 11,
    "start_time": "2022-11-08T12:13:50.525Z"
   },
   {
    "duration": 11,
    "start_time": "2022-11-08T12:13:50.881Z"
   },
   {
    "duration": 3,
    "start_time": "2022-11-08T12:13:51.060Z"
   },
   {
    "duration": 182,
    "start_time": "2022-11-08T12:13:51.809Z"
   },
   {
    "duration": 23,
    "start_time": "2022-11-08T12:13:52.151Z"
   },
   {
    "duration": 388,
    "start_time": "2022-11-08T12:13:53.033Z"
   },
   {
    "duration": 18,
    "start_time": "2022-11-08T12:13:53.815Z"
   },
   {
    "duration": 4,
    "start_time": "2022-11-08T12:13:54.018Z"
   },
   {
    "duration": 21,
    "start_time": "2022-11-08T12:13:54.913Z"
   },
   {
    "duration": 7,
    "start_time": "2022-11-08T12:13:55.284Z"
   },
   {
    "duration": 22,
    "start_time": "2022-11-08T12:13:56.095Z"
   },
   {
    "duration": 14,
    "start_time": "2022-11-08T12:13:56.276Z"
   },
   {
    "duration": 6,
    "start_time": "2022-11-08T12:13:58.684Z"
   },
   {
    "duration": 8,
    "start_time": "2022-11-08T12:14:29.465Z"
   },
   {
    "duration": 3,
    "start_time": "2022-11-08T12:14:30.450Z"
   },
   {
    "duration": 10,
    "start_time": "2022-11-08T12:14:45.611Z"
   },
   {
    "duration": 19,
    "start_time": "2022-11-08T12:14:46.680Z"
   },
   {
    "duration": 313,
    "start_time": "2022-11-08T12:15:16.322Z"
   },
   {
    "duration": 329,
    "start_time": "2022-11-08T12:15:43.547Z"
   },
   {
    "duration": 10,
    "start_time": "2022-11-08T12:17:29.700Z"
   },
   {
    "duration": 21,
    "start_time": "2022-11-08T12:17:30.988Z"
   },
   {
    "duration": 442,
    "start_time": "2022-11-08T12:17:34.679Z"
   },
   {
    "duration": 8,
    "start_time": "2022-11-08T12:24:02.581Z"
   },
   {
    "duration": 25,
    "start_time": "2022-11-08T12:24:04.005Z"
   },
   {
    "duration": 7,
    "start_time": "2022-11-08T12:24:36.631Z"
   },
   {
    "duration": 12,
    "start_time": "2022-11-08T12:24:47.687Z"
   },
   {
    "duration": 312,
    "start_time": "2022-11-08T12:25:56.676Z"
   },
   {
    "duration": 293,
    "start_time": "2022-11-08T12:27:07.813Z"
   },
   {
    "duration": 501,
    "start_time": "2022-11-08T12:31:14.782Z"
   },
   {
    "duration": 4,
    "start_time": "2022-11-08T12:31:17.357Z"
   },
   {
    "duration": 4,
    "start_time": "2022-11-08T12:31:17.873Z"
   },
   {
    "duration": 3,
    "start_time": "2022-11-08T12:31:18.337Z"
   },
   {
    "duration": 68,
    "start_time": "2022-11-08T12:31:18.831Z"
   },
   {
    "duration": 5,
    "start_time": "2022-11-08T12:31:19.002Z"
   },
   {
    "duration": 10,
    "start_time": "2022-11-08T12:31:19.362Z"
   },
   {
    "duration": 5,
    "start_time": "2022-11-08T12:31:19.543Z"
   },
   {
    "duration": 9,
    "start_time": "2022-11-08T12:31:19.696Z"
   },
   {
    "duration": 13,
    "start_time": "2022-11-08T12:31:19.861Z"
   },
   {
    "duration": 13,
    "start_time": "2022-11-08T12:31:20.199Z"
   },
   {
    "duration": 6,
    "start_time": "2022-11-08T12:31:20.553Z"
   },
   {
    "duration": 7,
    "start_time": "2022-11-08T12:31:20.887Z"
   },
   {
    "duration": 6,
    "start_time": "2022-11-08T12:31:21.228Z"
   },
   {
    "duration": 5,
    "start_time": "2022-11-08T12:31:21.577Z"
   },
   {
    "duration": 13,
    "start_time": "2022-11-08T12:31:21.765Z"
   },
   {
    "duration": 8,
    "start_time": "2022-11-08T12:31:22.106Z"
   },
   {
    "duration": 12,
    "start_time": "2022-11-08T12:31:22.294Z"
   },
   {
    "duration": 14,
    "start_time": "2022-11-08T12:31:22.658Z"
   },
   {
    "duration": 11,
    "start_time": "2022-11-08T12:31:22.825Z"
   },
   {
    "duration": 14,
    "start_time": "2022-11-08T12:31:23.022Z"
   },
   {
    "duration": 14,
    "start_time": "2022-11-08T12:31:23.376Z"
   },
   {
    "duration": 11,
    "start_time": "2022-11-08T12:31:23.547Z"
   },
   {
    "duration": 22,
    "start_time": "2022-11-08T12:31:23.877Z"
   },
   {
    "duration": 13,
    "start_time": "2022-11-08T12:31:24.263Z"
   },
   {
    "duration": 14,
    "start_time": "2022-11-08T12:31:24.773Z"
   },
   {
    "duration": 10,
    "start_time": "2022-11-08T12:31:25.330Z"
   },
   {
    "duration": 499,
    "start_time": "2022-11-08T12:31:25.522Z"
   },
   {
    "duration": 16,
    "start_time": "2022-11-08T12:31:26.215Z"
   },
   {
    "duration": 15,
    "start_time": "2022-11-08T12:31:26.410Z"
   },
   {
    "duration": 11,
    "start_time": "2022-11-08T12:31:26.757Z"
   },
   {
    "duration": 4,
    "start_time": "2022-11-08T12:31:26.941Z"
   },
   {
    "duration": 243,
    "start_time": "2022-11-08T12:31:27.299Z"
   },
   {
    "duration": 28,
    "start_time": "2022-11-08T12:31:27.661Z"
   },
   {
    "duration": 410,
    "start_time": "2022-11-08T12:31:28.027Z"
   },
   {
    "duration": 23,
    "start_time": "2022-11-08T12:31:28.439Z"
   },
   {
    "duration": 3,
    "start_time": "2022-11-08T12:31:28.561Z"
   },
   {
    "duration": 23,
    "start_time": "2022-11-08T12:31:28.716Z"
   },
   {
    "duration": 9,
    "start_time": "2022-11-08T12:31:29.087Z"
   },
   {
    "duration": 26,
    "start_time": "2022-11-08T12:31:29.260Z"
   },
   {
    "duration": 10,
    "start_time": "2022-11-08T12:31:29.492Z"
   },
   {
    "duration": 21,
    "start_time": "2022-11-08T12:31:29.669Z"
   },
   {
    "duration": 323,
    "start_time": "2022-11-08T12:31:29.836Z"
   },
   {
    "duration": 244,
    "start_time": "2022-11-08T12:46:38.662Z"
   },
   {
    "duration": 242,
    "start_time": "2022-11-08T12:46:44.606Z"
   },
   {
    "duration": 191,
    "start_time": "2022-11-08T12:46:51.984Z"
   },
   {
    "duration": 230,
    "start_time": "2022-11-08T12:48:29.518Z"
   },
   {
    "duration": 229,
    "start_time": "2022-11-08T12:48:37.515Z"
   },
   {
    "duration": 267,
    "start_time": "2022-11-08T12:48:49.206Z"
   },
   {
    "duration": 356,
    "start_time": "2022-11-08T12:49:06.622Z"
   },
   {
    "duration": 268,
    "start_time": "2022-11-08T12:50:27.400Z"
   },
   {
    "duration": 252,
    "start_time": "2022-11-08T12:50:32.372Z"
   },
   {
    "duration": 238,
    "start_time": "2022-11-08T12:53:36.147Z"
   },
   {
    "duration": 524,
    "start_time": "2022-11-08T12:54:14.883Z"
   },
   {
    "duration": 393,
    "start_time": "2022-11-08T12:54:25.886Z"
   },
   {
    "duration": 325,
    "start_time": "2022-11-08T12:54:34.582Z"
   },
   {
    "duration": 275,
    "start_time": "2022-11-08T12:54:49.149Z"
   },
   {
    "duration": 312,
    "start_time": "2022-11-08T12:54:58.274Z"
   },
   {
    "duration": 342,
    "start_time": "2022-11-08T12:55:57.487Z"
   },
   {
    "duration": 339,
    "start_time": "2022-11-08T12:56:12.675Z"
   },
   {
    "duration": 442,
    "start_time": "2022-11-08T12:56:18.838Z"
   },
   {
    "duration": 18,
    "start_time": "2022-11-08T13:00:10.272Z"
   },
   {
    "duration": 17,
    "start_time": "2022-11-08T13:00:32.994Z"
   },
   {
    "duration": 358,
    "start_time": "2022-11-08T13:00:59.261Z"
   },
   {
    "duration": 24,
    "start_time": "2022-11-08T13:01:01.408Z"
   },
   {
    "duration": 3,
    "start_time": "2022-11-08T13:01:02.696Z"
   },
   {
    "duration": 29,
    "start_time": "2022-11-08T13:01:04.000Z"
   },
   {
    "duration": 8,
    "start_time": "2022-11-08T13:01:06.739Z"
   },
   {
    "duration": 27,
    "start_time": "2022-11-08T13:01:07.976Z"
   },
   {
    "duration": 14,
    "start_time": "2022-11-08T13:01:08.696Z"
   },
   {
    "duration": 20,
    "start_time": "2022-11-08T13:01:10.205Z"
   },
   {
    "duration": 307,
    "start_time": "2022-11-08T13:01:10.814Z"
   },
   {
    "duration": 363,
    "start_time": "2022-11-08T13:01:12.329Z"
   },
   {
    "duration": 380,
    "start_time": "2022-11-08T13:01:43.964Z"
   },
   {
    "duration": 424,
    "start_time": "2022-11-08T13:01:53.624Z"
   },
   {
    "duration": 1379,
    "start_time": "2022-11-08T13:02:29.236Z"
   },
   {
    "duration": 0,
    "start_time": "2022-11-08T13:02:30.617Z"
   },
   {
    "duration": 1213,
    "start_time": "2022-11-08T13:02:37.099Z"
   },
   {
    "duration": 0,
    "start_time": "2022-11-08T13:02:38.313Z"
   },
   {
    "duration": 10,
    "start_time": "2022-11-08T13:02:41.482Z"
   },
   {
    "duration": 7,
    "start_time": "2022-11-08T13:02:50.082Z"
   },
   {
    "duration": 19,
    "start_time": "2022-11-08T13:02:51.040Z"
   },
   {
    "duration": 9,
    "start_time": "2022-11-08T13:02:52.202Z"
   },
   {
    "duration": 19,
    "start_time": "2022-11-08T13:02:53.176Z"
   },
   {
    "duration": 307,
    "start_time": "2022-11-08T13:02:54.455Z"
   },
   {
    "duration": 456,
    "start_time": "2022-11-08T13:05:06.610Z"
   },
   {
    "duration": 4,
    "start_time": "2022-11-08T13:05:08.459Z"
   },
   {
    "duration": 4,
    "start_time": "2022-11-08T13:05:08.557Z"
   },
   {
    "duration": 4,
    "start_time": "2022-11-08T13:05:08.644Z"
   },
   {
    "duration": 64,
    "start_time": "2022-11-08T13:05:08.954Z"
   },
   {
    "duration": 4,
    "start_time": "2022-11-08T13:05:09.114Z"
   },
   {
    "duration": 8,
    "start_time": "2022-11-08T13:05:09.439Z"
   },
   {
    "duration": 7,
    "start_time": "2022-11-08T13:05:09.570Z"
   },
   {
    "duration": 4,
    "start_time": "2022-11-08T13:05:09.744Z"
   },
   {
    "duration": 18,
    "start_time": "2022-11-08T13:05:09.907Z"
   },
   {
    "duration": 13,
    "start_time": "2022-11-08T13:05:10.226Z"
   },
   {
    "duration": 6,
    "start_time": "2022-11-08T13:05:10.587Z"
   },
   {
    "duration": 5,
    "start_time": "2022-11-08T13:05:10.918Z"
   },
   {
    "duration": 5,
    "start_time": "2022-11-08T13:05:11.214Z"
   },
   {
    "duration": 5,
    "start_time": "2022-11-08T13:05:11.534Z"
   },
   {
    "duration": 12,
    "start_time": "2022-11-08T13:05:11.679Z"
   },
   {
    "duration": 8,
    "start_time": "2022-11-08T13:05:12.007Z"
   },
   {
    "duration": 11,
    "start_time": "2022-11-08T13:05:12.160Z"
   },
   {
    "duration": 19,
    "start_time": "2022-11-08T13:05:12.496Z"
   },
   {
    "duration": 11,
    "start_time": "2022-11-08T13:05:12.671Z"
   },
   {
    "duration": 15,
    "start_time": "2022-11-08T13:05:12.816Z"
   },
   {
    "duration": 16,
    "start_time": "2022-11-08T13:05:13.225Z"
   },
   {
    "duration": 11,
    "start_time": "2022-11-08T13:05:13.368Z"
   },
   {
    "duration": 19,
    "start_time": "2022-11-08T13:05:14.998Z"
   },
   {
    "duration": 14,
    "start_time": "2022-11-08T13:05:15.377Z"
   },
   {
    "duration": 17,
    "start_time": "2022-11-08T13:05:16.847Z"
   },
   {
    "duration": 12,
    "start_time": "2022-11-08T13:05:17.358Z"
   },
   {
    "duration": 336,
    "start_time": "2022-11-08T13:05:18.557Z"
   },
   {
    "duration": 10,
    "start_time": "2022-11-08T13:05:35.575Z"
   },
   {
    "duration": 11,
    "start_time": "2022-11-08T13:05:36.112Z"
   },
   {
    "duration": 10,
    "start_time": "2022-11-08T13:05:37.167Z"
   },
   {
    "duration": 4,
    "start_time": "2022-11-08T13:05:37.574Z"
   },
   {
    "duration": 183,
    "start_time": "2022-11-08T13:05:38.661Z"
   },
   {
    "duration": 24,
    "start_time": "2022-11-08T13:05:40.406Z"
   },
   {
    "duration": 385,
    "start_time": "2022-11-08T13:05:44.632Z"
   },
   {
    "duration": 19,
    "start_time": "2022-11-08T13:05:52.205Z"
   },
   {
    "duration": 3,
    "start_time": "2022-11-08T13:05:57.153Z"
   },
   {
    "duration": 27,
    "start_time": "2022-11-08T13:06:00.186Z"
   },
   {
    "duration": 7,
    "start_time": "2022-11-08T13:06:18.926Z"
   },
   {
    "duration": 25,
    "start_time": "2022-11-08T13:06:20.264Z"
   },
   {
    "duration": 9,
    "start_time": "2022-11-08T13:06:25.291Z"
   },
   {
    "duration": 16,
    "start_time": "2022-11-08T13:06:31.239Z"
   },
   {
    "duration": 286,
    "start_time": "2022-11-08T13:06:38.439Z"
   },
   {
    "duration": 473,
    "start_time": "2022-11-08T13:06:45.902Z"
   },
   {
    "duration": 17,
    "start_time": "2022-11-08T13:07:07.672Z"
   },
   {
    "duration": 410,
    "start_time": "2022-11-08T13:07:22.544Z"
   },
   {
    "duration": 4,
    "start_time": "2022-11-08T13:07:33.208Z"
   },
   {
    "duration": 25,
    "start_time": "2022-11-08T13:07:34.005Z"
   },
   {
    "duration": 336,
    "start_time": "2022-11-08T13:07:43.275Z"
   },
   {
    "duration": 29,
    "start_time": "2022-11-08T13:07:53.307Z"
   },
   {
    "duration": 3,
    "start_time": "2022-11-08T13:07:57.628Z"
   },
   {
    "duration": 24,
    "start_time": "2022-11-08T13:07:59.815Z"
   },
   {
    "duration": 9,
    "start_time": "2022-11-08T13:08:05.840Z"
   },
   {
    "duration": 24,
    "start_time": "2022-11-08T13:08:06.828Z"
   },
   {
    "duration": 12,
    "start_time": "2022-11-08T13:08:21.346Z"
   },
   {
    "duration": 19,
    "start_time": "2022-11-08T13:08:22.936Z"
   },
   {
    "duration": 21,
    "start_time": "2022-11-08T13:08:44.118Z"
   },
   {
    "duration": 340,
    "start_time": "2022-11-08T13:08:50.114Z"
   },
   {
    "duration": 20,
    "start_time": "2022-11-08T13:08:52.048Z"
   },
   {
    "duration": 4,
    "start_time": "2022-11-08T13:08:54.887Z"
   },
   {
    "duration": 21,
    "start_time": "2022-11-08T13:08:55.777Z"
   },
   {
    "duration": 23,
    "start_time": "2022-11-08T13:09:54.125Z"
   },
   {
    "duration": 1135,
    "start_time": "2022-11-08T13:09:57.584Z"
   },
   {
    "duration": 21,
    "start_time": "2022-11-08T13:09:59.175Z"
   },
   {
    "duration": 355,
    "start_time": "2022-11-08T13:10:09.513Z"
   },
   {
    "duration": 21,
    "start_time": "2022-11-08T13:10:13.126Z"
   },
   {
    "duration": 3,
    "start_time": "2022-11-08T13:10:14.456Z"
   },
   {
    "duration": 21,
    "start_time": "2022-11-08T13:10:15.768Z"
   },
   {
    "duration": 7,
    "start_time": "2022-11-08T13:10:24.234Z"
   },
   {
    "duration": 21,
    "start_time": "2022-11-08T13:10:25.162Z"
   },
   {
    "duration": 9,
    "start_time": "2022-11-08T13:10:26.810Z"
   },
   {
    "duration": 7,
    "start_time": "2022-11-08T13:10:51.985Z"
   },
   {
    "duration": 27,
    "start_time": "2022-11-08T13:10:52.920Z"
   },
   {
    "duration": 343,
    "start_time": "2022-11-08T13:11:10.091Z"
   },
   {
    "duration": 20,
    "start_time": "2022-11-08T13:11:15.102Z"
   },
   {
    "duration": 223,
    "start_time": "2022-11-08T13:11:20.497Z"
   },
   {
    "duration": 29,
    "start_time": "2022-11-08T13:11:22.551Z"
   },
   {
    "duration": 458,
    "start_time": "2022-11-08T13:11:25.025Z"
   },
   {
    "duration": 22,
    "start_time": "2022-11-08T13:11:30.773Z"
   },
   {
    "duration": 4,
    "start_time": "2022-11-08T13:11:32.896Z"
   },
   {
    "duration": 28,
    "start_time": "2022-11-08T13:11:34.017Z"
   },
   {
    "duration": 9,
    "start_time": "2022-11-08T13:11:44.537Z"
   },
   {
    "duration": 26,
    "start_time": "2022-11-08T13:12:05.418Z"
   },
   {
    "duration": 13,
    "start_time": "2022-11-08T13:12:09.913Z"
   },
   {
    "duration": 23,
    "start_time": "2022-11-08T13:12:11.346Z"
   },
   {
    "duration": 11,
    "start_time": "2022-11-08T13:12:12.778Z"
   },
   {
    "duration": 21,
    "start_time": "2022-11-08T13:12:14.042Z"
   },
   {
    "duration": 64,
    "start_time": "2022-11-08T13:13:08.440Z"
   },
   {
    "duration": 3,
    "start_time": "2022-11-08T13:13:10.480Z"
   },
   {
    "duration": 5,
    "start_time": "2022-11-08T13:13:10.731Z"
   },
   {
    "duration": 4,
    "start_time": "2022-11-08T13:13:10.843Z"
   },
   {
    "duration": 16,
    "start_time": "2022-11-08T13:13:11.193Z"
   },
   {
    "duration": 5,
    "start_time": "2022-11-08T13:13:11.371Z"
   },
   {
    "duration": 7,
    "start_time": "2022-11-08T13:13:11.700Z"
   },
   {
    "duration": 4,
    "start_time": "2022-11-08T13:13:11.900Z"
   },
   {
    "duration": 4,
    "start_time": "2022-11-08T13:13:12.057Z"
   },
   {
    "duration": 12,
    "start_time": "2022-11-08T13:13:12.206Z"
   },
   {
    "duration": 13,
    "start_time": "2022-11-08T13:13:12.563Z"
   },
   {
    "duration": 6,
    "start_time": "2022-11-08T13:13:12.913Z"
   },
   {
    "duration": 6,
    "start_time": "2022-11-08T13:13:13.274Z"
   },
   {
    "duration": 5,
    "start_time": "2022-11-08T13:13:13.618Z"
   },
   {
    "duration": 6,
    "start_time": "2022-11-08T13:13:13.951Z"
   },
   {
    "duration": 16,
    "start_time": "2022-11-08T13:13:14.149Z"
   },
   {
    "duration": 11,
    "start_time": "2022-11-08T13:13:14.477Z"
   },
   {
    "duration": 14,
    "start_time": "2022-11-08T13:13:14.648Z"
   },
   {
    "duration": 13,
    "start_time": "2022-11-08T13:13:15.216Z"
   },
   {
    "duration": 13,
    "start_time": "2022-11-08T13:13:15.638Z"
   },
   {
    "duration": 16,
    "start_time": "2022-11-08T13:13:15.855Z"
   },
   {
    "duration": 22,
    "start_time": "2022-11-08T13:13:16.243Z"
   },
   {
    "duration": 13,
    "start_time": "2022-11-08T13:13:16.377Z"
   },
   {
    "duration": 18,
    "start_time": "2022-11-08T13:13:17.357Z"
   },
   {
    "duration": 14,
    "start_time": "2022-11-08T13:13:17.733Z"
   },
   {
    "duration": 15,
    "start_time": "2022-11-08T13:13:19.270Z"
   },
   {
    "duration": 10,
    "start_time": "2022-11-08T13:13:19.816Z"
   },
   {
    "duration": 117,
    "start_time": "2022-11-08T13:13:20.008Z"
   },
   {
    "duration": 10,
    "start_time": "2022-11-08T13:13:22.974Z"
   },
   {
    "duration": 13,
    "start_time": "2022-11-08T13:13:24.096Z"
   },
   {
    "duration": 12,
    "start_time": "2022-11-08T13:13:27.101Z"
   },
   {
    "duration": 4,
    "start_time": "2022-11-08T13:13:27.941Z"
   },
   {
    "duration": 209,
    "start_time": "2022-11-08T13:13:28.398Z"
   },
   {
    "duration": 26,
    "start_time": "2022-11-08T13:13:30.223Z"
   },
   {
    "duration": 355,
    "start_time": "2022-11-08T13:13:32.166Z"
   },
   {
    "duration": 27,
    "start_time": "2022-11-08T13:13:34.503Z"
   },
   {
    "duration": 4,
    "start_time": "2022-11-08T13:13:47.705Z"
   },
   {
    "duration": 24,
    "start_time": "2022-11-08T13:13:49.521Z"
   },
   {
    "duration": 7,
    "start_time": "2022-11-08T13:13:56.608Z"
   },
   {
    "duration": 21,
    "start_time": "2022-11-08T13:13:58.481Z"
   },
   {
    "duration": 10,
    "start_time": "2022-11-08T13:14:48.490Z"
   },
   {
    "duration": 19,
    "start_time": "2022-11-08T13:14:49.534Z"
   },
   {
    "duration": 18,
    "start_time": "2022-11-08T13:14:58.646Z"
   },
   {
    "duration": 365,
    "start_time": "2022-11-08T13:16:17.129Z"
   },
   {
    "duration": 367,
    "start_time": "2022-11-08T13:16:28.053Z"
   },
   {
    "duration": 8,
    "start_time": "2022-11-08T13:19:12.132Z"
   },
   {
    "duration": 355,
    "start_time": "2022-11-08T13:19:36.623Z"
   },
   {
    "duration": 419,
    "start_time": "2022-11-08T13:20:10.635Z"
   },
   {
    "duration": 21,
    "start_time": "2022-11-08T13:20:32.612Z"
   },
   {
    "duration": 344,
    "start_time": "2022-11-08T13:20:48.238Z"
   },
   {
    "duration": 361,
    "start_time": "2022-11-08T13:20:53.014Z"
   },
   {
    "duration": 346,
    "start_time": "2022-11-08T13:20:55.969Z"
   },
   {
    "duration": 411,
    "start_time": "2022-11-08T13:21:05.273Z"
   },
   {
    "duration": 331,
    "start_time": "2022-11-08T13:25:51.530Z"
   },
   {
    "duration": 465,
    "start_time": "2022-11-08T13:26:00.125Z"
   },
   {
    "duration": 176,
    "start_time": "2022-11-08T13:39:26.841Z"
   },
   {
    "duration": 83,
    "start_time": "2022-11-08T13:44:44.538Z"
   },
   {
    "duration": 8,
    "start_time": "2022-11-08T13:44:51.213Z"
   },
   {
    "duration": 4540,
    "start_time": "2022-11-08T13:45:13.589Z"
   },
   {
    "duration": 2077,
    "start_time": "2022-11-08T13:45:38.352Z"
   },
   {
    "duration": 9,
    "start_time": "2022-11-08T13:46:43.890Z"
   },
   {
    "duration": 9,
    "start_time": "2022-11-08T13:47:12.612Z"
   },
   {
    "duration": 179,
    "start_time": "2022-11-08T13:55:02.782Z"
   },
   {
    "duration": 179,
    "start_time": "2022-11-08T13:55:28.825Z"
   },
   {
    "duration": 332,
    "start_time": "2022-11-08T13:58:20.796Z"
   },
   {
    "duration": 323,
    "start_time": "2022-11-08T13:59:37.834Z"
   },
   {
    "duration": 362,
    "start_time": "2022-11-08T14:00:04.369Z"
   },
   {
    "duration": 23,
    "start_time": "2022-11-08T14:11:06.212Z"
   },
   {
    "duration": 4,
    "start_time": "2022-11-08T14:15:28.957Z"
   },
   {
    "duration": 3,
    "start_time": "2022-11-08T14:15:37.782Z"
   },
   {
    "duration": 3,
    "start_time": "2022-11-08T14:15:43.460Z"
   },
   {
    "duration": 3,
    "start_time": "2022-11-08T14:16:00.826Z"
   },
   {
    "duration": 12,
    "start_time": "2022-11-08T14:16:13.753Z"
   },
   {
    "duration": 9,
    "start_time": "2022-11-08T14:16:27.855Z"
   },
   {
    "duration": 3,
    "start_time": "2022-11-08T14:16:37.925Z"
   },
   {
    "duration": 4,
    "start_time": "2022-11-08T14:18:45.440Z"
   },
   {
    "duration": 5,
    "start_time": "2022-11-08T14:20:03.893Z"
   },
   {
    "duration": 10,
    "start_time": "2022-11-08T14:20:21.479Z"
   },
   {
    "duration": 12,
    "start_time": "2022-11-08T14:20:33.890Z"
   },
   {
    "duration": 3,
    "start_time": "2022-11-08T14:20:41.162Z"
   },
   {
    "duration": 68,
    "start_time": "2022-11-08T14:21:18.382Z"
   },
   {
    "duration": 7,
    "start_time": "2022-11-08T14:21:21.802Z"
   },
   {
    "duration": 10,
    "start_time": "2022-11-08T14:21:37.162Z"
   },
   {
    "duration": 11,
    "start_time": "2022-11-08T14:21:48.448Z"
   },
   {
    "duration": 9,
    "start_time": "2022-11-08T14:22:04.622Z"
   },
   {
    "duration": 2,
    "start_time": "2022-11-08T14:22:14.188Z"
   },
   {
    "duration": 5,
    "start_time": "2022-11-08T14:22:19.415Z"
   },
   {
    "duration": 8,
    "start_time": "2022-11-08T14:23:24.869Z"
   },
   {
    "duration": 10,
    "start_time": "2022-11-08T14:23:31.676Z"
   },
   {
    "duration": 4,
    "start_time": "2022-11-08T14:23:39.704Z"
   },
   {
    "duration": 699,
    "start_time": "2022-11-08T14:39:08.789Z"
   },
   {
    "duration": 463,
    "start_time": "2022-11-08T14:39:41.961Z"
   },
   {
    "duration": 107,
    "start_time": "2022-11-08T14:40:18.656Z"
   },
   {
    "duration": 488,
    "start_time": "2022-11-08T14:41:10.105Z"
   },
   {
    "duration": 488,
    "start_time": "2022-11-08T14:43:14.482Z"
   },
   {
    "duration": 284,
    "start_time": "2022-11-08T14:43:57.899Z"
   },
   {
    "duration": 51,
    "start_time": "2022-11-09T05:52:15.387Z"
   },
   {
    "duration": 1450,
    "start_time": "2022-11-09T05:52:20.715Z"
   },
   {
    "duration": 617,
    "start_time": "2022-11-09T05:53:06.807Z"
   },
   {
    "duration": 4,
    "start_time": "2022-11-09T05:53:07.425Z"
   },
   {
    "duration": 8,
    "start_time": "2022-11-09T05:53:07.430Z"
   },
   {
    "duration": 6,
    "start_time": "2022-11-09T05:53:07.440Z"
   },
   {
    "duration": 77,
    "start_time": "2022-11-09T05:53:07.448Z"
   },
   {
    "duration": 0,
    "start_time": "2022-11-09T05:53:07.529Z"
   },
   {
    "duration": 0,
    "start_time": "2022-11-09T05:53:07.530Z"
   },
   {
    "duration": 0,
    "start_time": "2022-11-09T05:53:07.531Z"
   },
   {
    "duration": 0,
    "start_time": "2022-11-09T05:53:07.532Z"
   },
   {
    "duration": 0,
    "start_time": "2022-11-09T05:53:07.546Z"
   },
   {
    "duration": 0,
    "start_time": "2022-11-09T05:53:07.547Z"
   },
   {
    "duration": 0,
    "start_time": "2022-11-09T05:53:07.548Z"
   },
   {
    "duration": 0,
    "start_time": "2022-11-09T05:53:07.549Z"
   },
   {
    "duration": 0,
    "start_time": "2022-11-09T05:53:07.550Z"
   },
   {
    "duration": 0,
    "start_time": "2022-11-09T05:53:07.551Z"
   },
   {
    "duration": 0,
    "start_time": "2022-11-09T05:53:07.552Z"
   },
   {
    "duration": 0,
    "start_time": "2022-11-09T05:53:07.553Z"
   },
   {
    "duration": 0,
    "start_time": "2022-11-09T05:53:07.553Z"
   },
   {
    "duration": 0,
    "start_time": "2022-11-09T05:53:07.554Z"
   },
   {
    "duration": 0,
    "start_time": "2022-11-09T05:53:07.555Z"
   },
   {
    "duration": 0,
    "start_time": "2022-11-09T05:53:07.557Z"
   },
   {
    "duration": 0,
    "start_time": "2022-11-09T05:53:07.558Z"
   },
   {
    "duration": 0,
    "start_time": "2022-11-09T05:53:07.560Z"
   },
   {
    "duration": 0,
    "start_time": "2022-11-09T05:53:07.560Z"
   },
   {
    "duration": 0,
    "start_time": "2022-11-09T05:53:07.561Z"
   },
   {
    "duration": 0,
    "start_time": "2022-11-09T05:53:07.562Z"
   },
   {
    "duration": 0,
    "start_time": "2022-11-09T05:53:07.563Z"
   },
   {
    "duration": 0,
    "start_time": "2022-11-09T05:53:07.565Z"
   },
   {
    "duration": 0,
    "start_time": "2022-11-09T05:53:07.566Z"
   },
   {
    "duration": 0,
    "start_time": "2022-11-09T05:53:07.567Z"
   },
   {
    "duration": 0,
    "start_time": "2022-11-09T05:53:07.568Z"
   },
   {
    "duration": 0,
    "start_time": "2022-11-09T05:53:07.569Z"
   },
   {
    "duration": 0,
    "start_time": "2022-11-09T05:53:07.569Z"
   },
   {
    "duration": 0,
    "start_time": "2022-11-09T05:53:07.571Z"
   },
   {
    "duration": 0,
    "start_time": "2022-11-09T05:53:07.572Z"
   },
   {
    "duration": 0,
    "start_time": "2022-11-09T05:53:07.573Z"
   },
   {
    "duration": 0,
    "start_time": "2022-11-09T05:53:07.574Z"
   },
   {
    "duration": 0,
    "start_time": "2022-11-09T05:53:07.575Z"
   },
   {
    "duration": 0,
    "start_time": "2022-11-09T05:53:07.576Z"
   },
   {
    "duration": 0,
    "start_time": "2022-11-09T05:53:07.577Z"
   },
   {
    "duration": 0,
    "start_time": "2022-11-09T05:53:07.578Z"
   },
   {
    "duration": 0,
    "start_time": "2022-11-09T05:53:07.580Z"
   },
   {
    "duration": 0,
    "start_time": "2022-11-09T05:53:07.581Z"
   },
   {
    "duration": 0,
    "start_time": "2022-11-09T05:53:07.582Z"
   },
   {
    "duration": 0,
    "start_time": "2022-11-09T05:53:07.583Z"
   },
   {
    "duration": 0,
    "start_time": "2022-11-09T05:53:07.584Z"
   },
   {
    "duration": 0,
    "start_time": "2022-11-09T05:53:07.585Z"
   },
   {
    "duration": 4,
    "start_time": "2022-11-09T05:53:27.127Z"
   },
   {
    "duration": 9,
    "start_time": "2022-11-09T05:53:27.645Z"
   },
   {
    "duration": 5,
    "start_time": "2022-11-09T05:53:27.718Z"
   },
   {
    "duration": 3,
    "start_time": "2022-11-09T05:53:27.886Z"
   },
   {
    "duration": 14,
    "start_time": "2022-11-09T05:53:28.055Z"
   },
   {
    "duration": 13,
    "start_time": "2022-11-09T05:53:28.322Z"
   },
   {
    "duration": 7,
    "start_time": "2022-11-09T05:53:28.772Z"
   },
   {
    "duration": 6,
    "start_time": "2022-11-09T05:53:29.109Z"
   },
   {
    "duration": 5,
    "start_time": "2022-11-09T05:53:29.518Z"
   },
   {
    "duration": 5,
    "start_time": "2022-11-09T05:53:29.970Z"
   },
   {
    "duration": 14,
    "start_time": "2022-11-09T05:53:30.134Z"
   },
   {
    "duration": 9,
    "start_time": "2022-11-09T05:53:30.518Z"
   },
   {
    "duration": 23,
    "start_time": "2022-11-09T05:53:30.717Z"
   },
   {
    "duration": 12,
    "start_time": "2022-11-09T05:53:30.944Z"
   },
   {
    "duration": 16,
    "start_time": "2022-11-09T05:53:31.129Z"
   },
   {
    "duration": 20,
    "start_time": "2022-11-09T05:53:31.268Z"
   },
   {
    "duration": 17,
    "start_time": "2022-11-09T05:53:31.613Z"
   },
   {
    "duration": 11,
    "start_time": "2022-11-09T05:53:31.812Z"
   },
   {
    "duration": 30,
    "start_time": "2022-11-09T05:53:32.143Z"
   },
   {
    "duration": 13,
    "start_time": "2022-11-09T05:53:32.470Z"
   },
   {
    "duration": 15,
    "start_time": "2022-11-09T05:53:33.144Z"
   },
   {
    "duration": 12,
    "start_time": "2022-11-09T05:53:33.788Z"
   },
   {
    "duration": 375,
    "start_time": "2022-11-09T05:53:34.118Z"
   },
   {
    "duration": 12,
    "start_time": "2022-11-09T05:53:34.966Z"
   },
   {
    "duration": 12,
    "start_time": "2022-11-09T05:53:35.189Z"
   },
   {
    "duration": 13,
    "start_time": "2022-11-09T05:53:35.506Z"
   },
   {
    "duration": 5,
    "start_time": "2022-11-09T05:53:35.634Z"
   },
   {
    "duration": 188,
    "start_time": "2022-11-09T05:53:35.973Z"
   },
   {
    "duration": 26,
    "start_time": "2022-11-09T05:53:36.309Z"
   },
   {
    "duration": 411,
    "start_time": "2022-11-09T05:53:36.670Z"
   },
   {
    "duration": 20,
    "start_time": "2022-11-09T05:53:37.083Z"
   },
   {
    "duration": 3,
    "start_time": "2022-11-09T05:53:37.175Z"
   },
   {
    "duration": 22,
    "start_time": "2022-11-09T05:53:37.334Z"
   },
   {
    "duration": 7,
    "start_time": "2022-11-09T05:53:37.662Z"
   },
   {
    "duration": 22,
    "start_time": "2022-11-09T05:53:37.828Z"
   },
   {
    "duration": 10,
    "start_time": "2022-11-09T05:53:38.005Z"
   },
   {
    "duration": 19,
    "start_time": "2022-11-09T05:53:38.170Z"
   },
   {
    "duration": 22,
    "start_time": "2022-11-09T05:53:38.327Z"
   },
   {
    "duration": 381,
    "start_time": "2022-11-09T05:53:39.397Z"
   },
   {
    "duration": 392,
    "start_time": "2022-11-09T05:53:39.781Z"
   },
   {
    "duration": 373,
    "start_time": "2022-11-09T05:53:40.175Z"
   },
   {
    "duration": 606,
    "start_time": "2022-11-09T05:53:41.605Z"
   },
   {
    "duration": 304,
    "start_time": "2022-11-09T05:54:14.736Z"
   },
   {
    "duration": 392,
    "start_time": "2022-11-09T05:54:24.400Z"
   },
   {
    "duration": 318,
    "start_time": "2022-11-09T05:54:37.782Z"
   },
   {
    "duration": 312,
    "start_time": "2022-11-09T05:54:46.181Z"
   },
   {
    "duration": 487,
    "start_time": "2022-11-09T05:55:39.933Z"
   },
   {
    "duration": 345,
    "start_time": "2022-11-09T05:55:44.434Z"
   },
   {
    "duration": 388,
    "start_time": "2022-11-09T05:55:54.757Z"
   },
   {
    "duration": 280,
    "start_time": "2022-11-09T05:56:10.137Z"
   },
   {
    "duration": 313,
    "start_time": "2022-11-09T05:56:31.595Z"
   },
   {
    "duration": 190,
    "start_time": "2022-11-09T05:58:50.121Z"
   },
   {
    "duration": 177,
    "start_time": "2022-11-09T05:58:58.116Z"
   },
   {
    "duration": 159,
    "start_time": "2022-11-09T05:59:22.272Z"
   },
   {
    "duration": 176,
    "start_time": "2022-11-09T05:59:30.917Z"
   },
   {
    "duration": 178,
    "start_time": "2022-11-09T05:59:38.591Z"
   },
   {
    "duration": 286,
    "start_time": "2022-11-09T05:59:48.538Z"
   },
   {
    "duration": 180,
    "start_time": "2022-11-09T05:59:59.245Z"
   },
   {
    "duration": 170,
    "start_time": "2022-11-09T06:00:06.275Z"
   },
   {
    "duration": 489,
    "start_time": "2022-11-09T06:06:51.515Z"
   },
   {
    "duration": 294,
    "start_time": "2022-11-09T06:07:48.129Z"
   },
   {
    "duration": 315,
    "start_time": "2022-11-09T06:08:57.967Z"
   },
   {
    "duration": 169,
    "start_time": "2022-11-09T06:09:19.385Z"
   },
   {
    "duration": 200,
    "start_time": "2022-11-09T06:09:26.053Z"
   },
   {
    "duration": 173,
    "start_time": "2022-11-09T06:09:37.110Z"
   },
   {
    "duration": 445,
    "start_time": "2022-11-09T06:10:07.079Z"
   },
   {
    "duration": 321,
    "start_time": "2022-11-09T06:10:40.751Z"
   },
   {
    "duration": 317,
    "start_time": "2022-11-09T06:10:49.789Z"
   },
   {
    "duration": 306,
    "start_time": "2022-11-09T06:10:59.692Z"
   },
   {
    "duration": 50,
    "start_time": "2022-11-09T06:19:57.632Z"
   },
   {
    "duration": 498,
    "start_time": "2022-11-09T06:20:15.744Z"
   },
   {
    "duration": 4,
    "start_time": "2022-11-09T06:20:17.484Z"
   },
   {
    "duration": 5,
    "start_time": "2022-11-09T06:20:17.594Z"
   },
   {
    "duration": 4,
    "start_time": "2022-11-09T06:20:17.749Z"
   },
   {
    "duration": 71,
    "start_time": "2022-11-09T06:20:18.101Z"
   },
   {
    "duration": 5,
    "start_time": "2022-11-09T06:20:18.304Z"
   },
   {
    "duration": 9,
    "start_time": "2022-11-09T06:20:18.570Z"
   },
   {
    "duration": 6,
    "start_time": "2022-11-09T06:20:19.156Z"
   },
   {
    "duration": 4,
    "start_time": "2022-11-09T06:20:19.263Z"
   },
   {
    "duration": 14,
    "start_time": "2022-11-09T06:20:19.431Z"
   },
   {
    "duration": 11,
    "start_time": "2022-11-09T06:20:19.654Z"
   },
   {
    "duration": 8,
    "start_time": "2022-11-09T06:20:19.820Z"
   },
   {
    "duration": 6,
    "start_time": "2022-11-09T06:20:20.246Z"
   },
   {
    "duration": 5,
    "start_time": "2022-11-09T06:20:20.377Z"
   },
   {
    "duration": 5,
    "start_time": "2022-11-09T06:20:21.142Z"
   },
   {
    "duration": 14,
    "start_time": "2022-11-09T06:20:21.278Z"
   },
   {
    "duration": 11,
    "start_time": "2022-11-09T06:20:21.515Z"
   },
   {
    "duration": 13,
    "start_time": "2022-11-09T06:20:21.597Z"
   },
   {
    "duration": 14,
    "start_time": "2022-11-09T06:20:21.745Z"
   },
   {
    "duration": 12,
    "start_time": "2022-11-09T06:20:21.851Z"
   },
   {
    "duration": 16,
    "start_time": "2022-11-09T06:20:22.034Z"
   },
   {
    "duration": 17,
    "start_time": "2022-11-09T06:20:22.351Z"
   },
   {
    "duration": 13,
    "start_time": "2022-11-09T06:20:22.632Z"
   },
   {
    "duration": 20,
    "start_time": "2022-11-09T06:20:22.848Z"
   },
   {
    "duration": 13,
    "start_time": "2022-11-09T06:20:23.178Z"
   },
   {
    "duration": 15,
    "start_time": "2022-11-09T06:20:23.669Z"
   },
   {
    "duration": 10,
    "start_time": "2022-11-09T06:20:24.158Z"
   },
   {
    "duration": 411,
    "start_time": "2022-11-09T06:20:24.364Z"
   },
   {
    "duration": 13,
    "start_time": "2022-11-09T06:20:25.071Z"
   },
   {
    "duration": 11,
    "start_time": "2022-11-09T06:20:25.236Z"
   },
   {
    "duration": 12,
    "start_time": "2022-11-09T06:20:25.586Z"
   },
   {
    "duration": 4,
    "start_time": "2022-11-09T06:20:25.758Z"
   },
   {
    "duration": 212,
    "start_time": "2022-11-09T06:20:26.080Z"
   },
   {
    "duration": 29,
    "start_time": "2022-11-09T06:20:26.448Z"
   },
   {
    "duration": 422,
    "start_time": "2022-11-09T06:20:26.956Z"
   },
   {
    "duration": 23,
    "start_time": "2022-11-09T06:20:27.380Z"
   },
   {
    "duration": 17,
    "start_time": "2022-11-09T06:20:27.405Z"
   },
   {
    "duration": 24,
    "start_time": "2022-11-09T06:20:27.447Z"
   },
   {
    "duration": 9,
    "start_time": "2022-11-09T06:20:27.789Z"
   },
   {
    "duration": 25,
    "start_time": "2022-11-09T06:20:27.986Z"
   },
   {
    "duration": 11,
    "start_time": "2022-11-09T06:20:28.141Z"
   },
   {
    "duration": 22,
    "start_time": "2022-11-09T06:20:28.300Z"
   },
   {
    "duration": 19,
    "start_time": "2022-11-09T06:20:28.483Z"
   },
   {
    "duration": 330,
    "start_time": "2022-11-09T06:20:28.659Z"
   },
   {
    "duration": 430,
    "start_time": "2022-11-09T06:20:29.002Z"
   },
   {
    "duration": 371,
    "start_time": "2022-11-09T06:20:29.434Z"
   },
   {
    "duration": 1061,
    "start_time": "2022-11-09T06:20:29.979Z"
   },
   {
    "duration": 322,
    "start_time": "2022-11-09T06:20:31.046Z"
   },
   {
    "duration": 312,
    "start_time": "2022-11-09T06:20:31.370Z"
   },
   {
    "duration": 343,
    "start_time": "2022-11-09T06:20:31.684Z"
   },
   {
    "duration": 408,
    "start_time": "2022-11-09T06:20:32.030Z"
   },
   {
    "duration": 185,
    "start_time": "2022-11-09T06:20:32.446Z"
   },
   {
    "duration": 216,
    "start_time": "2022-11-09T06:20:32.633Z"
   },
   {
    "duration": 49,
    "start_time": "2022-11-09T06:28:42.056Z"
   },
   {
    "duration": 182,
    "start_time": "2022-11-09T06:28:47.497Z"
   },
   {
    "duration": 171,
    "start_time": "2022-11-09T06:29:02.813Z"
   },
   {
    "duration": 56,
    "start_time": "2022-11-09T06:38:10.501Z"
   },
   {
    "duration": 18,
    "start_time": "2022-11-09T06:38:18.544Z"
   },
   {
    "duration": 19,
    "start_time": "2022-11-09T06:38:42.034Z"
   },
   {
    "duration": 23,
    "start_time": "2022-11-09T06:38:50.726Z"
   },
   {
    "duration": 9,
    "start_time": "2022-11-09T06:39:37.508Z"
   },
   {
    "duration": 11,
    "start_time": "2022-11-09T06:40:00.130Z"
   },
   {
    "duration": 61,
    "start_time": "2022-11-09T06:44:37.968Z"
   },
   {
    "duration": 31,
    "start_time": "2022-11-09T06:44:47.432Z"
   },
   {
    "duration": 11,
    "start_time": "2022-11-09T06:45:04.728Z"
   },
   {
    "duration": 42,
    "start_time": "2022-11-09T06:45:47.857Z"
   },
   {
    "duration": 6,
    "start_time": "2022-11-09T06:45:56.075Z"
   },
   {
    "duration": 122,
    "start_time": "2022-11-09T06:46:19.199Z"
   },
   {
    "duration": 124,
    "start_time": "2022-11-09T06:47:21.472Z"
   },
   {
    "duration": 118,
    "start_time": "2022-11-09T06:47:32.104Z"
   },
   {
    "duration": 111,
    "start_time": "2022-11-09T06:47:39.750Z"
   },
   {
    "duration": 116,
    "start_time": "2022-11-09T06:47:47.379Z"
   },
   {
    "duration": 189,
    "start_time": "2022-11-09T06:53:04.482Z"
   },
   {
    "duration": 131,
    "start_time": "2022-11-09T06:54:02.156Z"
   },
   {
    "duration": 134,
    "start_time": "2022-11-09T06:54:16.699Z"
   },
   {
    "duration": 7,
    "start_time": "2022-11-09T06:58:05.252Z"
   },
   {
    "duration": 11,
    "start_time": "2022-11-09T07:12:26.244Z"
   },
   {
    "duration": 17,
    "start_time": "2022-11-09T07:12:38.340Z"
   },
   {
    "duration": 11,
    "start_time": "2022-11-09T07:14:19.756Z"
   },
   {
    "duration": 6,
    "start_time": "2022-11-09T07:14:35.696Z"
   },
   {
    "duration": 10,
    "start_time": "2022-11-09T07:16:34.395Z"
   },
   {
    "duration": 6,
    "start_time": "2022-11-09T07:16:38.467Z"
   },
   {
    "duration": 6,
    "start_time": "2022-11-09T07:16:53.336Z"
   },
   {
    "duration": 12,
    "start_time": "2022-11-09T07:17:11.412Z"
   },
   {
    "duration": 5,
    "start_time": "2022-11-09T07:17:12.438Z"
   },
   {
    "duration": 5,
    "start_time": "2022-11-09T07:17:13.544Z"
   },
   {
    "duration": 13,
    "start_time": "2022-11-09T07:18:18.858Z"
   },
   {
    "duration": 5,
    "start_time": "2022-11-09T07:18:19.944Z"
   },
   {
    "duration": 5,
    "start_time": "2022-11-09T07:18:21.160Z"
   },
   {
    "duration": 15,
    "start_time": "2022-11-09T07:19:55.710Z"
   },
   {
    "duration": 15,
    "start_time": "2022-11-09T07:21:17.152Z"
   },
   {
    "duration": 11,
    "start_time": "2022-11-09T07:21:22.886Z"
   },
   {
    "duration": 14,
    "start_time": "2022-11-09T07:21:29.206Z"
   },
   {
    "duration": 4,
    "start_time": "2022-11-09T07:21:29.989Z"
   },
   {
    "duration": 5,
    "start_time": "2022-11-09T07:21:37.350Z"
   },
   {
    "duration": 14,
    "start_time": "2022-11-09T07:21:51.642Z"
   },
   {
    "duration": 5,
    "start_time": "2022-11-09T07:21:54.286Z"
   },
   {
    "duration": 5,
    "start_time": "2022-11-09T07:21:55.032Z"
   },
   {
    "duration": 5,
    "start_time": "2022-11-09T07:21:59.589Z"
   },
   {
    "duration": 52,
    "start_time": "2022-11-09T07:22:56.424Z"
   },
   {
    "duration": 0,
    "start_time": "2022-11-09T07:22:56.478Z"
   },
   {
    "duration": 7,
    "start_time": "2022-11-09T07:22:56.631Z"
   },
   {
    "duration": 439,
    "start_time": "2022-11-09T07:23:11.902Z"
   },
   {
    "duration": 3,
    "start_time": "2022-11-09T07:23:13.452Z"
   },
   {
    "duration": 5,
    "start_time": "2022-11-09T07:23:13.645Z"
   },
   {
    "duration": 4,
    "start_time": "2022-11-09T07:23:13.792Z"
   },
   {
    "duration": 72,
    "start_time": "2022-11-09T07:23:14.115Z"
   },
   {
    "duration": 5,
    "start_time": "2022-11-09T07:23:14.302Z"
   },
   {
    "duration": 12,
    "start_time": "2022-11-09T07:23:14.576Z"
   },
   {
    "duration": 5,
    "start_time": "2022-11-09T07:23:14.755Z"
   },
   {
    "duration": 4,
    "start_time": "2022-11-09T07:23:15.076Z"
   },
   {
    "duration": 19,
    "start_time": "2022-11-09T07:23:15.221Z"
   },
   {
    "duration": 12,
    "start_time": "2022-11-09T07:23:15.701Z"
   },
   {
    "duration": 7,
    "start_time": "2022-11-09T07:23:16.076Z"
   },
   {
    "duration": 7,
    "start_time": "2022-11-09T07:23:16.467Z"
   },
   {
    "duration": 5,
    "start_time": "2022-11-09T07:23:16.810Z"
   },
   {
    "duration": 5,
    "start_time": "2022-11-09T07:23:17.176Z"
   },
   {
    "duration": 14,
    "start_time": "2022-11-09T07:23:17.304Z"
   },
   {
    "duration": 9,
    "start_time": "2022-11-09T07:23:17.629Z"
   },
   {
    "duration": 18,
    "start_time": "2022-11-09T07:23:17.821Z"
   },
   {
    "duration": 12,
    "start_time": "2022-11-09T07:23:18.151Z"
   },
   {
    "duration": 12,
    "start_time": "2022-11-09T07:23:18.378Z"
   },
   {
    "duration": 17,
    "start_time": "2022-11-09T07:23:18.533Z"
   },
   {
    "duration": 16,
    "start_time": "2022-11-09T07:23:18.835Z"
   },
   {
    "duration": 13,
    "start_time": "2022-11-09T07:23:18.995Z"
   },
   {
    "duration": 21,
    "start_time": "2022-11-09T07:23:19.353Z"
   },
   {
    "duration": 15,
    "start_time": "2022-11-09T07:23:20.653Z"
   },
   {
    "duration": 15,
    "start_time": "2022-11-09T07:23:21.198Z"
   },
   {
    "duration": 11,
    "start_time": "2022-11-09T07:23:21.697Z"
   },
   {
    "duration": 368,
    "start_time": "2022-11-09T07:23:21.860Z"
   },
   {
    "duration": 11,
    "start_time": "2022-11-09T07:23:22.702Z"
   },
   {
    "duration": 13,
    "start_time": "2022-11-09T07:23:22.714Z"
   },
   {
    "duration": 13,
    "start_time": "2022-11-09T07:23:23.121Z"
   },
   {
    "duration": 5,
    "start_time": "2022-11-09T07:23:23.417Z"
   },
   {
    "duration": 207,
    "start_time": "2022-11-09T07:23:23.726Z"
   },
   {
    "duration": 27,
    "start_time": "2022-11-09T07:23:24.074Z"
   },
   {
    "duration": 466,
    "start_time": "2022-11-09T07:23:24.435Z"
   },
   {
    "duration": 20,
    "start_time": "2022-11-09T07:23:26.037Z"
   },
   {
    "duration": 3,
    "start_time": "2022-11-09T07:23:26.222Z"
   },
   {
    "duration": 22,
    "start_time": "2022-11-09T07:23:26.418Z"
   },
   {
    "duration": 8,
    "start_time": "2022-11-09T07:23:27.359Z"
   },
   {
    "duration": 23,
    "start_time": "2022-11-09T07:23:27.556Z"
   },
   {
    "duration": 10,
    "start_time": "2022-11-09T07:23:27.740Z"
   },
   {
    "duration": 20,
    "start_time": "2022-11-09T07:23:28.039Z"
   },
   {
    "duration": 20,
    "start_time": "2022-11-09T07:23:28.218Z"
   },
   {
    "duration": 325,
    "start_time": "2022-11-09T07:23:28.451Z"
   },
   {
    "duration": 431,
    "start_time": "2022-11-09T07:23:28.779Z"
   },
   {
    "duration": 374,
    "start_time": "2022-11-09T07:23:29.212Z"
   },
   {
    "duration": 892,
    "start_time": "2022-11-09T07:23:30.189Z"
   },
   {
    "duration": 289,
    "start_time": "2022-11-09T07:23:31.498Z"
   },
   {
    "duration": 334,
    "start_time": "2022-11-09T07:23:31.789Z"
   },
   {
    "duration": 326,
    "start_time": "2022-11-09T07:23:32.126Z"
   },
   {
    "duration": 191,
    "start_time": "2022-11-09T07:23:33.432Z"
   },
   {
    "duration": 215,
    "start_time": "2022-11-09T07:23:33.625Z"
   },
   {
    "duration": 154,
    "start_time": "2022-11-09T07:23:35.393Z"
   },
   {
    "duration": 247,
    "start_time": "2022-11-09T07:23:35.549Z"
   },
   {
    "duration": 177,
    "start_time": "2022-11-09T07:23:35.798Z"
   },
   {
    "duration": 4,
    "start_time": "2022-11-09T07:23:43.716Z"
   },
   {
    "duration": 13,
    "start_time": "2022-11-09T07:23:57.319Z"
   },
   {
    "duration": 5,
    "start_time": "2022-11-09T07:24:20.548Z"
   },
   {
    "duration": 4,
    "start_time": "2022-11-09T07:24:23.104Z"
   },
   {
    "duration": 5,
    "start_time": "2022-11-09T07:26:25.711Z"
   },
   {
    "duration": 140,
    "start_time": "2022-11-09T07:27:09.568Z"
   },
   {
    "duration": 11,
    "start_time": "2022-11-09T08:10:02.817Z"
   },
   {
    "duration": 81,
    "start_time": "2022-11-09T08:10:54.614Z"
   },
   {
    "duration": 77,
    "start_time": "2022-11-09T08:11:04.487Z"
   },
   {
    "duration": 71,
    "start_time": "2022-11-09T08:11:27.851Z"
   },
   {
    "duration": 797,
    "start_time": "2022-11-09T08:11:34.689Z"
   },
   {
    "duration": 4,
    "start_time": "2022-11-09T08:12:38.397Z"
   },
   {
    "duration": 8,
    "start_time": "2022-11-09T08:12:53.064Z"
   },
   {
    "duration": 6,
    "start_time": "2022-11-09T08:13:53.093Z"
   },
   {
    "duration": 7,
    "start_time": "2022-11-09T08:14:02.553Z"
   },
   {
    "duration": 6,
    "start_time": "2022-11-09T08:15:48.602Z"
   },
   {
    "duration": 53,
    "start_time": "2022-11-09T08:16:50.534Z"
   },
   {
    "duration": 59,
    "start_time": "2022-11-09T08:17:00.440Z"
   },
   {
    "duration": 51,
    "start_time": "2022-11-09T08:17:21.940Z"
   },
   {
    "duration": 41,
    "start_time": "2022-11-09T08:17:56.426Z"
   },
   {
    "duration": 48,
    "start_time": "2022-11-09T08:18:23.152Z"
   },
   {
    "duration": 57,
    "start_time": "2022-11-09T08:18:32.154Z"
   },
   {
    "duration": 43,
    "start_time": "2022-11-09T08:18:39.047Z"
   },
   {
    "duration": 6,
    "start_time": "2022-11-09T08:19:46.096Z"
   },
   {
    "duration": 88,
    "start_time": "2022-11-09T08:20:07.757Z"
   },
   {
    "duration": 7,
    "start_time": "2022-11-09T08:20:16.000Z"
   },
   {
    "duration": 45,
    "start_time": "2022-11-09T08:20:36.759Z"
   },
   {
    "duration": 7,
    "start_time": "2022-11-09T08:20:43.242Z"
   },
   {
    "duration": 7,
    "start_time": "2022-11-09T08:20:49.443Z"
   },
   {
    "duration": 48,
    "start_time": "2022-11-09T08:21:01.622Z"
   },
   {
    "duration": 5,
    "start_time": "2022-11-09T08:21:07.155Z"
   },
   {
    "duration": 9,
    "start_time": "2022-11-09T08:24:08.897Z"
   },
   {
    "duration": 22,
    "start_time": "2022-11-09T08:24:39.041Z"
   },
   {
    "duration": 20,
    "start_time": "2022-11-09T08:25:18.990Z"
   },
   {
    "duration": 19,
    "start_time": "2022-11-09T08:25:28.524Z"
   },
   {
    "duration": 12,
    "start_time": "2022-11-09T08:25:48.399Z"
   },
   {
    "duration": 13,
    "start_time": "2022-11-09T08:26:07.487Z"
   },
   {
    "duration": 16,
    "start_time": "2022-11-09T08:26:11.452Z"
   },
   {
    "duration": 26,
    "start_time": "2022-11-09T08:30:18.989Z"
   },
   {
    "duration": 328,
    "start_time": "2022-11-09T08:36:49.170Z"
   },
   {
    "duration": 393,
    "start_time": "2022-11-09T08:37:05.286Z"
   },
   {
    "duration": 311,
    "start_time": "2022-11-09T08:37:57.027Z"
   },
   {
    "duration": 18,
    "start_time": "2022-11-09T08:38:59.234Z"
   },
   {
    "duration": 16,
    "start_time": "2022-11-09T08:39:07.019Z"
   },
   {
    "duration": 16,
    "start_time": "2022-11-09T08:39:22.288Z"
   },
   {
    "duration": 15,
    "start_time": "2022-11-09T08:39:39.738Z"
   },
   {
    "duration": 36,
    "start_time": "2022-11-09T08:39:49.729Z"
   },
   {
    "duration": 11,
    "start_time": "2022-11-09T08:44:14.886Z"
   },
   {
    "duration": 12,
    "start_time": "2022-11-09T08:44:30.472Z"
   },
   {
    "duration": 12,
    "start_time": "2022-11-09T08:49:49.043Z"
   },
   {
    "duration": 10,
    "start_time": "2022-11-09T08:55:48.543Z"
   },
   {
    "duration": 673,
    "start_time": "2022-11-10T07:18:39.777Z"
   },
   {
    "duration": 4,
    "start_time": "2022-11-10T07:18:42.958Z"
   },
   {
    "duration": 6,
    "start_time": "2022-11-10T07:18:43.412Z"
   },
   {
    "duration": 3,
    "start_time": "2022-11-10T07:18:43.884Z"
   },
   {
    "duration": 82,
    "start_time": "2022-11-10T07:18:45.029Z"
   },
   {
    "duration": 6,
    "start_time": "2022-11-10T07:18:45.349Z"
   },
   {
    "duration": 8,
    "start_time": "2022-11-10T07:18:45.841Z"
   },
   {
    "duration": 6,
    "start_time": "2022-11-10T07:18:46.095Z"
   },
   {
    "duration": 5,
    "start_time": "2022-11-10T07:18:46.535Z"
   },
   {
    "duration": 14,
    "start_time": "2022-11-10T07:18:46.740Z"
   },
   {
    "duration": 16,
    "start_time": "2022-11-10T07:18:47.479Z"
   },
   {
    "duration": 13,
    "start_time": "2022-11-10T07:18:47.911Z"
   },
   {
    "duration": 7,
    "start_time": "2022-11-10T07:18:48.811Z"
   },
   {
    "duration": 5,
    "start_time": "2022-11-10T07:18:49.726Z"
   },
   {
    "duration": 5,
    "start_time": "2022-11-10T07:18:50.145Z"
   },
   {
    "duration": 14,
    "start_time": "2022-11-10T07:18:50.346Z"
   },
   {
    "duration": 11,
    "start_time": "2022-11-10T07:18:51.948Z"
   },
   {
    "duration": 15,
    "start_time": "2022-11-10T07:18:54.276Z"
   },
   {
    "duration": 16,
    "start_time": "2022-11-10T07:18:54.293Z"
   },
   {
    "duration": 19,
    "start_time": "2022-11-10T07:18:54.311Z"
   },
   {
    "duration": 27,
    "start_time": "2022-11-10T07:18:54.332Z"
   },
   {
    "duration": 30,
    "start_time": "2022-11-10T07:18:54.361Z"
   },
   {
    "duration": 12,
    "start_time": "2022-11-10T07:18:55.155Z"
   },
   {
    "duration": 27,
    "start_time": "2022-11-10T07:18:55.169Z"
   },
   {
    "duration": 12,
    "start_time": "2022-11-10T07:18:55.198Z"
   },
   {
    "duration": 14,
    "start_time": "2022-11-10T07:18:55.436Z"
   },
   {
    "duration": 15,
    "start_time": "2022-11-10T07:18:56.486Z"
   },
   {
    "duration": 602,
    "start_time": "2022-11-10T07:18:56.740Z"
   },
   {
    "duration": 12,
    "start_time": "2022-11-10T07:18:57.346Z"
   },
   {
    "duration": 16,
    "start_time": "2022-11-10T07:18:57.951Z"
   },
   {
    "duration": 12,
    "start_time": "2022-11-10T07:18:58.631Z"
   },
   {
    "duration": 4,
    "start_time": "2022-11-10T07:18:59.107Z"
   },
   {
    "duration": 244,
    "start_time": "2022-11-10T07:18:59.995Z"
   },
   {
    "duration": 35,
    "start_time": "2022-11-10T07:19:00.761Z"
   },
   {
    "duration": 434,
    "start_time": "2022-11-10T07:19:01.409Z"
   },
   {
    "duration": 22,
    "start_time": "2022-11-10T07:19:01.845Z"
   },
   {
    "duration": 4,
    "start_time": "2022-11-10T07:19:02.676Z"
   },
   {
    "duration": 33,
    "start_time": "2022-11-10T07:19:03.019Z"
   },
   {
    "duration": 8,
    "start_time": "2022-11-10T07:19:04.245Z"
   },
   {
    "duration": 34,
    "start_time": "2022-11-10T07:19:04.303Z"
   },
   {
    "duration": 29,
    "start_time": "2022-11-10T07:19:04.341Z"
   },
   {
    "duration": 33,
    "start_time": "2022-11-10T07:19:04.747Z"
   },
   {
    "duration": 27,
    "start_time": "2022-11-10T07:19:04.936Z"
   },
   {
    "duration": 417,
    "start_time": "2022-11-10T07:19:05.142Z"
   },
   {
    "duration": 445,
    "start_time": "2022-11-10T07:19:05.561Z"
   },
   {
    "duration": 494,
    "start_time": "2022-11-10T07:19:06.359Z"
   },
   {
    "duration": 908,
    "start_time": "2022-11-10T07:19:07.155Z"
   },
   {
    "duration": 354,
    "start_time": "2022-11-10T07:19:36.900Z"
   },
   {
    "duration": 386,
    "start_time": "2022-11-10T07:19:39.173Z"
   },
   {
    "duration": 340,
    "start_time": "2022-11-10T07:19:43.831Z"
   },
   {
    "duration": 204,
    "start_time": "2022-11-10T07:19:49.881Z"
   },
   {
    "duration": 219,
    "start_time": "2022-11-10T07:19:51.369Z"
   },
   {
    "duration": 292,
    "start_time": "2022-11-10T07:19:54.781Z"
   },
   {
    "duration": 145,
    "start_time": "2022-11-10T07:19:58.484Z"
   },
   {
    "duration": 186,
    "start_time": "2022-11-10T07:20:00.450Z"
   },
   {
    "duration": 4,
    "start_time": "2022-11-10T07:20:01.609Z"
   },
   {
    "duration": 14,
    "start_time": "2022-11-10T07:20:02.378Z"
   },
   {
    "duration": 7,
    "start_time": "2022-11-10T07:20:03.225Z"
   },
   {
    "duration": 158,
    "start_time": "2022-11-10T07:20:04.615Z"
   },
   {
    "duration": 18,
    "start_time": "2022-11-10T07:20:06.663Z"
   },
   {
    "duration": 36,
    "start_time": "2022-11-10T07:20:09.214Z"
   },
   {
    "duration": 26,
    "start_time": "2022-11-10T07:20:26.122Z"
   },
   {
    "duration": 15,
    "start_time": "2022-11-10T07:20:26.516Z"
   },
   {
    "duration": 10,
    "start_time": "2022-11-10T07:20:41.763Z"
   },
   {
    "duration": 10,
    "start_time": "2022-11-10T07:20:44.198Z"
   },
   {
    "duration": 11,
    "start_time": "2022-11-10T07:20:51.693Z"
   },
   {
    "duration": 10,
    "start_time": "2022-11-10T07:20:51.781Z"
   },
   {
    "duration": 15,
    "start_time": "2022-11-10T07:23:54.977Z"
   },
   {
    "duration": 12,
    "start_time": "2022-11-10T07:24:11.931Z"
   },
   {
    "duration": 12,
    "start_time": "2022-11-10T07:24:27.938Z"
   },
   {
    "duration": 17,
    "start_time": "2022-11-10T07:25:55.751Z"
   },
   {
    "duration": 15,
    "start_time": "2022-11-10T07:26:07.718Z"
   },
   {
    "duration": 12,
    "start_time": "2022-11-10T07:34:23.447Z"
   },
   {
    "duration": 11,
    "start_time": "2022-11-10T07:34:25.268Z"
   },
   {
    "duration": 5,
    "start_time": "2022-11-10T07:36:42.414Z"
   },
   {
    "duration": 54,
    "start_time": "2022-11-10T07:37:09.522Z"
   },
   {
    "duration": 8,
    "start_time": "2022-11-10T07:37:18.931Z"
   },
   {
    "duration": 4,
    "start_time": "2022-11-10T07:37:59.059Z"
   },
   {
    "duration": 50,
    "start_time": "2022-11-10T07:38:32.126Z"
   },
   {
    "duration": 4,
    "start_time": "2022-11-10T07:38:41.102Z"
   },
   {
    "duration": 7,
    "start_time": "2022-11-10T07:39:47.424Z"
   },
   {
    "duration": 11,
    "start_time": "2022-11-10T07:39:52.718Z"
   },
   {
    "duration": 4,
    "start_time": "2022-11-10T07:39:58.177Z"
   },
   {
    "duration": 4,
    "start_time": "2022-11-10T07:40:09.172Z"
   },
   {
    "duration": 4,
    "start_time": "2022-11-10T07:40:33.002Z"
   },
   {
    "duration": 5,
    "start_time": "2022-11-10T07:41:43.143Z"
   },
   {
    "duration": 10,
    "start_time": "2022-11-10T07:43:48.735Z"
   },
   {
    "duration": 63,
    "start_time": "2022-11-10T07:44:48.202Z"
   },
   {
    "duration": 57,
    "start_time": "2022-11-10T07:45:15.615Z"
   },
   {
    "duration": 13,
    "start_time": "2022-11-10T07:45:36.350Z"
   },
   {
    "duration": 21,
    "start_time": "2022-11-10T07:46:54.431Z"
   },
   {
    "duration": 21,
    "start_time": "2022-11-10T07:47:13.456Z"
   },
   {
    "duration": 21,
    "start_time": "2022-11-10T07:48:22.147Z"
   },
   {
    "duration": 21,
    "start_time": "2022-11-10T07:50:42.043Z"
   },
   {
    "duration": 61,
    "start_time": "2022-11-10T07:51:33.787Z"
   },
   {
    "duration": 52,
    "start_time": "2022-11-10T07:52:04.056Z"
   },
   {
    "duration": 24,
    "start_time": "2022-11-10T07:52:18.944Z"
   },
   {
    "duration": 22,
    "start_time": "2022-11-10T07:54:00.196Z"
   },
   {
    "duration": 29,
    "start_time": "2022-11-10T07:54:42.513Z"
   },
   {
    "duration": 1384,
    "start_time": "2022-11-10T12:38:16.314Z"
   },
   {
    "duration": 4,
    "start_time": "2022-11-10T12:38:18.333Z"
   },
   {
    "duration": 5,
    "start_time": "2022-11-10T12:38:19.796Z"
   },
   {
    "duration": 3,
    "start_time": "2022-11-10T12:38:19.948Z"
   },
   {
    "duration": 123,
    "start_time": "2022-11-10T12:38:20.294Z"
   },
   {
    "duration": 4,
    "start_time": "2022-11-10T12:38:20.673Z"
   },
   {
    "duration": 8,
    "start_time": "2022-11-10T12:38:21.040Z"
   },
   {
    "duration": 4,
    "start_time": "2022-11-10T12:38:21.198Z"
   },
   {
    "duration": 3,
    "start_time": "2022-11-10T12:38:21.358Z"
   },
   {
    "duration": 12,
    "start_time": "2022-11-10T12:38:21.486Z"
   },
   {
    "duration": 16,
    "start_time": "2022-11-10T12:38:21.824Z"
   },
   {
    "duration": 7,
    "start_time": "2022-11-10T12:38:22.263Z"
   },
   {
    "duration": 5,
    "start_time": "2022-11-10T12:38:22.539Z"
   },
   {
    "duration": 4,
    "start_time": "2022-11-10T12:38:22.876Z"
   },
   {
    "duration": 4,
    "start_time": "2022-11-10T12:38:23.245Z"
   },
   {
    "duration": 16,
    "start_time": "2022-11-10T12:38:24.933Z"
   },
   {
    "duration": 8,
    "start_time": "2022-11-10T12:38:25.298Z"
   },
   {
    "duration": 12,
    "start_time": "2022-11-10T12:38:25.447Z"
   },
   {
    "duration": 12,
    "start_time": "2022-11-10T12:38:25.824Z"
   },
   {
    "duration": 9,
    "start_time": "2022-11-10T12:38:27.202Z"
   },
   {
    "duration": 13,
    "start_time": "2022-11-10T12:38:27.353Z"
   },
   {
    "duration": 15,
    "start_time": "2022-11-10T12:38:28.273Z"
   },
   {
    "duration": 11,
    "start_time": "2022-11-10T12:38:28.425Z"
   },
   {
    "duration": 18,
    "start_time": "2022-11-10T12:38:28.845Z"
   },
   {
    "duration": 11,
    "start_time": "2022-11-10T12:38:29.137Z"
   },
   {
    "duration": 14,
    "start_time": "2022-11-10T12:38:29.701Z"
   },
   {
    "duration": 10,
    "start_time": "2022-11-10T12:38:30.737Z"
   },
   {
    "duration": 136,
    "start_time": "2022-11-10T12:38:30.954Z"
   },
   {
    "duration": 10,
    "start_time": "2022-11-10T12:38:31.696Z"
   },
   {
    "duration": 11,
    "start_time": "2022-11-10T12:38:31.849Z"
   },
   {
    "duration": 10,
    "start_time": "2022-11-10T12:38:32.166Z"
   },
   {
    "duration": 5,
    "start_time": "2022-11-10T12:38:32.416Z"
   },
   {
    "duration": 226,
    "start_time": "2022-11-10T12:38:33.418Z"
   },
   {
    "duration": 26,
    "start_time": "2022-11-10T12:38:33.646Z"
   },
   {
    "duration": 386,
    "start_time": "2022-11-10T12:38:35.747Z"
   },
   {
    "duration": 19,
    "start_time": "2022-11-10T12:38:36.135Z"
   },
   {
    "duration": 3,
    "start_time": "2022-11-10T12:38:36.266Z"
   },
   {
    "duration": 21,
    "start_time": "2022-11-10T12:38:38.194Z"
   },
   {
    "duration": 8,
    "start_time": "2022-11-10T12:38:38.546Z"
   },
   {
    "duration": 23,
    "start_time": "2022-11-10T12:38:39.532Z"
   },
   {
    "duration": 9,
    "start_time": "2022-11-10T12:38:39.733Z"
   },
   {
    "duration": 24,
    "start_time": "2022-11-10T12:38:39.847Z"
   },
   {
    "duration": 19,
    "start_time": "2022-11-10T12:38:40.052Z"
   },
   {
    "duration": 375,
    "start_time": "2022-11-10T12:38:40.127Z"
   },
   {
    "duration": 373,
    "start_time": "2022-11-10T12:38:41.229Z"
   },
   {
    "duration": 359,
    "start_time": "2022-11-10T12:38:41.604Z"
   },
   {
    "duration": 359,
    "start_time": "2022-11-10T12:38:42.836Z"
   },
   {
    "duration": 296,
    "start_time": "2022-11-10T12:38:43.997Z"
   },
   {
    "duration": 299,
    "start_time": "2022-11-10T12:38:44.296Z"
   },
   {
    "duration": 294,
    "start_time": "2022-11-10T12:38:47.014Z"
   },
   {
    "duration": 163,
    "start_time": "2022-11-10T12:38:47.368Z"
   },
   {
    "duration": 176,
    "start_time": "2022-11-10T12:38:47.537Z"
   },
   {
    "duration": 153,
    "start_time": "2022-11-10T12:38:48.497Z"
   },
   {
    "duration": 214,
    "start_time": "2022-11-10T12:38:49.501Z"
   },
   {
    "duration": 119,
    "start_time": "2022-11-10T12:38:51.902Z"
   },
   {
    "duration": 4,
    "start_time": "2022-11-10T12:38:52.237Z"
   },
   {
    "duration": 13,
    "start_time": "2022-11-10T12:38:52.601Z"
   },
   {
    "duration": 6,
    "start_time": "2022-11-10T12:38:54.163Z"
   },
   {
    "duration": 123,
    "start_time": "2022-11-10T12:38:54.324Z"
   },
   {
    "duration": 13,
    "start_time": "2022-11-10T12:38:54.762Z"
   },
   {
    "duration": 23,
    "start_time": "2022-11-10T12:38:55.045Z"
   },
   {
    "duration": 12,
    "start_time": "2022-11-10T12:38:57.416Z"
   },
   {
    "duration": 10,
    "start_time": "2022-11-10T12:38:57.525Z"
   },
   {
    "duration": 10,
    "start_time": "2022-11-10T12:38:58.631Z"
   },
   {
    "duration": 9,
    "start_time": "2022-11-10T12:38:58.844Z"
   },
   {
    "duration": 5,
    "start_time": "2022-11-10T12:39:00.174Z"
   },
   {
    "duration": 23,
    "start_time": "2022-11-10T12:39:00.393Z"
   },
   {
    "duration": 19,
    "start_time": "2022-11-10T12:39:02.494Z"
   },
   {
    "duration": 19,
    "start_time": "2022-11-10T12:39:02.677Z"
   },
   {
    "duration": 15,
    "start_time": "2022-11-10T12:44:17.676Z"
   },
   {
    "duration": 19,
    "start_time": "2022-11-10T12:44:29.125Z"
   },
   {
    "duration": 17,
    "start_time": "2022-11-10T12:44:47.264Z"
   },
   {
    "duration": 18,
    "start_time": "2022-11-10T12:45:27.090Z"
   },
   {
    "duration": 3,
    "start_time": "2022-11-10T12:53:23.200Z"
   },
   {
    "duration": 3,
    "start_time": "2022-11-10T12:53:34.449Z"
   },
   {
    "duration": 7,
    "start_time": "2022-11-10T12:53:48.263Z"
   },
   {
    "duration": 10,
    "start_time": "2022-11-10T12:53:54.089Z"
   },
   {
    "duration": 7,
    "start_time": "2022-11-10T12:53:57.456Z"
   },
   {
    "duration": 90,
    "start_time": "2022-11-10T12:54:04.038Z"
   },
   {
    "duration": 8,
    "start_time": "2022-11-10T12:54:08.992Z"
   },
   {
    "duration": 1137,
    "start_time": "2022-11-10T12:54:18.318Z"
   },
   {
    "duration": 3,
    "start_time": "2022-11-10T12:55:20.953Z"
   },
   {
    "duration": 1106,
    "start_time": "2022-11-10T12:55:22.745Z"
   },
   {
    "duration": 8,
    "start_time": "2022-11-10T12:57:21.966Z"
   },
   {
    "duration": 4,
    "start_time": "2022-11-10T12:57:30.585Z"
   },
   {
    "duration": 7,
    "start_time": "2022-11-10T12:57:32.375Z"
   },
   {
    "duration": 23,
    "start_time": "2022-11-10T12:57:39.454Z"
   },
   {
    "duration": 4,
    "start_time": "2022-11-10T12:57:49.581Z"
   },
   {
    "duration": 1115,
    "start_time": "2022-11-10T12:57:52.191Z"
   },
   {
    "duration": 3,
    "start_time": "2022-11-10T12:58:01.093Z"
   },
   {
    "duration": 3,
    "start_time": "2022-11-10T12:58:02.938Z"
   },
   {
    "duration": 68,
    "start_time": "2022-11-10T13:01:51.198Z"
   },
   {
    "duration": 18,
    "start_time": "2022-11-10T13:08:56.461Z"
   },
   {
    "duration": 16,
    "start_time": "2022-11-10T13:09:43.537Z"
   },
   {
    "duration": 26,
    "start_time": "2022-11-10T13:10:32.159Z"
   },
   {
    "duration": 18,
    "start_time": "2022-11-10T13:11:04.363Z"
   },
   {
    "duration": 18,
    "start_time": "2022-11-10T13:11:19.088Z"
   },
   {
    "duration": 12,
    "start_time": "2022-11-10T13:12:40.353Z"
   },
   {
    "duration": 9,
    "start_time": "2022-11-10T13:12:46.317Z"
   },
   {
    "duration": 9,
    "start_time": "2022-11-10T13:14:01.178Z"
   },
   {
    "duration": 12,
    "start_time": "2022-11-10T13:15:11.379Z"
   },
   {
    "duration": 11,
    "start_time": "2022-11-10T13:15:27.028Z"
   },
   {
    "duration": 8,
    "start_time": "2022-11-10T13:25:00.456Z"
   },
   {
    "duration": 9,
    "start_time": "2022-11-10T13:25:28.276Z"
   },
   {
    "duration": 9,
    "start_time": "2022-11-10T13:26:07.831Z"
   },
   {
    "duration": 11,
    "start_time": "2022-11-10T13:26:12.156Z"
   },
   {
    "duration": 14,
    "start_time": "2022-11-10T13:43:48.558Z"
   },
   {
    "duration": 74,
    "start_time": "2022-11-10T13:47:02.851Z"
   },
   {
    "duration": 14,
    "start_time": "2022-11-10T14:02:16.696Z"
   },
   {
    "duration": 106,
    "start_time": "2022-11-10T14:40:32.242Z"
   },
   {
    "duration": 1417,
    "start_time": "2022-11-10T15:42:06.423Z"
   },
   {
    "duration": 4,
    "start_time": "2022-11-10T15:42:07.841Z"
   },
   {
    "duration": 12,
    "start_time": "2022-11-10T15:42:07.847Z"
   },
   {
    "duration": 14,
    "start_time": "2022-11-10T15:42:07.861Z"
   },
   {
    "duration": 108,
    "start_time": "2022-11-10T15:42:07.876Z"
   },
   {
    "duration": 0,
    "start_time": "2022-11-10T15:42:07.987Z"
   },
   {
    "duration": 0,
    "start_time": "2022-11-10T15:42:07.988Z"
   },
   {
    "duration": 0,
    "start_time": "2022-11-10T15:42:07.989Z"
   },
   {
    "duration": 0,
    "start_time": "2022-11-10T15:42:07.990Z"
   },
   {
    "duration": 0,
    "start_time": "2022-11-10T15:42:07.991Z"
   },
   {
    "duration": 0,
    "start_time": "2022-11-10T15:42:07.992Z"
   },
   {
    "duration": 0,
    "start_time": "2022-11-10T15:42:07.994Z"
   },
   {
    "duration": 0,
    "start_time": "2022-11-10T15:42:07.995Z"
   },
   {
    "duration": 0,
    "start_time": "2022-11-10T15:42:07.996Z"
   },
   {
    "duration": 0,
    "start_time": "2022-11-10T15:42:07.998Z"
   },
   {
    "duration": 0,
    "start_time": "2022-11-10T15:42:07.999Z"
   },
   {
    "duration": 0,
    "start_time": "2022-11-10T15:42:08.000Z"
   },
   {
    "duration": 0,
    "start_time": "2022-11-10T15:42:08.002Z"
   },
   {
    "duration": 0,
    "start_time": "2022-11-10T15:42:08.004Z"
   },
   {
    "duration": 0,
    "start_time": "2022-11-10T15:42:08.005Z"
   },
   {
    "duration": 0,
    "start_time": "2022-11-10T15:42:08.007Z"
   },
   {
    "duration": 0,
    "start_time": "2022-11-10T15:42:08.008Z"
   },
   {
    "duration": 0,
    "start_time": "2022-11-10T15:42:08.009Z"
   },
   {
    "duration": 0,
    "start_time": "2022-11-10T15:42:08.011Z"
   },
   {
    "duration": 0,
    "start_time": "2022-11-10T15:42:08.012Z"
   },
   {
    "duration": 0,
    "start_time": "2022-11-10T15:42:08.013Z"
   },
   {
    "duration": 0,
    "start_time": "2022-11-10T15:42:08.014Z"
   },
   {
    "duration": 0,
    "start_time": "2022-11-10T15:42:08.048Z"
   },
   {
    "duration": 0,
    "start_time": "2022-11-10T15:42:08.049Z"
   },
   {
    "duration": 0,
    "start_time": "2022-11-10T15:42:08.050Z"
   },
   {
    "duration": 0,
    "start_time": "2022-11-10T15:42:08.051Z"
   },
   {
    "duration": 0,
    "start_time": "2022-11-10T15:42:08.052Z"
   },
   {
    "duration": 0,
    "start_time": "2022-11-10T15:42:08.053Z"
   },
   {
    "duration": 0,
    "start_time": "2022-11-10T15:42:08.054Z"
   },
   {
    "duration": 0,
    "start_time": "2022-11-10T15:42:08.056Z"
   },
   {
    "duration": 0,
    "start_time": "2022-11-10T15:42:08.056Z"
   },
   {
    "duration": 0,
    "start_time": "2022-11-10T15:42:08.057Z"
   },
   {
    "duration": 0,
    "start_time": "2022-11-10T15:42:08.058Z"
   },
   {
    "duration": 0,
    "start_time": "2022-11-10T15:42:08.059Z"
   },
   {
    "duration": 0,
    "start_time": "2022-11-10T15:42:08.060Z"
   },
   {
    "duration": 0,
    "start_time": "2022-11-10T15:42:08.060Z"
   },
   {
    "duration": 0,
    "start_time": "2022-11-10T15:42:08.061Z"
   },
   {
    "duration": 0,
    "start_time": "2022-11-10T15:42:08.062Z"
   },
   {
    "duration": 0,
    "start_time": "2022-11-10T15:42:08.063Z"
   },
   {
    "duration": 0,
    "start_time": "2022-11-10T15:42:08.064Z"
   },
   {
    "duration": 0,
    "start_time": "2022-11-10T15:42:08.065Z"
   },
   {
    "duration": 0,
    "start_time": "2022-11-10T15:42:08.066Z"
   },
   {
    "duration": 0,
    "start_time": "2022-11-10T15:42:08.066Z"
   },
   {
    "duration": 0,
    "start_time": "2022-11-10T15:42:08.067Z"
   },
   {
    "duration": 0,
    "start_time": "2022-11-10T15:42:08.068Z"
   },
   {
    "duration": 0,
    "start_time": "2022-11-10T15:42:08.069Z"
   },
   {
    "duration": 0,
    "start_time": "2022-11-10T15:42:08.069Z"
   },
   {
    "duration": 0,
    "start_time": "2022-11-10T15:42:08.070Z"
   },
   {
    "duration": 0,
    "start_time": "2022-11-10T15:42:08.071Z"
   },
   {
    "duration": 0,
    "start_time": "2022-11-10T15:42:08.072Z"
   },
   {
    "duration": 0,
    "start_time": "2022-11-10T15:42:08.073Z"
   },
   {
    "duration": 0,
    "start_time": "2022-11-10T15:42:08.074Z"
   },
   {
    "duration": 0,
    "start_time": "2022-11-10T15:42:08.075Z"
   },
   {
    "duration": 0,
    "start_time": "2022-11-10T15:42:08.076Z"
   },
   {
    "duration": 0,
    "start_time": "2022-11-10T15:42:08.077Z"
   },
   {
    "duration": 0,
    "start_time": "2022-11-10T15:42:08.078Z"
   },
   {
    "duration": 0,
    "start_time": "2022-11-10T15:42:08.079Z"
   },
   {
    "duration": 0,
    "start_time": "2022-11-10T15:42:08.080Z"
   },
   {
    "duration": 0,
    "start_time": "2022-11-10T15:42:08.081Z"
   },
   {
    "duration": 0,
    "start_time": "2022-11-10T15:42:08.082Z"
   },
   {
    "duration": 0,
    "start_time": "2022-11-10T15:42:08.083Z"
   },
   {
    "duration": 0,
    "start_time": "2022-11-10T15:42:08.148Z"
   },
   {
    "duration": 0,
    "start_time": "2022-11-10T15:42:08.149Z"
   },
   {
    "duration": 0,
    "start_time": "2022-11-10T15:42:08.151Z"
   },
   {
    "duration": 0,
    "start_time": "2022-11-10T15:42:08.153Z"
   },
   {
    "duration": 0,
    "start_time": "2022-11-10T15:42:08.154Z"
   },
   {
    "duration": 0,
    "start_time": "2022-11-10T15:42:08.155Z"
   },
   {
    "duration": 1530,
    "start_time": "2022-11-11T12:26:46.745Z"
   },
   {
    "duration": 3,
    "start_time": "2022-11-11T12:26:48.277Z"
   },
   {
    "duration": 8,
    "start_time": "2022-11-11T12:26:48.282Z"
   },
   {
    "duration": 3,
    "start_time": "2022-11-11T12:26:48.294Z"
   },
   {
    "duration": 5,
    "start_time": "2022-11-11T12:26:48.884Z"
   },
   {
    "duration": 8,
    "start_time": "2022-11-11T12:26:50.362Z"
   },
   {
    "duration": 5,
    "start_time": "2022-11-11T12:26:50.524Z"
   },
   {
    "duration": 4,
    "start_time": "2022-11-11T12:26:50.733Z"
   },
   {
    "duration": 15,
    "start_time": "2022-11-11T12:26:50.900Z"
   },
   {
    "duration": 109,
    "start_time": "2022-11-11T12:26:52.231Z"
   },
   {
    "duration": 8,
    "start_time": "2022-11-11T12:26:53.591Z"
   },
   {
    "duration": 9,
    "start_time": "2022-11-11T12:26:53.952Z"
   },
   {
    "duration": 5,
    "start_time": "2022-11-11T12:26:54.645Z"
   },
   {
    "duration": 6,
    "start_time": "2022-11-11T12:26:54.998Z"
   },
   {
    "duration": 14,
    "start_time": "2022-11-11T12:26:55.216Z"
   },
   {
    "duration": 10,
    "start_time": "2022-11-11T12:26:55.907Z"
   },
   {
    "duration": 15,
    "start_time": "2022-11-11T12:26:56.102Z"
   },
   {
    "duration": 13,
    "start_time": "2022-11-11T12:26:56.476Z"
   },
   {
    "duration": 18,
    "start_time": "2022-11-11T12:26:56.662Z"
   },
   {
    "duration": 22,
    "start_time": "2022-11-11T12:26:56.887Z"
   },
   {
    "duration": 16,
    "start_time": "2022-11-11T12:26:57.188Z"
   },
   {
    "duration": 16,
    "start_time": "2022-11-11T12:26:57.360Z"
   },
   {
    "duration": 22,
    "start_time": "2022-11-11T12:26:57.713Z"
   },
   {
    "duration": 14,
    "start_time": "2022-11-11T12:26:57.913Z"
   },
   {
    "duration": 14,
    "start_time": "2022-11-11T12:26:58.410Z"
   },
   {
    "duration": 9,
    "start_time": "2022-11-11T12:26:58.916Z"
   },
   {
    "duration": 131,
    "start_time": "2022-11-11T12:26:59.088Z"
   },
   {
    "duration": 11,
    "start_time": "2022-11-11T12:27:00.309Z"
   },
   {
    "duration": 10,
    "start_time": "2022-11-11T12:27:00.479Z"
   },
   {
    "duration": 10,
    "start_time": "2022-11-11T12:27:00.822Z"
   },
   {
    "duration": 4,
    "start_time": "2022-11-11T12:27:00.974Z"
   },
   {
    "duration": 198,
    "start_time": "2022-11-11T12:27:01.345Z"
   },
   {
    "duration": 25,
    "start_time": "2022-11-11T12:27:01.656Z"
   },
   {
    "duration": 386,
    "start_time": "2022-11-11T12:27:01.996Z"
   },
   {
    "duration": 27,
    "start_time": "2022-11-11T12:27:02.384Z"
   },
   {
    "duration": 4,
    "start_time": "2022-11-11T12:27:02.706Z"
   },
   {
    "duration": 21,
    "start_time": "2022-11-11T12:27:02.752Z"
   },
   {
    "duration": 8,
    "start_time": "2022-11-11T12:27:03.059Z"
   },
   {
    "duration": 23,
    "start_time": "2022-11-11T12:27:03.215Z"
   },
   {
    "duration": 10,
    "start_time": "2022-11-11T12:27:03.405Z"
   },
   {
    "duration": 18,
    "start_time": "2022-11-11T12:27:03.588Z"
   },
   {
    "duration": 18,
    "start_time": "2022-11-11T12:27:03.748Z"
   },
   {
    "duration": 332,
    "start_time": "2022-11-11T12:27:03.921Z"
   },
   {
    "duration": 408,
    "start_time": "2022-11-11T12:27:04.281Z"
   },
   {
    "duration": 377,
    "start_time": "2022-11-11T12:27:05.100Z"
   },
   {
    "duration": 402,
    "start_time": "2022-11-11T12:27:05.699Z"
   },
   {
    "duration": 308,
    "start_time": "2022-11-11T12:27:06.103Z"
   },
   {
    "duration": 295,
    "start_time": "2022-11-11T12:27:06.413Z"
   },
   {
    "duration": 288,
    "start_time": "2022-11-11T12:27:06.709Z"
   },
   {
    "duration": 183,
    "start_time": "2022-11-11T12:27:06.999Z"
   },
   {
    "duration": 178,
    "start_time": "2022-11-11T12:27:07.183Z"
   },
   {
    "duration": 133,
    "start_time": "2022-11-11T12:27:07.530Z"
   },
   {
    "duration": 220,
    "start_time": "2022-11-11T12:27:07.877Z"
   },
   {
    "duration": 112,
    "start_time": "2022-11-11T12:27:08.264Z"
   },
   {
    "duration": 5,
    "start_time": "2022-11-11T12:27:08.651Z"
   },
   {
    "duration": 14,
    "start_time": "2022-11-11T12:27:09.031Z"
   },
   {
    "duration": 5,
    "start_time": "2022-11-11T12:27:09.204Z"
   },
   {
    "duration": 113,
    "start_time": "2022-11-11T12:27:09.857Z"
   },
   {
    "duration": 13,
    "start_time": "2022-11-11T12:27:10.203Z"
   },
   {
    "duration": 28,
    "start_time": "2022-11-11T12:27:10.642Z"
   },
   {
    "duration": 10,
    "start_time": "2022-11-11T12:27:11.785Z"
   },
   {
    "duration": 10,
    "start_time": "2022-11-11T12:27:11.976Z"
   },
   {
    "duration": 11,
    "start_time": "2022-11-11T12:27:12.330Z"
   },
   {
    "duration": 9,
    "start_time": "2022-11-11T12:27:12.521Z"
   },
   {
    "duration": 6,
    "start_time": "2022-11-11T12:27:13.240Z"
   },
   {
    "duration": 18,
    "start_time": "2022-11-11T12:27:13.427Z"
   },
   {
    "duration": 19,
    "start_time": "2022-11-11T12:27:13.618Z"
   },
   {
    "duration": 28,
    "start_time": "2022-11-11T12:27:13.808Z"
   },
   {
    "duration": 24,
    "start_time": "2022-11-11T12:27:14.884Z"
   },
   {
    "duration": 11,
    "start_time": "2022-11-11T12:27:15.464Z"
   },
   {
    "duration": 11,
    "start_time": "2022-11-11T12:27:15.806Z"
   },
   {
    "duration": 1225,
    "start_time": "2022-11-12T13:05:50.873Z"
   },
   {
    "duration": 4,
    "start_time": "2022-11-12T13:05:52.100Z"
   },
   {
    "duration": 27,
    "start_time": "2022-11-12T13:05:52.106Z"
   },
   {
    "duration": 46,
    "start_time": "2022-11-12T13:05:52.135Z"
   },
   {
    "duration": 16,
    "start_time": "2022-11-12T13:05:52.184Z"
   },
   {
    "duration": 20,
    "start_time": "2022-11-12T13:05:52.202Z"
   },
   {
    "duration": 18,
    "start_time": "2022-11-12T13:05:52.224Z"
   },
   {
    "duration": 40,
    "start_time": "2022-11-12T13:05:52.243Z"
   },
   {
    "duration": 46,
    "start_time": "2022-11-12T13:05:52.284Z"
   },
   {
    "duration": 127,
    "start_time": "2022-11-12T13:05:52.332Z"
   },
   {
    "duration": 0,
    "start_time": "2022-11-12T13:05:52.464Z"
   },
   {
    "duration": 0,
    "start_time": "2022-11-12T13:05:52.466Z"
   },
   {
    "duration": 0,
    "start_time": "2022-11-12T13:05:52.468Z"
   },
   {
    "duration": 0,
    "start_time": "2022-11-12T13:05:52.469Z"
   },
   {
    "duration": 0,
    "start_time": "2022-11-12T13:05:52.470Z"
   },
   {
    "duration": 0,
    "start_time": "2022-11-12T13:05:52.472Z"
   },
   {
    "duration": 0,
    "start_time": "2022-11-12T13:05:52.473Z"
   },
   {
    "duration": 0,
    "start_time": "2022-11-12T13:05:52.474Z"
   },
   {
    "duration": 0,
    "start_time": "2022-11-12T13:05:52.475Z"
   },
   {
    "duration": 0,
    "start_time": "2022-11-12T13:05:52.476Z"
   },
   {
    "duration": 0,
    "start_time": "2022-11-12T13:05:52.478Z"
   },
   {
    "duration": 0,
    "start_time": "2022-11-12T13:05:52.480Z"
   },
   {
    "duration": 0,
    "start_time": "2022-11-12T13:05:52.482Z"
   },
   {
    "duration": 0,
    "start_time": "2022-11-12T13:05:52.483Z"
   },
   {
    "duration": 0,
    "start_time": "2022-11-12T13:05:52.484Z"
   },
   {
    "duration": 0,
    "start_time": "2022-11-12T13:05:52.486Z"
   },
   {
    "duration": 0,
    "start_time": "2022-11-12T13:05:52.487Z"
   },
   {
    "duration": 0,
    "start_time": "2022-11-12T13:05:52.488Z"
   },
   {
    "duration": 0,
    "start_time": "2022-11-12T13:05:52.490Z"
   },
   {
    "duration": 0,
    "start_time": "2022-11-12T13:05:52.492Z"
   },
   {
    "duration": 0,
    "start_time": "2022-11-12T13:05:52.493Z"
   },
   {
    "duration": 0,
    "start_time": "2022-11-12T13:05:52.494Z"
   },
   {
    "duration": 0,
    "start_time": "2022-11-12T13:05:52.495Z"
   },
   {
    "duration": 0,
    "start_time": "2022-11-12T13:05:52.497Z"
   },
   {
    "duration": 0,
    "start_time": "2022-11-12T13:05:52.498Z"
   },
   {
    "duration": 0,
    "start_time": "2022-11-12T13:05:52.499Z"
   },
   {
    "duration": 0,
    "start_time": "2022-11-12T13:05:52.500Z"
   },
   {
    "duration": 0,
    "start_time": "2022-11-12T13:05:52.501Z"
   },
   {
    "duration": 0,
    "start_time": "2022-11-12T13:05:52.502Z"
   },
   {
    "duration": 0,
    "start_time": "2022-11-12T13:05:52.503Z"
   },
   {
    "duration": 0,
    "start_time": "2022-11-12T13:05:52.504Z"
   },
   {
    "duration": 0,
    "start_time": "2022-11-12T13:05:52.505Z"
   },
   {
    "duration": 0,
    "start_time": "2022-11-12T13:05:52.563Z"
   },
   {
    "duration": 0,
    "start_time": "2022-11-12T13:05:52.565Z"
   },
   {
    "duration": 0,
    "start_time": "2022-11-12T13:05:52.566Z"
   },
   {
    "duration": 0,
    "start_time": "2022-11-12T13:05:52.568Z"
   },
   {
    "duration": 0,
    "start_time": "2022-11-12T13:05:52.569Z"
   },
   {
    "duration": 0,
    "start_time": "2022-11-12T13:05:52.571Z"
   },
   {
    "duration": 0,
    "start_time": "2022-11-12T13:05:52.572Z"
   },
   {
    "duration": 0,
    "start_time": "2022-11-12T13:05:52.573Z"
   },
   {
    "duration": 0,
    "start_time": "2022-11-12T13:05:52.575Z"
   },
   {
    "duration": 0,
    "start_time": "2022-11-12T13:05:52.576Z"
   },
   {
    "duration": 0,
    "start_time": "2022-11-12T13:05:52.578Z"
   },
   {
    "duration": 0,
    "start_time": "2022-11-12T13:05:52.579Z"
   },
   {
    "duration": 0,
    "start_time": "2022-11-12T13:05:52.580Z"
   },
   {
    "duration": 0,
    "start_time": "2022-11-12T13:05:52.585Z"
   },
   {
    "duration": 0,
    "start_time": "2022-11-12T13:05:52.586Z"
   },
   {
    "duration": 0,
    "start_time": "2022-11-12T13:05:52.588Z"
   },
   {
    "duration": 0,
    "start_time": "2022-11-12T13:05:52.589Z"
   },
   {
    "duration": 0,
    "start_time": "2022-11-12T13:05:52.590Z"
   },
   {
    "duration": 0,
    "start_time": "2022-11-12T13:05:52.592Z"
   },
   {
    "duration": 0,
    "start_time": "2022-11-12T13:05:52.593Z"
   },
   {
    "duration": 0,
    "start_time": "2022-11-12T13:05:52.594Z"
   },
   {
    "duration": 0,
    "start_time": "2022-11-12T13:05:52.595Z"
   },
   {
    "duration": 0,
    "start_time": "2022-11-12T13:05:52.596Z"
   },
   {
    "duration": 0,
    "start_time": "2022-11-12T13:05:52.598Z"
   },
   {
    "duration": 0,
    "start_time": "2022-11-12T13:05:52.599Z"
   },
   {
    "duration": 0,
    "start_time": "2022-11-12T13:05:52.600Z"
   },
   {
    "duration": 0,
    "start_time": "2022-11-12T13:05:52.602Z"
   },
   {
    "duration": 0,
    "start_time": "2022-11-12T13:05:52.660Z"
   },
   {
    "duration": 0,
    "start_time": "2022-11-12T13:05:52.661Z"
   },
   {
    "duration": 1215,
    "start_time": "2022-11-12T13:06:50.980Z"
   },
   {
    "duration": 3,
    "start_time": "2022-11-12T13:06:52.198Z"
   },
   {
    "duration": 13,
    "start_time": "2022-11-12T13:06:52.203Z"
   },
   {
    "duration": 12,
    "start_time": "2022-11-12T13:06:52.218Z"
   },
   {
    "duration": 13,
    "start_time": "2022-11-12T13:06:52.231Z"
   },
   {
    "duration": 13,
    "start_time": "2022-11-12T13:06:52.246Z"
   },
   {
    "duration": 19,
    "start_time": "2022-11-12T13:06:52.261Z"
   },
   {
    "duration": 6,
    "start_time": "2022-11-12T13:06:52.282Z"
   },
   {
    "duration": 15,
    "start_time": "2022-11-12T13:06:52.289Z"
   },
   {
    "duration": 121,
    "start_time": "2022-11-12T13:06:52.308Z"
   },
   {
    "duration": 0,
    "start_time": "2022-11-12T13:06:52.432Z"
   },
   {
    "duration": 0,
    "start_time": "2022-11-12T13:06:52.433Z"
   },
   {
    "duration": 0,
    "start_time": "2022-11-12T13:06:52.434Z"
   },
   {
    "duration": 0,
    "start_time": "2022-11-12T13:06:52.435Z"
   },
   {
    "duration": 0,
    "start_time": "2022-11-12T13:06:52.436Z"
   },
   {
    "duration": 0,
    "start_time": "2022-11-12T13:06:52.437Z"
   },
   {
    "duration": 0,
    "start_time": "2022-11-12T13:06:52.439Z"
   },
   {
    "duration": 0,
    "start_time": "2022-11-12T13:06:52.440Z"
   },
   {
    "duration": 0,
    "start_time": "2022-11-12T13:06:52.440Z"
   },
   {
    "duration": 0,
    "start_time": "2022-11-12T13:06:52.441Z"
   },
   {
    "duration": 0,
    "start_time": "2022-11-12T13:06:52.459Z"
   },
   {
    "duration": 0,
    "start_time": "2022-11-12T13:06:52.461Z"
   },
   {
    "duration": 0,
    "start_time": "2022-11-12T13:06:52.463Z"
   },
   {
    "duration": 0,
    "start_time": "2022-11-12T13:06:52.464Z"
   },
   {
    "duration": 0,
    "start_time": "2022-11-12T13:06:52.466Z"
   },
   {
    "duration": 0,
    "start_time": "2022-11-12T13:06:52.467Z"
   },
   {
    "duration": 0,
    "start_time": "2022-11-12T13:06:52.469Z"
   },
   {
    "duration": 0,
    "start_time": "2022-11-12T13:06:52.470Z"
   },
   {
    "duration": 0,
    "start_time": "2022-11-12T13:06:52.473Z"
   },
   {
    "duration": 0,
    "start_time": "2022-11-12T13:06:52.474Z"
   },
   {
    "duration": 0,
    "start_time": "2022-11-12T13:06:52.476Z"
   },
   {
    "duration": 0,
    "start_time": "2022-11-12T13:06:52.478Z"
   },
   {
    "duration": 0,
    "start_time": "2022-11-12T13:06:52.480Z"
   },
   {
    "duration": 0,
    "start_time": "2022-11-12T13:06:52.482Z"
   },
   {
    "duration": 0,
    "start_time": "2022-11-12T13:06:52.484Z"
   },
   {
    "duration": 0,
    "start_time": "2022-11-12T13:06:52.485Z"
   },
   {
    "duration": 0,
    "start_time": "2022-11-12T13:06:52.486Z"
   },
   {
    "duration": 0,
    "start_time": "2022-11-12T13:06:52.488Z"
   },
   {
    "duration": 0,
    "start_time": "2022-11-12T13:06:52.490Z"
   },
   {
    "duration": 0,
    "start_time": "2022-11-12T13:06:52.491Z"
   },
   {
    "duration": 0,
    "start_time": "2022-11-12T13:06:52.492Z"
   },
   {
    "duration": 0,
    "start_time": "2022-11-12T13:06:52.493Z"
   },
   {
    "duration": 0,
    "start_time": "2022-11-12T13:06:52.494Z"
   },
   {
    "duration": 0,
    "start_time": "2022-11-12T13:06:52.495Z"
   },
   {
    "duration": 0,
    "start_time": "2022-11-12T13:06:52.496Z"
   },
   {
    "duration": 0,
    "start_time": "2022-11-12T13:06:52.498Z"
   },
   {
    "duration": 0,
    "start_time": "2022-11-12T13:06:52.498Z"
   },
   {
    "duration": 0,
    "start_time": "2022-11-12T13:06:52.499Z"
   },
   {
    "duration": 0,
    "start_time": "2022-11-12T13:06:52.500Z"
   },
   {
    "duration": 0,
    "start_time": "2022-11-12T13:06:52.501Z"
   },
   {
    "duration": 0,
    "start_time": "2022-11-12T13:06:52.502Z"
   },
   {
    "duration": 0,
    "start_time": "2022-11-12T13:06:52.503Z"
   },
   {
    "duration": 0,
    "start_time": "2022-11-12T13:06:52.560Z"
   },
   {
    "duration": 0,
    "start_time": "2022-11-12T13:06:52.562Z"
   },
   {
    "duration": 0,
    "start_time": "2022-11-12T13:06:52.563Z"
   },
   {
    "duration": 0,
    "start_time": "2022-11-12T13:06:52.565Z"
   },
   {
    "duration": 0,
    "start_time": "2022-11-12T13:06:52.566Z"
   },
   {
    "duration": 0,
    "start_time": "2022-11-12T13:06:52.566Z"
   },
   {
    "duration": 0,
    "start_time": "2022-11-12T13:06:52.567Z"
   },
   {
    "duration": 0,
    "start_time": "2022-11-12T13:06:52.568Z"
   },
   {
    "duration": 0,
    "start_time": "2022-11-12T13:06:52.569Z"
   },
   {
    "duration": 0,
    "start_time": "2022-11-12T13:06:52.570Z"
   },
   {
    "duration": 0,
    "start_time": "2022-11-12T13:06:52.574Z"
   },
   {
    "duration": 0,
    "start_time": "2022-11-12T13:06:52.575Z"
   },
   {
    "duration": 0,
    "start_time": "2022-11-12T13:06:52.577Z"
   },
   {
    "duration": 0,
    "start_time": "2022-11-12T13:06:52.579Z"
   },
   {
    "duration": 0,
    "start_time": "2022-11-12T13:06:52.580Z"
   },
   {
    "duration": 0,
    "start_time": "2022-11-12T13:06:52.582Z"
   },
   {
    "duration": 0,
    "start_time": "2022-11-12T13:06:52.583Z"
   },
   {
    "duration": 0,
    "start_time": "2022-11-12T13:06:52.584Z"
   },
   {
    "duration": 0,
    "start_time": "2022-11-12T13:06:52.585Z"
   },
   {
    "duration": 4,
    "start_time": "2022-11-12T16:28:37.169Z"
   },
   {
    "duration": 46,
    "start_time": "2022-11-12T16:29:31.510Z"
   },
   {
    "duration": 1534,
    "start_time": "2022-11-12T16:29:53.342Z"
   },
   {
    "duration": 3,
    "start_time": "2022-11-12T16:29:54.878Z"
   },
   {
    "duration": 24,
    "start_time": "2022-11-12T16:29:54.883Z"
   },
   {
    "duration": 16,
    "start_time": "2022-11-12T16:29:54.909Z"
   },
   {
    "duration": 34,
    "start_time": "2022-11-12T16:29:54.926Z"
   },
   {
    "duration": 26,
    "start_time": "2022-11-12T16:29:54.962Z"
   },
   {
    "duration": 15,
    "start_time": "2022-11-12T16:29:54.989Z"
   },
   {
    "duration": 30,
    "start_time": "2022-11-12T16:29:55.006Z"
   },
   {
    "duration": 40,
    "start_time": "2022-11-12T16:29:55.037Z"
   },
   {
    "duration": 16,
    "start_time": "2022-11-12T16:29:55.079Z"
   },
   {
    "duration": 18,
    "start_time": "2022-11-12T16:29:55.097Z"
   },
   {
    "duration": 17,
    "start_time": "2022-11-12T16:29:55.117Z"
   },
   {
    "duration": 10,
    "start_time": "2022-11-12T16:29:55.135Z"
   },
   {
    "duration": 17,
    "start_time": "2022-11-12T16:29:55.146Z"
   },
   {
    "duration": 21,
    "start_time": "2022-11-12T16:29:55.165Z"
   },
   {
    "duration": 20,
    "start_time": "2022-11-12T16:29:55.187Z"
   },
   {
    "duration": 24,
    "start_time": "2022-11-12T16:29:55.209Z"
   },
   {
    "duration": 12,
    "start_time": "2022-11-12T16:29:55.235Z"
   },
   {
    "duration": 15,
    "start_time": "2022-11-12T16:29:55.249Z"
   },
   {
    "duration": 24,
    "start_time": "2022-11-12T16:29:55.265Z"
   },
   {
    "duration": 28,
    "start_time": "2022-11-12T16:29:55.291Z"
   },
   {
    "duration": 13,
    "start_time": "2022-11-12T16:29:55.322Z"
   },
   {
    "duration": 35,
    "start_time": "2022-11-12T16:29:55.337Z"
   },
   {
    "duration": 24,
    "start_time": "2022-11-12T16:29:55.374Z"
   },
   {
    "duration": 24,
    "start_time": "2022-11-12T16:29:55.400Z"
   },
   {
    "duration": 11,
    "start_time": "2022-11-12T16:29:55.426Z"
   },
   {
    "duration": 154,
    "start_time": "2022-11-12T16:29:55.439Z"
   },
   {
    "duration": 10,
    "start_time": "2022-11-12T16:29:55.598Z"
   },
   {
    "duration": 11,
    "start_time": "2022-11-12T16:29:55.610Z"
   },
   {
    "duration": 10,
    "start_time": "2022-11-12T16:29:55.622Z"
   },
   {
    "duration": 4,
    "start_time": "2022-11-12T16:29:55.634Z"
   },
   {
    "duration": 234,
    "start_time": "2022-11-12T16:29:55.640Z"
   },
   {
    "duration": 27,
    "start_time": "2022-11-12T16:29:55.879Z"
   },
   {
    "duration": 425,
    "start_time": "2022-11-12T16:29:55.908Z"
   },
   {
    "duration": 20,
    "start_time": "2022-11-12T16:29:56.335Z"
   },
   {
    "duration": 10,
    "start_time": "2022-11-12T16:29:56.357Z"
   },
   {
    "duration": 25,
    "start_time": "2022-11-12T16:29:56.369Z"
   },
   {
    "duration": 8,
    "start_time": "2022-11-12T16:29:56.395Z"
   },
   {
    "duration": 34,
    "start_time": "2022-11-12T16:29:56.404Z"
   },
   {
    "duration": 23,
    "start_time": "2022-11-12T16:29:56.440Z"
   },
   {
    "duration": 30,
    "start_time": "2022-11-12T16:29:56.465Z"
   },
   {
    "duration": 24,
    "start_time": "2022-11-12T16:29:56.497Z"
   },
   {
    "duration": 316,
    "start_time": "2022-11-12T16:29:56.523Z"
   },
   {
    "duration": 403,
    "start_time": "2022-11-12T16:29:56.840Z"
   },
   {
    "duration": 426,
    "start_time": "2022-11-12T16:29:57.244Z"
   },
   {
    "duration": 301,
    "start_time": "2022-11-12T16:29:57.672Z"
   },
   {
    "duration": 326,
    "start_time": "2022-11-12T16:29:57.975Z"
   },
   {
    "duration": 306,
    "start_time": "2022-11-12T16:29:58.303Z"
   },
   {
    "duration": 311,
    "start_time": "2022-11-12T16:29:58.611Z"
   },
   {
    "duration": 167,
    "start_time": "2022-11-12T16:29:58.924Z"
   },
   {
    "duration": 188,
    "start_time": "2022-11-12T16:29:59.093Z"
   },
   {
    "duration": 228,
    "start_time": "2022-11-12T16:29:59.283Z"
   },
   {
    "duration": 126,
    "start_time": "2022-11-12T16:29:59.513Z"
   },
   {
    "duration": 182,
    "start_time": "2022-11-12T16:29:59.640Z"
   },
   {
    "duration": 0,
    "start_time": "2022-11-12T16:29:59.824Z"
   },
   {
    "duration": 0,
    "start_time": "2022-11-12T16:29:59.825Z"
   },
   {
    "duration": 0,
    "start_time": "2022-11-12T16:29:59.827Z"
   },
   {
    "duration": 0,
    "start_time": "2022-11-12T16:29:59.828Z"
   },
   {
    "duration": 0,
    "start_time": "2022-11-12T16:29:59.829Z"
   },
   {
    "duration": 0,
    "start_time": "2022-11-12T16:29:59.831Z"
   },
   {
    "duration": 0,
    "start_time": "2022-11-12T16:29:59.832Z"
   },
   {
    "duration": 0,
    "start_time": "2022-11-12T16:29:59.834Z"
   },
   {
    "duration": 0,
    "start_time": "2022-11-12T16:29:59.835Z"
   },
   {
    "duration": 0,
    "start_time": "2022-11-12T16:29:59.836Z"
   },
   {
    "duration": 0,
    "start_time": "2022-11-12T16:29:59.838Z"
   },
   {
    "duration": 0,
    "start_time": "2022-11-12T16:29:59.840Z"
   },
   {
    "duration": 0,
    "start_time": "2022-11-12T16:29:59.841Z"
   },
   {
    "duration": 0,
    "start_time": "2022-11-12T16:29:59.843Z"
   },
   {
    "duration": 0,
    "start_time": "2022-11-12T16:29:59.879Z"
   },
   {
    "duration": 0,
    "start_time": "2022-11-12T16:29:59.881Z"
   },
   {
    "duration": 0,
    "start_time": "2022-11-12T16:29:59.882Z"
   },
   {
    "duration": 82,
    "start_time": "2022-11-12T16:30:22.659Z"
   },
   {
    "duration": 4,
    "start_time": "2022-11-12T16:30:22.743Z"
   },
   {
    "duration": 23,
    "start_time": "2022-11-12T16:30:22.749Z"
   },
   {
    "duration": 16,
    "start_time": "2022-11-12T16:30:22.775Z"
   },
   {
    "duration": 16,
    "start_time": "2022-11-12T16:30:22.793Z"
   },
   {
    "duration": 9,
    "start_time": "2022-11-12T16:30:22.811Z"
   },
   {
    "duration": 26,
    "start_time": "2022-11-12T16:30:22.822Z"
   },
   {
    "duration": 19,
    "start_time": "2022-11-12T16:30:22.850Z"
   },
   {
    "duration": 34,
    "start_time": "2022-11-12T16:30:22.871Z"
   },
   {
    "duration": 11,
    "start_time": "2022-11-12T16:30:22.908Z"
   },
   {
    "duration": 18,
    "start_time": "2022-11-12T16:30:22.921Z"
   },
   {
    "duration": 15,
    "start_time": "2022-11-12T16:30:22.940Z"
   },
   {
    "duration": 23,
    "start_time": "2022-11-12T16:30:22.957Z"
   },
   {
    "duration": 27,
    "start_time": "2022-11-12T16:30:22.982Z"
   },
   {
    "duration": 29,
    "start_time": "2022-11-12T16:30:23.010Z"
   },
   {
    "duration": 10,
    "start_time": "2022-11-12T16:30:23.040Z"
   },
   {
    "duration": 14,
    "start_time": "2022-11-12T16:30:23.052Z"
   },
   {
    "duration": 12,
    "start_time": "2022-11-12T16:30:23.068Z"
   },
   {
    "duration": 16,
    "start_time": "2022-11-12T16:30:23.081Z"
   },
   {
    "duration": 19,
    "start_time": "2022-11-12T16:30:23.099Z"
   },
   {
    "duration": 26,
    "start_time": "2022-11-12T16:30:23.120Z"
   },
   {
    "duration": 14,
    "start_time": "2022-11-12T16:30:23.148Z"
   },
   {
    "duration": 20,
    "start_time": "2022-11-12T16:30:23.180Z"
   },
   {
    "duration": 25,
    "start_time": "2022-11-12T16:30:23.202Z"
   },
   {
    "duration": 20,
    "start_time": "2022-11-12T16:30:23.228Z"
   },
   {
    "duration": 10,
    "start_time": "2022-11-12T16:30:23.250Z"
   },
   {
    "duration": 152,
    "start_time": "2022-11-12T16:30:23.280Z"
   },
   {
    "duration": 11,
    "start_time": "2022-11-12T16:30:23.438Z"
   },
   {
    "duration": 19,
    "start_time": "2022-11-12T16:30:23.451Z"
   },
   {
    "duration": 33,
    "start_time": "2022-11-12T16:30:23.480Z"
   },
   {
    "duration": 26,
    "start_time": "2022-11-12T16:30:23.515Z"
   },
   {
    "duration": 233,
    "start_time": "2022-11-12T16:30:23.542Z"
   },
   {
    "duration": 28,
    "start_time": "2022-11-12T16:30:23.779Z"
   },
   {
    "duration": 392,
    "start_time": "2022-11-12T16:30:23.809Z"
   },
   {
    "duration": 20,
    "start_time": "2022-11-12T16:30:24.203Z"
   },
   {
    "duration": 43,
    "start_time": "2022-11-12T16:30:24.225Z"
   },
   {
    "duration": 43,
    "start_time": "2022-11-12T16:30:24.270Z"
   },
   {
    "duration": 34,
    "start_time": "2022-11-12T16:30:24.314Z"
   },
   {
    "duration": 50,
    "start_time": "2022-11-12T16:30:24.349Z"
   },
   {
    "duration": 33,
    "start_time": "2022-11-12T16:30:24.401Z"
   },
   {
    "duration": 42,
    "start_time": "2022-11-12T16:30:24.435Z"
   },
   {
    "duration": 47,
    "start_time": "2022-11-12T16:30:24.479Z"
   },
   {
    "duration": 352,
    "start_time": "2022-11-12T16:30:24.527Z"
   },
   {
    "duration": 400,
    "start_time": "2022-11-12T16:30:24.881Z"
   },
   {
    "duration": 407,
    "start_time": "2022-11-12T16:30:25.283Z"
   },
   {
    "duration": 429,
    "start_time": "2022-11-12T16:30:25.691Z"
   },
   {
    "duration": 310,
    "start_time": "2022-11-12T16:30:26.121Z"
   },
   {
    "duration": 312,
    "start_time": "2022-11-12T16:30:26.433Z"
   },
   {
    "duration": 329,
    "start_time": "2022-11-12T16:30:26.747Z"
   },
   {
    "duration": 187,
    "start_time": "2022-11-12T16:30:27.079Z"
   },
   {
    "duration": 195,
    "start_time": "2022-11-12T16:30:27.267Z"
   },
   {
    "duration": 148,
    "start_time": "2022-11-12T16:30:27.464Z"
   },
   {
    "duration": 140,
    "start_time": "2022-11-12T16:30:27.613Z"
   },
   {
    "duration": 138,
    "start_time": "2022-11-12T16:30:27.755Z"
   },
   {
    "duration": 0,
    "start_time": "2022-11-12T16:30:27.895Z"
   },
   {
    "duration": 0,
    "start_time": "2022-11-12T16:30:27.896Z"
   },
   {
    "duration": 0,
    "start_time": "2022-11-12T16:30:27.897Z"
   },
   {
    "duration": 0,
    "start_time": "2022-11-12T16:30:27.898Z"
   },
   {
    "duration": 0,
    "start_time": "2022-11-12T16:30:27.899Z"
   },
   {
    "duration": 0,
    "start_time": "2022-11-12T16:30:27.900Z"
   },
   {
    "duration": 0,
    "start_time": "2022-11-12T16:30:27.901Z"
   },
   {
    "duration": 0,
    "start_time": "2022-11-12T16:30:27.902Z"
   },
   {
    "duration": 0,
    "start_time": "2022-11-12T16:30:27.902Z"
   },
   {
    "duration": 0,
    "start_time": "2022-11-12T16:30:27.903Z"
   },
   {
    "duration": 0,
    "start_time": "2022-11-12T16:30:27.904Z"
   },
   {
    "duration": 0,
    "start_time": "2022-11-12T16:30:27.905Z"
   },
   {
    "duration": 0,
    "start_time": "2022-11-12T16:30:27.906Z"
   },
   {
    "duration": 0,
    "start_time": "2022-11-12T16:30:27.907Z"
   },
   {
    "duration": 0,
    "start_time": "2022-11-12T16:30:27.908Z"
   },
   {
    "duration": 0,
    "start_time": "2022-11-12T16:30:27.909Z"
   },
   {
    "duration": 0,
    "start_time": "2022-11-12T16:30:27.910Z"
   },
   {
    "duration": 2,
    "start_time": "2022-11-12T16:31:03.538Z"
   },
   {
    "duration": 1160,
    "start_time": "2022-11-12T16:48:49.753Z"
   },
   {
    "duration": 3,
    "start_time": "2022-11-12T16:48:50.915Z"
   },
   {
    "duration": 29,
    "start_time": "2022-11-12T16:48:50.919Z"
   },
   {
    "duration": 24,
    "start_time": "2022-11-12T16:48:50.950Z"
   },
   {
    "duration": 21,
    "start_time": "2022-11-12T16:48:50.975Z"
   },
   {
    "duration": 30,
    "start_time": "2022-11-12T16:48:50.997Z"
   },
   {
    "duration": 15,
    "start_time": "2022-11-12T16:48:51.029Z"
   },
   {
    "duration": 11,
    "start_time": "2022-11-12T16:48:51.045Z"
   },
   {
    "duration": 19,
    "start_time": "2022-11-12T16:48:51.057Z"
   },
   {
    "duration": 3,
    "start_time": "2022-11-12T16:48:51.079Z"
   },
   {
    "duration": 10,
    "start_time": "2022-11-12T16:48:51.084Z"
   },
   {
    "duration": 7,
    "start_time": "2022-11-12T16:48:51.096Z"
   },
   {
    "duration": 24,
    "start_time": "2022-11-12T16:48:51.105Z"
   },
   {
    "duration": 13,
    "start_time": "2022-11-12T16:48:51.131Z"
   },
   {
    "duration": 16,
    "start_time": "2022-11-12T16:48:51.146Z"
   },
   {
    "duration": 10,
    "start_time": "2022-11-12T16:48:51.163Z"
   },
   {
    "duration": 14,
    "start_time": "2022-11-12T16:48:51.175Z"
   },
   {
    "duration": 12,
    "start_time": "2022-11-12T16:48:51.191Z"
   },
   {
    "duration": 12,
    "start_time": "2022-11-12T16:48:51.205Z"
   },
   {
    "duration": 35,
    "start_time": "2022-11-12T16:48:51.218Z"
   },
   {
    "duration": 16,
    "start_time": "2022-11-12T16:48:51.254Z"
   },
   {
    "duration": 11,
    "start_time": "2022-11-12T16:48:51.272Z"
   },
   {
    "duration": 26,
    "start_time": "2022-11-12T16:48:51.285Z"
   },
   {
    "duration": 12,
    "start_time": "2022-11-12T16:48:51.313Z"
   },
   {
    "duration": 13,
    "start_time": "2022-11-12T16:48:51.327Z"
   },
   {
    "duration": 9,
    "start_time": "2022-11-12T16:48:51.341Z"
   },
   {
    "duration": 166,
    "start_time": "2022-11-12T16:48:51.352Z"
   },
   {
    "duration": 10,
    "start_time": "2022-11-12T16:48:51.522Z"
   },
   {
    "duration": 12,
    "start_time": "2022-11-12T16:48:51.534Z"
   },
   {
    "duration": 11,
    "start_time": "2022-11-12T16:48:51.548Z"
   },
   {
    "duration": 6,
    "start_time": "2022-11-12T16:48:51.561Z"
   },
   {
    "duration": 226,
    "start_time": "2022-11-12T16:48:51.569Z"
   },
   {
    "duration": 32,
    "start_time": "2022-11-12T16:48:51.797Z"
   },
   {
    "duration": 407,
    "start_time": "2022-11-12T16:48:51.830Z"
   },
   {
    "duration": 20,
    "start_time": "2022-11-12T16:48:52.239Z"
   },
   {
    "duration": 9,
    "start_time": "2022-11-12T16:48:52.260Z"
   },
   {
    "duration": 29,
    "start_time": "2022-11-12T16:48:52.271Z"
   },
   {
    "duration": 15,
    "start_time": "2022-11-12T16:48:52.302Z"
   },
   {
    "duration": 29,
    "start_time": "2022-11-12T16:48:52.319Z"
   },
   {
    "duration": 9,
    "start_time": "2022-11-12T16:48:52.350Z"
   },
   {
    "duration": 19,
    "start_time": "2022-11-12T16:48:52.361Z"
   },
   {
    "duration": 25,
    "start_time": "2022-11-12T16:48:52.382Z"
   },
   {
    "duration": 324,
    "start_time": "2022-11-12T16:48:52.408Z"
   },
   {
    "duration": 382,
    "start_time": "2022-11-12T16:48:52.734Z"
   },
   {
    "duration": 415,
    "start_time": "2022-11-12T16:48:53.118Z"
   },
   {
    "duration": 297,
    "start_time": "2022-11-12T16:48:53.534Z"
   },
   {
    "duration": 292,
    "start_time": "2022-11-12T16:48:53.832Z"
   },
   {
    "duration": 293,
    "start_time": "2022-11-12T16:48:54.126Z"
   },
   {
    "duration": 286,
    "start_time": "2022-11-12T16:48:54.420Z"
   },
   {
    "duration": 177,
    "start_time": "2022-11-12T16:48:54.707Z"
   },
   {
    "duration": 189,
    "start_time": "2022-11-12T16:48:54.886Z"
   },
   {
    "duration": 241,
    "start_time": "2022-11-12T16:48:55.077Z"
   },
   {
    "duration": 129,
    "start_time": "2022-11-12T16:48:55.320Z"
   },
   {
    "duration": 3,
    "start_time": "2022-11-12T16:48:55.450Z"
   },
   {
    "duration": 11,
    "start_time": "2022-11-12T16:48:55.455Z"
   },
   {
    "duration": 18,
    "start_time": "2022-11-12T16:48:55.467Z"
   },
   {
    "duration": 20,
    "start_time": "2022-11-12T16:48:55.487Z"
   },
   {
    "duration": 134,
    "start_time": "2022-11-12T16:48:55.509Z"
   },
   {
    "duration": 15,
    "start_time": "2022-11-12T16:48:55.645Z"
   },
   {
    "duration": 25,
    "start_time": "2022-11-12T16:48:55.662Z"
   },
   {
    "duration": 12,
    "start_time": "2022-11-12T16:48:55.705Z"
   },
   {
    "duration": 11,
    "start_time": "2022-11-12T16:48:55.719Z"
   },
   {
    "duration": 12,
    "start_time": "2022-11-12T16:48:55.731Z"
   },
   {
    "duration": 10,
    "start_time": "2022-11-12T16:48:55.745Z"
   },
   {
    "duration": 9,
    "start_time": "2022-11-12T16:48:55.756Z"
   },
   {
    "duration": 54,
    "start_time": "2022-11-12T16:48:55.766Z"
   },
   {
    "duration": 18,
    "start_time": "2022-11-12T16:48:55.821Z"
   },
   {
    "duration": 18,
    "start_time": "2022-11-12T16:48:55.841Z"
   },
   {
    "duration": 45,
    "start_time": "2022-11-12T16:48:55.860Z"
   },
   {
    "duration": 13,
    "start_time": "2022-11-12T16:48:55.906Z"
   },
   {
    "duration": 13,
    "start_time": "2022-11-12T16:48:55.920Z"
   },
   {
    "duration": 1261,
    "start_time": "2022-11-13T13:30:30.185Z"
   },
   {
    "duration": 3,
    "start_time": "2022-11-13T13:30:31.448Z"
   },
   {
    "duration": 22,
    "start_time": "2022-11-13T13:30:31.452Z"
   },
   {
    "duration": 37,
    "start_time": "2022-11-13T13:30:31.476Z"
   },
   {
    "duration": 19,
    "start_time": "2022-11-13T13:30:31.515Z"
   },
   {
    "duration": 20,
    "start_time": "2022-11-13T13:30:31.536Z"
   },
   {
    "duration": 21,
    "start_time": "2022-11-13T13:30:31.558Z"
   },
   {
    "duration": 28,
    "start_time": "2022-11-13T13:30:31.581Z"
   },
   {
    "duration": 46,
    "start_time": "2022-11-13T13:30:31.610Z"
   },
   {
    "duration": 21,
    "start_time": "2022-11-13T13:30:31.659Z"
   },
   {
    "duration": 31,
    "start_time": "2022-11-13T13:30:31.683Z"
   },
   {
    "duration": 33,
    "start_time": "2022-11-13T13:30:31.716Z"
   },
   {
    "duration": 37,
    "start_time": "2022-11-13T13:30:31.750Z"
   },
   {
    "duration": 22,
    "start_time": "2022-11-13T13:30:31.788Z"
   },
   {
    "duration": 29,
    "start_time": "2022-11-13T13:30:31.812Z"
   },
   {
    "duration": 11,
    "start_time": "2022-11-13T13:30:31.843Z"
   },
   {
    "duration": 39,
    "start_time": "2022-11-13T13:30:31.856Z"
   },
   {
    "duration": 12,
    "start_time": "2022-11-13T13:30:31.896Z"
   },
   {
    "duration": 15,
    "start_time": "2022-11-13T13:30:31.910Z"
   },
   {
    "duration": 43,
    "start_time": "2022-11-13T13:30:31.927Z"
   },
   {
    "duration": 33,
    "start_time": "2022-11-13T13:30:31.971Z"
   },
   {
    "duration": 15,
    "start_time": "2022-11-13T13:30:32.005Z"
   },
   {
    "duration": 33,
    "start_time": "2022-11-13T13:30:32.021Z"
   },
   {
    "duration": 22,
    "start_time": "2022-11-13T13:30:32.056Z"
   },
   {
    "duration": 31,
    "start_time": "2022-11-13T13:30:32.079Z"
   },
   {
    "duration": 22,
    "start_time": "2022-11-13T13:30:32.111Z"
   },
   {
    "duration": 154,
    "start_time": "2022-11-13T13:30:32.135Z"
   },
   {
    "duration": 10,
    "start_time": "2022-11-13T13:30:32.293Z"
   },
   {
    "duration": 11,
    "start_time": "2022-11-13T13:30:32.304Z"
   },
   {
    "duration": 20,
    "start_time": "2022-11-13T13:30:32.316Z"
   },
   {
    "duration": 21,
    "start_time": "2022-11-13T13:30:32.338Z"
   },
   {
    "duration": 207,
    "start_time": "2022-11-13T13:30:32.360Z"
   },
   {
    "duration": 25,
    "start_time": "2022-11-13T13:30:32.568Z"
   },
   {
    "duration": 352,
    "start_time": "2022-11-13T13:30:32.595Z"
   },
   {
    "duration": 27,
    "start_time": "2022-11-13T13:30:32.949Z"
   },
   {
    "duration": 12,
    "start_time": "2022-11-13T13:30:32.977Z"
   },
   {
    "duration": 22,
    "start_time": "2022-11-13T13:30:32.991Z"
   },
   {
    "duration": 7,
    "start_time": "2022-11-13T13:30:33.015Z"
   },
   {
    "duration": 35,
    "start_time": "2022-11-13T13:30:33.024Z"
   },
   {
    "duration": 11,
    "start_time": "2022-11-13T13:30:33.061Z"
   },
   {
    "duration": 20,
    "start_time": "2022-11-13T13:30:33.073Z"
   },
   {
    "duration": 21,
    "start_time": "2022-11-13T13:30:33.094Z"
   },
   {
    "duration": 315,
    "start_time": "2022-11-13T13:30:33.117Z"
   },
   {
    "duration": 371,
    "start_time": "2022-11-13T13:30:33.434Z"
   },
   {
    "duration": 419,
    "start_time": "2022-11-13T13:30:33.807Z"
   },
   {
    "duration": 288,
    "start_time": "2022-11-13T13:30:34.228Z"
   },
   {
    "duration": 350,
    "start_time": "2022-11-13T13:30:34.518Z"
   },
   {
    "duration": 307,
    "start_time": "2022-11-13T13:30:34.870Z"
   },
   {
    "duration": 311,
    "start_time": "2022-11-13T13:30:35.179Z"
   },
   {
    "duration": 170,
    "start_time": "2022-11-13T13:30:35.492Z"
   },
   {
    "duration": 170,
    "start_time": "2022-11-13T13:30:35.663Z"
   },
   {
    "duration": 216,
    "start_time": "2022-11-13T13:30:35.835Z"
   },
   {
    "duration": 117,
    "start_time": "2022-11-13T13:30:36.058Z"
   },
   {
    "duration": 2,
    "start_time": "2022-11-13T13:30:36.177Z"
   },
   {
    "duration": 8,
    "start_time": "2022-11-13T13:30:36.180Z"
   },
   {
    "duration": 13,
    "start_time": "2022-11-13T13:30:36.189Z"
   },
   {
    "duration": 4,
    "start_time": "2022-11-13T13:30:36.203Z"
   },
   {
    "duration": 137,
    "start_time": "2022-11-13T13:30:36.208Z"
   },
   {
    "duration": 23,
    "start_time": "2022-11-13T13:30:36.347Z"
   },
   {
    "duration": 21,
    "start_time": "2022-11-13T13:30:36.372Z"
   },
   {
    "duration": 9,
    "start_time": "2022-11-13T13:30:36.395Z"
   },
   {
    "duration": 8,
    "start_time": "2022-11-13T13:30:36.405Z"
   },
   {
    "duration": 9,
    "start_time": "2022-11-13T13:30:36.415Z"
   },
   {
    "duration": 38,
    "start_time": "2022-11-13T13:30:36.426Z"
   },
   {
    "duration": 6,
    "start_time": "2022-11-13T13:30:36.466Z"
   },
   {
    "duration": 21,
    "start_time": "2022-11-13T13:30:36.473Z"
   },
   {
    "duration": 17,
    "start_time": "2022-11-13T13:30:36.495Z"
   },
   {
    "duration": 46,
    "start_time": "2022-11-13T13:30:36.514Z"
   },
   {
    "duration": 18,
    "start_time": "2022-11-13T13:30:36.561Z"
   },
   {
    "duration": 11,
    "start_time": "2022-11-13T13:30:36.580Z"
   },
   {
    "duration": 11,
    "start_time": "2022-11-13T13:30:36.592Z"
   },
   {
    "duration": 1425,
    "start_time": "2022-11-13T13:46:34.477Z"
   },
   {
    "duration": 3,
    "start_time": "2022-11-13T13:46:35.904Z"
   },
   {
    "duration": 8,
    "start_time": "2022-11-13T13:46:35.909Z"
   },
   {
    "duration": 3,
    "start_time": "2022-11-13T13:46:35.919Z"
   },
   {
    "duration": 9,
    "start_time": "2022-11-13T13:46:35.924Z"
   },
   {
    "duration": 27,
    "start_time": "2022-11-13T13:46:35.935Z"
   },
   {
    "duration": 5,
    "start_time": "2022-11-13T13:46:35.963Z"
   },
   {
    "duration": 7,
    "start_time": "2022-11-13T13:46:35.969Z"
   },
   {
    "duration": 16,
    "start_time": "2022-11-13T13:46:35.977Z"
   },
   {
    "duration": 3,
    "start_time": "2022-11-13T13:46:35.995Z"
   },
   {
    "duration": 13,
    "start_time": "2022-11-13T13:46:35.999Z"
   },
   {
    "duration": 6,
    "start_time": "2022-11-13T13:46:36.013Z"
   },
   {
    "duration": 6,
    "start_time": "2022-11-13T13:46:36.021Z"
   },
   {
    "duration": 7,
    "start_time": "2022-11-13T13:46:36.029Z"
   },
   {
    "duration": 31,
    "start_time": "2022-11-13T13:46:36.037Z"
   },
   {
    "duration": 7,
    "start_time": "2022-11-13T13:46:36.069Z"
   },
   {
    "duration": 12,
    "start_time": "2022-11-13T13:46:36.078Z"
   },
   {
    "duration": 21,
    "start_time": "2022-11-13T13:46:36.092Z"
   },
   {
    "duration": 12,
    "start_time": "2022-11-13T13:46:36.115Z"
   },
   {
    "duration": 36,
    "start_time": "2022-11-13T13:46:36.129Z"
   },
   {
    "duration": 17,
    "start_time": "2022-11-13T13:46:36.167Z"
   },
   {
    "duration": 11,
    "start_time": "2022-11-13T13:46:36.186Z"
   },
   {
    "duration": 18,
    "start_time": "2022-11-13T13:46:36.198Z"
   },
   {
    "duration": 10,
    "start_time": "2022-11-13T13:46:36.218Z"
   },
   {
    "duration": 39,
    "start_time": "2022-11-13T13:46:36.230Z"
   },
   {
    "duration": 8,
    "start_time": "2022-11-13T13:46:36.271Z"
   },
   {
    "duration": 141,
    "start_time": "2022-11-13T13:46:36.281Z"
   },
   {
    "duration": 9,
    "start_time": "2022-11-13T13:46:36.426Z"
   },
   {
    "duration": 22,
    "start_time": "2022-11-13T13:46:36.437Z"
   },
   {
    "duration": 9,
    "start_time": "2022-11-13T13:46:36.461Z"
   },
   {
    "duration": 4,
    "start_time": "2022-11-13T13:46:36.471Z"
   },
   {
    "duration": 197,
    "start_time": "2022-11-13T13:46:36.476Z"
   },
   {
    "duration": 24,
    "start_time": "2022-11-13T13:46:36.674Z"
   },
   {
    "duration": 372,
    "start_time": "2022-11-13T13:46:36.699Z"
   },
   {
    "duration": 20,
    "start_time": "2022-11-13T13:46:37.073Z"
   },
   {
    "duration": 6,
    "start_time": "2022-11-13T13:46:37.095Z"
   },
   {
    "duration": 22,
    "start_time": "2022-11-13T13:46:37.103Z"
   },
   {
    "duration": 32,
    "start_time": "2022-11-13T13:46:37.127Z"
   },
   {
    "duration": 22,
    "start_time": "2022-11-13T13:46:37.160Z"
   },
   {
    "duration": 12,
    "start_time": "2022-11-13T13:46:37.183Z"
   },
   {
    "duration": 21,
    "start_time": "2022-11-13T13:46:37.196Z"
   },
   {
    "duration": 19,
    "start_time": "2022-11-13T13:46:37.219Z"
   },
   {
    "duration": 302,
    "start_time": "2022-11-13T13:46:37.259Z"
   },
   {
    "duration": 360,
    "start_time": "2022-11-13T13:46:37.562Z"
   },
   {
    "duration": 435,
    "start_time": "2022-11-13T13:46:37.924Z"
   },
   {
    "duration": 287,
    "start_time": "2022-11-13T13:46:38.360Z"
   },
   {
    "duration": 337,
    "start_time": "2022-11-13T13:46:38.648Z"
   },
   {
    "duration": 275,
    "start_time": "2022-11-13T13:46:38.987Z"
   },
   {
    "duration": 276,
    "start_time": "2022-11-13T13:46:39.263Z"
   },
   {
    "duration": 172,
    "start_time": "2022-11-13T13:46:39.541Z"
   },
   {
    "duration": 166,
    "start_time": "2022-11-13T13:46:39.714Z"
   },
   {
    "duration": 241,
    "start_time": "2022-11-13T13:46:39.882Z"
   },
   {
    "duration": 121,
    "start_time": "2022-11-13T13:46:40.125Z"
   },
   {
    "duration": 12,
    "start_time": "2022-11-13T13:46:40.247Z"
   },
   {
    "duration": 4,
    "start_time": "2022-11-13T13:46:40.260Z"
   },
   {
    "duration": 14,
    "start_time": "2022-11-13T13:46:40.266Z"
   },
   {
    "duration": 5,
    "start_time": "2022-11-13T13:46:40.281Z"
   },
   {
    "duration": 163,
    "start_time": "2022-11-13T13:46:40.288Z"
   },
   {
    "duration": 18,
    "start_time": "2022-11-13T13:46:40.453Z"
   },
   {
    "duration": 22,
    "start_time": "2022-11-13T13:46:40.472Z"
   },
   {
    "duration": 10,
    "start_time": "2022-11-13T13:46:40.496Z"
   },
   {
    "duration": 8,
    "start_time": "2022-11-13T13:46:40.507Z"
   },
   {
    "duration": 43,
    "start_time": "2022-11-13T13:46:40.516Z"
   },
   {
    "duration": 9,
    "start_time": "2022-11-13T13:46:40.561Z"
   },
   {
    "duration": 7,
    "start_time": "2022-11-13T13:46:40.571Z"
   },
   {
    "duration": 31,
    "start_time": "2022-11-13T13:46:40.579Z"
   },
   {
    "duration": 18,
    "start_time": "2022-11-13T13:46:40.612Z"
   },
   {
    "duration": 38,
    "start_time": "2022-11-13T13:46:40.631Z"
   },
   {
    "duration": 16,
    "start_time": "2022-11-13T13:46:40.671Z"
   },
   {
    "duration": 11,
    "start_time": "2022-11-13T13:46:40.689Z"
   },
   {
    "duration": 8,
    "start_time": "2022-11-13T13:46:40.702Z"
   },
   {
    "duration": 74,
    "start_time": "2022-11-13T14:01:28.123Z"
   },
   {
    "duration": 4,
    "start_time": "2022-11-13T14:01:28.199Z"
   },
   {
    "duration": 7,
    "start_time": "2022-11-13T14:01:28.204Z"
   },
   {
    "duration": 6,
    "start_time": "2022-11-13T14:01:28.213Z"
   },
   {
    "duration": 7,
    "start_time": "2022-11-13T14:01:28.221Z"
   },
   {
    "duration": 7,
    "start_time": "2022-11-13T14:01:28.259Z"
   },
   {
    "duration": 6,
    "start_time": "2022-11-13T14:01:28.267Z"
   },
   {
    "duration": 6,
    "start_time": "2022-11-13T14:01:28.274Z"
   },
   {
    "duration": 14,
    "start_time": "2022-11-13T14:01:28.281Z"
   },
   {
    "duration": 3,
    "start_time": "2022-11-13T14:01:28.297Z"
   },
   {
    "duration": 9,
    "start_time": "2022-11-13T14:01:28.301Z"
   },
   {
    "duration": 8,
    "start_time": "2022-11-13T14:01:28.311Z"
   },
   {
    "duration": 45,
    "start_time": "2022-11-13T14:01:28.320Z"
   },
   {
    "duration": 11,
    "start_time": "2022-11-13T14:01:28.367Z"
   },
   {
    "duration": 21,
    "start_time": "2022-11-13T14:01:28.380Z"
   },
   {
    "duration": 10,
    "start_time": "2022-11-13T14:01:28.403Z"
   },
   {
    "duration": 15,
    "start_time": "2022-11-13T14:01:28.415Z"
   },
   {
    "duration": 12,
    "start_time": "2022-11-13T14:01:28.458Z"
   },
   {
    "duration": 11,
    "start_time": "2022-11-13T14:01:28.472Z"
   },
   {
    "duration": 14,
    "start_time": "2022-11-13T14:01:28.485Z"
   },
   {
    "duration": 17,
    "start_time": "2022-11-13T14:01:28.500Z"
   },
   {
    "duration": 42,
    "start_time": "2022-11-13T14:01:28.518Z"
   },
   {
    "duration": 27,
    "start_time": "2022-11-13T14:01:28.562Z"
   },
   {
    "duration": 13,
    "start_time": "2022-11-13T14:01:28.591Z"
   },
   {
    "duration": 15,
    "start_time": "2022-11-13T14:01:28.606Z"
   },
   {
    "duration": 36,
    "start_time": "2022-11-13T14:01:28.623Z"
   },
   {
    "duration": 150,
    "start_time": "2022-11-13T14:01:28.660Z"
   },
   {
    "duration": 11,
    "start_time": "2022-11-13T14:01:28.813Z"
   },
   {
    "duration": 10,
    "start_time": "2022-11-13T14:01:28.825Z"
   },
   {
    "duration": 26,
    "start_time": "2022-11-13T14:01:28.836Z"
   },
   {
    "duration": 6,
    "start_time": "2022-11-13T14:01:28.863Z"
   },
   {
    "duration": 212,
    "start_time": "2022-11-13T14:01:28.870Z"
   },
   {
    "duration": 26,
    "start_time": "2022-11-13T14:01:29.083Z"
   },
   {
    "duration": 370,
    "start_time": "2022-11-13T14:01:29.111Z"
   },
   {
    "duration": 21,
    "start_time": "2022-11-13T14:01:29.482Z"
   },
   {
    "duration": 5,
    "start_time": "2022-11-13T14:01:29.505Z"
   },
   {
    "duration": 28,
    "start_time": "2022-11-13T14:01:29.512Z"
   },
   {
    "duration": 7,
    "start_time": "2022-11-13T14:01:29.560Z"
   },
   {
    "duration": 26,
    "start_time": "2022-11-13T14:01:29.569Z"
   },
   {
    "duration": 14,
    "start_time": "2022-11-13T14:01:29.597Z"
   },
   {
    "duration": 21,
    "start_time": "2022-11-13T14:01:29.613Z"
   },
   {
    "duration": 45,
    "start_time": "2022-11-13T14:01:29.636Z"
   },
   {
    "duration": 323,
    "start_time": "2022-11-13T14:01:29.683Z"
   },
   {
    "duration": 391,
    "start_time": "2022-11-13T14:01:30.008Z"
   },
   {
    "duration": 358,
    "start_time": "2022-11-13T14:01:30.401Z"
   },
   {
    "duration": 416,
    "start_time": "2022-11-13T14:01:30.760Z"
   },
   {
    "duration": 288,
    "start_time": "2022-11-13T14:01:31.177Z"
   },
   {
    "duration": 294,
    "start_time": "2022-11-13T14:01:31.467Z"
   },
   {
    "duration": 298,
    "start_time": "2022-11-13T14:01:31.763Z"
   },
   {
    "duration": 167,
    "start_time": "2022-11-13T14:01:32.062Z"
   },
   {
    "duration": 184,
    "start_time": "2022-11-13T14:01:32.231Z"
   },
   {
    "duration": 148,
    "start_time": "2022-11-13T14:01:32.416Z"
   },
   {
    "duration": 141,
    "start_time": "2022-11-13T14:01:32.566Z"
   },
   {
    "duration": 2,
    "start_time": "2022-11-13T14:01:32.709Z"
   },
   {
    "duration": 15,
    "start_time": "2022-11-13T14:01:32.713Z"
   },
   {
    "duration": 21,
    "start_time": "2022-11-13T14:01:32.729Z"
   },
   {
    "duration": 19,
    "start_time": "2022-11-13T14:01:32.752Z"
   },
   {
    "duration": 133,
    "start_time": "2022-11-13T14:01:32.773Z"
   },
   {
    "duration": 14,
    "start_time": "2022-11-13T14:01:32.907Z"
   },
   {
    "duration": 175,
    "start_time": "2022-11-13T14:01:32.923Z"
   },
   {
    "duration": 12,
    "start_time": "2022-11-13T14:01:33.100Z"
   },
   {
    "duration": 34,
    "start_time": "2022-11-13T14:01:33.113Z"
   },
   {
    "duration": 22,
    "start_time": "2022-11-13T14:01:33.148Z"
   },
   {
    "duration": 19,
    "start_time": "2022-11-13T14:01:33.171Z"
   },
   {
    "duration": 22,
    "start_time": "2022-11-13T14:01:33.192Z"
   },
   {
    "duration": 28,
    "start_time": "2022-11-13T14:01:33.216Z"
   },
   {
    "duration": 19,
    "start_time": "2022-11-13T14:01:33.246Z"
   },
   {
    "duration": 32,
    "start_time": "2022-11-13T14:01:33.267Z"
   },
   {
    "duration": 25,
    "start_time": "2022-11-13T14:01:33.300Z"
   },
   {
    "duration": 15,
    "start_time": "2022-11-13T14:01:33.327Z"
   },
   {
    "duration": 20,
    "start_time": "2022-11-13T14:01:33.344Z"
   },
   {
    "duration": 50,
    "start_time": "2022-11-13T16:07:19.799Z"
   },
   {
    "duration": 56,
    "start_time": "2022-11-13T16:07:32.500Z"
   },
   {
    "duration": 47,
    "start_time": "2022-11-13T16:07:45.870Z"
   },
   {
    "duration": 98,
    "start_time": "2022-11-13T16:08:17.814Z"
   },
   {
    "duration": 1335,
    "start_time": "2022-11-13T16:50:11.875Z"
   },
   {
    "duration": 230,
    "start_time": "2022-11-13T16:50:19.623Z"
   },
   {
    "duration": 91,
    "start_time": "2022-11-13T16:50:47.082Z"
   },
   {
    "duration": 29,
    "start_time": "2022-11-13T16:50:50.198Z"
   },
   {
    "duration": 4,
    "start_time": "2022-11-13T16:52:43.964Z"
   },
   {
    "duration": 4,
    "start_time": "2022-11-13T16:53:03.593Z"
   },
   {
    "duration": 4,
    "start_time": "2022-11-13T16:54:36.925Z"
   },
   {
    "duration": 4,
    "start_time": "2022-11-13T16:56:15.821Z"
   },
   {
    "duration": 3,
    "start_time": "2022-11-13T16:57:02.599Z"
   },
   {
    "duration": 843,
    "start_time": "2022-11-13T16:58:15.932Z"
   },
   {
    "duration": 6,
    "start_time": "2022-11-13T16:58:24.189Z"
   },
   {
    "duration": 3,
    "start_time": "2022-11-13T17:33:31.472Z"
   },
   {
    "duration": 709,
    "start_time": "2022-11-13T17:33:49.905Z"
   },
   {
    "duration": 13,
    "start_time": "2022-11-13T17:34:56.744Z"
   },
   {
    "duration": 1159,
    "start_time": "2022-11-13T17:35:21.418Z"
   },
   {
    "duration": 78,
    "start_time": "2022-11-13T17:35:22.579Z"
   },
   {
    "duration": 24,
    "start_time": "2022-11-13T17:35:22.659Z"
   },
   {
    "duration": 3,
    "start_time": "2022-11-13T17:35:22.685Z"
   },
   {
    "duration": 30,
    "start_time": "2022-11-13T17:35:22.690Z"
   },
   {
    "duration": 3,
    "start_time": "2022-11-13T17:35:22.722Z"
   },
   {
    "duration": 903,
    "start_time": "2022-11-13T17:35:22.727Z"
   },
   {
    "duration": 0,
    "start_time": "2022-11-13T17:35:23.634Z"
   },
   {
    "duration": 0,
    "start_time": "2022-11-13T17:35:23.635Z"
   },
   {
    "duration": 0,
    "start_time": "2022-11-13T17:35:23.636Z"
   },
   {
    "duration": 0,
    "start_time": "2022-11-13T17:35:23.637Z"
   },
   {
    "duration": 0,
    "start_time": "2022-11-13T17:35:23.639Z"
   },
   {
    "duration": 0,
    "start_time": "2022-11-13T17:35:23.640Z"
   },
   {
    "duration": 0,
    "start_time": "2022-11-13T17:35:23.641Z"
   },
   {
    "duration": 0,
    "start_time": "2022-11-13T17:35:23.643Z"
   },
   {
    "duration": 0,
    "start_time": "2022-11-13T17:35:23.643Z"
   },
   {
    "duration": 0,
    "start_time": "2022-11-13T17:35:23.645Z"
   },
   {
    "duration": 0,
    "start_time": "2022-11-13T17:35:23.647Z"
   },
   {
    "duration": 0,
    "start_time": "2022-11-13T17:35:23.648Z"
   },
   {
    "duration": 0,
    "start_time": "2022-11-13T17:35:23.649Z"
   },
   {
    "duration": 0,
    "start_time": "2022-11-13T17:35:23.650Z"
   },
   {
    "duration": 0,
    "start_time": "2022-11-13T17:35:23.651Z"
   },
   {
    "duration": 0,
    "start_time": "2022-11-13T17:35:23.652Z"
   },
   {
    "duration": 0,
    "start_time": "2022-11-13T17:35:23.653Z"
   },
   {
    "duration": 0,
    "start_time": "2022-11-13T17:35:23.654Z"
   },
   {
    "duration": 0,
    "start_time": "2022-11-13T17:35:23.655Z"
   },
   {
    "duration": 0,
    "start_time": "2022-11-13T17:35:23.656Z"
   },
   {
    "duration": 0,
    "start_time": "2022-11-13T17:35:23.657Z"
   },
   {
    "duration": 0,
    "start_time": "2022-11-13T17:35:23.658Z"
   },
   {
    "duration": 0,
    "start_time": "2022-11-13T17:35:23.659Z"
   },
   {
    "duration": 0,
    "start_time": "2022-11-13T17:35:23.660Z"
   },
   {
    "duration": 0,
    "start_time": "2022-11-13T17:35:23.662Z"
   },
   {
    "duration": 0,
    "start_time": "2022-11-13T17:35:23.663Z"
   },
   {
    "duration": 0,
    "start_time": "2022-11-13T17:35:23.664Z"
   },
   {
    "duration": 0,
    "start_time": "2022-11-13T17:35:23.665Z"
   },
   {
    "duration": 0,
    "start_time": "2022-11-13T17:35:23.666Z"
   },
   {
    "duration": 0,
    "start_time": "2022-11-13T17:35:23.667Z"
   },
   {
    "duration": 0,
    "start_time": "2022-11-13T17:35:23.668Z"
   },
   {
    "duration": 0,
    "start_time": "2022-11-13T17:35:23.669Z"
   },
   {
    "duration": 0,
    "start_time": "2022-11-13T17:35:23.719Z"
   },
   {
    "duration": 0,
    "start_time": "2022-11-13T17:35:23.720Z"
   },
   {
    "duration": 0,
    "start_time": "2022-11-13T17:35:23.721Z"
   },
   {
    "duration": 0,
    "start_time": "2022-11-13T17:35:23.723Z"
   },
   {
    "duration": 0,
    "start_time": "2022-11-13T17:35:23.724Z"
   },
   {
    "duration": 0,
    "start_time": "2022-11-13T17:35:23.725Z"
   },
   {
    "duration": 0,
    "start_time": "2022-11-13T17:35:23.726Z"
   },
   {
    "duration": 0,
    "start_time": "2022-11-13T17:35:23.727Z"
   },
   {
    "duration": 0,
    "start_time": "2022-11-13T17:35:23.728Z"
   },
   {
    "duration": 0,
    "start_time": "2022-11-13T17:35:23.729Z"
   },
   {
    "duration": 0,
    "start_time": "2022-11-13T17:35:23.730Z"
   },
   {
    "duration": 0,
    "start_time": "2022-11-13T17:35:23.731Z"
   },
   {
    "duration": 0,
    "start_time": "2022-11-13T17:35:23.732Z"
   },
   {
    "duration": 0,
    "start_time": "2022-11-13T17:35:23.734Z"
   },
   {
    "duration": 0,
    "start_time": "2022-11-13T17:35:23.735Z"
   },
   {
    "duration": 0,
    "start_time": "2022-11-13T17:35:23.737Z"
   },
   {
    "duration": 0,
    "start_time": "2022-11-13T17:35:23.738Z"
   },
   {
    "duration": 0,
    "start_time": "2022-11-13T17:35:23.739Z"
   },
   {
    "duration": 0,
    "start_time": "2022-11-13T17:35:23.740Z"
   },
   {
    "duration": 0,
    "start_time": "2022-11-13T17:35:23.741Z"
   },
   {
    "duration": 0,
    "start_time": "2022-11-13T17:35:23.742Z"
   },
   {
    "duration": 0,
    "start_time": "2022-11-13T17:35:23.743Z"
   },
   {
    "duration": 0,
    "start_time": "2022-11-13T17:35:23.743Z"
   },
   {
    "duration": 0,
    "start_time": "2022-11-13T17:35:23.744Z"
   },
   {
    "duration": 0,
    "start_time": "2022-11-13T17:35:23.746Z"
   },
   {
    "duration": 0,
    "start_time": "2022-11-13T17:35:23.747Z"
   },
   {
    "duration": 0,
    "start_time": "2022-11-13T17:35:23.748Z"
   },
   {
    "duration": 0,
    "start_time": "2022-11-13T17:35:23.749Z"
   },
   {
    "duration": 0,
    "start_time": "2022-11-13T17:35:23.750Z"
   },
   {
    "duration": 0,
    "start_time": "2022-11-13T17:35:23.751Z"
   },
   {
    "duration": 0,
    "start_time": "2022-11-13T17:35:23.752Z"
   },
   {
    "duration": 0,
    "start_time": "2022-11-13T17:35:23.753Z"
   },
   {
    "duration": 0,
    "start_time": "2022-11-13T17:35:23.754Z"
   },
   {
    "duration": 0,
    "start_time": "2022-11-13T17:35:23.755Z"
   },
   {
    "duration": 0,
    "start_time": "2022-11-13T17:35:23.756Z"
   },
   {
    "duration": 3,
    "start_time": "2022-11-13T17:36:51.595Z"
   },
   {
    "duration": 3,
    "start_time": "2022-11-13T17:37:02.980Z"
   },
   {
    "duration": 4,
    "start_time": "2022-11-13T17:37:06.930Z"
   },
   {
    "duration": 1170,
    "start_time": "2022-11-13T17:37:19.670Z"
   },
   {
    "duration": 67,
    "start_time": "2022-11-13T17:37:20.842Z"
   },
   {
    "duration": 28,
    "start_time": "2022-11-13T17:37:20.911Z"
   },
   {
    "duration": 5,
    "start_time": "2022-11-13T17:37:20.941Z"
   },
   {
    "duration": 9,
    "start_time": "2022-11-13T17:37:20.948Z"
   },
   {
    "duration": 16,
    "start_time": "2022-11-13T17:37:20.959Z"
   },
   {
    "duration": 12,
    "start_time": "2022-11-13T17:37:20.977Z"
   },
   {
    "duration": 19,
    "start_time": "2022-11-13T17:37:20.991Z"
   },
   {
    "duration": 28,
    "start_time": "2022-11-13T17:37:21.012Z"
   },
   {
    "duration": 6,
    "start_time": "2022-11-13T17:37:21.043Z"
   },
   {
    "duration": 20,
    "start_time": "2022-11-13T17:37:21.051Z"
   },
   {
    "duration": 22,
    "start_time": "2022-11-13T17:37:21.073Z"
   },
   {
    "duration": 17,
    "start_time": "2022-11-13T17:37:21.096Z"
   },
   {
    "duration": 15,
    "start_time": "2022-11-13T17:37:21.115Z"
   },
   {
    "duration": 14,
    "start_time": "2022-11-13T17:37:21.131Z"
   },
   {
    "duration": 22,
    "start_time": "2022-11-13T17:37:21.147Z"
   },
   {
    "duration": 31,
    "start_time": "2022-11-13T17:37:21.170Z"
   },
   {
    "duration": 32,
    "start_time": "2022-11-13T17:37:21.203Z"
   },
   {
    "duration": 23,
    "start_time": "2022-11-13T17:37:21.236Z"
   },
   {
    "duration": 13,
    "start_time": "2022-11-13T17:37:21.261Z"
   },
   {
    "duration": 15,
    "start_time": "2022-11-13T17:37:21.276Z"
   },
   {
    "duration": 14,
    "start_time": "2022-11-13T17:37:21.293Z"
   },
   {
    "duration": 14,
    "start_time": "2022-11-13T17:37:21.309Z"
   },
   {
    "duration": 11,
    "start_time": "2022-11-13T17:37:21.325Z"
   },
   {
    "duration": 15,
    "start_time": "2022-11-13T17:37:21.338Z"
   },
   {
    "duration": 5,
    "start_time": "2022-11-13T17:37:21.355Z"
   },
   {
    "duration": 9,
    "start_time": "2022-11-13T17:37:21.362Z"
   },
   {
    "duration": 4,
    "start_time": "2022-11-13T17:37:21.374Z"
   },
   {
    "duration": 26,
    "start_time": "2022-11-13T17:37:21.379Z"
   },
   {
    "duration": 17,
    "start_time": "2022-11-13T17:37:21.407Z"
   },
   {
    "duration": 156,
    "start_time": "2022-11-13T17:37:21.426Z"
   },
   {
    "duration": 10,
    "start_time": "2022-11-13T17:37:21.584Z"
   },
   {
    "duration": 28,
    "start_time": "2022-11-13T17:37:21.596Z"
   },
   {
    "duration": 12,
    "start_time": "2022-11-13T17:37:21.626Z"
   },
   {
    "duration": 9,
    "start_time": "2022-11-13T17:37:21.639Z"
   },
   {
    "duration": 222,
    "start_time": "2022-11-13T17:37:21.649Z"
   },
   {
    "duration": 30,
    "start_time": "2022-11-13T17:37:21.873Z"
   },
   {
    "duration": 415,
    "start_time": "2022-11-13T17:37:21.904Z"
   },
   {
    "duration": 23,
    "start_time": "2022-11-13T17:37:22.321Z"
   },
   {
    "duration": 26,
    "start_time": "2022-11-13T17:37:22.346Z"
   },
   {
    "duration": 38,
    "start_time": "2022-11-13T17:37:22.374Z"
   },
   {
    "duration": 40,
    "start_time": "2022-11-13T17:37:22.414Z"
   },
   {
    "duration": 60,
    "start_time": "2022-11-13T17:37:22.456Z"
   },
   {
    "duration": 37,
    "start_time": "2022-11-13T17:37:22.518Z"
   },
   {
    "duration": 48,
    "start_time": "2022-11-13T17:37:22.556Z"
   },
   {
    "duration": 36,
    "start_time": "2022-11-13T17:37:22.605Z"
   },
   {
    "duration": 360,
    "start_time": "2022-11-13T17:37:22.642Z"
   },
   {
    "duration": 388,
    "start_time": "2022-11-13T17:37:23.004Z"
   },
   {
    "duration": 387,
    "start_time": "2022-11-13T17:37:23.394Z"
   },
   {
    "duration": 378,
    "start_time": "2022-11-13T17:37:23.784Z"
   },
   {
    "duration": 319,
    "start_time": "2022-11-13T17:37:24.163Z"
   },
   {
    "duration": 324,
    "start_time": "2022-11-13T17:37:24.485Z"
   },
   {
    "duration": 332,
    "start_time": "2022-11-13T17:37:24.811Z"
   },
   {
    "duration": 176,
    "start_time": "2022-11-13T17:37:25.145Z"
   },
   {
    "duration": 198,
    "start_time": "2022-11-13T17:37:25.323Z"
   },
   {
    "duration": 160,
    "start_time": "2022-11-13T17:37:25.523Z"
   },
   {
    "duration": 237,
    "start_time": "2022-11-13T17:37:25.685Z"
   },
   {
    "duration": 2,
    "start_time": "2022-11-13T17:37:25.924Z"
   },
   {
    "duration": 12,
    "start_time": "2022-11-13T17:37:25.928Z"
   },
   {
    "duration": 34,
    "start_time": "2022-11-13T17:37:25.941Z"
   },
   {
    "duration": 110,
    "start_time": "2022-11-13T17:37:25.977Z"
   },
   {
    "duration": 0,
    "start_time": "2022-11-13T17:37:26.089Z"
   },
   {
    "duration": 0,
    "start_time": "2022-11-13T17:37:26.090Z"
   },
   {
    "duration": 0,
    "start_time": "2022-11-13T17:37:26.091Z"
   },
   {
    "duration": 0,
    "start_time": "2022-11-13T17:37:26.092Z"
   },
   {
    "duration": 0,
    "start_time": "2022-11-13T17:37:26.093Z"
   },
   {
    "duration": 0,
    "start_time": "2022-11-13T17:37:26.094Z"
   },
   {
    "duration": 0,
    "start_time": "2022-11-13T17:37:26.095Z"
   },
   {
    "duration": 0,
    "start_time": "2022-11-13T17:37:26.096Z"
   },
   {
    "duration": 0,
    "start_time": "2022-11-13T17:37:26.097Z"
   },
   {
    "duration": 0,
    "start_time": "2022-11-13T17:37:26.119Z"
   },
   {
    "duration": 0,
    "start_time": "2022-11-13T17:37:26.121Z"
   },
   {
    "duration": 0,
    "start_time": "2022-11-13T17:37:26.122Z"
   },
   {
    "duration": 0,
    "start_time": "2022-11-13T17:37:26.124Z"
   },
   {
    "duration": 0,
    "start_time": "2022-11-13T17:37:26.125Z"
   },
   {
    "duration": 1170,
    "start_time": "2022-11-13T17:39:49.715Z"
   },
   {
    "duration": 61,
    "start_time": "2022-11-13T17:39:50.887Z"
   },
   {
    "duration": 23,
    "start_time": "2022-11-13T17:39:50.950Z"
   },
   {
    "duration": 21,
    "start_time": "2022-11-13T17:39:50.975Z"
   },
   {
    "duration": 14,
    "start_time": "2022-11-13T17:39:50.997Z"
   },
   {
    "duration": 49,
    "start_time": "2022-11-13T17:39:51.013Z"
   },
   {
    "duration": 24,
    "start_time": "2022-11-13T17:39:51.063Z"
   },
   {
    "duration": 24,
    "start_time": "2022-11-13T17:39:51.089Z"
   },
   {
    "duration": 18,
    "start_time": "2022-11-13T17:39:51.114Z"
   },
   {
    "duration": 10,
    "start_time": "2022-11-13T17:39:51.134Z"
   },
   {
    "duration": 8,
    "start_time": "2022-11-13T17:39:51.146Z"
   },
   {
    "duration": 26,
    "start_time": "2022-11-13T17:39:51.155Z"
   },
   {
    "duration": 19,
    "start_time": "2022-11-13T17:39:51.182Z"
   },
   {
    "duration": 13,
    "start_time": "2022-11-13T17:39:51.203Z"
   },
   {
    "duration": 16,
    "start_time": "2022-11-13T17:39:51.218Z"
   },
   {
    "duration": 38,
    "start_time": "2022-11-13T17:39:51.236Z"
   },
   {
    "duration": 40,
    "start_time": "2022-11-13T17:39:51.276Z"
   },
   {
    "duration": 34,
    "start_time": "2022-11-13T17:39:51.318Z"
   },
   {
    "duration": 8,
    "start_time": "2022-11-13T17:39:51.353Z"
   },
   {
    "duration": 12,
    "start_time": "2022-11-13T17:39:51.363Z"
   },
   {
    "duration": 4,
    "start_time": "2022-11-13T17:39:51.376Z"
   },
   {
    "duration": 39,
    "start_time": "2022-11-13T17:39:51.382Z"
   },
   {
    "duration": 10,
    "start_time": "2022-11-13T17:39:51.423Z"
   },
   {
    "duration": 9,
    "start_time": "2022-11-13T17:39:51.435Z"
   },
   {
    "duration": 6,
    "start_time": "2022-11-13T17:39:51.446Z"
   },
   {
    "duration": 6,
    "start_time": "2022-11-13T17:39:51.453Z"
   },
   {
    "duration": 27,
    "start_time": "2022-11-13T17:39:51.460Z"
   },
   {
    "duration": 15,
    "start_time": "2022-11-13T17:39:51.490Z"
   },
   {
    "duration": 13,
    "start_time": "2022-11-13T17:39:51.507Z"
   },
   {
    "duration": 39,
    "start_time": "2022-11-13T17:39:51.522Z"
   },
   {
    "duration": 0,
    "start_time": "2022-11-13T17:39:51.563Z"
   },
   {
    "duration": 0,
    "start_time": "2022-11-13T17:39:51.564Z"
   },
   {
    "duration": 0,
    "start_time": "2022-11-13T17:39:51.564Z"
   },
   {
    "duration": 0,
    "start_time": "2022-11-13T17:39:51.565Z"
   },
   {
    "duration": 0,
    "start_time": "2022-11-13T17:39:51.567Z"
   },
   {
    "duration": 0,
    "start_time": "2022-11-13T17:39:51.568Z"
   },
   {
    "duration": 0,
    "start_time": "2022-11-13T17:39:51.569Z"
   },
   {
    "duration": 0,
    "start_time": "2022-11-13T17:39:51.570Z"
   },
   {
    "duration": 0,
    "start_time": "2022-11-13T17:39:51.571Z"
   },
   {
    "duration": 0,
    "start_time": "2022-11-13T17:39:51.572Z"
   },
   {
    "duration": 0,
    "start_time": "2022-11-13T17:39:51.573Z"
   },
   {
    "duration": 0,
    "start_time": "2022-11-13T17:39:51.574Z"
   },
   {
    "duration": 0,
    "start_time": "2022-11-13T17:39:51.575Z"
   },
   {
    "duration": 0,
    "start_time": "2022-11-13T17:39:51.576Z"
   },
   {
    "duration": 0,
    "start_time": "2022-11-13T17:39:51.577Z"
   },
   {
    "duration": 0,
    "start_time": "2022-11-13T17:39:51.578Z"
   },
   {
    "duration": 0,
    "start_time": "2022-11-13T17:39:51.579Z"
   },
   {
    "duration": 0,
    "start_time": "2022-11-13T17:39:51.581Z"
   },
   {
    "duration": 0,
    "start_time": "2022-11-13T17:39:51.582Z"
   },
   {
    "duration": 0,
    "start_time": "2022-11-13T17:39:51.583Z"
   },
   {
    "duration": 0,
    "start_time": "2022-11-13T17:39:51.584Z"
   },
   {
    "duration": 0,
    "start_time": "2022-11-13T17:39:51.585Z"
   },
   {
    "duration": 0,
    "start_time": "2022-11-13T17:39:51.586Z"
   },
   {
    "duration": 0,
    "start_time": "2022-11-13T17:39:51.587Z"
   },
   {
    "duration": 0,
    "start_time": "2022-11-13T17:39:51.588Z"
   },
   {
    "duration": 0,
    "start_time": "2022-11-13T17:39:51.589Z"
   },
   {
    "duration": 0,
    "start_time": "2022-11-13T17:39:51.590Z"
   },
   {
    "duration": 0,
    "start_time": "2022-11-13T17:39:51.591Z"
   },
   {
    "duration": 0,
    "start_time": "2022-11-13T17:39:51.592Z"
   },
   {
    "duration": 0,
    "start_time": "2022-11-13T17:39:51.593Z"
   },
   {
    "duration": 0,
    "start_time": "2022-11-13T17:39:51.594Z"
   },
   {
    "duration": 0,
    "start_time": "2022-11-13T17:39:51.594Z"
   },
   {
    "duration": 0,
    "start_time": "2022-11-13T17:39:51.595Z"
   },
   {
    "duration": 0,
    "start_time": "2022-11-13T17:39:51.596Z"
   },
   {
    "duration": 0,
    "start_time": "2022-11-13T17:39:51.620Z"
   },
   {
    "duration": 0,
    "start_time": "2022-11-13T17:39:51.621Z"
   },
   {
    "duration": 0,
    "start_time": "2022-11-13T17:39:51.622Z"
   },
   {
    "duration": 0,
    "start_time": "2022-11-13T17:39:51.623Z"
   },
   {
    "duration": 0,
    "start_time": "2022-11-13T17:39:51.624Z"
   },
   {
    "duration": 0,
    "start_time": "2022-11-13T17:39:51.625Z"
   },
   {
    "duration": 0,
    "start_time": "2022-11-13T17:39:51.626Z"
   },
   {
    "duration": 0,
    "start_time": "2022-11-13T17:39:51.626Z"
   },
   {
    "duration": 0,
    "start_time": "2022-11-13T17:39:51.627Z"
   },
   {
    "duration": 0,
    "start_time": "2022-11-13T17:39:51.628Z"
   },
   {
    "duration": 0,
    "start_time": "2022-11-13T17:39:51.630Z"
   },
   {
    "duration": 0,
    "start_time": "2022-11-13T17:39:51.630Z"
   },
   {
    "duration": 0,
    "start_time": "2022-11-13T17:39:51.631Z"
   },
   {
    "duration": 56,
    "start_time": "2022-11-13T17:46:14.939Z"
   },
   {
    "duration": 46,
    "start_time": "2022-11-13T17:46:45.759Z"
   },
   {
    "duration": 1364,
    "start_time": "2022-11-13T17:47:07.564Z"
   },
   {
    "duration": 67,
    "start_time": "2022-11-13T17:47:08.931Z"
   },
   {
    "duration": 33,
    "start_time": "2022-11-13T17:47:09.000Z"
   },
   {
    "duration": 3,
    "start_time": "2022-11-13T17:47:09.035Z"
   },
   {
    "duration": 8,
    "start_time": "2022-11-13T17:47:09.040Z"
   },
   {
    "duration": 5,
    "start_time": "2022-11-13T17:47:09.050Z"
   },
   {
    "duration": 8,
    "start_time": "2022-11-13T17:47:09.057Z"
   },
   {
    "duration": 13,
    "start_time": "2022-11-13T17:47:09.066Z"
   },
   {
    "duration": 17,
    "start_time": "2022-11-13T17:47:09.081Z"
   },
   {
    "duration": 24,
    "start_time": "2022-11-13T17:47:09.100Z"
   },
   {
    "duration": 15,
    "start_time": "2022-11-13T17:47:09.130Z"
   },
   {
    "duration": 18,
    "start_time": "2022-11-13T17:47:09.146Z"
   },
   {
    "duration": 2,
    "start_time": "2022-11-13T17:47:09.166Z"
   },
   {
    "duration": 20,
    "start_time": "2022-11-13T17:47:09.170Z"
   },
   {
    "duration": 16,
    "start_time": "2022-11-13T17:47:09.192Z"
   },
   {
    "duration": 5,
    "start_time": "2022-11-13T17:47:09.220Z"
   },
   {
    "duration": 22,
    "start_time": "2022-11-13T17:47:09.226Z"
   },
   {
    "duration": 17,
    "start_time": "2022-11-13T17:47:09.251Z"
   },
   {
    "duration": 8,
    "start_time": "2022-11-13T17:47:09.269Z"
   },
   {
    "duration": 14,
    "start_time": "2022-11-13T17:47:09.279Z"
   },
   {
    "duration": 19,
    "start_time": "2022-11-13T17:47:09.319Z"
   },
   {
    "duration": 8,
    "start_time": "2022-11-13T17:47:09.339Z"
   },
   {
    "duration": 11,
    "start_time": "2022-11-13T17:47:09.348Z"
   },
   {
    "duration": 11,
    "start_time": "2022-11-13T17:47:09.361Z"
   },
   {
    "duration": 17,
    "start_time": "2022-11-13T17:47:09.373Z"
   },
   {
    "duration": 14,
    "start_time": "2022-11-13T17:47:09.391Z"
   },
   {
    "duration": 8,
    "start_time": "2022-11-13T17:47:09.407Z"
   },
   {
    "duration": 24,
    "start_time": "2022-11-13T17:47:09.419Z"
   },
   {
    "duration": 18,
    "start_time": "2022-11-13T17:47:09.445Z"
   },
   {
    "duration": 12,
    "start_time": "2022-11-13T17:47:09.465Z"
   },
   {
    "duration": 191,
    "start_time": "2022-11-13T17:47:09.479Z"
   },
   {
    "duration": 11,
    "start_time": "2022-11-13T17:47:09.672Z"
   },
   {
    "duration": 37,
    "start_time": "2022-11-13T17:47:09.684Z"
   },
   {
    "duration": 12,
    "start_time": "2022-11-13T17:47:09.723Z"
   },
   {
    "duration": 5,
    "start_time": "2022-11-13T17:47:09.737Z"
   },
   {
    "duration": 236,
    "start_time": "2022-11-13T17:47:09.744Z"
   },
   {
    "duration": 38,
    "start_time": "2022-11-13T17:47:09.982Z"
   },
   {
    "duration": 435,
    "start_time": "2022-11-13T17:47:10.022Z"
   },
   {
    "duration": 23,
    "start_time": "2022-11-13T17:47:10.459Z"
   },
   {
    "duration": 24,
    "start_time": "2022-11-13T17:47:10.484Z"
   },
   {
    "duration": 30,
    "start_time": "2022-11-13T17:47:10.510Z"
   },
   {
    "duration": 11,
    "start_time": "2022-11-13T17:47:10.542Z"
   },
   {
    "duration": 24,
    "start_time": "2022-11-13T17:47:10.555Z"
   },
   {
    "duration": 39,
    "start_time": "2022-11-13T17:47:10.581Z"
   },
   {
    "duration": 22,
    "start_time": "2022-11-13T17:47:10.622Z"
   },
   {
    "duration": 23,
    "start_time": "2022-11-13T17:47:10.647Z"
   },
   {
    "duration": 392,
    "start_time": "2022-11-13T17:47:10.672Z"
   },
   {
    "duration": 420,
    "start_time": "2022-11-13T17:47:11.066Z"
   },
   {
    "duration": 403,
    "start_time": "2022-11-13T17:47:11.488Z"
   },
   {
    "duration": 399,
    "start_time": "2022-11-13T17:47:11.893Z"
   },
   {
    "duration": 352,
    "start_time": "2022-11-13T17:47:12.294Z"
   },
   {
    "duration": 335,
    "start_time": "2022-11-13T17:47:12.648Z"
   },
   {
    "duration": 342,
    "start_time": "2022-11-13T17:47:12.985Z"
   },
   {
    "duration": 191,
    "start_time": "2022-11-13T17:47:13.328Z"
   },
   {
    "duration": 200,
    "start_time": "2022-11-13T17:47:13.521Z"
   },
   {
    "duration": 168,
    "start_time": "2022-11-13T17:47:13.723Z"
   },
   {
    "duration": 263,
    "start_time": "2022-11-13T17:47:13.892Z"
   },
   {
    "duration": 3,
    "start_time": "2022-11-13T17:47:14.156Z"
   },
   {
    "duration": 15,
    "start_time": "2022-11-13T17:47:14.160Z"
   },
   {
    "duration": 17,
    "start_time": "2022-11-13T17:47:14.177Z"
   },
   {
    "duration": 138,
    "start_time": "2022-11-13T17:47:14.196Z"
   },
   {
    "duration": 0,
    "start_time": "2022-11-13T17:47:14.336Z"
   },
   {
    "duration": 0,
    "start_time": "2022-11-13T17:47:14.337Z"
   },
   {
    "duration": 0,
    "start_time": "2022-11-13T17:47:14.338Z"
   },
   {
    "duration": 0,
    "start_time": "2022-11-13T17:47:14.339Z"
   },
   {
    "duration": 1,
    "start_time": "2022-11-13T17:47:14.340Z"
   },
   {
    "duration": 0,
    "start_time": "2022-11-13T17:47:14.341Z"
   },
   {
    "duration": 0,
    "start_time": "2022-11-13T17:47:14.342Z"
   },
   {
    "duration": 0,
    "start_time": "2022-11-13T17:47:14.343Z"
   },
   {
    "duration": 1,
    "start_time": "2022-11-13T17:47:14.344Z"
   },
   {
    "duration": 0,
    "start_time": "2022-11-13T17:47:14.346Z"
   },
   {
    "duration": 0,
    "start_time": "2022-11-13T17:47:14.346Z"
   },
   {
    "duration": 0,
    "start_time": "2022-11-13T17:47:14.348Z"
   },
   {
    "duration": 0,
    "start_time": "2022-11-13T17:47:14.350Z"
   },
   {
    "duration": 0,
    "start_time": "2022-11-13T17:47:14.351Z"
   },
   {
    "duration": 14,
    "start_time": "2022-11-13T17:53:59.916Z"
   },
   {
    "duration": 16,
    "start_time": "2022-11-13T17:54:07.877Z"
   },
   {
    "duration": 15,
    "start_time": "2022-11-13T17:54:33.841Z"
   },
   {
    "duration": 8,
    "start_time": "2022-11-13T17:56:19.726Z"
   },
   {
    "duration": 11,
    "start_time": "2022-11-13T17:56:36.605Z"
   },
   {
    "duration": 9,
    "start_time": "2022-11-13T17:59:36.671Z"
   },
   {
    "duration": 10,
    "start_time": "2022-11-13T17:59:47.475Z"
   },
   {
    "duration": 11,
    "start_time": "2022-11-13T18:00:47.455Z"
   },
   {
    "duration": 11,
    "start_time": "2022-11-13T18:01:13.537Z"
   },
   {
    "duration": 8,
    "start_time": "2022-11-13T18:01:31.176Z"
   },
   {
    "duration": 10,
    "start_time": "2022-11-13T18:04:16.934Z"
   },
   {
    "duration": 17,
    "start_time": "2022-11-13T18:04:36.587Z"
   },
   {
    "duration": 13,
    "start_time": "2022-11-13T18:06:05.382Z"
   },
   {
    "duration": 14,
    "start_time": "2022-11-13T18:08:47.661Z"
   },
   {
    "duration": 9,
    "start_time": "2022-11-13T18:09:05.698Z"
   },
   {
    "duration": 14,
    "start_time": "2022-11-13T18:09:42.698Z"
   },
   {
    "duration": 15,
    "start_time": "2022-11-13T18:10:02.379Z"
   },
   {
    "duration": 19,
    "start_time": "2022-11-13T18:10:27.765Z"
   },
   {
    "duration": 14,
    "start_time": "2022-11-13T18:10:51.425Z"
   },
   {
    "duration": 16,
    "start_time": "2022-11-13T18:14:35.138Z"
   },
   {
    "duration": 15,
    "start_time": "2022-11-13T18:14:55.200Z"
   },
   {
    "duration": 19,
    "start_time": "2022-11-13T18:15:15.222Z"
   },
   {
    "duration": 18,
    "start_time": "2022-11-13T18:15:36.776Z"
   },
   {
    "duration": 11,
    "start_time": "2022-11-13T18:16:02.368Z"
   },
   {
    "duration": 13,
    "start_time": "2022-11-13T18:16:46.038Z"
   },
   {
    "duration": 8,
    "start_time": "2022-11-13T18:17:35.195Z"
   },
   {
    "duration": 10,
    "start_time": "2022-11-13T18:17:55.231Z"
   },
   {
    "duration": 9,
    "start_time": "2022-11-13T18:18:09.347Z"
   },
   {
    "duration": 10,
    "start_time": "2022-11-13T18:18:22.924Z"
   },
   {
    "duration": 20,
    "start_time": "2022-11-13T18:18:48.395Z"
   },
   {
    "duration": 26,
    "start_time": "2022-11-13T18:25:40.416Z"
   },
   {
    "duration": 9,
    "start_time": "2022-11-13T18:26:45.039Z"
   },
   {
    "duration": 19,
    "start_time": "2022-11-13T18:28:05.718Z"
   },
   {
    "duration": 21,
    "start_time": "2022-11-13T18:28:56.733Z"
   },
   {
    "duration": 20,
    "start_time": "2022-11-13T18:29:53.534Z"
   },
   {
    "duration": 6,
    "start_time": "2022-11-13T18:47:06.458Z"
   },
   {
    "duration": 9,
    "start_time": "2022-11-13T18:47:26.824Z"
   },
   {
    "duration": 17,
    "start_time": "2022-11-13T18:48:29.692Z"
   },
   {
    "duration": 1146,
    "start_time": "2022-11-13T18:50:14.839Z"
   },
   {
    "duration": 66,
    "start_time": "2022-11-13T18:50:15.988Z"
   },
   {
    "duration": 25,
    "start_time": "2022-11-13T18:50:16.056Z"
   },
   {
    "duration": 4,
    "start_time": "2022-11-13T18:50:16.083Z"
   },
   {
    "duration": 10,
    "start_time": "2022-11-13T18:50:16.088Z"
   },
   {
    "duration": 4,
    "start_time": "2022-11-13T18:50:16.119Z"
   },
   {
    "duration": 7,
    "start_time": "2022-11-13T18:50:16.125Z"
   },
   {
    "duration": 23,
    "start_time": "2022-11-13T18:50:16.133Z"
   },
   {
    "duration": 15,
    "start_time": "2022-11-13T18:50:16.158Z"
   },
   {
    "duration": 6,
    "start_time": "2022-11-13T18:50:16.176Z"
   },
   {
    "duration": 7,
    "start_time": "2022-11-13T18:50:16.184Z"
   },
   {
    "duration": 35,
    "start_time": "2022-11-13T18:50:16.192Z"
   },
   {
    "duration": 11,
    "start_time": "2022-11-13T18:50:16.229Z"
   },
   {
    "duration": 11,
    "start_time": "2022-11-13T18:50:16.242Z"
   },
   {
    "duration": 6,
    "start_time": "2022-11-13T18:50:16.254Z"
   },
   {
    "duration": 14,
    "start_time": "2022-11-13T18:50:16.263Z"
   },
   {
    "duration": 26,
    "start_time": "2022-11-13T18:50:16.279Z"
   },
   {
    "duration": 25,
    "start_time": "2022-11-13T18:50:16.307Z"
   },
   {
    "duration": 10,
    "start_time": "2022-11-13T18:50:16.334Z"
   },
   {
    "duration": 17,
    "start_time": "2022-11-13T18:50:16.346Z"
   },
   {
    "duration": 6,
    "start_time": "2022-11-13T18:50:16.365Z"
   },
   {
    "duration": 25,
    "start_time": "2022-11-13T18:50:16.373Z"
   },
   {
    "duration": 56,
    "start_time": "2022-11-13T18:50:16.400Z"
   },
   {
    "duration": 18,
    "start_time": "2022-11-13T18:50:16.458Z"
   },
   {
    "duration": 32,
    "start_time": "2022-11-13T18:50:16.477Z"
   },
   {
    "duration": 10,
    "start_time": "2022-11-13T18:50:16.511Z"
   },
   {
    "duration": 9,
    "start_time": "2022-11-13T18:50:16.522Z"
   },
   {
    "duration": 30,
    "start_time": "2022-11-13T18:50:16.534Z"
   },
   {
    "duration": 16,
    "start_time": "2022-11-13T18:50:16.567Z"
   },
   {
    "duration": 17,
    "start_time": "2022-11-13T18:50:16.584Z"
   },
   {
    "duration": 19,
    "start_time": "2022-11-13T18:50:16.603Z"
   },
   {
    "duration": 19,
    "start_time": "2022-11-13T18:50:16.624Z"
   },
   {
    "duration": 19,
    "start_time": "2022-11-13T18:50:16.644Z"
   },
   {
    "duration": 21,
    "start_time": "2022-11-13T18:50:16.664Z"
   },
   {
    "duration": 64,
    "start_time": "2022-11-13T18:50:16.688Z"
   },
   {
    "duration": 18,
    "start_time": "2022-11-13T18:50:16.754Z"
   },
   {
    "duration": 13,
    "start_time": "2022-11-13T18:50:16.773Z"
   },
   {
    "duration": 22,
    "start_time": "2022-11-13T18:50:16.788Z"
   },
   {
    "duration": 14,
    "start_time": "2022-11-13T18:50:16.821Z"
   },
   {
    "duration": 221,
    "start_time": "2022-11-13T18:50:16.837Z"
   },
   {
    "duration": 11,
    "start_time": "2022-11-13T18:50:17.061Z"
   },
   {
    "duration": 45,
    "start_time": "2022-11-13T18:50:17.074Z"
   },
   {
    "duration": 11,
    "start_time": "2022-11-13T18:50:17.121Z"
   },
   {
    "duration": 4,
    "start_time": "2022-11-13T18:50:17.134Z"
   },
   {
    "duration": 236,
    "start_time": "2022-11-13T18:50:17.140Z"
   },
   {
    "duration": 27,
    "start_time": "2022-11-13T18:50:17.378Z"
   },
   {
    "duration": 399,
    "start_time": "2022-11-13T18:50:17.420Z"
   },
   {
    "duration": 25,
    "start_time": "2022-11-13T18:50:17.821Z"
   },
   {
    "duration": 29,
    "start_time": "2022-11-13T18:50:17.847Z"
   },
   {
    "duration": 53,
    "start_time": "2022-11-13T18:50:17.878Z"
   },
   {
    "duration": 30,
    "start_time": "2022-11-13T18:50:17.933Z"
   },
   {
    "duration": 48,
    "start_time": "2022-11-13T18:50:17.965Z"
   },
   {
    "duration": 33,
    "start_time": "2022-11-13T18:50:18.015Z"
   },
   {
    "duration": 51,
    "start_time": "2022-11-13T18:50:18.050Z"
   },
   {
    "duration": 59,
    "start_time": "2022-11-13T18:50:18.103Z"
   },
   {
    "duration": 355,
    "start_time": "2022-11-13T18:50:18.164Z"
   },
   {
    "duration": 395,
    "start_time": "2022-11-13T18:50:18.523Z"
   },
   {
    "duration": 416,
    "start_time": "2022-11-13T18:50:18.920Z"
   },
   {
    "duration": 408,
    "start_time": "2022-11-13T18:50:19.338Z"
   },
   {
    "duration": 336,
    "start_time": "2022-11-13T18:50:19.748Z"
   },
   {
    "duration": 333,
    "start_time": "2022-11-13T18:50:20.086Z"
   },
   {
    "duration": 335,
    "start_time": "2022-11-13T18:50:20.421Z"
   },
   {
    "duration": 189,
    "start_time": "2022-11-13T18:50:20.758Z"
   },
   {
    "duration": 235,
    "start_time": "2022-11-13T18:50:20.948Z"
   },
   {
    "duration": 161,
    "start_time": "2022-11-13T18:50:21.184Z"
   },
   {
    "duration": 401,
    "start_time": "2022-11-13T18:50:21.346Z"
   },
   {
    "duration": 3,
    "start_time": "2022-11-13T18:50:21.748Z"
   },
   {
    "duration": 49,
    "start_time": "2022-11-13T18:50:21.752Z"
   },
   {
    "duration": 26,
    "start_time": "2022-11-13T18:50:21.803Z"
   },
   {
    "duration": 112,
    "start_time": "2022-11-13T18:50:21.831Z"
   },
   {
    "duration": 0,
    "start_time": "2022-11-13T18:50:21.945Z"
   },
   {
    "duration": 0,
    "start_time": "2022-11-13T18:50:21.946Z"
   },
   {
    "duration": 0,
    "start_time": "2022-11-13T18:50:21.947Z"
   },
   {
    "duration": 0,
    "start_time": "2022-11-13T18:50:21.948Z"
   },
   {
    "duration": 0,
    "start_time": "2022-11-13T18:50:21.950Z"
   },
   {
    "duration": 0,
    "start_time": "2022-11-13T18:50:21.951Z"
   },
   {
    "duration": 0,
    "start_time": "2022-11-13T18:50:21.952Z"
   },
   {
    "duration": 0,
    "start_time": "2022-11-13T18:50:21.954Z"
   },
   {
    "duration": 0,
    "start_time": "2022-11-13T18:50:21.956Z"
   },
   {
    "duration": 0,
    "start_time": "2022-11-13T18:50:21.957Z"
   },
   {
    "duration": 0,
    "start_time": "2022-11-13T18:50:21.958Z"
   },
   {
    "duration": 0,
    "start_time": "2022-11-13T18:50:21.959Z"
   },
   {
    "duration": 0,
    "start_time": "2022-11-13T18:50:21.960Z"
   },
   {
    "duration": 0,
    "start_time": "2022-11-13T18:50:21.961Z"
   },
   {
    "duration": 25,
    "start_time": "2022-11-13T18:52:12.414Z"
   },
   {
    "duration": 23,
    "start_time": "2022-11-13T18:53:02.685Z"
   },
   {
    "duration": 216,
    "start_time": "2022-11-13T19:07:34.927Z"
   },
   {
    "duration": 231,
    "start_time": "2022-11-13T19:10:08.390Z"
   },
   {
    "duration": 3,
    "start_time": "2022-11-13T19:11:23.855Z"
   },
   {
    "duration": 221,
    "start_time": "2022-11-13T19:12:06.697Z"
   },
   {
    "duration": 247,
    "start_time": "2022-11-13T19:14:07.815Z"
   },
   {
    "duration": 45,
    "start_time": "2022-11-13T19:22:47.573Z"
   },
   {
    "duration": 45,
    "start_time": "2022-11-13T19:22:54.800Z"
   },
   {
    "duration": 13,
    "start_time": "2022-11-13T19:23:16.727Z"
   },
   {
    "duration": 198,
    "start_time": "2022-11-13T19:24:03.640Z"
   },
   {
    "duration": 28,
    "start_time": "2022-11-13T19:27:43.338Z"
   },
   {
    "duration": 339,
    "start_time": "2022-11-13T19:27:51.331Z"
   },
   {
    "duration": 18,
    "start_time": "2022-11-13T19:27:56.922Z"
   },
   {
    "duration": 231,
    "start_time": "2022-11-13T19:27:58.172Z"
   },
   {
    "duration": 3,
    "start_time": "2022-11-13T19:29:19.498Z"
   },
   {
    "duration": 15,
    "start_time": "2022-11-13T19:29:22.383Z"
   },
   {
    "duration": 7,
    "start_time": "2022-11-13T19:29:29.811Z"
   },
   {
    "duration": 18,
    "start_time": "2022-11-13T19:29:32.043Z"
   },
   {
    "duration": 665,
    "start_time": "2022-11-13T19:29:33.638Z"
   },
   {
    "duration": 13,
    "start_time": "2022-11-13T19:29:35.180Z"
   },
   {
    "duration": 16,
    "start_time": "2022-11-13T19:29:45.740Z"
   },
   {
    "duration": 295,
    "start_time": "2022-11-13T19:29:48.120Z"
   },
   {
    "duration": 4,
    "start_time": "2022-11-13T19:31:30.646Z"
   },
   {
    "duration": 41,
    "start_time": "2022-11-13T19:32:35.829Z"
   },
   {
    "duration": 8,
    "start_time": "2022-11-13T19:33:00.004Z"
   },
   {
    "duration": 9,
    "start_time": "2022-11-13T19:33:10.439Z"
   },
   {
    "duration": 14,
    "start_time": "2022-11-13T19:33:12.460Z"
   },
   {
    "duration": 15,
    "start_time": "2022-11-13T19:33:17.662Z"
   },
   {
    "duration": 270,
    "start_time": "2022-11-13T19:33:20.435Z"
   },
   {
    "duration": 1193,
    "start_time": "2022-11-13T19:34:20.908Z"
   },
   {
    "duration": 64,
    "start_time": "2022-11-13T19:34:22.103Z"
   },
   {
    "duration": 23,
    "start_time": "2022-11-13T19:34:22.169Z"
   },
   {
    "duration": 3,
    "start_time": "2022-11-13T19:34:22.194Z"
   },
   {
    "duration": 20,
    "start_time": "2022-11-13T19:34:22.199Z"
   },
   {
    "duration": 8,
    "start_time": "2022-11-13T19:34:22.221Z"
   },
   {
    "duration": 12,
    "start_time": "2022-11-13T19:34:22.231Z"
   },
   {
    "duration": 23,
    "start_time": "2022-11-13T19:34:22.245Z"
   },
   {
    "duration": 21,
    "start_time": "2022-11-13T19:34:22.270Z"
   },
   {
    "duration": 7,
    "start_time": "2022-11-13T19:34:22.293Z"
   },
   {
    "duration": 9,
    "start_time": "2022-11-13T19:34:22.301Z"
   },
   {
    "duration": 21,
    "start_time": "2022-11-13T19:34:22.312Z"
   },
   {
    "duration": 3,
    "start_time": "2022-11-13T19:34:22.334Z"
   },
   {
    "duration": 9,
    "start_time": "2022-11-13T19:34:22.339Z"
   },
   {
    "duration": 12,
    "start_time": "2022-11-13T19:34:22.350Z"
   },
   {
    "duration": 12,
    "start_time": "2022-11-13T19:34:22.363Z"
   },
   {
    "duration": 11,
    "start_time": "2022-11-13T19:34:22.377Z"
   },
   {
    "duration": 40,
    "start_time": "2022-11-13T19:34:22.390Z"
   },
   {
    "duration": 8,
    "start_time": "2022-11-13T19:34:22.432Z"
   },
   {
    "duration": 24,
    "start_time": "2022-11-13T19:34:22.442Z"
   },
   {
    "duration": 3,
    "start_time": "2022-11-13T19:34:22.468Z"
   },
   {
    "duration": 19,
    "start_time": "2022-11-13T19:34:22.473Z"
   },
   {
    "duration": 19,
    "start_time": "2022-11-13T19:34:22.494Z"
   },
   {
    "duration": 13,
    "start_time": "2022-11-13T19:34:22.515Z"
   },
   {
    "duration": 11,
    "start_time": "2022-11-13T19:34:22.530Z"
   },
   {
    "duration": 22,
    "start_time": "2022-11-13T19:34:22.543Z"
   },
   {
    "duration": 24,
    "start_time": "2022-11-13T19:34:22.567Z"
   },
   {
    "duration": 16,
    "start_time": "2022-11-13T19:34:22.596Z"
   },
   {
    "duration": 15,
    "start_time": "2022-11-13T19:34:22.614Z"
   },
   {
    "duration": 31,
    "start_time": "2022-11-13T19:34:22.630Z"
   },
   {
    "duration": 13,
    "start_time": "2022-11-13T19:34:22.663Z"
   },
   {
    "duration": 21,
    "start_time": "2022-11-13T19:34:22.677Z"
   },
   {
    "duration": 31,
    "start_time": "2022-11-13T19:34:22.699Z"
   },
   {
    "duration": 21,
    "start_time": "2022-11-13T19:34:22.731Z"
   },
   {
    "duration": 17,
    "start_time": "2022-11-13T19:34:22.753Z"
   },
   {
    "duration": 6,
    "start_time": "2022-11-13T19:34:22.772Z"
   },
   {
    "duration": 43,
    "start_time": "2022-11-13T19:34:22.779Z"
   },
   {
    "duration": 20,
    "start_time": "2022-11-13T19:34:22.824Z"
   },
   {
    "duration": 9,
    "start_time": "2022-11-13T19:34:22.846Z"
   },
   {
    "duration": 255,
    "start_time": "2022-11-13T19:34:22.856Z"
   },
   {
    "duration": 12,
    "start_time": "2022-11-13T19:34:23.113Z"
   },
   {
    "duration": 14,
    "start_time": "2022-11-13T19:34:23.127Z"
   },
   {
    "duration": 10,
    "start_time": "2022-11-13T19:34:23.142Z"
   },
   {
    "duration": 4,
    "start_time": "2022-11-13T19:34:23.154Z"
   },
   {
    "duration": 238,
    "start_time": "2022-11-13T19:34:23.159Z"
   },
   {
    "duration": 40,
    "start_time": "2022-11-13T19:34:23.398Z"
   },
   {
    "duration": 378,
    "start_time": "2022-11-13T19:34:23.440Z"
   },
   {
    "duration": 17,
    "start_time": "2022-11-13T19:34:23.820Z"
   },
   {
    "duration": 10,
    "start_time": "2022-11-13T19:34:23.838Z"
   },
   {
    "duration": 17,
    "start_time": "2022-11-13T19:34:23.849Z"
   },
   {
    "duration": 12,
    "start_time": "2022-11-13T19:34:23.868Z"
   },
   {
    "duration": 47,
    "start_time": "2022-11-13T19:34:23.882Z"
   },
   {
    "duration": 16,
    "start_time": "2022-11-13T19:34:23.931Z"
   },
   {
    "duration": 15,
    "start_time": "2022-11-13T19:34:23.949Z"
   },
   {
    "duration": 20,
    "start_time": "2022-11-13T19:34:23.966Z"
   },
   {
    "duration": 289,
    "start_time": "2022-11-13T19:34:23.989Z"
   },
   {
    "duration": 345,
    "start_time": "2022-11-13T19:34:24.279Z"
   },
   {
    "duration": 345,
    "start_time": "2022-11-13T19:34:24.627Z"
   },
   {
    "duration": 309,
    "start_time": "2022-11-13T19:34:24.974Z"
   },
   {
    "duration": 234,
    "start_time": "2022-11-13T19:34:25.285Z"
   },
   {
    "duration": 233,
    "start_time": "2022-11-13T19:34:25.521Z"
   },
   {
    "duration": 247,
    "start_time": "2022-11-13T19:34:25.756Z"
   },
   {
    "duration": 196,
    "start_time": "2022-11-13T19:34:26.005Z"
   },
   {
    "duration": 253,
    "start_time": "2022-11-13T19:34:26.203Z"
   },
   {
    "duration": 192,
    "start_time": "2022-11-13T19:34:26.458Z"
   },
   {
    "duration": 157,
    "start_time": "2022-11-13T19:34:26.652Z"
   },
   {
    "duration": 9,
    "start_time": "2022-11-13T19:34:26.811Z"
   },
   {
    "duration": 13,
    "start_time": "2022-11-13T19:34:26.822Z"
   },
   {
    "duration": 13,
    "start_time": "2022-11-13T19:34:26.837Z"
   },
   {
    "duration": 7,
    "start_time": "2022-11-13T19:34:26.852Z"
   },
   {
    "duration": 257,
    "start_time": "2022-11-13T19:34:26.861Z"
   },
   {
    "duration": 13,
    "start_time": "2022-11-13T19:34:27.120Z"
   },
   {
    "duration": 21,
    "start_time": "2022-11-13T19:34:27.135Z"
   },
   {
    "duration": 23,
    "start_time": "2022-11-13T19:34:27.158Z"
   },
   {
    "duration": 11,
    "start_time": "2022-11-13T19:34:27.182Z"
   },
   {
    "duration": 32,
    "start_time": "2022-11-13T19:34:27.195Z"
   },
   {
    "duration": 9,
    "start_time": "2022-11-13T19:34:27.229Z"
   },
   {
    "duration": 6,
    "start_time": "2022-11-13T19:34:27.239Z"
   },
   {
    "duration": 26,
    "start_time": "2022-11-13T19:34:27.247Z"
   },
   {
    "duration": 48,
    "start_time": "2022-11-13T19:34:27.275Z"
   },
   {
    "duration": 17,
    "start_time": "2022-11-13T19:34:27.325Z"
   },
   {
    "duration": 17,
    "start_time": "2022-11-13T19:34:27.346Z"
   },
   {
    "duration": 127,
    "start_time": "2022-11-13T19:34:27.365Z"
   },
   {
    "duration": 0,
    "start_time": "2022-11-13T19:34:27.494Z"
   },
   {
    "duration": 1128,
    "start_time": "2022-11-13T19:38:21.250Z"
   },
   {
    "duration": 62,
    "start_time": "2022-11-13T19:38:22.380Z"
   },
   {
    "duration": 26,
    "start_time": "2022-11-13T19:38:22.443Z"
   },
   {
    "duration": 10,
    "start_time": "2022-11-13T19:38:22.471Z"
   },
   {
    "duration": 34,
    "start_time": "2022-11-13T19:38:22.483Z"
   },
   {
    "duration": 31,
    "start_time": "2022-11-13T19:38:22.519Z"
   },
   {
    "duration": 17,
    "start_time": "2022-11-13T19:38:22.551Z"
   },
   {
    "duration": 16,
    "start_time": "2022-11-13T19:38:22.570Z"
   },
   {
    "duration": 13,
    "start_time": "2022-11-13T19:38:22.588Z"
   },
   {
    "duration": 10,
    "start_time": "2022-11-13T19:38:22.604Z"
   },
   {
    "duration": 7,
    "start_time": "2022-11-13T19:38:22.615Z"
   },
   {
    "duration": 15,
    "start_time": "2022-11-13T19:38:22.623Z"
   },
   {
    "duration": 9,
    "start_time": "2022-11-13T19:38:22.640Z"
   },
   {
    "duration": 14,
    "start_time": "2022-11-13T19:38:22.651Z"
   },
   {
    "duration": 7,
    "start_time": "2022-11-13T19:38:22.667Z"
   },
   {
    "duration": 11,
    "start_time": "2022-11-13T19:38:22.676Z"
   },
   {
    "duration": 19,
    "start_time": "2022-11-13T19:38:22.689Z"
   },
   {
    "duration": 21,
    "start_time": "2022-11-13T19:38:22.709Z"
   },
   {
    "duration": 9,
    "start_time": "2022-11-13T19:38:22.731Z"
   },
   {
    "duration": 13,
    "start_time": "2022-11-13T19:38:22.742Z"
   },
   {
    "duration": 2,
    "start_time": "2022-11-13T19:38:22.757Z"
   },
   {
    "duration": 31,
    "start_time": "2022-11-13T19:38:22.761Z"
   },
   {
    "duration": 31,
    "start_time": "2022-11-13T19:38:22.794Z"
   },
   {
    "duration": 13,
    "start_time": "2022-11-13T19:38:22.826Z"
   },
   {
    "duration": 23,
    "start_time": "2022-11-13T19:38:22.840Z"
   },
   {
    "duration": 43,
    "start_time": "2022-11-13T19:38:22.865Z"
   },
   {
    "duration": 14,
    "start_time": "2022-11-13T19:38:22.909Z"
   },
   {
    "duration": 22,
    "start_time": "2022-11-13T19:38:22.929Z"
   },
   {
    "duration": 37,
    "start_time": "2022-11-13T19:38:22.953Z"
   },
   {
    "duration": 31,
    "start_time": "2022-11-13T19:38:22.992Z"
   },
   {
    "duration": 16,
    "start_time": "2022-11-13T19:38:23.024Z"
   },
   {
    "duration": 32,
    "start_time": "2022-11-13T19:38:23.041Z"
   },
   {
    "duration": 25,
    "start_time": "2022-11-13T19:38:23.075Z"
   },
   {
    "duration": 34,
    "start_time": "2022-11-13T19:38:23.102Z"
   },
   {
    "duration": 29,
    "start_time": "2022-11-13T19:38:23.138Z"
   },
   {
    "duration": 11,
    "start_time": "2022-11-13T19:38:23.169Z"
   },
   {
    "duration": 40,
    "start_time": "2022-11-13T19:38:23.181Z"
   },
   {
    "duration": 28,
    "start_time": "2022-11-13T19:38:23.223Z"
   },
   {
    "duration": 10,
    "start_time": "2022-11-13T19:38:23.252Z"
   },
   {
    "duration": 260,
    "start_time": "2022-11-13T19:38:23.263Z"
   },
   {
    "duration": 13,
    "start_time": "2022-11-13T19:38:23.525Z"
   },
   {
    "duration": 53,
    "start_time": "2022-11-13T19:38:23.539Z"
   },
   {
    "duration": 27,
    "start_time": "2022-11-13T19:38:23.594Z"
   },
   {
    "duration": 22,
    "start_time": "2022-11-13T19:38:23.623Z"
   },
   {
    "duration": 226,
    "start_time": "2022-11-13T19:38:23.647Z"
   },
   {
    "duration": 28,
    "start_time": "2022-11-13T19:38:23.875Z"
   },
   {
    "duration": 329,
    "start_time": "2022-11-13T19:38:23.904Z"
   },
   {
    "duration": 17,
    "start_time": "2022-11-13T19:38:24.234Z"
   },
   {
    "duration": 12,
    "start_time": "2022-11-13T19:38:24.252Z"
   },
   {
    "duration": 26,
    "start_time": "2022-11-13T19:38:24.265Z"
   },
   {
    "duration": 15,
    "start_time": "2022-11-13T19:38:24.292Z"
   },
   {
    "duration": 26,
    "start_time": "2022-11-13T19:38:24.309Z"
   },
   {
    "duration": 10,
    "start_time": "2022-11-13T19:38:24.337Z"
   },
   {
    "duration": 39,
    "start_time": "2022-11-13T19:38:24.348Z"
   },
   {
    "duration": 25,
    "start_time": "2022-11-13T19:38:24.388Z"
   },
   {
    "duration": 322,
    "start_time": "2022-11-13T19:38:24.414Z"
   },
   {
    "duration": 342,
    "start_time": "2022-11-13T19:38:24.737Z"
   },
   {
    "duration": 229,
    "start_time": "2022-11-13T19:38:25.080Z"
   },
   {
    "duration": 299,
    "start_time": "2022-11-13T19:38:25.310Z"
   },
   {
    "duration": 246,
    "start_time": "2022-11-13T19:38:25.611Z"
   },
   {
    "duration": 243,
    "start_time": "2022-11-13T19:38:25.858Z"
   },
   {
    "duration": 172,
    "start_time": "2022-11-13T19:38:26.103Z"
   },
   {
    "duration": 215,
    "start_time": "2022-11-13T19:38:26.276Z"
   },
   {
    "duration": 195,
    "start_time": "2022-11-13T19:38:26.493Z"
   },
   {
    "duration": 156,
    "start_time": "2022-11-13T19:38:26.690Z"
   },
   {
    "duration": 3,
    "start_time": "2022-11-13T19:38:26.848Z"
   },
   {
    "duration": 20,
    "start_time": "2022-11-13T19:38:26.852Z"
   },
   {
    "duration": 16,
    "start_time": "2022-11-13T19:38:26.874Z"
   },
   {
    "duration": 5,
    "start_time": "2022-11-13T19:38:26.892Z"
   },
   {
    "duration": 168,
    "start_time": "2022-11-13T19:38:26.898Z"
   },
   {
    "duration": 16,
    "start_time": "2022-11-13T19:38:27.068Z"
   },
   {
    "duration": 135,
    "start_time": "2022-11-13T19:38:27.086Z"
   },
   {
    "duration": 11,
    "start_time": "2022-11-13T19:38:27.223Z"
   },
   {
    "duration": 8,
    "start_time": "2022-11-13T19:38:27.236Z"
   },
   {
    "duration": 14,
    "start_time": "2022-11-13T19:38:27.246Z"
   },
   {
    "duration": 9,
    "start_time": "2022-11-13T19:38:27.262Z"
   },
   {
    "duration": 47,
    "start_time": "2022-11-13T19:38:27.273Z"
   },
   {
    "duration": 26,
    "start_time": "2022-11-13T19:38:27.322Z"
   },
   {
    "duration": 18,
    "start_time": "2022-11-13T19:38:27.350Z"
   },
   {
    "duration": 18,
    "start_time": "2022-11-13T19:38:27.369Z"
   },
   {
    "duration": 45,
    "start_time": "2022-11-13T19:38:27.389Z"
   },
   {
    "duration": 119,
    "start_time": "2022-11-13T19:38:27.439Z"
   },
   {
    "duration": 0,
    "start_time": "2022-11-13T19:38:27.559Z"
   },
   {
    "duration": 330,
    "start_time": "2022-11-13T19:39:38.967Z"
   },
   {
    "duration": 341,
    "start_time": "2022-11-13T19:41:06.128Z"
   },
   {
    "duration": 319,
    "start_time": "2022-11-13T19:41:14.949Z"
   },
   {
    "duration": 318,
    "start_time": "2022-11-13T19:44:37.182Z"
   },
   {
    "duration": 305,
    "start_time": "2022-11-13T19:44:48.254Z"
   },
   {
    "duration": 399,
    "start_time": "2022-11-13T19:45:52.543Z"
   },
   {
    "duration": 336,
    "start_time": "2022-11-13T19:46:22.374Z"
   },
   {
    "duration": 464,
    "start_time": "2022-11-13T19:47:08.052Z"
   },
   {
    "duration": 321,
    "start_time": "2022-11-13T19:47:21.245Z"
   },
   {
    "duration": 1251,
    "start_time": "2022-11-13T19:48:36.428Z"
   },
   {
    "duration": 64,
    "start_time": "2022-11-13T19:48:37.681Z"
   },
   {
    "duration": 23,
    "start_time": "2022-11-13T19:48:37.747Z"
   },
   {
    "duration": 10,
    "start_time": "2022-11-13T19:48:37.772Z"
   },
   {
    "duration": 11,
    "start_time": "2022-11-13T19:48:37.784Z"
   },
   {
    "duration": 23,
    "start_time": "2022-11-13T19:48:37.796Z"
   },
   {
    "duration": 3,
    "start_time": "2022-11-13T19:48:37.821Z"
   },
   {
    "duration": 10,
    "start_time": "2022-11-13T19:48:37.826Z"
   },
   {
    "duration": 11,
    "start_time": "2022-11-13T19:48:37.838Z"
   },
   {
    "duration": 5,
    "start_time": "2022-11-13T19:48:37.852Z"
   },
   {
    "duration": 5,
    "start_time": "2022-11-13T19:48:37.859Z"
   },
   {
    "duration": 54,
    "start_time": "2022-11-13T19:48:37.866Z"
   },
   {
    "duration": 3,
    "start_time": "2022-11-13T19:48:37.922Z"
   },
   {
    "duration": 26,
    "start_time": "2022-11-13T19:48:37.926Z"
   },
   {
    "duration": 18,
    "start_time": "2022-11-13T19:48:37.954Z"
   },
   {
    "duration": 9,
    "start_time": "2022-11-13T19:48:37.974Z"
   },
   {
    "duration": 11,
    "start_time": "2022-11-13T19:48:37.984Z"
   },
   {
    "duration": 24,
    "start_time": "2022-11-13T19:48:37.997Z"
   },
   {
    "duration": 9,
    "start_time": "2022-11-13T19:48:38.022Z"
   },
   {
    "duration": 24,
    "start_time": "2022-11-13T19:48:38.032Z"
   },
   {
    "duration": 7,
    "start_time": "2022-11-13T19:48:38.058Z"
   },
   {
    "duration": 29,
    "start_time": "2022-11-13T19:48:38.067Z"
   },
   {
    "duration": 19,
    "start_time": "2022-11-13T19:48:38.097Z"
   },
   {
    "duration": 27,
    "start_time": "2022-11-13T19:48:38.118Z"
   },
   {
    "duration": 9,
    "start_time": "2022-11-13T19:48:38.147Z"
   },
   {
    "duration": 15,
    "start_time": "2022-11-13T19:48:38.158Z"
   },
   {
    "duration": 7,
    "start_time": "2022-11-13T19:48:38.175Z"
   },
   {
    "duration": 16,
    "start_time": "2022-11-13T19:48:38.186Z"
   },
   {
    "duration": 28,
    "start_time": "2022-11-13T19:48:38.204Z"
   },
   {
    "duration": 19,
    "start_time": "2022-11-13T19:48:38.234Z"
   },
   {
    "duration": 11,
    "start_time": "2022-11-13T19:48:38.255Z"
   },
   {
    "duration": 27,
    "start_time": "2022-11-13T19:48:38.268Z"
   },
   {
    "duration": 34,
    "start_time": "2022-11-13T19:48:38.297Z"
   },
   {
    "duration": 28,
    "start_time": "2022-11-13T19:48:38.333Z"
   },
   {
    "duration": 47,
    "start_time": "2022-11-13T19:48:38.363Z"
   },
   {
    "duration": 13,
    "start_time": "2022-11-13T19:48:38.412Z"
   },
   {
    "duration": 57,
    "start_time": "2022-11-13T19:48:38.427Z"
   },
   {
    "duration": 28,
    "start_time": "2022-11-13T19:48:38.486Z"
   },
   {
    "duration": 23,
    "start_time": "2022-11-13T19:48:38.516Z"
   },
   {
    "duration": 243,
    "start_time": "2022-11-13T19:48:38.541Z"
   },
   {
    "duration": 14,
    "start_time": "2022-11-13T19:48:38.785Z"
   },
   {
    "duration": 34,
    "start_time": "2022-11-13T19:48:38.801Z"
   },
   {
    "duration": 22,
    "start_time": "2022-11-13T19:48:38.837Z"
   },
   {
    "duration": 4,
    "start_time": "2022-11-13T19:48:38.861Z"
   },
   {
    "duration": 369,
    "start_time": "2022-11-13T19:48:38.866Z"
   },
   {
    "duration": 28,
    "start_time": "2022-11-13T19:48:39.237Z"
   },
   {
    "duration": 413,
    "start_time": "2022-11-13T19:48:39.267Z"
   },
   {
    "duration": 19,
    "start_time": "2022-11-13T19:48:39.682Z"
   },
   {
    "duration": 18,
    "start_time": "2022-11-13T19:48:39.703Z"
   },
   {
    "duration": 28,
    "start_time": "2022-11-13T19:48:39.723Z"
   },
   {
    "duration": 26,
    "start_time": "2022-11-13T19:48:39.753Z"
   },
   {
    "duration": 33,
    "start_time": "2022-11-13T19:48:39.781Z"
   },
   {
    "duration": 16,
    "start_time": "2022-11-13T19:48:39.816Z"
   },
   {
    "duration": 33,
    "start_time": "2022-11-13T19:48:39.833Z"
   },
   {
    "duration": 30,
    "start_time": "2022-11-13T19:48:39.868Z"
   },
   {
    "duration": 367,
    "start_time": "2022-11-13T19:48:39.900Z"
   },
   {
    "duration": 332,
    "start_time": "2022-11-13T19:48:40.268Z"
   },
   {
    "duration": 262,
    "start_time": "2022-11-13T19:48:40.602Z"
   },
   {
    "duration": 351,
    "start_time": "2022-11-13T19:48:40.866Z"
   },
   {
    "duration": 265,
    "start_time": "2022-11-13T19:48:41.220Z"
   },
   {
    "duration": 269,
    "start_time": "2022-11-13T19:48:41.487Z"
   },
   {
    "duration": 201,
    "start_time": "2022-11-13T19:48:41.758Z"
   },
   {
    "duration": 225,
    "start_time": "2022-11-13T19:48:41.961Z"
   },
   {
    "duration": 171,
    "start_time": "2022-11-13T19:48:42.188Z"
   },
   {
    "duration": 149,
    "start_time": "2022-11-13T19:48:42.361Z"
   },
   {
    "duration": 9,
    "start_time": "2022-11-13T19:48:42.511Z"
   },
   {
    "duration": 15,
    "start_time": "2022-11-13T19:48:42.524Z"
   },
   {
    "duration": 19,
    "start_time": "2022-11-13T19:48:42.541Z"
   },
   {
    "duration": 11,
    "start_time": "2022-11-13T19:48:42.562Z"
   },
   {
    "duration": 209,
    "start_time": "2022-11-13T19:48:42.575Z"
   },
   {
    "duration": 15,
    "start_time": "2022-11-13T19:48:42.786Z"
   },
   {
    "duration": 132,
    "start_time": "2022-11-13T19:48:42.803Z"
   },
   {
    "duration": 14,
    "start_time": "2022-11-13T19:48:42.937Z"
   },
   {
    "duration": 8,
    "start_time": "2022-11-13T19:48:42.953Z"
   },
   {
    "duration": 23,
    "start_time": "2022-11-13T19:48:42.962Z"
   },
   {
    "duration": 38,
    "start_time": "2022-11-13T19:48:42.987Z"
   },
   {
    "duration": 5,
    "start_time": "2022-11-13T19:48:43.027Z"
   },
   {
    "duration": 29,
    "start_time": "2022-11-13T19:48:43.033Z"
   },
   {
    "duration": 71,
    "start_time": "2022-11-13T19:48:43.063Z"
   },
   {
    "duration": 22,
    "start_time": "2022-11-13T19:48:43.136Z"
   },
   {
    "duration": 66,
    "start_time": "2022-11-13T19:48:43.160Z"
   },
   {
    "duration": 193,
    "start_time": "2022-11-13T19:48:43.228Z"
   },
   {
    "duration": 0,
    "start_time": "2022-11-13T19:48:43.424Z"
   },
   {
    "duration": 8,
    "start_time": "2022-11-13T19:51:08.355Z"
   },
   {
    "duration": 15,
    "start_time": "2022-11-13T19:51:09.218Z"
   },
   {
    "duration": 7,
    "start_time": "2022-11-13T19:51:16.711Z"
   },
   {
    "duration": 14,
    "start_time": "2022-11-13T19:51:17.463Z"
   },
   {
    "duration": 379,
    "start_time": "2022-11-13T19:51:29.668Z"
   },
   {
    "duration": 18,
    "start_time": "2022-11-13T19:51:35.719Z"
   },
   {
    "duration": 4,
    "start_time": "2022-11-13T19:51:38.647Z"
   },
   {
    "duration": 15,
    "start_time": "2022-11-13T19:51:40.143Z"
   },
   {
    "duration": 7,
    "start_time": "2022-11-13T19:51:49.057Z"
   },
   {
    "duration": 16,
    "start_time": "2022-11-13T19:51:51.603Z"
   },
   {
    "duration": 9,
    "start_time": "2022-11-13T19:52:10.463Z"
   },
   {
    "duration": 15,
    "start_time": "2022-11-13T19:52:11.894Z"
   },
   {
    "duration": 10,
    "start_time": "2022-11-13T19:52:31.402Z"
   },
   {
    "duration": 8,
    "start_time": "2022-11-13T19:52:42.969Z"
   },
   {
    "duration": 15,
    "start_time": "2022-11-13T19:52:44.571Z"
   },
   {
    "duration": 15,
    "start_time": "2022-11-13T19:52:51.521Z"
   },
   {
    "duration": 377,
    "start_time": "2022-11-13T19:52:54.990Z"
   },
   {
    "duration": 19,
    "start_time": "2022-11-13T19:52:56.909Z"
   },
   {
    "duration": 3,
    "start_time": "2022-11-13T19:52:58.059Z"
   },
   {
    "duration": 14,
    "start_time": "2022-11-13T19:52:59.210Z"
   },
   {
    "duration": 8,
    "start_time": "2022-11-13T19:53:01.998Z"
   },
   {
    "duration": 15,
    "start_time": "2022-11-13T19:53:02.887Z"
   },
   {
    "duration": 9,
    "start_time": "2022-11-13T19:53:19.583Z"
   },
   {
    "duration": 15,
    "start_time": "2022-11-13T19:53:21.019Z"
   },
   {
    "duration": 16,
    "start_time": "2022-11-13T19:53:22.652Z"
   },
   {
    "duration": 344,
    "start_time": "2022-11-13T19:53:34.878Z"
   },
   {
    "duration": 313,
    "start_time": "2022-11-13T19:54:36.806Z"
   },
   {
    "duration": 309,
    "start_time": "2022-11-13T20:04:44.650Z"
   },
   {
    "duration": 243,
    "start_time": "2022-11-13T20:05:43.807Z"
   },
   {
    "duration": 378,
    "start_time": "2022-11-13T20:06:03.880Z"
   },
   {
    "duration": 125,
    "start_time": "2022-11-13T20:06:26.948Z"
   },
   {
    "duration": 275,
    "start_time": "2022-11-13T20:06:40.599Z"
   },
   {
    "duration": 19,
    "start_time": "2022-11-13T20:07:23.074Z"
   },
   {
    "duration": 19,
    "start_time": "2022-11-13T20:07:53.511Z"
   },
   {
    "duration": 18,
    "start_time": "2022-11-13T20:08:09.840Z"
   },
   {
    "duration": 270,
    "start_time": "2022-11-13T20:08:21.702Z"
   },
   {
    "duration": 18,
    "start_time": "2022-11-13T20:10:28.349Z"
   },
   {
    "duration": 18,
    "start_time": "2022-11-13T20:10:37.179Z"
   },
   {
    "duration": 15,
    "start_time": "2022-11-13T20:10:48.550Z"
   },
   {
    "duration": 227,
    "start_time": "2022-11-13T20:10:58.250Z"
   },
   {
    "duration": 257,
    "start_time": "2022-11-13T20:11:17.832Z"
   },
   {
    "duration": 253,
    "start_time": "2022-11-13T20:11:39.642Z"
   },
   {
    "duration": 416,
    "start_time": "2022-11-13T20:11:46.454Z"
   },
   {
    "duration": 251,
    "start_time": "2022-11-13T20:11:55.337Z"
   },
   {
    "duration": 187,
    "start_time": "2022-11-13T20:15:04.108Z"
   },
   {
    "duration": 200,
    "start_time": "2022-11-13T20:15:44.432Z"
   },
   {
    "duration": 163,
    "start_time": "2022-11-13T20:15:51.821Z"
   },
   {
    "duration": 5,
    "start_time": "2022-11-13T20:16:59.400Z"
   },
   {
    "duration": 1145,
    "start_time": "2022-11-13T20:17:19.341Z"
   },
   {
    "duration": 63,
    "start_time": "2022-11-13T20:17:20.488Z"
   },
   {
    "duration": 22,
    "start_time": "2022-11-13T20:17:20.553Z"
   },
   {
    "duration": 3,
    "start_time": "2022-11-13T20:17:20.577Z"
   },
   {
    "duration": 9,
    "start_time": "2022-11-13T20:17:20.582Z"
   },
   {
    "duration": 27,
    "start_time": "2022-11-13T20:17:20.592Z"
   },
   {
    "duration": 3,
    "start_time": "2022-11-13T20:17:20.621Z"
   },
   {
    "duration": 6,
    "start_time": "2022-11-13T20:17:20.626Z"
   },
   {
    "duration": 11,
    "start_time": "2022-11-13T20:17:20.634Z"
   },
   {
    "duration": 6,
    "start_time": "2022-11-13T20:17:20.648Z"
   },
   {
    "duration": 9,
    "start_time": "2022-11-13T20:17:20.656Z"
   },
   {
    "duration": 25,
    "start_time": "2022-11-13T20:17:20.666Z"
   },
   {
    "duration": 2,
    "start_time": "2022-11-13T20:17:20.694Z"
   },
   {
    "duration": 27,
    "start_time": "2022-11-13T20:17:20.698Z"
   },
   {
    "duration": 7,
    "start_time": "2022-11-13T20:17:20.727Z"
   },
   {
    "duration": 15,
    "start_time": "2022-11-13T20:17:20.736Z"
   },
   {
    "duration": 15,
    "start_time": "2022-11-13T20:17:20.752Z"
   },
   {
    "duration": 16,
    "start_time": "2022-11-13T20:17:20.768Z"
   },
   {
    "duration": 39,
    "start_time": "2022-11-13T20:17:20.786Z"
   },
   {
    "duration": 12,
    "start_time": "2022-11-13T20:17:20.827Z"
   },
   {
    "duration": 15,
    "start_time": "2022-11-13T20:17:20.841Z"
   },
   {
    "duration": 18,
    "start_time": "2022-11-13T20:17:20.857Z"
   },
   {
    "duration": 6,
    "start_time": "2022-11-13T20:17:20.876Z"
   },
   {
    "duration": 22,
    "start_time": "2022-11-13T20:17:20.883Z"
   },
   {
    "duration": 12,
    "start_time": "2022-11-13T20:17:20.906Z"
   },
   {
    "duration": 6,
    "start_time": "2022-11-13T20:17:20.920Z"
   },
   {
    "duration": 6,
    "start_time": "2022-11-13T20:17:20.927Z"
   },
   {
    "duration": 16,
    "start_time": "2022-11-13T20:17:20.936Z"
   },
   {
    "duration": 19,
    "start_time": "2022-11-13T20:17:20.953Z"
   },
   {
    "duration": 25,
    "start_time": "2022-11-13T20:17:20.974Z"
   },
   {
    "duration": 22,
    "start_time": "2022-11-13T20:17:21.000Z"
   },
   {
    "duration": 19,
    "start_time": "2022-11-13T20:17:21.023Z"
   },
   {
    "duration": 17,
    "start_time": "2022-11-13T20:17:21.044Z"
   },
   {
    "duration": 26,
    "start_time": "2022-11-13T20:17:21.063Z"
   },
   {
    "duration": 38,
    "start_time": "2022-11-13T20:17:21.091Z"
   },
   {
    "duration": 13,
    "start_time": "2022-11-13T20:17:21.131Z"
   },
   {
    "duration": 11,
    "start_time": "2022-11-13T20:17:21.146Z"
   },
   {
    "duration": 23,
    "start_time": "2022-11-13T20:17:21.159Z"
   },
   {
    "duration": 43,
    "start_time": "2022-11-13T20:17:21.184Z"
   },
   {
    "duration": 247,
    "start_time": "2022-11-13T20:17:21.229Z"
   },
   {
    "duration": 11,
    "start_time": "2022-11-13T20:17:21.478Z"
   },
   {
    "duration": 40,
    "start_time": "2022-11-13T20:17:21.490Z"
   },
   {
    "duration": 27,
    "start_time": "2022-11-13T20:17:21.532Z"
   },
   {
    "duration": 5,
    "start_time": "2022-11-13T20:17:21.560Z"
   },
   {
    "duration": 339,
    "start_time": "2022-11-13T20:17:21.566Z"
   },
   {
    "duration": 34,
    "start_time": "2022-11-13T20:17:21.907Z"
   },
   {
    "duration": 390,
    "start_time": "2022-11-13T20:17:21.942Z"
   },
   {
    "duration": 18,
    "start_time": "2022-11-13T20:17:22.333Z"
   },
   {
    "duration": 17,
    "start_time": "2022-11-13T20:17:22.353Z"
   },
   {
    "duration": 27,
    "start_time": "2022-11-13T20:17:22.371Z"
   },
   {
    "duration": 23,
    "start_time": "2022-11-13T20:17:22.400Z"
   },
   {
    "duration": 33,
    "start_time": "2022-11-13T20:17:22.426Z"
   },
   {
    "duration": 29,
    "start_time": "2022-11-13T20:17:22.461Z"
   },
   {
    "duration": 33,
    "start_time": "2022-11-13T20:17:22.492Z"
   },
   {
    "duration": 29,
    "start_time": "2022-11-13T20:17:22.527Z"
   },
   {
    "duration": 364,
    "start_time": "2022-11-13T20:17:22.557Z"
   },
   {
    "duration": 238,
    "start_time": "2022-11-13T20:17:22.922Z"
   },
   {
    "duration": 276,
    "start_time": "2022-11-13T20:17:23.162Z"
   },
   {
    "duration": 287,
    "start_time": "2022-11-13T20:17:23.440Z"
   },
   {
    "duration": 166,
    "start_time": "2022-11-13T20:17:23.729Z"
   },
   {
    "duration": 150,
    "start_time": "2022-11-13T20:17:23.898Z"
   },
   {
    "duration": 2,
    "start_time": "2022-11-13T20:17:24.050Z"
   },
   {
    "duration": 25,
    "start_time": "2022-11-13T20:17:24.054Z"
   },
   {
    "duration": 35,
    "start_time": "2022-11-13T20:17:24.081Z"
   },
   {
    "duration": 17,
    "start_time": "2022-11-13T20:17:24.118Z"
   },
   {
    "duration": 152,
    "start_time": "2022-11-13T20:17:24.136Z"
   },
   {
    "duration": 14,
    "start_time": "2022-11-13T20:17:24.290Z"
   },
   {
    "duration": 43,
    "start_time": "2022-11-13T20:17:24.308Z"
   },
   {
    "duration": 18,
    "start_time": "2022-11-13T20:17:24.353Z"
   },
   {
    "duration": 10,
    "start_time": "2022-11-13T20:17:24.373Z"
   },
   {
    "duration": 18,
    "start_time": "2022-11-13T20:17:24.385Z"
   },
   {
    "duration": 20,
    "start_time": "2022-11-13T20:17:24.405Z"
   },
   {
    "duration": 26,
    "start_time": "2022-11-13T20:17:24.427Z"
   },
   {
    "duration": 29,
    "start_time": "2022-11-13T20:17:24.455Z"
   },
   {
    "duration": 46,
    "start_time": "2022-11-13T20:17:24.486Z"
   },
   {
    "duration": 15,
    "start_time": "2022-11-13T20:17:24.534Z"
   },
   {
    "duration": 21,
    "start_time": "2022-11-13T20:17:24.551Z"
   },
   {
    "duration": 115,
    "start_time": "2022-11-13T20:17:24.573Z"
   },
   {
    "duration": 1,
    "start_time": "2022-11-13T20:17:24.689Z"
   },
   {
    "duration": 5,
    "start_time": "2022-11-13T20:24:44.882Z"
   },
   {
    "duration": 1170,
    "start_time": "2022-11-13T20:25:59.264Z"
   },
   {
    "duration": 62,
    "start_time": "2022-11-13T20:26:00.436Z"
   },
   {
    "duration": 37,
    "start_time": "2022-11-13T20:26:00.500Z"
   },
   {
    "duration": 9,
    "start_time": "2022-11-13T20:26:00.539Z"
   },
   {
    "duration": 14,
    "start_time": "2022-11-13T20:26:00.549Z"
   },
   {
    "duration": 12,
    "start_time": "2022-11-13T20:26:00.565Z"
   },
   {
    "duration": 16,
    "start_time": "2022-11-13T20:26:00.579Z"
   },
   {
    "duration": 13,
    "start_time": "2022-11-13T20:26:00.598Z"
   },
   {
    "duration": 19,
    "start_time": "2022-11-13T20:26:00.613Z"
   },
   {
    "duration": 14,
    "start_time": "2022-11-13T20:26:00.636Z"
   },
   {
    "duration": 8,
    "start_time": "2022-11-13T20:26:00.652Z"
   },
   {
    "duration": 23,
    "start_time": "2022-11-13T20:26:00.662Z"
   },
   {
    "duration": 7,
    "start_time": "2022-11-13T20:26:00.688Z"
   },
   {
    "duration": 15,
    "start_time": "2022-11-13T20:26:00.696Z"
   },
   {
    "duration": 10,
    "start_time": "2022-11-13T20:26:00.719Z"
   },
   {
    "duration": 23,
    "start_time": "2022-11-13T20:26:00.731Z"
   },
   {
    "duration": 11,
    "start_time": "2022-11-13T20:26:00.756Z"
   },
   {
    "duration": 32,
    "start_time": "2022-11-13T20:26:00.770Z"
   },
   {
    "duration": 33,
    "start_time": "2022-11-13T20:26:00.804Z"
   },
   {
    "duration": 19,
    "start_time": "2022-11-13T20:26:00.839Z"
   },
   {
    "duration": 3,
    "start_time": "2022-11-13T20:26:00.860Z"
   },
   {
    "duration": 9,
    "start_time": "2022-11-13T20:26:00.865Z"
   },
   {
    "duration": 13,
    "start_time": "2022-11-13T20:26:00.876Z"
   },
   {
    "duration": 7,
    "start_time": "2022-11-13T20:26:00.891Z"
   },
   {
    "duration": 13,
    "start_time": "2022-11-13T20:26:00.899Z"
   },
   {
    "duration": 27,
    "start_time": "2022-11-13T20:26:00.914Z"
   },
   {
    "duration": 21,
    "start_time": "2022-11-13T20:26:00.943Z"
   },
   {
    "duration": 15,
    "start_time": "2022-11-13T20:26:00.970Z"
   },
   {
    "duration": 18,
    "start_time": "2022-11-13T20:26:00.987Z"
   },
   {
    "duration": 29,
    "start_time": "2022-11-13T20:26:01.007Z"
   },
   {
    "duration": 16,
    "start_time": "2022-11-13T20:26:01.038Z"
   },
   {
    "duration": 47,
    "start_time": "2022-11-13T20:26:01.055Z"
   },
   {
    "duration": 43,
    "start_time": "2022-11-13T20:26:01.104Z"
   },
   {
    "duration": 53,
    "start_time": "2022-11-13T20:26:01.149Z"
   },
   {
    "duration": 52,
    "start_time": "2022-11-13T20:26:01.204Z"
   },
   {
    "duration": 40,
    "start_time": "2022-11-13T20:26:01.257Z"
   },
   {
    "duration": 60,
    "start_time": "2022-11-13T20:26:01.299Z"
   },
   {
    "duration": 74,
    "start_time": "2022-11-13T20:26:01.361Z"
   },
   {
    "duration": 33,
    "start_time": "2022-11-13T20:26:01.437Z"
   },
   {
    "duration": 268,
    "start_time": "2022-11-13T20:26:01.472Z"
   },
   {
    "duration": 12,
    "start_time": "2022-11-13T20:26:01.741Z"
   },
   {
    "duration": 57,
    "start_time": "2022-11-13T20:26:01.754Z"
   },
   {
    "duration": 73,
    "start_time": "2022-11-13T20:26:01.813Z"
   },
   {
    "duration": 50,
    "start_time": "2022-11-13T20:26:01.887Z"
   },
   {
    "duration": 360,
    "start_time": "2022-11-13T20:26:01.939Z"
   },
   {
    "duration": 38,
    "start_time": "2022-11-13T20:26:02.301Z"
   },
   {
    "duration": 417,
    "start_time": "2022-11-13T20:26:02.341Z"
   },
   {
    "duration": 17,
    "start_time": "2022-11-13T20:26:02.759Z"
   },
   {
    "duration": 19,
    "start_time": "2022-11-13T20:26:02.778Z"
   },
   {
    "duration": 39,
    "start_time": "2022-11-13T20:26:02.798Z"
   },
   {
    "duration": 15,
    "start_time": "2022-11-13T20:26:02.839Z"
   },
   {
    "duration": 22,
    "start_time": "2022-11-13T20:26:02.855Z"
   },
   {
    "duration": 11,
    "start_time": "2022-11-13T20:26:02.879Z"
   },
   {
    "duration": 33,
    "start_time": "2022-11-13T20:26:02.892Z"
   },
   {
    "duration": 41,
    "start_time": "2022-11-13T20:26:02.926Z"
   },
   {
    "duration": 374,
    "start_time": "2022-11-13T20:26:02.969Z"
   },
   {
    "duration": 271,
    "start_time": "2022-11-13T20:26:03.345Z"
   },
   {
    "duration": 269,
    "start_time": "2022-11-13T20:26:03.619Z"
   },
   {
    "duration": 281,
    "start_time": "2022-11-13T20:26:03.890Z"
   },
   {
    "duration": 170,
    "start_time": "2022-11-13T20:26:04.172Z"
   },
   {
    "duration": 148,
    "start_time": "2022-11-13T20:26:04.344Z"
   },
   {
    "duration": 26,
    "start_time": "2022-11-13T20:26:04.493Z"
   },
   {
    "duration": 27,
    "start_time": "2022-11-13T20:26:04.525Z"
   },
   {
    "duration": 11,
    "start_time": "2022-11-13T20:26:04.554Z"
   },
   {
    "duration": 8,
    "start_time": "2022-11-13T20:26:04.566Z"
   },
   {
    "duration": 51,
    "start_time": "2022-11-13T20:26:04.576Z"
   },
   {
    "duration": 11,
    "start_time": "2022-11-13T20:26:04.634Z"
   },
   {
    "duration": 6,
    "start_time": "2022-11-13T20:26:04.647Z"
   },
   {
    "duration": 24,
    "start_time": "2022-11-13T20:26:04.654Z"
   },
   {
    "duration": 20,
    "start_time": "2022-11-13T20:26:04.680Z"
   },
   {
    "duration": 24,
    "start_time": "2022-11-13T20:26:04.721Z"
   },
   {
    "duration": 4,
    "start_time": "2022-11-13T20:26:04.747Z"
   },
   {
    "duration": 22,
    "start_time": "2022-11-13T20:26:04.753Z"
   },
   {
    "duration": 133,
    "start_time": "2022-11-13T20:26:04.777Z"
   },
   {
    "duration": 0,
    "start_time": "2022-11-13T20:26:04.911Z"
   },
   {
    "duration": 11,
    "start_time": "2022-11-13T20:34:12.944Z"
   },
   {
    "duration": 12,
    "start_time": "2022-11-13T20:35:08.835Z"
   },
   {
    "duration": 4,
    "start_time": "2022-11-13T20:40:24.992Z"
   },
   {
    "duration": 1129,
    "start_time": "2022-11-13T20:40:44.833Z"
   },
   {
    "duration": 67,
    "start_time": "2022-11-13T20:40:45.964Z"
   },
   {
    "duration": 26,
    "start_time": "2022-11-13T20:40:46.033Z"
   },
   {
    "duration": 4,
    "start_time": "2022-11-13T20:40:46.060Z"
   },
   {
    "duration": 45,
    "start_time": "2022-11-13T20:40:46.066Z"
   },
   {
    "duration": 8,
    "start_time": "2022-11-13T20:40:46.112Z"
   },
   {
    "duration": 4,
    "start_time": "2022-11-13T20:40:46.261Z"
   },
   {
    "duration": 16,
    "start_time": "2022-11-13T20:40:46.267Z"
   },
   {
    "duration": 15,
    "start_time": "2022-11-13T20:40:46.285Z"
   },
   {
    "duration": 5,
    "start_time": "2022-11-13T20:40:46.677Z"
   },
   {
    "duration": 8,
    "start_time": "2022-11-13T20:40:46.683Z"
   },
   {
    "duration": 19,
    "start_time": "2022-11-13T20:40:46.692Z"
   },
   {
    "duration": 3,
    "start_time": "2022-11-13T20:40:46.714Z"
   },
   {
    "duration": 13,
    "start_time": "2022-11-13T20:40:46.719Z"
   },
   {
    "duration": 9,
    "start_time": "2022-11-13T20:40:46.733Z"
   },
   {
    "duration": 8,
    "start_time": "2022-11-13T20:40:46.743Z"
   },
   {
    "duration": 9,
    "start_time": "2022-11-13T20:40:46.754Z"
   },
   {
    "duration": 25,
    "start_time": "2022-11-13T20:40:46.765Z"
   },
   {
    "duration": 29,
    "start_time": "2022-11-13T20:40:46.792Z"
   },
   {
    "duration": 14,
    "start_time": "2022-11-13T20:40:47.043Z"
   },
   {
    "duration": 102,
    "start_time": "2022-11-13T20:40:47.062Z"
   },
   {
    "duration": 0,
    "start_time": "2022-11-13T20:40:47.166Z"
   },
   {
    "duration": 0,
    "start_time": "2022-11-13T20:40:47.168Z"
   },
   {
    "duration": 3,
    "start_time": "2022-11-13T20:40:47.190Z"
   },
   {
    "duration": 6,
    "start_time": "2022-11-13T20:40:47.196Z"
   },
   {
    "duration": 15,
    "start_time": "2022-11-13T20:40:47.204Z"
   },
   {
    "duration": 6,
    "start_time": "2022-11-13T20:40:47.222Z"
   },
   {
    "duration": 2,
    "start_time": "2022-11-13T20:40:47.632Z"
   },
   {
    "duration": 23,
    "start_time": "2022-11-13T20:40:47.636Z"
   },
   {
    "duration": 25,
    "start_time": "2022-11-13T20:40:47.661Z"
   },
   {
    "duration": 37,
    "start_time": "2022-11-13T20:40:47.688Z"
   },
   {
    "duration": 10,
    "start_time": "2022-11-13T20:40:47.728Z"
   },
   {
    "duration": 22,
    "start_time": "2022-11-13T20:40:47.740Z"
   },
   {
    "duration": 20,
    "start_time": "2022-11-13T20:40:47.764Z"
   },
   {
    "duration": 47,
    "start_time": "2022-11-13T20:40:47.786Z"
   },
   {
    "duration": 17,
    "start_time": "2022-11-13T20:40:47.836Z"
   },
   {
    "duration": 14,
    "start_time": "2022-11-13T20:40:47.855Z"
   },
   {
    "duration": 20,
    "start_time": "2022-11-13T20:40:47.872Z"
   },
   {
    "duration": 37,
    "start_time": "2022-11-13T20:40:49.037Z"
   },
   {
    "duration": 14,
    "start_time": "2022-11-13T20:40:49.077Z"
   },
   {
    "duration": 321,
    "start_time": "2022-11-13T20:40:49.093Z"
   },
   {
    "duration": 16,
    "start_time": "2022-11-13T20:40:49.420Z"
   },
   {
    "duration": 38,
    "start_time": "2022-11-13T20:40:49.438Z"
   },
   {
    "duration": 19,
    "start_time": "2022-11-13T20:40:49.478Z"
   },
   {
    "duration": 5,
    "start_time": "2022-11-13T20:40:49.500Z"
   },
   {
    "duration": 435,
    "start_time": "2022-11-13T20:40:49.520Z"
   },
   {
    "duration": 28,
    "start_time": "2022-11-13T20:40:49.956Z"
   },
   {
    "duration": 440,
    "start_time": "2022-11-13T20:40:49.986Z"
   },
   {
    "duration": 26,
    "start_time": "2022-11-13T20:40:50.428Z"
   },
   {
    "duration": 11,
    "start_time": "2022-11-13T20:40:50.456Z"
   },
   {
    "duration": 20,
    "start_time": "2022-11-13T20:40:50.468Z"
   },
   {
    "duration": 35,
    "start_time": "2022-11-13T20:40:50.490Z"
   },
   {
    "duration": 35,
    "start_time": "2022-11-13T20:40:50.529Z"
   },
   {
    "duration": 13,
    "start_time": "2022-11-13T20:40:50.566Z"
   },
   {
    "duration": 20,
    "start_time": "2022-11-13T20:40:50.581Z"
   },
   {
    "duration": 40,
    "start_time": "2022-11-13T20:40:50.603Z"
   },
   {
    "duration": 395,
    "start_time": "2022-11-13T20:40:50.645Z"
   },
   {
    "duration": 265,
    "start_time": "2022-11-13T20:40:51.042Z"
   },
   {
    "duration": 297,
    "start_time": "2022-11-13T20:40:51.309Z"
   },
   {
    "duration": 291,
    "start_time": "2022-11-13T20:40:51.608Z"
   },
   {
    "duration": 165,
    "start_time": "2022-11-13T20:40:51.900Z"
   },
   {
    "duration": 139,
    "start_time": "2022-11-13T20:40:52.067Z"
   },
   {
    "duration": 19,
    "start_time": "2022-11-13T20:40:52.208Z"
   },
   {
    "duration": 31,
    "start_time": "2022-11-13T20:40:52.229Z"
   },
   {
    "duration": 16,
    "start_time": "2022-11-13T20:40:52.262Z"
   },
   {
    "duration": 44,
    "start_time": "2022-11-13T20:40:52.280Z"
   },
   {
    "duration": 15,
    "start_time": "2022-11-13T20:40:52.326Z"
   },
   {
    "duration": 12,
    "start_time": "2022-11-13T20:40:52.343Z"
   },
   {
    "duration": 20,
    "start_time": "2022-11-13T20:40:52.357Z"
   },
   {
    "duration": 47,
    "start_time": "2022-11-13T20:40:52.379Z"
   },
   {
    "duration": 7,
    "start_time": "2022-11-13T20:40:52.428Z"
   },
   {
    "duration": 34,
    "start_time": "2022-11-13T20:40:52.437Z"
   },
   {
    "duration": 49,
    "start_time": "2022-11-13T20:40:52.474Z"
   },
   {
    "duration": 24,
    "start_time": "2022-11-13T20:40:52.524Z"
   },
   {
    "duration": 22,
    "start_time": "2022-11-13T20:40:52.551Z"
   },
   {
    "duration": 50,
    "start_time": "2022-11-13T20:40:52.575Z"
   },
   {
    "duration": 0,
    "start_time": "2022-11-13T20:40:52.627Z"
   },
   {
    "duration": 1193,
    "start_time": "2022-11-13T20:42:42.701Z"
   },
   {
    "duration": 64,
    "start_time": "2022-11-13T20:42:43.896Z"
   },
   {
    "duration": 24,
    "start_time": "2022-11-13T20:42:43.961Z"
   },
   {
    "duration": 3,
    "start_time": "2022-11-13T20:42:43.987Z"
   },
   {
    "duration": 28,
    "start_time": "2022-11-13T20:42:43.991Z"
   },
   {
    "duration": 8,
    "start_time": "2022-11-13T20:42:44.021Z"
   },
   {
    "duration": 9,
    "start_time": "2022-11-13T20:42:44.030Z"
   },
   {
    "duration": 6,
    "start_time": "2022-11-13T20:42:44.040Z"
   },
   {
    "duration": 9,
    "start_time": "2022-11-13T20:42:44.047Z"
   },
   {
    "duration": 4,
    "start_time": "2022-11-13T20:42:44.059Z"
   },
   {
    "duration": 10,
    "start_time": "2022-11-13T20:42:44.064Z"
   },
   {
    "duration": 50,
    "start_time": "2022-11-13T20:42:44.075Z"
   },
   {
    "duration": 2,
    "start_time": "2022-11-13T20:42:44.127Z"
   },
   {
    "duration": 13,
    "start_time": "2022-11-13T20:42:44.131Z"
   },
   {
    "duration": 6,
    "start_time": "2022-11-13T20:42:44.146Z"
   },
   {
    "duration": 6,
    "start_time": "2022-11-13T20:42:44.154Z"
   },
   {
    "duration": 14,
    "start_time": "2022-11-13T20:42:44.161Z"
   },
   {
    "duration": 49,
    "start_time": "2022-11-13T20:42:44.177Z"
   },
   {
    "duration": 8,
    "start_time": "2022-11-13T20:42:44.228Z"
   },
   {
    "duration": 12,
    "start_time": "2022-11-13T20:42:44.237Z"
   },
   {
    "duration": 7,
    "start_time": "2022-11-13T20:42:44.251Z"
   },
   {
    "duration": 10,
    "start_time": "2022-11-13T20:42:44.260Z"
   },
   {
    "duration": 5,
    "start_time": "2022-11-13T20:42:44.272Z"
   },
   {
    "duration": 9,
    "start_time": "2022-11-13T20:42:44.279Z"
   },
   {
    "duration": 8,
    "start_time": "2022-11-13T20:42:44.289Z"
   },
   {
    "duration": 21,
    "start_time": "2022-11-13T20:42:44.298Z"
   },
   {
    "duration": 11,
    "start_time": "2022-11-13T20:42:44.321Z"
   },
   {
    "duration": 5,
    "start_time": "2022-11-13T20:42:44.336Z"
   },
   {
    "duration": 16,
    "start_time": "2022-11-13T20:42:44.342Z"
   },
   {
    "duration": 15,
    "start_time": "2022-11-13T20:42:44.360Z"
   },
   {
    "duration": 14,
    "start_time": "2022-11-13T20:42:44.376Z"
   },
   {
    "duration": 8,
    "start_time": "2022-11-13T20:42:44.420Z"
   },
   {
    "duration": 25,
    "start_time": "2022-11-13T20:42:44.430Z"
   },
   {
    "duration": 19,
    "start_time": "2022-11-13T20:42:44.456Z"
   },
   {
    "duration": 44,
    "start_time": "2022-11-13T20:42:44.477Z"
   },
   {
    "duration": 16,
    "start_time": "2022-11-13T20:42:44.523Z"
   },
   {
    "duration": 5,
    "start_time": "2022-11-13T20:42:44.541Z"
   },
   {
    "duration": 11,
    "start_time": "2022-11-13T20:42:44.548Z"
   },
   {
    "duration": 23,
    "start_time": "2022-11-13T20:42:44.561Z"
   },
   {
    "duration": 12,
    "start_time": "2022-11-13T20:42:44.618Z"
   },
   {
    "duration": 255,
    "start_time": "2022-11-13T20:42:44.632Z"
   },
   {
    "duration": 13,
    "start_time": "2022-11-13T20:42:44.889Z"
   },
   {
    "duration": 43,
    "start_time": "2022-11-13T20:42:44.918Z"
   },
   {
    "duration": 22,
    "start_time": "2022-11-13T20:42:44.963Z"
   },
   {
    "duration": 11,
    "start_time": "2022-11-13T20:42:44.987Z"
   },
   {
    "duration": 386,
    "start_time": "2022-11-13T20:42:45.000Z"
   },
   {
    "duration": 41,
    "start_time": "2022-11-13T20:42:45.388Z"
   },
   {
    "duration": 396,
    "start_time": "2022-11-13T20:42:45.430Z"
   },
   {
    "duration": 19,
    "start_time": "2022-11-13T20:42:45.828Z"
   },
   {
    "duration": 15,
    "start_time": "2022-11-13T20:42:45.849Z"
   },
   {
    "duration": 19,
    "start_time": "2022-11-13T20:42:45.867Z"
   },
   {
    "duration": 31,
    "start_time": "2022-11-13T20:42:45.888Z"
   },
   {
    "duration": 15,
    "start_time": "2022-11-13T20:42:45.921Z"
   },
   {
    "duration": 13,
    "start_time": "2022-11-13T20:42:45.938Z"
   },
   {
    "duration": 21,
    "start_time": "2022-11-13T20:42:45.953Z"
   },
   {
    "duration": 15,
    "start_time": "2022-11-13T20:42:45.976Z"
   },
   {
    "duration": 377,
    "start_time": "2022-11-13T20:42:45.993Z"
   },
   {
    "duration": 309,
    "start_time": "2022-11-13T20:42:46.372Z"
   },
   {
    "duration": 281,
    "start_time": "2022-11-13T20:42:46.683Z"
   },
   {
    "duration": 271,
    "start_time": "2022-11-13T20:42:46.966Z"
   },
   {
    "duration": 179,
    "start_time": "2022-11-13T20:42:47.239Z"
   },
   {
    "duration": 157,
    "start_time": "2022-11-13T20:42:47.420Z"
   },
   {
    "duration": 15,
    "start_time": "2022-11-13T20:42:47.579Z"
   },
   {
    "duration": 41,
    "start_time": "2022-11-13T20:42:47.596Z"
   },
   {
    "duration": 20,
    "start_time": "2022-11-13T20:42:47.639Z"
   },
   {
    "duration": 8,
    "start_time": "2022-11-13T20:42:47.661Z"
   },
   {
    "duration": 11,
    "start_time": "2022-11-13T20:42:47.671Z"
   },
   {
    "duration": 42,
    "start_time": "2022-11-13T20:42:47.683Z"
   },
   {
    "duration": 19,
    "start_time": "2022-11-13T20:42:47.727Z"
   },
   {
    "duration": 10,
    "start_time": "2022-11-13T20:42:47.747Z"
   },
   {
    "duration": 10,
    "start_time": "2022-11-13T20:42:47.759Z"
   },
   {
    "duration": 55,
    "start_time": "2022-11-13T20:42:47.770Z"
   },
   {
    "duration": 18,
    "start_time": "2022-11-13T20:42:47.827Z"
   },
   {
    "duration": 17,
    "start_time": "2022-11-13T20:42:47.847Z"
   },
   {
    "duration": 60,
    "start_time": "2022-11-13T20:42:47.866Z"
   },
   {
    "duration": 119,
    "start_time": "2022-11-13T20:42:47.932Z"
   },
   {
    "duration": 0,
    "start_time": "2022-11-13T20:42:48.053Z"
   },
   {
    "duration": 14,
    "start_time": "2022-11-13T20:46:35.719Z"
   },
   {
    "duration": 10,
    "start_time": "2022-11-13T20:48:46.911Z"
   },
   {
    "duration": 1104,
    "start_time": "2022-11-13T20:54:28.459Z"
   },
   {
    "duration": 64,
    "start_time": "2022-11-13T20:54:29.845Z"
   },
   {
    "duration": 23,
    "start_time": "2022-11-13T20:54:29.911Z"
   },
   {
    "duration": 3,
    "start_time": "2022-11-13T20:54:29.936Z"
   },
   {
    "duration": 16,
    "start_time": "2022-11-13T20:54:29.941Z"
   },
   {
    "duration": 8,
    "start_time": "2022-11-13T20:54:29.959Z"
   },
   {
    "duration": 10,
    "start_time": "2022-11-13T20:54:29.969Z"
   },
   {
    "duration": 17,
    "start_time": "2022-11-13T20:54:29.980Z"
   },
   {
    "duration": 38,
    "start_time": "2022-11-13T20:54:29.999Z"
   },
   {
    "duration": 32,
    "start_time": "2022-11-13T20:54:30.038Z"
   },
   {
    "duration": 38,
    "start_time": "2022-11-13T20:54:30.072Z"
   },
   {
    "duration": 38,
    "start_time": "2022-11-13T20:54:30.112Z"
   },
   {
    "duration": 3,
    "start_time": "2022-11-13T20:54:30.517Z"
   },
   {
    "duration": 65,
    "start_time": "2022-11-13T20:54:30.522Z"
   },
   {
    "duration": 18,
    "start_time": "2022-11-13T20:54:30.588Z"
   },
   {
    "duration": 41,
    "start_time": "2022-11-13T20:54:30.608Z"
   },
   {
    "duration": 35,
    "start_time": "2022-11-13T20:54:30.650Z"
   },
   {
    "duration": 59,
    "start_time": "2022-11-13T20:54:30.687Z"
   },
   {
    "duration": 50,
    "start_time": "2022-11-13T20:54:30.748Z"
   },
   {
    "duration": 51,
    "start_time": "2022-11-13T20:54:30.801Z"
   },
   {
    "duration": 56,
    "start_time": "2022-11-13T20:54:30.854Z"
   },
   {
    "duration": 43,
    "start_time": "2022-11-13T20:54:30.912Z"
   },
   {
    "duration": 37,
    "start_time": "2022-11-13T20:54:30.957Z"
   },
   {
    "duration": 86,
    "start_time": "2022-11-13T20:54:30.996Z"
   },
   {
    "duration": 53,
    "start_time": "2022-11-13T20:54:31.084Z"
   },
   {
    "duration": 2,
    "start_time": "2022-11-13T20:54:32.232Z"
   },
   {
    "duration": 9,
    "start_time": "2022-11-13T20:54:32.236Z"
   },
   {
    "duration": 22,
    "start_time": "2022-11-13T20:54:32.247Z"
   },
   {
    "duration": 12,
    "start_time": "2022-11-13T20:54:32.617Z"
   },
   {
    "duration": 28,
    "start_time": "2022-11-13T20:54:32.632Z"
   },
   {
    "duration": 19,
    "start_time": "2022-11-13T20:54:32.662Z"
   },
   {
    "duration": 42,
    "start_time": "2022-11-13T20:54:32.683Z"
   },
   {
    "duration": 30,
    "start_time": "2022-11-13T20:54:32.726Z"
   },
   {
    "duration": 18,
    "start_time": "2022-11-13T20:54:33.285Z"
   },
   {
    "duration": 34,
    "start_time": "2022-11-13T20:54:33.305Z"
   },
   {
    "duration": 18,
    "start_time": "2022-11-13T20:54:33.342Z"
   },
   {
    "duration": 7,
    "start_time": "2022-11-13T20:54:33.362Z"
   },
   {
    "duration": 14,
    "start_time": "2022-11-13T20:54:33.371Z"
   },
   {
    "duration": 49,
    "start_time": "2022-11-13T20:54:33.387Z"
   },
   {
    "duration": 11,
    "start_time": "2022-11-13T20:54:33.438Z"
   },
   {
    "duration": 280,
    "start_time": "2022-11-13T20:54:33.451Z"
   },
   {
    "duration": 11,
    "start_time": "2022-11-13T20:54:33.733Z"
   },
   {
    "duration": 11,
    "start_time": "2022-11-13T20:54:33.746Z"
   },
   {
    "duration": 10,
    "start_time": "2022-11-13T20:54:33.758Z"
   },
   {
    "duration": 4,
    "start_time": "2022-11-13T20:54:33.770Z"
   },
   {
    "duration": 368,
    "start_time": "2022-11-13T20:54:33.775Z"
   },
   {
    "duration": 26,
    "start_time": "2022-11-13T20:54:34.145Z"
   },
   {
    "duration": 398,
    "start_time": "2022-11-13T20:54:34.172Z"
   },
   {
    "duration": 19,
    "start_time": "2022-11-13T20:54:34.572Z"
   },
   {
    "duration": 6,
    "start_time": "2022-11-13T20:54:34.593Z"
   },
   {
    "duration": 15,
    "start_time": "2022-11-13T20:54:34.619Z"
   },
   {
    "duration": 15,
    "start_time": "2022-11-13T20:54:34.636Z"
   },
   {
    "duration": 19,
    "start_time": "2022-11-13T20:54:34.652Z"
   },
   {
    "duration": 16,
    "start_time": "2022-11-13T20:54:34.673Z"
   },
   {
    "duration": 53,
    "start_time": "2022-11-13T20:54:34.690Z"
   },
   {
    "duration": 24,
    "start_time": "2022-11-13T20:54:34.747Z"
   },
   {
    "duration": 384,
    "start_time": "2022-11-13T20:54:34.773Z"
   },
   {
    "duration": 272,
    "start_time": "2022-11-13T20:54:35.161Z"
   },
   {
    "duration": 273,
    "start_time": "2022-11-13T20:54:35.435Z"
   },
   {
    "duration": 296,
    "start_time": "2022-11-13T20:54:35.710Z"
   },
   {
    "duration": 167,
    "start_time": "2022-11-13T20:54:36.008Z"
   },
   {
    "duration": 143,
    "start_time": "2022-11-13T20:54:36.176Z"
   },
   {
    "duration": 15,
    "start_time": "2022-11-13T20:54:36.321Z"
   },
   {
    "duration": 23,
    "start_time": "2022-11-13T20:54:36.338Z"
   },
   {
    "duration": 15,
    "start_time": "2022-11-13T20:54:36.363Z"
   },
   {
    "duration": 47,
    "start_time": "2022-11-13T20:54:36.380Z"
   },
   {
    "duration": 15,
    "start_time": "2022-11-13T20:54:36.429Z"
   },
   {
    "duration": 29,
    "start_time": "2022-11-13T20:54:36.446Z"
   },
   {
    "duration": 23,
    "start_time": "2022-11-13T20:54:36.477Z"
   },
   {
    "duration": 13,
    "start_time": "2022-11-13T20:54:36.521Z"
   },
   {
    "duration": 17,
    "start_time": "2022-11-13T20:54:36.536Z"
   },
   {
    "duration": 27,
    "start_time": "2022-11-13T20:54:36.555Z"
   },
   {
    "duration": 45,
    "start_time": "2022-11-13T20:54:36.584Z"
   },
   {
    "duration": 29,
    "start_time": "2022-11-13T20:54:36.630Z"
   },
   {
    "duration": 20,
    "start_time": "2022-11-13T20:54:36.661Z"
   },
   {
    "duration": 13,
    "start_time": "2022-11-13T20:54:36.683Z"
   },
   {
    "duration": 11,
    "start_time": "2022-11-13T20:54:36.718Z"
   },
   {
    "duration": 5,
    "start_time": "2022-11-13T21:03:14.245Z"
   },
   {
    "duration": 1139,
    "start_time": "2022-11-13T21:16:42.952Z"
   },
   {
    "duration": 60,
    "start_time": "2022-11-13T21:16:44.093Z"
   },
   {
    "duration": 22,
    "start_time": "2022-11-13T21:16:44.154Z"
   },
   {
    "duration": 3,
    "start_time": "2022-11-13T21:16:44.178Z"
   },
   {
    "duration": 7,
    "start_time": "2022-11-13T21:16:44.183Z"
   },
   {
    "duration": 11,
    "start_time": "2022-11-13T21:16:44.191Z"
   },
   {
    "duration": 14,
    "start_time": "2022-11-13T21:16:44.203Z"
   },
   {
    "duration": 18,
    "start_time": "2022-11-13T21:16:44.219Z"
   },
   {
    "duration": 13,
    "start_time": "2022-11-13T21:16:44.238Z"
   },
   {
    "duration": 7,
    "start_time": "2022-11-13T21:16:44.253Z"
   },
   {
    "duration": 7,
    "start_time": "2022-11-13T21:16:44.261Z"
   },
   {
    "duration": 14,
    "start_time": "2022-11-13T21:16:44.270Z"
   },
   {
    "duration": 5,
    "start_time": "2022-11-13T21:16:44.285Z"
   },
   {
    "duration": 17,
    "start_time": "2022-11-13T21:16:44.292Z"
   },
   {
    "duration": 19,
    "start_time": "2022-11-13T21:16:44.311Z"
   },
   {
    "duration": 5,
    "start_time": "2022-11-13T21:16:44.332Z"
   },
   {
    "duration": 8,
    "start_time": "2022-11-13T21:16:44.339Z"
   },
   {
    "duration": 15,
    "start_time": "2022-11-13T21:16:44.348Z"
   },
   {
    "duration": 8,
    "start_time": "2022-11-13T21:16:44.365Z"
   },
   {
    "duration": 16,
    "start_time": "2022-11-13T21:16:44.375Z"
   },
   {
    "duration": 4,
    "start_time": "2022-11-13T21:16:44.393Z"
   },
   {
    "duration": 20,
    "start_time": "2022-11-13T21:16:44.399Z"
   },
   {
    "duration": 2,
    "start_time": "2022-11-13T21:16:44.421Z"
   },
   {
    "duration": 23,
    "start_time": "2022-11-13T21:16:44.424Z"
   },
   {
    "duration": 5,
    "start_time": "2022-11-13T21:16:44.449Z"
   },
   {
    "duration": 8,
    "start_time": "2022-11-13T21:16:44.456Z"
   },
   {
    "duration": 6,
    "start_time": "2022-11-13T21:16:44.466Z"
   },
   {
    "duration": 11,
    "start_time": "2022-11-13T21:16:44.475Z"
   },
   {
    "duration": 26,
    "start_time": "2022-11-13T21:16:44.488Z"
   },
   {
    "duration": 31,
    "start_time": "2022-11-13T21:16:44.516Z"
   },
   {
    "duration": 36,
    "start_time": "2022-11-13T21:16:44.549Z"
   },
   {
    "duration": 19,
    "start_time": "2022-11-13T21:16:44.588Z"
   },
   {
    "duration": 43,
    "start_time": "2022-11-13T21:16:44.608Z"
   },
   {
    "duration": 18,
    "start_time": "2022-11-13T21:16:44.653Z"
   },
   {
    "duration": 30,
    "start_time": "2022-11-13T21:16:44.673Z"
   },
   {
    "duration": 24,
    "start_time": "2022-11-13T21:16:44.705Z"
   },
   {
    "duration": 18,
    "start_time": "2022-11-13T21:16:44.730Z"
   },
   {
    "duration": 17,
    "start_time": "2022-11-13T21:16:44.750Z"
   },
   {
    "duration": 23,
    "start_time": "2022-11-13T21:16:44.769Z"
   },
   {
    "duration": 12,
    "start_time": "2022-11-13T21:16:44.793Z"
   },
   {
    "duration": 242,
    "start_time": "2022-11-13T21:16:44.807Z"
   },
   {
    "duration": 11,
    "start_time": "2022-11-13T21:16:45.051Z"
   },
   {
    "duration": 27,
    "start_time": "2022-11-13T21:16:45.064Z"
   },
   {
    "duration": 11,
    "start_time": "2022-11-13T21:16:45.092Z"
   },
   {
    "duration": 15,
    "start_time": "2022-11-13T21:16:45.105Z"
   },
   {
    "duration": 369,
    "start_time": "2022-11-13T21:16:45.122Z"
   },
   {
    "duration": 26,
    "start_time": "2022-11-13T21:16:45.492Z"
   },
   {
    "duration": 390,
    "start_time": "2022-11-13T21:16:45.519Z"
   },
   {
    "duration": 17,
    "start_time": "2022-11-13T21:16:45.911Z"
   },
   {
    "duration": 6,
    "start_time": "2022-11-13T21:16:45.930Z"
   },
   {
    "duration": 18,
    "start_time": "2022-11-13T21:16:45.938Z"
   },
   {
    "duration": 10,
    "start_time": "2022-11-13T21:16:45.957Z"
   },
   {
    "duration": 17,
    "start_time": "2022-11-13T21:16:45.968Z"
   },
   {
    "duration": 32,
    "start_time": "2022-11-13T21:16:45.987Z"
   },
   {
    "duration": 21,
    "start_time": "2022-11-13T21:16:46.021Z"
   },
   {
    "duration": 20,
    "start_time": "2022-11-13T21:16:46.044Z"
   },
   {
    "duration": 371,
    "start_time": "2022-11-13T21:16:46.065Z"
   },
   {
    "duration": 294,
    "start_time": "2022-11-13T21:16:46.438Z"
   },
   {
    "duration": 263,
    "start_time": "2022-11-13T21:16:46.736Z"
   },
   {
    "duration": 274,
    "start_time": "2022-11-13T21:16:47.001Z"
   },
   {
    "duration": 160,
    "start_time": "2022-11-13T21:16:47.276Z"
   },
   {
    "duration": 135,
    "start_time": "2022-11-13T21:16:47.438Z"
   },
   {
    "duration": 13,
    "start_time": "2022-11-13T21:16:47.575Z"
   },
   {
    "duration": 34,
    "start_time": "2022-11-13T21:16:47.590Z"
   },
   {
    "duration": 11,
    "start_time": "2022-11-13T21:16:47.626Z"
   },
   {
    "duration": 9,
    "start_time": "2022-11-13T21:16:47.638Z"
   },
   {
    "duration": 13,
    "start_time": "2022-11-13T21:16:47.648Z"
   },
   {
    "duration": 9,
    "start_time": "2022-11-13T21:16:47.663Z"
   },
   {
    "duration": 11,
    "start_time": "2022-11-13T21:16:47.675Z"
   },
   {
    "duration": 9,
    "start_time": "2022-11-13T21:16:47.720Z"
   },
   {
    "duration": 5,
    "start_time": "2022-11-13T21:16:47.731Z"
   },
   {
    "duration": 25,
    "start_time": "2022-11-13T21:16:47.738Z"
   },
   {
    "duration": 18,
    "start_time": "2022-11-13T21:16:47.765Z"
   },
   {
    "duration": 49,
    "start_time": "2022-11-13T21:16:47.784Z"
   },
   {
    "duration": 17,
    "start_time": "2022-11-13T21:16:47.834Z"
   },
   {
    "duration": 16,
    "start_time": "2022-11-13T21:16:47.853Z"
   },
   {
    "duration": 10,
    "start_time": "2022-11-13T21:16:47.871Z"
   },
   {
    "duration": 1103,
    "start_time": "2022-11-14T05:09:02.251Z"
   },
   {
    "duration": 205,
    "start_time": "2022-11-14T05:09:03.356Z"
   },
   {
    "duration": 21,
    "start_time": "2022-11-14T05:09:03.562Z"
   },
   {
    "duration": 3,
    "start_time": "2022-11-14T05:09:03.586Z"
   },
   {
    "duration": 29,
    "start_time": "2022-11-14T05:09:03.590Z"
   },
   {
    "duration": 8,
    "start_time": "2022-11-14T05:09:03.620Z"
   },
   {
    "duration": 14,
    "start_time": "2022-11-14T05:09:03.630Z"
   },
   {
    "duration": 9,
    "start_time": "2022-11-14T05:09:03.645Z"
   },
   {
    "duration": 11,
    "start_time": "2022-11-14T05:09:03.655Z"
   },
   {
    "duration": 5,
    "start_time": "2022-11-14T05:09:03.668Z"
   },
   {
    "duration": 12,
    "start_time": "2022-11-14T05:09:03.675Z"
   },
   {
    "duration": 15,
    "start_time": "2022-11-14T05:09:03.688Z"
   },
   {
    "duration": 8,
    "start_time": "2022-11-14T05:09:03.704Z"
   },
   {
    "duration": 8,
    "start_time": "2022-11-14T05:09:03.713Z"
   },
   {
    "duration": 15,
    "start_time": "2022-11-14T05:09:03.723Z"
   },
   {
    "duration": 10,
    "start_time": "2022-11-14T05:09:03.740Z"
   },
   {
    "duration": 9,
    "start_time": "2022-11-14T05:09:03.751Z"
   },
   {
    "duration": 26,
    "start_time": "2022-11-14T05:09:03.761Z"
   },
   {
    "duration": 10,
    "start_time": "2022-11-14T05:09:03.789Z"
   },
   {
    "duration": 12,
    "start_time": "2022-11-14T05:09:03.800Z"
   },
   {
    "duration": 6,
    "start_time": "2022-11-14T05:09:03.813Z"
   },
   {
    "duration": 11,
    "start_time": "2022-11-14T05:09:03.820Z"
   },
   {
    "duration": 6,
    "start_time": "2022-11-14T05:09:03.832Z"
   },
   {
    "duration": 5,
    "start_time": "2022-11-14T05:09:03.839Z"
   },
   {
    "duration": 16,
    "start_time": "2022-11-14T05:09:03.849Z"
   },
   {
    "duration": 11,
    "start_time": "2022-11-14T05:09:03.866Z"
   },
   {
    "duration": 14,
    "start_time": "2022-11-14T05:09:03.878Z"
   },
   {
    "duration": 10,
    "start_time": "2022-11-14T05:09:03.896Z"
   },
   {
    "duration": 29,
    "start_time": "2022-11-14T05:09:03.908Z"
   },
   {
    "duration": 16,
    "start_time": "2022-11-14T05:09:03.939Z"
   },
   {
    "duration": 24,
    "start_time": "2022-11-14T05:09:03.957Z"
   },
   {
    "duration": 8,
    "start_time": "2022-11-14T05:09:03.982Z"
   },
   {
    "duration": 16,
    "start_time": "2022-11-14T05:09:03.991Z"
   },
   {
    "duration": 16,
    "start_time": "2022-11-14T05:09:04.009Z"
   },
   {
    "duration": 24,
    "start_time": "2022-11-14T05:09:04.048Z"
   },
   {
    "duration": 18,
    "start_time": "2022-11-14T05:09:04.074Z"
   },
   {
    "duration": 4,
    "start_time": "2022-11-14T05:09:04.094Z"
   },
   {
    "duration": 13,
    "start_time": "2022-11-14T05:09:04.099Z"
   },
   {
    "duration": 38,
    "start_time": "2022-11-14T05:09:04.113Z"
   },
   {
    "duration": 9,
    "start_time": "2022-11-14T05:09:04.152Z"
   },
   {
    "duration": 226,
    "start_time": "2022-11-14T05:09:04.162Z"
   },
   {
    "duration": 11,
    "start_time": "2022-11-14T05:09:04.389Z"
   },
   {
    "duration": 15,
    "start_time": "2022-11-14T05:09:04.402Z"
   },
   {
    "duration": 33,
    "start_time": "2022-11-14T05:09:04.418Z"
   },
   {
    "duration": 4,
    "start_time": "2022-11-14T05:09:04.452Z"
   },
   {
    "duration": 337,
    "start_time": "2022-11-14T05:09:04.457Z"
   },
   {
    "duration": 26,
    "start_time": "2022-11-14T05:09:04.796Z"
   },
   {
    "duration": 376,
    "start_time": "2022-11-14T05:09:04.823Z"
   },
   {
    "duration": 22,
    "start_time": "2022-11-14T05:09:05.201Z"
   },
   {
    "duration": 13,
    "start_time": "2022-11-14T05:09:05.225Z"
   },
   {
    "duration": 25,
    "start_time": "2022-11-14T05:09:05.240Z"
   },
   {
    "duration": 10,
    "start_time": "2022-11-14T05:09:05.267Z"
   },
   {
    "duration": 19,
    "start_time": "2022-11-14T05:09:05.279Z"
   },
   {
    "duration": 14,
    "start_time": "2022-11-14T05:09:05.300Z"
   },
   {
    "duration": 31,
    "start_time": "2022-11-14T05:09:05.317Z"
   },
   {
    "duration": 20,
    "start_time": "2022-11-14T05:09:05.350Z"
   },
   {
    "duration": 323,
    "start_time": "2022-11-14T05:09:05.371Z"
   },
   {
    "duration": 212,
    "start_time": "2022-11-14T05:09:05.695Z"
   },
   {
    "duration": 240,
    "start_time": "2022-11-14T05:09:05.908Z"
   },
   {
    "duration": 239,
    "start_time": "2022-11-14T05:09:06.150Z"
   },
   {
    "duration": 145,
    "start_time": "2022-11-14T05:09:06.390Z"
   },
   {
    "duration": 122,
    "start_time": "2022-11-14T05:09:06.537Z"
   },
   {
    "duration": 12,
    "start_time": "2022-11-14T05:09:06.661Z"
   },
   {
    "duration": 25,
    "start_time": "2022-11-14T05:09:06.675Z"
   },
   {
    "duration": 10,
    "start_time": "2022-11-14T05:09:06.702Z"
   },
   {
    "duration": 9,
    "start_time": "2022-11-14T05:09:06.713Z"
   },
   {
    "duration": 29,
    "start_time": "2022-11-14T05:09:06.723Z"
   },
   {
    "duration": 8,
    "start_time": "2022-11-14T05:09:06.754Z"
   },
   {
    "duration": 26,
    "start_time": "2022-11-14T05:09:06.763Z"
   },
   {
    "duration": 19,
    "start_time": "2022-11-14T05:09:06.791Z"
   },
   {
    "duration": 5,
    "start_time": "2022-11-14T05:09:06.812Z"
   },
   {
    "duration": 17,
    "start_time": "2022-11-14T05:09:06.819Z"
   },
   {
    "duration": 15,
    "start_time": "2022-11-14T05:09:06.848Z"
   },
   {
    "duration": 17,
    "start_time": "2022-11-14T05:09:06.864Z"
   },
   {
    "duration": 35,
    "start_time": "2022-11-14T05:09:06.882Z"
   },
   {
    "duration": 11,
    "start_time": "2022-11-14T05:09:06.918Z"
   },
   {
    "duration": 25,
    "start_time": "2022-11-14T05:09:06.931Z"
   }
  ],
  "kernelspec": {
   "display_name": "Python 3",
   "language": "python",
   "name": "python3"
  },
  "language_info": {
   "codemirror_mode": {
    "name": "ipython",
    "version": 3
   },
   "file_extension": ".py",
   "mimetype": "text/x-python",
   "name": "python",
   "nbconvert_exporter": "python",
   "pygments_lexer": "ipython3",
   "version": "3.7.3"
  },
  "toc": {
   "base_numbering": 1,
   "nav_menu": {},
   "number_sections": true,
   "sideBar": true,
   "skip_h1_title": true,
   "title_cell": "Table of Contents",
   "title_sidebar": "Contents",
   "toc_cell": false,
   "toc_position": {
    "height": "calc(100% - 180px)",
    "left": "10px",
    "top": "150px",
    "width": "285.764px"
   },
   "toc_section_display": true,
   "toc_window_display": true
  }
 },
 "nbformat": 4,
 "nbformat_minor": 2
}
